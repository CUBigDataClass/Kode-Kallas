{
 "cells": [
  {
   "cell_type": "code",
   "execution_count": 116,
   "metadata": {},
   "outputs": [
    {
     "name": "stdout",
     "output_type": "stream",
     "text": [
      "The autotime extension is already loaded. To reload it, use:\n",
      "  %reload_ext autotime\n"
     ]
    },
    {
     "data": {
      "text/html": [
       "        <script type=\"text/javascript\">\n",
       "        window.PlotlyConfig = {MathJaxConfig: 'local'};\n",
       "        if (window.MathJax) {MathJax.Hub.Config({SVG: {font: \"STIX-Web\"}});}\n",
       "        if (typeof require !== 'undefined') {\n",
       "        require.undef(\"plotly\");\n",
       "        requirejs.config({\n",
       "            paths: {\n",
       "                'plotly': ['https://cdn.plot.ly/plotly-latest.min']\n",
       "            }\n",
       "        });\n",
       "        require(['plotly'], function(Plotly) {\n",
       "            window._Plotly = Plotly;\n",
       "        });\n",
       "        }\n",
       "        </script>\n",
       "        "
      ]
     },
     "metadata": {},
     "output_type": "display_data"
    },
    {
     "name": "stdout",
     "output_type": "stream",
     "text": [
      "time: 411 ms\n"
     ]
    }
   ],
   "source": [
    "import re\n",
    "from datetime import datetime\n",
    "\n",
    "import numpy as np\n",
    "import pandas as pd\n",
    "pd.set_option('display.max_columns', 20)\n",
    "pd.set_option('display.width', 1000)\n",
    "pd.set_option('display.max_colwidth', -1)\n",
    "from pandas.io.json import json_normalize\n",
    "import json\n",
    "import ast\n",
    "\n",
    "%load_ext autotime\n",
    "\n",
    "import plotly\n",
    "import chart_studio.plotly as py\n",
    "import plotly.graph_objs as go\n",
    "from plotly.offline import download_plotlyjs, init_notebook_mode, plot, iplot\n",
    "init_notebook_mode(connected=True)"
   ]
  },
  {
   "cell_type": "code",
   "execution_count": 117,
   "metadata": {},
   "outputs": [
    {
     "name": "stderr",
     "output_type": "stream",
     "text": [
      "C:\\ProgramData\\Anaconda3\\lib\\site-packages\\IPython\\core\\interactiveshell.py:3051: DtypeWarning:\n",
      "\n",
      "Columns (22,23) have mixed types. Specify dtype option on import or set low_memory=False.\n",
      "\n"
     ]
    },
    {
     "name": "stdout",
     "output_type": "stream",
     "text": [
      "time: 16.7 s\n"
     ]
    }
   ],
   "source": [
    "commits = pd.read_csv('data/commits.csv', parse_dates=True)"
   ]
  },
  {
   "cell_type": "code",
   "execution_count": 118,
   "metadata": {
    "scrolled": true
   },
   "outputs": [
    {
     "name": "stdout",
     "output_type": "stream",
     "text": [
      "<class 'pandas.core.frame.DataFrame'>\n",
      "RangeIndex: 26042 entries, 0 to 26041\n",
      "Data columns (total 62 columns):\n",
      "Unnamed: 0                       26042 non-null int64\n",
      "sha                              26042 non-null object\n",
      "node_id                          26042 non-null object\n",
      "url                              26042 non-null object\n",
      "html_url                         26042 non-null object\n",
      "comments_url                     26042 non-null object\n",
      "parents                          26042 non-null object\n",
      "repo_name                        26042 non-null object\n",
      "owner                            26042 non-null object\n",
      "commit.author.name               26042 non-null object\n",
      "commit.author.email              26041 non-null object\n",
      "commit.author.date               26042 non-null object\n",
      "commit.committer.name            26042 non-null object\n",
      "commit.committer.email           26042 non-null object\n",
      "commit.committer.date            26042 non-null object\n",
      "commit.message                   26042 non-null object\n",
      "commit.tree.sha                  26042 non-null object\n",
      "commit.tree.url                  26042 non-null object\n",
      "commit.url                       26042 non-null object\n",
      "commit.comment_count             26042 non-null int64\n",
      "commit.verification.verified     26042 non-null bool\n",
      "commit.verification.reason       26042 non-null object\n",
      "commit.verification.signature    467 non-null object\n",
      "commit.verification.payload      467 non-null object\n",
      "author.login                     23683 non-null object\n",
      "author.id                        23683 non-null float64\n",
      "author.node_id                   23683 non-null object\n",
      "author.avatar_url                23683 non-null object\n",
      "author.gravatar_id               0 non-null float64\n",
      "author.url                       23683 non-null object\n",
      "author.html_url                  23683 non-null object\n",
      "author.followers_url             23683 non-null object\n",
      "author.following_url             23683 non-null object\n",
      "author.gists_url                 23683 non-null object\n",
      "author.starred_url               23683 non-null object\n",
      "author.subscriptions_url         23683 non-null object\n",
      "author.organizations_url         23683 non-null object\n",
      "author.repos_url                 23683 non-null object\n",
      "author.events_url                23683 non-null object\n",
      "author.received_events_url       23683 non-null object\n",
      "author.type                      23683 non-null object\n",
      "author.site_admin                23683 non-null object\n",
      "committer.login                  24277 non-null object\n",
      "committer.id                     24277 non-null float64\n",
      "committer.node_id                24277 non-null object\n",
      "committer.avatar_url             24277 non-null object\n",
      "committer.gravatar_id            0 non-null float64\n",
      "committer.url                    24277 non-null object\n",
      "committer.html_url               24277 non-null object\n",
      "committer.followers_url          24277 non-null object\n",
      "committer.following_url          24277 non-null object\n",
      "committer.gists_url              24277 non-null object\n",
      "committer.starred_url            24277 non-null object\n",
      "committer.subscriptions_url      24277 non-null object\n",
      "committer.organizations_url      24277 non-null object\n",
      "committer.repos_url              24277 non-null object\n",
      "committer.events_url             24277 non-null object\n",
      "committer.received_events_url    24277 non-null object\n",
      "committer.type                   24277 non-null object\n",
      "committer.site_admin             24277 non-null object\n",
      "author                           0 non-null float64\n",
      "committer                        0 non-null float64\n",
      "dtypes: bool(1), float64(6), int64(2), object(53)\n",
      "memory usage: 12.1+ MB\n",
      "time: 382 ms\n"
     ]
    }
   ],
   "source": [
    "commits.info()"
   ]
  },
  {
   "cell_type": "markdown",
   "metadata": {},
   "source": [
    "## Data Preprocessing"
   ]
  },
  {
   "cell_type": "code",
   "execution_count": 119,
   "metadata": {},
   "outputs": [
    {
     "name": "stdout",
     "output_type": "stream",
     "text": [
      "time: 217 ms\n"
     ]
    }
   ],
   "source": [
    "commits['date'] =  pd.to_datetime(commits['commit.committer.date'])"
   ]
  },
  {
   "cell_type": "code",
   "execution_count": 120,
   "metadata": {},
   "outputs": [
    {
     "name": "stdout",
     "output_type": "stream",
     "text": [
      "time: 35 ms\n"
     ]
    }
   ],
   "source": [
    "commits['date'] =  pd.to_datetime(commits['date'], utc=True)"
   ]
  },
  {
   "cell_type": "code",
   "execution_count": 121,
   "metadata": {},
   "outputs": [
    {
     "name": "stdout",
     "output_type": "stream",
     "text": [
      "time: 50 ms\n"
     ]
    }
   ],
   "source": [
    "commits['commit_date'] = commits['date'].dt.date"
   ]
  },
  {
   "cell_type": "code",
   "execution_count": 122,
   "metadata": {},
   "outputs": [
    {
     "name": "stdout",
     "output_type": "stream",
     "text": [
      "time: 49 ms\n"
     ]
    }
   ],
   "source": [
    "commits['commit_week'] = commits['date'].dt.week"
   ]
  },
  {
   "cell_type": "code",
   "execution_count": 123,
   "metadata": {},
   "outputs": [
    {
     "name": "stdout",
     "output_type": "stream",
     "text": [
      "time: 7 ms\n"
     ]
    }
   ],
   "source": [
    "commits['commit_hour'] = commits['date'].dt.hour"
   ]
  },
  {
   "cell_type": "code",
   "execution_count": 124,
   "metadata": {},
   "outputs": [
    {
     "name": "stdout",
     "output_type": "stream",
     "text": [
      "time: 10 ms\n"
     ]
    }
   ],
   "source": [
    "commits['commit_month'] = commits['date'].dt.month"
   ]
  },
  {
   "cell_type": "code",
   "execution_count": 125,
   "metadata": {},
   "outputs": [
    {
     "name": "stdout",
     "output_type": "stream",
     "text": [
      "time: 9 ms\n"
     ]
    }
   ],
   "source": [
    "commits['commit_year'] = commits['date'].dt.year"
   ]
  },
  {
   "cell_type": "code",
   "execution_count": 126,
   "metadata": {},
   "outputs": [
    {
     "name": "stdout",
     "output_type": "stream",
     "text": [
      "time: 392 ms\n"
     ]
    }
   ],
   "source": [
    "# drop unnecessary columns\n",
    "commits = commits[['sha', 'author.login', 'commit_date', 'commit_hour', 'commit_month', 'commit_year']]"
   ]
  },
  {
   "cell_type": "code",
   "execution_count": 127,
   "metadata": {},
   "outputs": [
    {
     "data": {
      "text/html": [
       "<div>\n",
       "<style scoped>\n",
       "    .dataframe tbody tr th:only-of-type {\n",
       "        vertical-align: middle;\n",
       "    }\n",
       "\n",
       "    .dataframe tbody tr th {\n",
       "        vertical-align: top;\n",
       "    }\n",
       "\n",
       "    .dataframe thead th {\n",
       "        text-align: right;\n",
       "    }\n",
       "</style>\n",
       "<table border=\"1\" class=\"dataframe\">\n",
       "  <thead>\n",
       "    <tr style=\"text-align: right;\">\n",
       "      <th></th>\n",
       "      <th>sha</th>\n",
       "      <th>author.login</th>\n",
       "      <th>commit_date</th>\n",
       "      <th>commit_hour</th>\n",
       "      <th>commit_month</th>\n",
       "      <th>commit_year</th>\n",
       "    </tr>\n",
       "  </thead>\n",
       "  <tbody>\n",
       "    <tr>\n",
       "      <th>0</th>\n",
       "      <td>ba3f6330dd2b6054988f1f6f0ffe014fc4969088</td>\n",
       "      <td>cloud-fan</td>\n",
       "      <td>2019-12-24</td>\n",
       "      <td>6</td>\n",
       "      <td>12</td>\n",
       "      <td>2019</td>\n",
       "    </tr>\n",
       "    <tr>\n",
       "      <th>1</th>\n",
       "      <td>ab0dd41ff2c05134266bd14d96676c96aa2764cd</td>\n",
       "      <td>MaxGekk</td>\n",
       "      <td>2019-12-24</td>\n",
       "      <td>3</td>\n",
       "      <td>12</td>\n",
       "      <td>2019</td>\n",
       "    </tr>\n",
       "    <tr>\n",
       "      <th>2</th>\n",
       "      <td>2164243526b5a2ebd1a77fe2aa43b7329b6a229c</td>\n",
       "      <td>HeartSaVioR</td>\n",
       "      <td>2019-12-24</td>\n",
       "      <td>2</td>\n",
       "      <td>12</td>\n",
       "      <td>2019</td>\n",
       "    </tr>\n",
       "    <tr>\n",
       "      <th>3</th>\n",
       "      <td>7bff2db9ed803e05a43c2d875c1dea819d81248a</td>\n",
       "      <td>HeartSaVioR</td>\n",
       "      <td>2019-12-23</td>\n",
       "      <td>22</td>\n",
       "      <td>12</td>\n",
       "      <td>2019</td>\n",
       "    </tr>\n",
       "    <tr>\n",
       "      <th>4</th>\n",
       "      <td>c6ab7165dd11a0a7b8aea4c805409088e9a41a74</td>\n",
       "      <td>mobai-zhanjf</td>\n",
       "      <td>2019-12-23</td>\n",
       "      <td>16</td>\n",
       "      <td>12</td>\n",
       "      <td>2019</td>\n",
       "    </tr>\n",
       "  </tbody>\n",
       "</table>\n",
       "</div>"
      ],
      "text/plain": [
       "                                        sha  author.login commit_date  commit_hour  commit_month  commit_year\n",
       "0  ba3f6330dd2b6054988f1f6f0ffe014fc4969088  cloud-fan     2019-12-24  6            12            2019       \n",
       "1  ab0dd41ff2c05134266bd14d96676c96aa2764cd  MaxGekk       2019-12-24  3            12            2019       \n",
       "2  2164243526b5a2ebd1a77fe2aa43b7329b6a229c  HeartSaVioR   2019-12-24  2            12            2019       \n",
       "3  7bff2db9ed803e05a43c2d875c1dea819d81248a  HeartSaVioR   2019-12-23  22           12            2019       \n",
       "4  c6ab7165dd11a0a7b8aea4c805409088e9a41a74  mobai-zhanjf  2019-12-23  16           12            2019       "
      ]
     },
     "execution_count": 127,
     "metadata": {},
     "output_type": "execute_result"
    },
    {
     "name": "stdout",
     "output_type": "stream",
     "text": [
      "time: 130 ms\n"
     ]
    }
   ],
   "source": [
    "commits.head()"
   ]
  },
  {
   "cell_type": "markdown",
   "metadata": {},
   "source": [
    "## Data Analysis"
   ]
  },
  {
   "cell_type": "code",
   "execution_count": 128,
   "metadata": {},
   "outputs": [
    {
     "data": {
      "text/plain": [
       "1456"
      ]
     },
     "execution_count": 128,
     "metadata": {},
     "output_type": "execute_result"
    },
    {
     "name": "stdout",
     "output_type": "stream",
     "text": [
      "time: 14 ms\n"
     ]
    }
   ],
   "source": [
    "commits['author.login'].unique().size"
   ]
  },
  {
   "cell_type": "code",
   "execution_count": 129,
   "metadata": {},
   "outputs": [
    {
     "name": "stdout",
     "output_type": "stream",
     "text": [
      "time: 111 ms\n"
     ]
    }
   ],
   "source": [
    "commits_by_hour = commits.groupby('commit_hour')[['sha']].count()\n",
    "commits_by_hour = commits_by_hour.rename(columns = {'sha': 'commit_count'})"
   ]
  },
  {
   "cell_type": "code",
   "execution_count": 130,
   "metadata": {},
   "outputs": [
    {
     "data": {
      "application/vnd.plotly.v1+json": {
       "config": {
        "plotlyServerURL": "https://plot.ly"
       },
       "data": [
        {
         "text": [
          1503,
          1274,
          1159,
          973,
          1140,
          1350,
          1434,
          1151,
          840,
          579,
          412,
          484,
          425,
          496,
          573,
          617,
          910,
          1397,
          1681,
          1380,
          1500,
          1568,
          1557,
          1639
         ],
         "textposition": "auto",
         "type": "bar",
         "x": [
          0,
          1,
          2,
          3,
          4,
          5,
          6,
          7,
          8,
          9,
          10,
          11,
          12,
          13,
          14,
          15,
          16,
          17,
          18,
          19,
          20,
          21,
          22,
          23
         ],
         "y": [
          1503,
          1274,
          1159,
          973,
          1140,
          1350,
          1434,
          1151,
          840,
          579,
          412,
          484,
          425,
          496,
          573,
          617,
          910,
          1397,
          1681,
          1380,
          1500,
          1568,
          1557,
          1639
         ]
        }
       ],
       "layout": {
        "template": {
         "data": {
          "bar": [
           {
            "error_x": {
             "color": "#2a3f5f"
            },
            "error_y": {
             "color": "#2a3f5f"
            },
            "marker": {
             "line": {
              "color": "#E5ECF6",
              "width": 0.5
             }
            },
            "type": "bar"
           }
          ],
          "barpolar": [
           {
            "marker": {
             "line": {
              "color": "#E5ECF6",
              "width": 0.5
             }
            },
            "type": "barpolar"
           }
          ],
          "carpet": [
           {
            "aaxis": {
             "endlinecolor": "#2a3f5f",
             "gridcolor": "white",
             "linecolor": "white",
             "minorgridcolor": "white",
             "startlinecolor": "#2a3f5f"
            },
            "baxis": {
             "endlinecolor": "#2a3f5f",
             "gridcolor": "white",
             "linecolor": "white",
             "minorgridcolor": "white",
             "startlinecolor": "#2a3f5f"
            },
            "type": "carpet"
           }
          ],
          "choropleth": [
           {
            "colorbar": {
             "outlinewidth": 0,
             "ticks": ""
            },
            "type": "choropleth"
           }
          ],
          "contour": [
           {
            "colorbar": {
             "outlinewidth": 0,
             "ticks": ""
            },
            "colorscale": [
             [
              0,
              "#0d0887"
             ],
             [
              0.1111111111111111,
              "#46039f"
             ],
             [
              0.2222222222222222,
              "#7201a8"
             ],
             [
              0.3333333333333333,
              "#9c179e"
             ],
             [
              0.4444444444444444,
              "#bd3786"
             ],
             [
              0.5555555555555556,
              "#d8576b"
             ],
             [
              0.6666666666666666,
              "#ed7953"
             ],
             [
              0.7777777777777778,
              "#fb9f3a"
             ],
             [
              0.8888888888888888,
              "#fdca26"
             ],
             [
              1,
              "#f0f921"
             ]
            ],
            "type": "contour"
           }
          ],
          "contourcarpet": [
           {
            "colorbar": {
             "outlinewidth": 0,
             "ticks": ""
            },
            "type": "contourcarpet"
           }
          ],
          "heatmap": [
           {
            "colorbar": {
             "outlinewidth": 0,
             "ticks": ""
            },
            "colorscale": [
             [
              0,
              "#0d0887"
             ],
             [
              0.1111111111111111,
              "#46039f"
             ],
             [
              0.2222222222222222,
              "#7201a8"
             ],
             [
              0.3333333333333333,
              "#9c179e"
             ],
             [
              0.4444444444444444,
              "#bd3786"
             ],
             [
              0.5555555555555556,
              "#d8576b"
             ],
             [
              0.6666666666666666,
              "#ed7953"
             ],
             [
              0.7777777777777778,
              "#fb9f3a"
             ],
             [
              0.8888888888888888,
              "#fdca26"
             ],
             [
              1,
              "#f0f921"
             ]
            ],
            "type": "heatmap"
           }
          ],
          "heatmapgl": [
           {
            "colorbar": {
             "outlinewidth": 0,
             "ticks": ""
            },
            "colorscale": [
             [
              0,
              "#0d0887"
             ],
             [
              0.1111111111111111,
              "#46039f"
             ],
             [
              0.2222222222222222,
              "#7201a8"
             ],
             [
              0.3333333333333333,
              "#9c179e"
             ],
             [
              0.4444444444444444,
              "#bd3786"
             ],
             [
              0.5555555555555556,
              "#d8576b"
             ],
             [
              0.6666666666666666,
              "#ed7953"
             ],
             [
              0.7777777777777778,
              "#fb9f3a"
             ],
             [
              0.8888888888888888,
              "#fdca26"
             ],
             [
              1,
              "#f0f921"
             ]
            ],
            "type": "heatmapgl"
           }
          ],
          "histogram": [
           {
            "marker": {
             "colorbar": {
              "outlinewidth": 0,
              "ticks": ""
             }
            },
            "type": "histogram"
           }
          ],
          "histogram2d": [
           {
            "colorbar": {
             "outlinewidth": 0,
             "ticks": ""
            },
            "colorscale": [
             [
              0,
              "#0d0887"
             ],
             [
              0.1111111111111111,
              "#46039f"
             ],
             [
              0.2222222222222222,
              "#7201a8"
             ],
             [
              0.3333333333333333,
              "#9c179e"
             ],
             [
              0.4444444444444444,
              "#bd3786"
             ],
             [
              0.5555555555555556,
              "#d8576b"
             ],
             [
              0.6666666666666666,
              "#ed7953"
             ],
             [
              0.7777777777777778,
              "#fb9f3a"
             ],
             [
              0.8888888888888888,
              "#fdca26"
             ],
             [
              1,
              "#f0f921"
             ]
            ],
            "type": "histogram2d"
           }
          ],
          "histogram2dcontour": [
           {
            "colorbar": {
             "outlinewidth": 0,
             "ticks": ""
            },
            "colorscale": [
             [
              0,
              "#0d0887"
             ],
             [
              0.1111111111111111,
              "#46039f"
             ],
             [
              0.2222222222222222,
              "#7201a8"
             ],
             [
              0.3333333333333333,
              "#9c179e"
             ],
             [
              0.4444444444444444,
              "#bd3786"
             ],
             [
              0.5555555555555556,
              "#d8576b"
             ],
             [
              0.6666666666666666,
              "#ed7953"
             ],
             [
              0.7777777777777778,
              "#fb9f3a"
             ],
             [
              0.8888888888888888,
              "#fdca26"
             ],
             [
              1,
              "#f0f921"
             ]
            ],
            "type": "histogram2dcontour"
           }
          ],
          "mesh3d": [
           {
            "colorbar": {
             "outlinewidth": 0,
             "ticks": ""
            },
            "type": "mesh3d"
           }
          ],
          "parcoords": [
           {
            "line": {
             "colorbar": {
              "outlinewidth": 0,
              "ticks": ""
             }
            },
            "type": "parcoords"
           }
          ],
          "pie": [
           {
            "automargin": true,
            "type": "pie"
           }
          ],
          "scatter": [
           {
            "marker": {
             "colorbar": {
              "outlinewidth": 0,
              "ticks": ""
             }
            },
            "type": "scatter"
           }
          ],
          "scatter3d": [
           {
            "line": {
             "colorbar": {
              "outlinewidth": 0,
              "ticks": ""
             }
            },
            "marker": {
             "colorbar": {
              "outlinewidth": 0,
              "ticks": ""
             }
            },
            "type": "scatter3d"
           }
          ],
          "scattercarpet": [
           {
            "marker": {
             "colorbar": {
              "outlinewidth": 0,
              "ticks": ""
             }
            },
            "type": "scattercarpet"
           }
          ],
          "scattergeo": [
           {
            "marker": {
             "colorbar": {
              "outlinewidth": 0,
              "ticks": ""
             }
            },
            "type": "scattergeo"
           }
          ],
          "scattergl": [
           {
            "marker": {
             "colorbar": {
              "outlinewidth": 0,
              "ticks": ""
             }
            },
            "type": "scattergl"
           }
          ],
          "scattermapbox": [
           {
            "marker": {
             "colorbar": {
              "outlinewidth": 0,
              "ticks": ""
             }
            },
            "type": "scattermapbox"
           }
          ],
          "scatterpolar": [
           {
            "marker": {
             "colorbar": {
              "outlinewidth": 0,
              "ticks": ""
             }
            },
            "type": "scatterpolar"
           }
          ],
          "scatterpolargl": [
           {
            "marker": {
             "colorbar": {
              "outlinewidth": 0,
              "ticks": ""
             }
            },
            "type": "scatterpolargl"
           }
          ],
          "scatterternary": [
           {
            "marker": {
             "colorbar": {
              "outlinewidth": 0,
              "ticks": ""
             }
            },
            "type": "scatterternary"
           }
          ],
          "surface": [
           {
            "colorbar": {
             "outlinewidth": 0,
             "ticks": ""
            },
            "colorscale": [
             [
              0,
              "#0d0887"
             ],
             [
              0.1111111111111111,
              "#46039f"
             ],
             [
              0.2222222222222222,
              "#7201a8"
             ],
             [
              0.3333333333333333,
              "#9c179e"
             ],
             [
              0.4444444444444444,
              "#bd3786"
             ],
             [
              0.5555555555555556,
              "#d8576b"
             ],
             [
              0.6666666666666666,
              "#ed7953"
             ],
             [
              0.7777777777777778,
              "#fb9f3a"
             ],
             [
              0.8888888888888888,
              "#fdca26"
             ],
             [
              1,
              "#f0f921"
             ]
            ],
            "type": "surface"
           }
          ],
          "table": [
           {
            "cells": {
             "fill": {
              "color": "#EBF0F8"
             },
             "line": {
              "color": "white"
             }
            },
            "header": {
             "fill": {
              "color": "#C8D4E3"
             },
             "line": {
              "color": "white"
             }
            },
            "type": "table"
           }
          ]
         },
         "layout": {
          "annotationdefaults": {
           "arrowcolor": "#2a3f5f",
           "arrowhead": 0,
           "arrowwidth": 1
          },
          "coloraxis": {
           "colorbar": {
            "outlinewidth": 0,
            "ticks": ""
           }
          },
          "colorscale": {
           "diverging": [
            [
             0,
             "#8e0152"
            ],
            [
             0.1,
             "#c51b7d"
            ],
            [
             0.2,
             "#de77ae"
            ],
            [
             0.3,
             "#f1b6da"
            ],
            [
             0.4,
             "#fde0ef"
            ],
            [
             0.5,
             "#f7f7f7"
            ],
            [
             0.6,
             "#e6f5d0"
            ],
            [
             0.7,
             "#b8e186"
            ],
            [
             0.8,
             "#7fbc41"
            ],
            [
             0.9,
             "#4d9221"
            ],
            [
             1,
             "#276419"
            ]
           ],
           "sequential": [
            [
             0,
             "#0d0887"
            ],
            [
             0.1111111111111111,
             "#46039f"
            ],
            [
             0.2222222222222222,
             "#7201a8"
            ],
            [
             0.3333333333333333,
             "#9c179e"
            ],
            [
             0.4444444444444444,
             "#bd3786"
            ],
            [
             0.5555555555555556,
             "#d8576b"
            ],
            [
             0.6666666666666666,
             "#ed7953"
            ],
            [
             0.7777777777777778,
             "#fb9f3a"
            ],
            [
             0.8888888888888888,
             "#fdca26"
            ],
            [
             1,
             "#f0f921"
            ]
           ],
           "sequentialminus": [
            [
             0,
             "#0d0887"
            ],
            [
             0.1111111111111111,
             "#46039f"
            ],
            [
             0.2222222222222222,
             "#7201a8"
            ],
            [
             0.3333333333333333,
             "#9c179e"
            ],
            [
             0.4444444444444444,
             "#bd3786"
            ],
            [
             0.5555555555555556,
             "#d8576b"
            ],
            [
             0.6666666666666666,
             "#ed7953"
            ],
            [
             0.7777777777777778,
             "#fb9f3a"
            ],
            [
             0.8888888888888888,
             "#fdca26"
            ],
            [
             1,
             "#f0f921"
            ]
           ]
          },
          "colorway": [
           "#636efa",
           "#EF553B",
           "#00cc96",
           "#ab63fa",
           "#FFA15A",
           "#19d3f3",
           "#FF6692",
           "#B6E880",
           "#FF97FF",
           "#FECB52"
          ],
          "font": {
           "color": "#2a3f5f"
          },
          "geo": {
           "bgcolor": "white",
           "lakecolor": "white",
           "landcolor": "#E5ECF6",
           "showlakes": true,
           "showland": true,
           "subunitcolor": "white"
          },
          "hoverlabel": {
           "align": "left"
          },
          "hovermode": "closest",
          "mapbox": {
           "style": "light"
          },
          "paper_bgcolor": "white",
          "plot_bgcolor": "#E5ECF6",
          "polar": {
           "angularaxis": {
            "gridcolor": "white",
            "linecolor": "white",
            "ticks": ""
           },
           "bgcolor": "#E5ECF6",
           "radialaxis": {
            "gridcolor": "white",
            "linecolor": "white",
            "ticks": ""
           }
          },
          "scene": {
           "xaxis": {
            "backgroundcolor": "#E5ECF6",
            "gridcolor": "white",
            "gridwidth": 2,
            "linecolor": "white",
            "showbackground": true,
            "ticks": "",
            "zerolinecolor": "white"
           },
           "yaxis": {
            "backgroundcolor": "#E5ECF6",
            "gridcolor": "white",
            "gridwidth": 2,
            "linecolor": "white",
            "showbackground": true,
            "ticks": "",
            "zerolinecolor": "white"
           },
           "zaxis": {
            "backgroundcolor": "#E5ECF6",
            "gridcolor": "white",
            "gridwidth": 2,
            "linecolor": "white",
            "showbackground": true,
            "ticks": "",
            "zerolinecolor": "white"
           }
          },
          "shapedefaults": {
           "line": {
            "color": "#2a3f5f"
           }
          },
          "ternary": {
           "aaxis": {
            "gridcolor": "white",
            "linecolor": "white",
            "ticks": ""
           },
           "baxis": {
            "gridcolor": "white",
            "linecolor": "white",
            "ticks": ""
           },
           "bgcolor": "#E5ECF6",
           "caxis": {
            "gridcolor": "white",
            "linecolor": "white",
            "ticks": ""
           }
          },
          "title": {
           "x": 0.05
          },
          "xaxis": {
           "automargin": true,
           "gridcolor": "white",
           "linecolor": "white",
           "ticks": "",
           "title": {
            "standoff": 15
           },
           "zerolinecolor": "white",
           "zerolinewidth": 2
          },
          "yaxis": {
           "automargin": true,
           "gridcolor": "white",
           "linecolor": "white",
           "ticks": "",
           "title": {
            "standoff": 15
           },
           "zerolinecolor": "white",
           "zerolinewidth": 2
          }
         }
        },
        "title": {
         "text": "Commits by Hour"
        },
        "xaxis": {
         "tickmode": "linear",
         "title": {
          "text": "Hour"
         }
        },
        "yaxis": {
         "title": {
          "text": "Commits Count"
         }
        }
       }
      },
      "text/html": [
       "<div>\n",
       "        \n",
       "        \n",
       "            <div id=\"f90647e3-b3ca-4407-855e-f6fa210242bd\" class=\"plotly-graph-div\" style=\"height:525px; width:100%;\"></div>\n",
       "            <script type=\"text/javascript\">\n",
       "                require([\"plotly\"], function(Plotly) {\n",
       "                    window.PLOTLYENV=window.PLOTLYENV || {};\n",
       "                    \n",
       "                if (document.getElementById(\"f90647e3-b3ca-4407-855e-f6fa210242bd\")) {\n",
       "                    Plotly.newPlot(\n",
       "                        'f90647e3-b3ca-4407-855e-f6fa210242bd',\n",
       "                        [{\"text\": [1503.0, 1274.0, 1159.0, 973.0, 1140.0, 1350.0, 1434.0, 1151.0, 840.0, 579.0, 412.0, 484.0, 425.0, 496.0, 573.0, 617.0, 910.0, 1397.0, 1681.0, 1380.0, 1500.0, 1568.0, 1557.0, 1639.0], \"textposition\": \"auto\", \"type\": \"bar\", \"x\": [0, 1, 2, 3, 4, 5, 6, 7, 8, 9, 10, 11, 12, 13, 14, 15, 16, 17, 18, 19, 20, 21, 22, 23], \"y\": [1503, 1274, 1159, 973, 1140, 1350, 1434, 1151, 840, 579, 412, 484, 425, 496, 573, 617, 910, 1397, 1681, 1380, 1500, 1568, 1557, 1639]}],\n",
       "                        {\"template\": {\"data\": {\"bar\": [{\"error_x\": {\"color\": \"#2a3f5f\"}, \"error_y\": {\"color\": \"#2a3f5f\"}, \"marker\": {\"line\": {\"color\": \"#E5ECF6\", \"width\": 0.5}}, \"type\": \"bar\"}], \"barpolar\": [{\"marker\": {\"line\": {\"color\": \"#E5ECF6\", \"width\": 0.5}}, \"type\": \"barpolar\"}], \"carpet\": [{\"aaxis\": {\"endlinecolor\": \"#2a3f5f\", \"gridcolor\": \"white\", \"linecolor\": \"white\", \"minorgridcolor\": \"white\", \"startlinecolor\": \"#2a3f5f\"}, \"baxis\": {\"endlinecolor\": \"#2a3f5f\", \"gridcolor\": \"white\", \"linecolor\": \"white\", \"minorgridcolor\": \"white\", \"startlinecolor\": \"#2a3f5f\"}, \"type\": \"carpet\"}], \"choropleth\": [{\"colorbar\": {\"outlinewidth\": 0, \"ticks\": \"\"}, \"type\": \"choropleth\"}], \"contour\": [{\"colorbar\": {\"outlinewidth\": 0, \"ticks\": \"\"}, \"colorscale\": [[0.0, \"#0d0887\"], [0.1111111111111111, \"#46039f\"], [0.2222222222222222, \"#7201a8\"], [0.3333333333333333, \"#9c179e\"], [0.4444444444444444, \"#bd3786\"], [0.5555555555555556, \"#d8576b\"], [0.6666666666666666, \"#ed7953\"], [0.7777777777777778, \"#fb9f3a\"], [0.8888888888888888, \"#fdca26\"], [1.0, \"#f0f921\"]], \"type\": \"contour\"}], \"contourcarpet\": [{\"colorbar\": {\"outlinewidth\": 0, \"ticks\": \"\"}, \"type\": \"contourcarpet\"}], \"heatmap\": [{\"colorbar\": {\"outlinewidth\": 0, \"ticks\": \"\"}, \"colorscale\": [[0.0, \"#0d0887\"], [0.1111111111111111, \"#46039f\"], [0.2222222222222222, \"#7201a8\"], [0.3333333333333333, \"#9c179e\"], [0.4444444444444444, \"#bd3786\"], [0.5555555555555556, \"#d8576b\"], [0.6666666666666666, \"#ed7953\"], [0.7777777777777778, \"#fb9f3a\"], [0.8888888888888888, \"#fdca26\"], [1.0, \"#f0f921\"]], \"type\": \"heatmap\"}], \"heatmapgl\": [{\"colorbar\": {\"outlinewidth\": 0, \"ticks\": \"\"}, \"colorscale\": [[0.0, \"#0d0887\"], [0.1111111111111111, \"#46039f\"], [0.2222222222222222, \"#7201a8\"], [0.3333333333333333, \"#9c179e\"], [0.4444444444444444, \"#bd3786\"], [0.5555555555555556, \"#d8576b\"], [0.6666666666666666, \"#ed7953\"], [0.7777777777777778, \"#fb9f3a\"], [0.8888888888888888, \"#fdca26\"], [1.0, \"#f0f921\"]], \"type\": \"heatmapgl\"}], \"histogram\": [{\"marker\": {\"colorbar\": {\"outlinewidth\": 0, \"ticks\": \"\"}}, \"type\": \"histogram\"}], \"histogram2d\": [{\"colorbar\": {\"outlinewidth\": 0, \"ticks\": \"\"}, \"colorscale\": [[0.0, \"#0d0887\"], [0.1111111111111111, \"#46039f\"], [0.2222222222222222, \"#7201a8\"], [0.3333333333333333, \"#9c179e\"], [0.4444444444444444, \"#bd3786\"], [0.5555555555555556, \"#d8576b\"], [0.6666666666666666, \"#ed7953\"], [0.7777777777777778, \"#fb9f3a\"], [0.8888888888888888, \"#fdca26\"], [1.0, \"#f0f921\"]], \"type\": \"histogram2d\"}], \"histogram2dcontour\": [{\"colorbar\": {\"outlinewidth\": 0, \"ticks\": \"\"}, \"colorscale\": [[0.0, \"#0d0887\"], [0.1111111111111111, \"#46039f\"], [0.2222222222222222, \"#7201a8\"], [0.3333333333333333, \"#9c179e\"], [0.4444444444444444, \"#bd3786\"], [0.5555555555555556, \"#d8576b\"], [0.6666666666666666, \"#ed7953\"], [0.7777777777777778, \"#fb9f3a\"], [0.8888888888888888, \"#fdca26\"], [1.0, \"#f0f921\"]], \"type\": \"histogram2dcontour\"}], \"mesh3d\": [{\"colorbar\": {\"outlinewidth\": 0, \"ticks\": \"\"}, \"type\": \"mesh3d\"}], \"parcoords\": [{\"line\": {\"colorbar\": {\"outlinewidth\": 0, \"ticks\": \"\"}}, \"type\": \"parcoords\"}], \"pie\": [{\"automargin\": true, \"type\": \"pie\"}], \"scatter\": [{\"marker\": {\"colorbar\": {\"outlinewidth\": 0, \"ticks\": \"\"}}, \"type\": \"scatter\"}], \"scatter3d\": [{\"line\": {\"colorbar\": {\"outlinewidth\": 0, \"ticks\": \"\"}}, \"marker\": {\"colorbar\": {\"outlinewidth\": 0, \"ticks\": \"\"}}, \"type\": \"scatter3d\"}], \"scattercarpet\": [{\"marker\": {\"colorbar\": {\"outlinewidth\": 0, \"ticks\": \"\"}}, \"type\": \"scattercarpet\"}], \"scattergeo\": [{\"marker\": {\"colorbar\": {\"outlinewidth\": 0, \"ticks\": \"\"}}, \"type\": \"scattergeo\"}], \"scattergl\": [{\"marker\": {\"colorbar\": {\"outlinewidth\": 0, \"ticks\": \"\"}}, \"type\": \"scattergl\"}], \"scattermapbox\": [{\"marker\": {\"colorbar\": {\"outlinewidth\": 0, \"ticks\": \"\"}}, \"type\": \"scattermapbox\"}], \"scatterpolar\": [{\"marker\": {\"colorbar\": {\"outlinewidth\": 0, \"ticks\": \"\"}}, \"type\": \"scatterpolar\"}], \"scatterpolargl\": [{\"marker\": {\"colorbar\": {\"outlinewidth\": 0, \"ticks\": \"\"}}, \"type\": \"scatterpolargl\"}], \"scatterternary\": [{\"marker\": {\"colorbar\": {\"outlinewidth\": 0, \"ticks\": \"\"}}, \"type\": \"scatterternary\"}], \"surface\": [{\"colorbar\": {\"outlinewidth\": 0, \"ticks\": \"\"}, \"colorscale\": [[0.0, \"#0d0887\"], [0.1111111111111111, \"#46039f\"], [0.2222222222222222, \"#7201a8\"], [0.3333333333333333, \"#9c179e\"], [0.4444444444444444, \"#bd3786\"], [0.5555555555555556, \"#d8576b\"], [0.6666666666666666, \"#ed7953\"], [0.7777777777777778, \"#fb9f3a\"], [0.8888888888888888, \"#fdca26\"], [1.0, \"#f0f921\"]], \"type\": \"surface\"}], \"table\": [{\"cells\": {\"fill\": {\"color\": \"#EBF0F8\"}, \"line\": {\"color\": \"white\"}}, \"header\": {\"fill\": {\"color\": \"#C8D4E3\"}, \"line\": {\"color\": \"white\"}}, \"type\": \"table\"}]}, \"layout\": {\"annotationdefaults\": {\"arrowcolor\": \"#2a3f5f\", \"arrowhead\": 0, \"arrowwidth\": 1}, \"coloraxis\": {\"colorbar\": {\"outlinewidth\": 0, \"ticks\": \"\"}}, \"colorscale\": {\"diverging\": [[0, \"#8e0152\"], [0.1, \"#c51b7d\"], [0.2, \"#de77ae\"], [0.3, \"#f1b6da\"], [0.4, \"#fde0ef\"], [0.5, \"#f7f7f7\"], [0.6, \"#e6f5d0\"], [0.7, \"#b8e186\"], [0.8, \"#7fbc41\"], [0.9, \"#4d9221\"], [1, \"#276419\"]], \"sequential\": [[0.0, \"#0d0887\"], [0.1111111111111111, \"#46039f\"], [0.2222222222222222, \"#7201a8\"], [0.3333333333333333, \"#9c179e\"], [0.4444444444444444, \"#bd3786\"], [0.5555555555555556, \"#d8576b\"], [0.6666666666666666, \"#ed7953\"], [0.7777777777777778, \"#fb9f3a\"], [0.8888888888888888, \"#fdca26\"], [1.0, \"#f0f921\"]], \"sequentialminus\": [[0.0, \"#0d0887\"], [0.1111111111111111, \"#46039f\"], [0.2222222222222222, \"#7201a8\"], [0.3333333333333333, \"#9c179e\"], [0.4444444444444444, \"#bd3786\"], [0.5555555555555556, \"#d8576b\"], [0.6666666666666666, \"#ed7953\"], [0.7777777777777778, \"#fb9f3a\"], [0.8888888888888888, \"#fdca26\"], [1.0, \"#f0f921\"]]}, \"colorway\": [\"#636efa\", \"#EF553B\", \"#00cc96\", \"#ab63fa\", \"#FFA15A\", \"#19d3f3\", \"#FF6692\", \"#B6E880\", \"#FF97FF\", \"#FECB52\"], \"font\": {\"color\": \"#2a3f5f\"}, \"geo\": {\"bgcolor\": \"white\", \"lakecolor\": \"white\", \"landcolor\": \"#E5ECF6\", \"showlakes\": true, \"showland\": true, \"subunitcolor\": \"white\"}, \"hoverlabel\": {\"align\": \"left\"}, \"hovermode\": \"closest\", \"mapbox\": {\"style\": \"light\"}, \"paper_bgcolor\": \"white\", \"plot_bgcolor\": \"#E5ECF6\", \"polar\": {\"angularaxis\": {\"gridcolor\": \"white\", \"linecolor\": \"white\", \"ticks\": \"\"}, \"bgcolor\": \"#E5ECF6\", \"radialaxis\": {\"gridcolor\": \"white\", \"linecolor\": \"white\", \"ticks\": \"\"}}, \"scene\": {\"xaxis\": {\"backgroundcolor\": \"#E5ECF6\", \"gridcolor\": \"white\", \"gridwidth\": 2, \"linecolor\": \"white\", \"showbackground\": true, \"ticks\": \"\", \"zerolinecolor\": \"white\"}, \"yaxis\": {\"backgroundcolor\": \"#E5ECF6\", \"gridcolor\": \"white\", \"gridwidth\": 2, \"linecolor\": \"white\", \"showbackground\": true, \"ticks\": \"\", \"zerolinecolor\": \"white\"}, \"zaxis\": {\"backgroundcolor\": \"#E5ECF6\", \"gridcolor\": \"white\", \"gridwidth\": 2, \"linecolor\": \"white\", \"showbackground\": true, \"ticks\": \"\", \"zerolinecolor\": \"white\"}}, \"shapedefaults\": {\"line\": {\"color\": \"#2a3f5f\"}}, \"ternary\": {\"aaxis\": {\"gridcolor\": \"white\", \"linecolor\": \"white\", \"ticks\": \"\"}, \"baxis\": {\"gridcolor\": \"white\", \"linecolor\": \"white\", \"ticks\": \"\"}, \"bgcolor\": \"#E5ECF6\", \"caxis\": {\"gridcolor\": \"white\", \"linecolor\": \"white\", \"ticks\": \"\"}}, \"title\": {\"x\": 0.05}, \"xaxis\": {\"automargin\": true, \"gridcolor\": \"white\", \"linecolor\": \"white\", \"ticks\": \"\", \"title\": {\"standoff\": 15}, \"zerolinecolor\": \"white\", \"zerolinewidth\": 2}, \"yaxis\": {\"automargin\": true, \"gridcolor\": \"white\", \"linecolor\": \"white\", \"ticks\": \"\", \"title\": {\"standoff\": 15}, \"zerolinecolor\": \"white\", \"zerolinewidth\": 2}}}, \"title\": {\"text\": \"Commits by Hour\"}, \"xaxis\": {\"tickmode\": \"linear\", \"title\": {\"text\": \"Hour\"}}, \"yaxis\": {\"title\": {\"text\": \"Commits Count\"}}},\n",
       "                        {\"responsive\": true}\n",
       "                    ).then(function(){\n",
       "                            \n",
       "var gd = document.getElementById('f90647e3-b3ca-4407-855e-f6fa210242bd');\n",
       "var x = new MutationObserver(function (mutations, observer) {{\n",
       "        var display = window.getComputedStyle(gd).display;\n",
       "        if (!display || display === 'none') {{\n",
       "            console.log([gd, 'removed!']);\n",
       "            Plotly.purge(gd);\n",
       "            observer.disconnect();\n",
       "        }}\n",
       "}});\n",
       "\n",
       "// Listen for the removal of the full notebook cells\n",
       "var notebookContainer = gd.closest('#notebook-container');\n",
       "if (notebookContainer) {{\n",
       "    x.observe(notebookContainer, {childList: true});\n",
       "}}\n",
       "\n",
       "// Listen for the clearing of the current output cell\n",
       "var outputEl = gd.closest('.output');\n",
       "if (outputEl) {{\n",
       "    x.observe(outputEl, {childList: true});\n",
       "}}\n",
       "\n",
       "                        })\n",
       "                };\n",
       "                });\n",
       "            </script>\n",
       "        </div>"
      ]
     },
     "metadata": {},
     "output_type": "display_data"
    },
    {
     "name": "stdout",
     "output_type": "stream",
     "text": [
      "time: 2.27 s\n"
     ]
    }
   ],
   "source": [
    "fig = go.Figure([go.Bar(\n",
    "    x=commits_by_hour.index, \n",
    "    y=commits_by_hour.commit_count, \n",
    "    text=commits_by_hour.commit_count, \n",
    "    textposition='auto')])\n",
    "fig.update_layout(\n",
    "    title = 'Commits by Hour', \n",
    "    xaxis_title = 'Hour', \n",
    "    yaxis_title = 'Commits Count', \n",
    "    xaxis_tickmode = 'linear')\n",
    "fig.show()"
   ]
  },
  {
   "cell_type": "code",
   "execution_count": 131,
   "metadata": {},
   "outputs": [
    {
     "name": "stdout",
     "output_type": "stream",
     "text": [
      "time: 38 ms\n"
     ]
    }
   ],
   "source": [
    "commits_by_day = commits.groupby('commit_date')[['sha']].count()\n",
    "commits_by_day = commits_by_day.rename(columns = {'sha': 'commit_count'})"
   ]
  },
  {
   "cell_type": "code",
   "execution_count": 132,
   "metadata": {},
   "outputs": [
    {
     "data": {
      "application/vnd.plotly.v1+json": {
       "config": {
        "plotlyServerURL": "https://plot.ly"
       },
       "data": [
        {
         "fill": "tozeroy",
         "text": [
          1,
          3,
          1,
          2,
          1,
          2,
          2,
          1,
          1,
          1,
          3,
          1,
          1,
          9,
          2,
          2,
          1,
          1,
          1,
          1,
          4,
          1,
          1,
          2,
          2,
          1,
          1,
          2,
          1,
          1,
          1,
          1,
          1,
          1,
          15,
          3,
          2,
          1,
          4,
          3,
          4,
          2,
          2,
          5,
          11,
          6,
          5,
          5,
          5,
          2,
          4,
          2,
          1,
          4,
          6,
          6,
          4,
          1,
          2,
          8,
          1,
          3,
          2,
          3,
          2,
          5,
          4,
          2,
          2,
          8,
          4,
          1,
          6,
          1,
          6,
          4,
          4,
          2,
          1,
          7,
          2,
          1,
          4,
          1,
          1,
          1,
          10,
          3,
          2,
          6,
          1,
          1,
          9,
          5,
          2,
          4,
          3,
          3,
          4,
          1,
          4,
          1,
          3,
          2,
          3,
          3,
          1,
          2,
          5,
          1,
          1,
          1,
          1,
          3,
          3,
          2,
          1,
          11,
          1,
          2,
          1,
          1,
          1,
          3,
          1,
          4,
          3,
          4,
          10,
          2,
          1,
          3,
          1,
          2,
          1,
          1,
          2,
          1,
          1,
          2,
          4,
          9,
          8,
          1,
          3,
          4,
          1,
          2,
          1,
          5,
          1,
          2,
          7,
          14,
          4,
          1,
          1,
          19,
          1,
          1,
          2,
          1,
          1,
          1,
          3,
          7,
          2,
          1,
          6,
          5,
          1,
          2,
          3,
          1,
          2,
          2,
          22,
          1,
          3,
          1,
          4,
          1,
          2,
          4,
          8,
          1,
          1,
          1,
          1,
          4,
          2,
          8,
          1,
          1,
          8,
          1,
          2,
          1,
          2,
          1,
          5,
          3,
          2,
          2,
          2,
          6,
          1,
          2,
          1,
          1,
          1,
          3,
          1,
          3,
          4,
          2,
          2,
          7,
          1,
          1,
          1,
          1,
          2,
          1,
          2,
          1,
          6,
          1,
          3,
          6,
          3,
          2,
          4,
          3,
          1,
          1,
          2,
          1,
          4,
          1,
          1,
          2,
          1,
          1,
          1,
          1,
          5,
          2,
          2,
          1,
          7,
          2,
          1,
          7,
          1,
          2,
          1,
          2,
          4,
          9,
          1,
          1,
          9,
          3,
          2,
          1,
          2,
          2,
          5,
          9,
          7,
          8,
          5,
          3,
          1,
          6,
          6,
          1,
          1,
          3,
          15,
          14,
          8,
          4,
          3,
          22,
          9,
          8,
          5,
          1,
          4,
          1,
          3,
          5,
          5,
          12,
          4,
          1,
          1,
          3,
          1,
          2,
          1,
          9,
          2,
          8,
          24,
          9,
          4,
          8,
          15,
          10,
          2,
          3,
          3,
          21,
          8,
          10,
          2,
          13,
          12,
          12,
          17,
          4,
          3,
          7,
          2,
          6,
          1,
          2,
          7,
          12,
          9,
          8,
          10,
          10,
          8,
          18,
          10,
          26,
          5,
          10,
          9,
          29,
          11,
          12,
          9,
          8,
          6,
          16,
          12,
          8,
          3,
          2,
          5,
          4,
          4,
          6,
          6,
          6,
          4,
          2,
          1,
          2,
          5,
          1,
          2,
          3,
          1,
          1,
          3,
          1,
          5,
          1,
          5,
          5,
          3,
          9,
          6,
          6,
          1,
          4,
          2,
          6,
          3,
          9,
          1,
          2,
          1,
          2,
          16,
          5,
          2,
          3,
          2,
          4,
          6,
          3,
          5,
          15,
          10,
          5,
          23,
          5,
          4,
          6,
          2,
          4,
          5,
          1,
          6,
          4,
          10,
          6,
          2,
          10,
          5,
          2,
          5,
          7,
          11,
          18,
          12,
          6,
          13,
          7,
          13,
          37,
          16,
          4,
          6,
          16,
          6,
          28,
          22,
          21,
          36,
          13,
          9,
          1,
          10,
          10,
          26,
          20,
          6,
          27,
          10,
          11,
          6,
          15,
          12,
          7,
          2,
          10,
          12,
          18,
          4,
          2,
          5,
          5,
          13,
          5,
          6,
          24,
          17,
          16,
          9,
          9,
          17,
          33,
          17,
          6,
          3,
          3,
          3,
          7,
          2,
          1,
          4,
          8,
          10,
          8,
          10,
          8,
          9,
          11,
          3,
          2,
          6,
          11,
          3,
          4,
          4,
          2,
          3,
          2,
          4,
          4,
          2,
          5,
          2,
          5,
          5,
          11,
          6,
          18,
          1,
          4,
          12,
          3,
          9,
          1,
          5,
          2,
          2,
          10,
          11,
          7,
          3,
          2,
          1,
          1,
          3,
          4,
          8,
          7,
          3,
          11,
          11,
          17,
          13,
          10,
          9,
          8,
          9,
          6,
          5,
          8,
          13,
          8,
          3,
          7,
          3,
          10,
          11,
          5,
          6,
          1,
          1,
          3,
          2,
          8,
          3,
          4,
          4,
          8,
          3,
          6,
          3,
          7,
          4,
          4,
          1,
          6,
          11,
          2,
          6,
          1,
          5,
          10,
          5,
          4,
          5,
          10,
          5,
          4,
          2,
          13,
          37,
          3,
          9,
          23,
          10,
          3,
          9,
          12,
          10,
          14,
          4,
          5,
          5,
          37,
          21,
          7,
          6,
          6,
          13,
          20,
          11,
          10,
          11,
          18,
          16,
          13,
          10,
          9,
          2,
          15,
          20,
          38,
          11,
          8,
          17,
          5,
          27,
          32,
          45,
          40,
          7,
          4,
          2,
          13,
          28,
          11,
          16,
          11,
          9,
          14,
          10,
          25,
          11,
          29,
          20,
          1,
          11,
          18,
          39,
          14,
          13,
          8,
          3,
          10,
          3,
          10,
          5,
          28,
          6,
          26,
          14,
          15,
          3,
          7,
          22,
          9,
          18,
          23,
          8,
          14,
          5,
          1,
          3,
          11,
          1,
          2,
          12,
          4,
          21,
          2,
          12,
          13,
          3,
          1,
          20,
          2,
          1,
          1,
          5,
          6,
          4,
          11,
          11,
          13,
          10,
          16,
          12,
          22,
          21,
          21,
          6,
          6,
          7,
          25,
          24,
          25,
          22,
          22,
          22,
          18,
          31,
          10,
          20,
          14,
          9,
          5,
          5,
          14,
          18,
          16,
          17,
          6,
          4,
          13,
          13,
          6,
          7,
          19,
          10,
          19,
          12,
          18,
          14,
          19,
          10,
          2,
          1,
          11,
          13,
          24,
          8,
          6,
          5,
          10,
          13,
          22,
          9,
          3,
          8,
          12,
          8,
          4,
          21,
          8,
          18,
          25,
          17,
          7,
          4,
          10,
          6,
          10,
          5,
          38,
          9,
          13,
          23,
          14,
          22,
          37,
          7,
          7,
          8,
          21,
          23,
          28,
          39,
          7,
          24,
          19,
          32,
          15,
          40,
          40,
          29,
          13,
          40,
          33,
          38,
          37,
          69,
          43,
          23,
          50,
          85,
          24,
          11,
          14,
          4,
          10,
          3,
          23,
          10,
          12,
          11,
          4,
          3,
          2,
          4,
          1,
          1,
          3,
          2,
          2,
          5,
          4,
          3,
          9,
          2,
          3,
          3,
          6,
          1,
          1,
          5,
          2,
          4,
          2,
          4,
          5,
          3,
          2,
          5,
          4,
          10,
          4,
          2,
          12,
          5,
          8,
          1,
          5,
          6,
          5,
          5,
          5,
          2,
          6,
          7,
          2,
          1,
          1,
          2,
          6,
          9,
          3,
          6,
          1,
          3,
          3,
          9,
          4,
          10,
          4,
          3,
          6,
          3,
          4,
          11,
          9,
          7,
          11,
          4,
          12,
          13,
          7,
          11,
          8,
          6,
          3,
          2,
          6,
          15,
          11,
          9,
          5,
          1,
          5,
          13,
          12,
          16,
          22,
          4,
          6,
          6,
          12,
          6,
          1,
          5,
          9,
          6,
          10,
          13,
          15,
          8,
          12,
          9,
          4,
          11,
          15,
          21,
          18,
          8,
          6,
          2,
          3,
          6,
          6,
          3,
          4,
          11,
          8,
          9,
          5,
          4,
          4,
          12,
          2,
          4,
          10,
          14,
          7,
          8,
          3,
          4,
          10,
          9,
          18,
          10,
          11,
          4,
          2,
          8,
          12,
          9,
          6,
          16,
          12,
          4,
          9,
          7,
          14,
          10,
          8,
          2,
          3,
          7,
          2,
          4,
          5,
          12,
          5,
          1,
          14,
          7,
          11,
          7,
          8,
          6,
          20,
          21,
          6,
          11,
          5,
          9,
          7,
          8,
          13,
          14,
          14,
          7,
          9,
          7,
          12,
          26,
          24,
          31,
          25,
          13,
          7,
          16,
          20,
          10,
          11,
          4,
          8,
          3,
          14,
          11,
          20,
          10,
          13,
          3,
          24,
          12,
          23,
          4,
          1,
          8,
          4,
          10,
          15,
          32,
          13,
          13,
          8,
          3,
          11,
          16,
          13,
          10,
          10,
          1,
          17,
          13,
          11,
          7,
          13,
          13,
          1,
          6,
          22,
          11,
          8,
          15,
          6,
          4,
          3,
          14,
          4,
          7,
          10,
          14,
          4,
          12,
          13,
          22,
          11,
          18,
          4,
          11,
          12,
          8,
          26,
          9,
          3,
          4,
          17,
          7,
          3,
          4,
          13,
          1,
          2,
          10,
          12,
          6,
          7,
          17,
          4,
          18,
          6,
          25,
          9,
          17,
          18,
          16,
          10,
          16,
          11,
          11,
          9,
          17,
          4,
          1,
          17,
          18,
          14,
          10,
          21,
          7,
          5,
          9,
          17,
          19,
          14,
          11,
          2,
          7,
          21,
          9,
          4,
          8,
          3,
          6,
          17,
          14,
          15,
          18,
          10,
          1,
          4,
          12,
          15,
          3,
          11,
          1,
          5,
          17,
          22,
          7,
          19,
          8,
          1,
          13,
          11,
          4,
          5,
          3,
          7,
          9,
          22,
          9,
          4,
          2,
          3,
          12,
          6,
          6,
          12,
          14,
          12,
          4,
          10,
          7,
          10,
          5,
          12,
          3,
          6,
          10,
          12,
          14,
          7,
          3,
          4,
          9,
          9,
          8,
          19,
          14,
          18,
          6,
          3,
          30,
          34,
          26,
          23,
          54,
          3,
          6,
          16,
          31,
          25,
          22,
          14,
          8,
          3,
          25,
          31,
          17,
          11,
          6,
          4,
          3,
          7,
          14,
          18,
          19,
          14,
          9,
          3,
          17,
          22,
          8,
          9,
          4,
          4,
          3,
          4,
          4,
          13,
          11,
          10,
          5,
          2,
          6,
          14,
          12,
          10,
          16,
          8,
          8,
          6,
          22,
          14,
          20,
          9,
          3,
          5,
          11,
          16,
          11,
          16,
          21,
          3,
          1,
          4,
          13,
          12,
          10,
          11,
          7,
          15,
          24,
          21,
          16,
          9,
          16,
          7,
          3,
          10,
          20,
          13,
          22,
          11,
          7,
          3,
          11,
          20,
          25,
          19,
          33,
          22,
          3,
          8,
          32,
          16,
          34,
          28,
          15,
          5,
          15,
          38,
          31,
          19,
          22,
          14,
          12,
          22,
          21,
          16,
          31,
          19,
          18,
          5,
          5,
          14,
          17,
          12,
          35,
          19,
          19,
          7,
          24,
          31,
          14,
          18,
          5,
          15,
          13,
          11,
          16,
          14,
          11,
          7,
          9,
          3,
          10,
          18,
          15,
          28,
          7,
          5,
          12,
          21,
          19,
          8,
          8,
          5,
          8,
          28,
          46,
          23,
          30,
          11,
          9,
          2,
          16,
          17,
          28,
          35,
          14,
          7,
          14,
          14,
          25,
          14,
          33,
          14,
          16,
          21,
          37,
          14,
          18,
          23,
          9,
          9,
          23,
          27,
          18,
          43,
          36,
          19,
          12,
          27,
          25,
          34,
          30,
          24,
          11,
          8,
          10,
          22,
          30,
          30,
          22,
          10,
          5,
          12,
          27,
          38,
          17,
          10,
          2,
          1,
          11,
          30,
          14,
          20,
          18,
          8,
          5,
          11,
          7,
          5,
          19,
          8,
          6,
          1,
          11,
          13,
          16,
          20,
          5,
          1,
          13,
          19,
          12,
          19,
          15,
          4,
          4,
          12,
          24,
          11,
          8,
          3,
          5,
          5,
          7,
          6,
          4,
          7,
          3,
          4,
          1,
          9,
          18,
          20,
          13,
          2,
          7,
          16,
          15,
          12,
          13,
          6,
          6,
          14,
          13,
          17,
          13,
          10,
          6,
          4,
          9,
          21,
          11,
          13,
          13,
          5,
          7,
          13,
          27,
          22,
          23,
          23,
          7,
          6,
          22,
          29,
          32,
          18,
          21,
          5,
          5,
          20,
          32,
          43,
          26,
          26,
          6,
          1,
          18,
          23,
          24,
          6,
          14,
          1,
          4,
          15,
          26,
          12,
          16,
          9,
          8,
          5,
          10,
          22,
          12,
          21,
          8,
          4,
          2,
          5,
          6,
          39,
          19,
          11,
          11,
          3,
          12,
          13,
          5,
          5,
          1,
          15,
          7,
          12,
          12,
          7,
          4,
          4,
          18,
          23,
          21,
          19,
          14,
          5,
          5,
          14,
          17,
          15,
          10,
          17,
          8,
          3,
          10,
          21,
          20,
          5,
          6,
          10,
          3,
          12,
          19,
          19,
          7,
          12,
          8,
          3,
          12,
          15,
          13,
          18,
          9,
          3,
          2,
          5,
          12,
          16,
          22,
          17,
          3,
          5,
          4,
          8,
          6,
          7,
          8,
          8,
          12,
          16,
          24,
          13,
          22,
          22,
          5,
          3,
          15,
          8,
          14,
          19,
          15,
          3,
          2,
          15,
          19,
          21,
          22,
          25,
          2,
          4,
          21,
          23,
          30,
          25,
          17,
          7,
          2,
          17,
          19,
          20,
          11,
          20,
          10,
          4,
          24,
          20,
          13,
          20,
          22,
          10,
          9,
          14,
          19,
          30,
          14,
          19,
          14,
          12,
          13,
          23,
          17,
          19,
          16,
          10,
          3,
          19,
          23,
          29,
          29,
          25,
          23,
          10,
          22,
          25,
          23,
          22,
          30,
          23,
          5,
          15,
          32,
          26,
          25,
          7,
          7,
          1,
          24,
          27,
          30,
          17,
          14,
          3,
          2,
          5,
          15,
          18,
          24,
          38,
          6,
          11,
          6,
          18,
          21,
          17,
          26,
          9,
          1,
          4,
          13,
          23,
          19,
          24,
          5,
          5,
          11,
          9,
          5,
          9,
          26,
          13,
          13,
          13,
          17,
          24,
          19,
          17,
          12,
          3,
          17,
          28,
          21,
          17,
          13,
          10,
          1,
          10,
          17,
          23,
          18,
          15,
          3,
          3,
          5,
          11,
          21,
          13,
          12,
          5,
          11,
          15,
          20,
          16,
          6,
          3,
          2,
          7,
          16,
          10,
          10,
          7,
          5,
          5,
          20,
          15,
          9,
          7,
          6,
          4,
          3,
          9,
          16,
          5,
          16,
          11,
          3,
          8,
          12,
          12,
          17,
          15,
          11,
          5,
          2,
          7,
          8,
          13,
          8,
          11,
          9,
          5,
          14,
          13,
          15,
          14,
          14,
          10,
          1,
          5,
          12,
          11,
          19,
          19,
          7,
          4,
          3,
          16,
          10,
          4,
          6,
          5,
          6,
          10,
          5,
          14,
          15,
          6,
          7,
          7,
          5,
          10,
          18,
          19,
          11,
          3,
          1,
          9,
          11,
          8,
          17,
          4,
          7,
          2,
          5,
          11,
          8,
          7,
          14,
          5,
          8,
          15,
          14,
          14,
          20,
          3,
          2,
          6,
          16,
          7,
          12,
          15,
          9,
          5,
          3,
          12,
          18,
          11,
          4,
          2,
          8,
          5,
          20,
          21,
          16,
          8,
          9,
          4,
          11,
          17,
          12,
          8,
          7,
          5,
          10,
          13,
          17,
          7,
          5,
          7,
          8,
          8,
          12,
          10,
          3,
          7,
          4,
          16,
          17,
          20,
          10,
          15,
          8,
          4,
          9,
          18,
          15,
          18,
          13,
          9,
          4,
          7,
          14,
          15,
          14,
          13,
          3,
          2,
          5,
          7,
          10,
          15,
          5,
          4,
          3,
          6,
          10,
          6,
          4,
          1,
          1,
          5,
          7,
          8,
          2,
          8,
          6,
          4,
          5,
          12,
          9,
          8,
          8,
          2,
          6,
          5,
          15,
          11,
          7,
          5,
          7,
          3,
          11,
          17,
          8,
          8,
          8,
          4,
          3,
          2,
          5,
          9,
          2,
          6,
          4,
          1,
          9,
          14,
          12,
          10,
          10,
          1,
          2,
          14,
          12,
          18,
          10,
          10,
          6,
          4,
          5,
          5,
          9,
          12,
          14,
          6,
          4,
          2,
          13,
          9,
          11,
          13,
          7,
          5,
          11,
          12,
          22,
          12,
          8,
          2,
          3,
          4,
          15,
          12,
          9,
          8,
          5,
          4,
          8,
          17,
          11,
          5,
          16,
          5,
          5,
          5,
          13,
          9,
          13,
          5,
          3,
          4,
          7,
          12,
          10,
          11,
          8,
          2,
          3,
          12,
          7,
          13,
          8,
          1,
          1,
          5,
          3,
          9,
          7,
          13,
          10,
          2,
          2,
          4,
          8,
          10,
          13,
          9,
          6,
          3,
          8,
          11,
          9,
          8,
          10,
          1,
          8,
          11,
          15,
          15,
          7,
          15,
          2,
          2,
          10,
          8,
          4,
          8,
          10,
          1,
          2,
          15,
          7,
          8,
          11,
          14,
          6,
          3,
          4,
          10,
          9,
          11,
          7,
          6,
          1,
          5,
          4,
          4,
          6,
          7,
          3,
          6,
          13,
          10,
          9,
          7,
          9,
          3,
          15,
          6,
          9,
          8,
          15,
          5,
          3,
          3,
          3,
          4,
          16,
          13,
          6,
          2,
          8,
          11,
          13,
          12,
          12,
          14,
          1,
          9,
          12,
          9,
          6,
          2,
          3,
          7,
          12,
          11,
          8,
          4,
          5,
          2,
          7,
          6,
          6,
          5,
          6,
          3,
          3,
          12,
          6,
          8,
          5,
          5,
          9,
          8,
          7,
          12,
          3,
          6,
          3,
          7,
          8,
          9,
          9,
          5,
          2,
          3,
          5,
          8,
          7,
          12,
          9,
          2,
          1,
          4,
          7,
          11,
          13,
          6,
          2,
          1,
          2,
          7,
          9,
          5,
          9,
          4,
          1,
          4,
          9,
          11,
          9,
          7,
          2,
          2,
          6,
          10,
          9,
          12,
          8,
          7,
          4,
          5,
          3,
          9,
          7,
          7,
          2,
          2,
          5,
          3,
          6,
          3,
          5,
          2,
          1,
          8,
          9,
          3,
          6,
          7,
          4,
          1,
          5,
          7,
          4,
          3,
          8,
          4,
          1,
          3,
          5,
          11,
          7,
          6,
          5,
          5,
          9,
          7,
          6,
          8,
          1,
          6,
          4,
          7,
          7,
          6,
          11,
          15,
          5,
          3,
          4,
          7,
          10,
          4,
          5,
          1,
          4,
          10,
          7,
          3,
          5,
          3,
          1,
          5,
          6,
          7,
          10,
          6,
          2,
          3,
          5,
          9,
          12,
          13,
          6,
          3,
          8,
          9,
          19,
          13,
          5,
          1,
          3,
          5,
          8,
          10,
          13,
          8,
          6,
          1,
          3,
          6,
          3,
          15,
          14,
          8,
          6,
          5,
          2,
          5,
          10,
          8,
          8,
          1,
          8,
          9,
          10,
          10,
          9,
          6,
          7,
          6,
          8,
          16,
          15,
          17,
          3,
          3,
          15,
          7,
          15,
          6,
          10,
          5,
          3,
          9,
          12,
          10,
          18,
          7,
          7,
          2,
          3,
          8,
          5,
          6,
          5,
          4,
          4,
          10,
          17,
          5,
          11,
          2,
          3,
          6,
          9,
          3,
          2,
          1,
          1,
          3,
          6,
          6,
          3,
          6,
          3,
          1,
          14,
          6,
          6,
          11,
          4,
          1,
          3,
          4,
          5,
          13,
          1,
          3,
          6,
          8,
          4,
          9,
          3,
          5,
          2,
          3,
          5,
          7,
          1,
          6,
          5,
          8,
          4,
          12,
          4,
          6,
          7,
          9,
          4,
          11,
          1,
          6,
          9,
          8,
          12,
          5,
          2,
          1,
          9,
          11,
          6,
          10,
          5,
          3,
          1,
          4,
          3,
          8,
          6,
          8,
          1,
          14,
          7,
          11,
          8,
          5,
          5,
          2,
          8,
          8,
          4,
          10,
          11,
          1,
          2,
          9,
          10,
          6,
          11,
          5,
          1,
          1,
          3,
          5,
          9,
          7,
          9,
          1,
          1,
          7,
          5,
          2,
          7,
          2,
          5,
          12,
          7,
          6,
          6,
          1,
          4,
          7,
          4,
          9,
          4,
          3,
          8,
          7,
          12,
          9,
          1,
          3,
          1,
          5,
          2,
          9,
          10,
          4,
          5,
          5,
          5,
          10,
          11,
          8,
          3,
          5,
          11,
          8,
          13,
          8,
          17,
          5,
          8,
          7,
          11,
          7,
          12,
          4,
          2,
          12,
          8,
          10,
          18,
          14,
          9,
          12,
          18,
          7,
          12,
          10,
          4,
          5,
          11,
          8,
          6,
          9,
          8,
          7,
          1,
          2,
          14,
          11,
          11,
          10,
          4,
          1,
          7,
          8,
          11,
          10,
          8,
          4,
          1,
          3,
          7,
          12,
          10,
          10,
          4,
          4,
          6,
          10,
          3,
          11,
          2,
          4,
          5,
          11,
          7,
          8,
          17,
          11,
          1,
          3,
          7,
          5,
          12,
          16,
          7,
          8,
          4,
          6,
          5,
          5,
          4,
          12,
          14,
          5,
          9,
          6,
          6,
          7,
          13,
          7,
          3,
          3,
          8,
          9,
          8,
          12,
          6,
          8,
          4,
          6,
          6,
          10,
          15,
          3,
          4,
          7,
          7,
          17,
          5,
          6,
          3,
          3,
          9,
          8,
          5,
          11,
          7,
          3,
          3,
          3,
          10,
          8,
          11,
          8,
          5,
          1,
          9,
          6,
          11,
          11,
          7,
          2,
          4,
          10,
          6,
          9,
          13,
          10,
          6,
          9,
          13,
          9,
          5,
          4,
          10,
          3,
          3,
          9,
          10,
          4,
          11,
          7,
          3,
          3,
          12,
          8,
          2,
          9,
          5,
          7,
          2,
          1,
          5,
          3,
          1,
          2,
          5,
          6,
          5,
          7,
          5,
          7,
          3,
          11,
          9,
          6,
          7,
          6,
          5,
          5,
          2,
          10,
          9,
          9,
          4,
          2,
          2,
          4,
          10,
          8,
          8,
          12,
          3,
          5,
          10,
          7,
          6,
          12,
          8,
          7,
          3,
          2,
          3,
          3,
          2,
          4,
          1,
          2,
          1,
          4,
          7,
          6,
          6,
          4,
          1,
          8,
          7,
          9,
          4,
          9,
          7,
          1,
          6,
          7,
          14,
          3,
          9,
          4,
          2,
          17,
          12,
          11,
          10,
          8,
          6,
          5,
          16,
          15,
          12,
          7,
          8,
          6,
          8,
          4,
          10,
          14,
          7,
          9,
          5,
          4,
          14,
          13,
          9,
          3,
          4,
          9,
          5,
          9,
          10,
          7,
          8,
          9,
          3,
          7,
          9,
          8,
          9,
          4,
          3,
          3,
          4,
          10,
          4,
          6,
          6,
          5,
          7,
          9,
          3,
          4,
          6,
          3,
          3,
          10,
          3,
          4,
          8,
          8,
          3,
          4,
          6,
          9,
          4,
          8,
          2,
          6,
          5,
          9,
          3,
          4,
          1,
          9,
          11,
          10,
          11,
          9,
          2,
          5,
          5,
          9,
          5,
          10,
          6,
          2,
          1,
          9,
          11,
          8,
          5,
          6,
          3,
          5,
          5,
          4,
          4,
          4,
          4,
          10,
          3,
          10,
          11,
          8,
          4,
          2,
          3,
          10,
          9,
          5,
          6,
          6,
          1,
          4,
          4,
          8,
          8,
          4,
          8,
          3,
          2,
          2,
          8,
          7,
          19,
          11,
          4,
          3,
          11,
          14,
          3,
          12,
          9,
          4,
          3,
          8,
          5,
          8,
          4,
          11,
          8,
          7,
          8,
          10,
          8,
          9,
          13,
          1,
          2,
          7,
          10,
          10,
          8,
          11,
          3,
          2,
          8,
          16,
          6,
          10,
          11,
          3,
          4,
          12,
          11,
          9,
          8,
          12,
          2,
          2,
          11,
          16,
          7,
          6,
          11,
          5,
          2,
          6,
          8,
          10,
          16,
          7,
          2,
          1,
          16,
          10,
          8,
          8,
          13,
          3,
          7,
          6,
          14,
          21,
          9,
          13,
          10,
          9,
          7,
          11,
          7,
          9,
          13,
          4,
          5,
          7,
          6,
          9,
          14,
          10,
          1,
          3,
          10,
          9,
          9,
          5,
          2,
          8,
          5,
          12,
          11,
          10,
          9,
          18,
          2,
          2,
          4,
          17,
          13,
          13,
          11,
          4,
          2,
          10,
          9,
          10,
          18,
          8,
          3,
          6,
          18,
          9,
          13,
          7,
          10,
          7,
          7,
          8,
          6,
          18,
          9,
          11,
          9,
          6,
          11,
          16,
          9,
          13,
          6,
          3,
          10,
          13,
          12,
          10,
          2,
          1,
          7,
          16,
          12,
          10,
          9,
          11,
          7,
          9,
          13,
          12,
          15,
          9,
          5,
          4,
          12,
          15,
          6,
          4,
          8,
          5,
          4,
          3
         ],
         "type": "scatter",
         "x": [
          "2010-03-29",
          "2010-04-04",
          "2010-04-15",
          "2010-04-16",
          "2010-04-19",
          "2010-04-20",
          "2010-04-21",
          "2010-04-22",
          "2010-04-30",
          "2010-05-04",
          "2010-05-16",
          "2010-05-17",
          "2010-05-19",
          "2010-06-11",
          "2010-06-17",
          "2010-06-18",
          "2010-06-27",
          "2010-06-28",
          "2010-07-19",
          "2010-07-20",
          "2010-07-26",
          "2010-08-06",
          "2010-08-09",
          "2010-08-13",
          "2010-08-14",
          "2010-08-16",
          "2010-08-17",
          "2010-08-18",
          "2010-08-31",
          "2010-09-01",
          "2010-09-07",
          "2010-09-12",
          "2010-09-13",
          "2010-09-25",
          "2010-09-29",
          "2010-10-03",
          "2010-10-04",
          "2010-10-05",
          "2010-10-07",
          "2010-10-08",
          "2010-10-12",
          "2010-10-13",
          "2010-10-14",
          "2010-10-15",
          "2010-10-16",
          "2010-10-17",
          "2010-10-18",
          "2010-10-19",
          "2010-10-20",
          "2010-10-21",
          "2010-10-22",
          "2010-10-23",
          "2010-10-24",
          "2010-10-25",
          "2010-10-26",
          "2010-10-27",
          "2010-10-28",
          "2010-11-01",
          "2010-11-02",
          "2010-11-04",
          "2010-11-05",
          "2010-11-06",
          "2010-11-07",
          "2010-11-08",
          "2010-11-09",
          "2010-11-10",
          "2010-11-11",
          "2010-11-12",
          "2010-11-13",
          "2010-11-14",
          "2010-11-18",
          "2010-11-26",
          "2010-11-27",
          "2010-11-28",
          "2010-11-29",
          "2010-11-30",
          "2010-12-01",
          "2010-12-02",
          "2010-12-03",
          "2010-12-04",
          "2010-12-05",
          "2010-12-06",
          "2010-12-07",
          "2010-12-12",
          "2010-12-13",
          "2010-12-15",
          "2010-12-16",
          "2010-12-17",
          "2010-12-18",
          "2010-12-19",
          "2010-12-20",
          "2010-12-21",
          "2010-12-22",
          "2010-12-23",
          "2010-12-25",
          "2010-12-26",
          "2010-12-27",
          "2010-12-28",
          "2010-12-29",
          "2010-12-30",
          "2010-12-31",
          "2011-01-03",
          "2011-01-04",
          "2011-01-05",
          "2011-01-06",
          "2011-01-07",
          "2011-01-10",
          "2011-01-11",
          "2011-01-14",
          "2011-01-21",
          "2011-01-23",
          "2011-01-26",
          "2011-02-01",
          "2011-02-02",
          "2011-02-03",
          "2011-02-05",
          "2011-02-08",
          "2011-02-09",
          "2011-02-10",
          "2011-02-11",
          "2011-02-13",
          "2011-02-14",
          "2011-02-16",
          "2011-02-27",
          "2011-02-28",
          "2011-03-01",
          "2011-03-06",
          "2011-03-07",
          "2011-03-08",
          "2011-03-09",
          "2011-03-29",
          "2011-03-30",
          "2011-03-31",
          "2011-04-01",
          "2011-04-02",
          "2011-04-03",
          "2011-04-13",
          "2011-04-19",
          "2011-04-22",
          "2011-04-26",
          "2011-04-27",
          "2011-04-28",
          "2011-05-03",
          "2011-05-04",
          "2011-05-09",
          "2011-05-13",
          "2011-05-17",
          "2011-05-19",
          "2011-05-20",
          "2011-05-22",
          "2011-05-23",
          "2011-05-24",
          "2011-05-26",
          "2011-05-27",
          "2011-05-29",
          "2011-05-30",
          "2011-05-31",
          "2011-06-01",
          "2011-06-02",
          "2011-06-05",
          "2011-06-07",
          "2011-06-09",
          "2011-06-11",
          "2011-06-17",
          "2011-06-20",
          "2011-06-23",
          "2011-06-24",
          "2011-06-25",
          "2011-06-27",
          "2011-06-28",
          "2011-06-29",
          "2011-07-07",
          "2011-07-09",
          "2011-07-10",
          "2011-07-12",
          "2011-07-13",
          "2011-07-14",
          "2011-07-15",
          "2011-07-17",
          "2011-07-18",
          "2011-07-21",
          "2011-07-22",
          "2011-07-31",
          "2011-08-01",
          "2011-08-02",
          "2011-08-03",
          "2011-08-10",
          "2011-08-27",
          "2011-08-29",
          "2011-08-30",
          "2011-08-31",
          "2011-09-26",
          "2011-09-27",
          "2011-10-01",
          "2011-10-09",
          "2011-10-14",
          "2011-10-17",
          "2011-10-30",
          "2011-11-02",
          "2011-11-04",
          "2011-11-08",
          "2011-11-09",
          "2011-11-14",
          "2011-11-22",
          "2011-11-30",
          "2011-12-01",
          "2011-12-03",
          "2011-12-14",
          "2011-12-15",
          "2012-01-05",
          "2012-01-09",
          "2012-01-14",
          "2012-01-26",
          "2012-01-31",
          "2012-02-06",
          "2012-02-07",
          "2012-02-09",
          "2012-02-10",
          "2012-02-11",
          "2012-02-12",
          "2012-02-13",
          "2012-02-20",
          "2012-02-22",
          "2012-02-24",
          "2012-03-01",
          "2012-03-06",
          "2012-03-17",
          "2012-03-23",
          "2012-03-29",
          "2012-03-30",
          "2012-04-05",
          "2012-04-06",
          "2012-04-09",
          "2012-04-10",
          "2012-04-12",
          "2012-04-17",
          "2012-04-20",
          "2012-04-23",
          "2012-04-24",
          "2012-05-06",
          "2012-05-07",
          "2012-05-15",
          "2012-05-16",
          "2012-05-18",
          "2012-05-19",
          "2012-05-20",
          "2012-05-22",
          "2012-05-26",
          "2012-05-31",
          "2012-06-04",
          "2012-06-06",
          "2012-06-07",
          "2012-06-08",
          "2012-06-09",
          "2012-06-11",
          "2012-06-12",
          "2012-06-13",
          "2012-06-14",
          "2012-06-16",
          "2012-06-17",
          "2012-06-20",
          "2012-06-22",
          "2012-06-29",
          "2012-06-30",
          "2012-07-01",
          "2012-07-02",
          "2012-07-06",
          "2012-07-07",
          "2012-07-08",
          "2012-07-10",
          "2012-07-12",
          "2012-07-13",
          "2012-07-17",
          "2012-07-18",
          "2012-07-19",
          "2012-07-22",
          "2012-07-23",
          "2012-07-24",
          "2012-07-25",
          "2012-07-26",
          "2012-07-27",
          "2012-07-29",
          "2012-07-30",
          "2012-07-31",
          "2012-08-01",
          "2012-08-02",
          "2012-08-03",
          "2012-08-04",
          "2012-08-05",
          "2012-08-06",
          "2012-08-08",
          "2012-08-09",
          "2012-08-10",
          "2012-08-11",
          "2012-08-12",
          "2012-08-13",
          "2012-08-14",
          "2012-08-17",
          "2012-08-19",
          "2012-08-20",
          "2012-08-21",
          "2012-08-22",
          "2012-08-23",
          "2012-08-24",
          "2012-08-25",
          "2012-08-26",
          "2012-08-27",
          "2012-08-28",
          "2012-08-29",
          "2012-08-30",
          "2012-08-31",
          "2012-09-01",
          "2012-09-02",
          "2012-09-03",
          "2012-09-04",
          "2012-09-05",
          "2012-09-06",
          "2012-09-07",
          "2012-09-08",
          "2012-09-10",
          "2012-09-11",
          "2012-09-12",
          "2012-09-13",
          "2012-09-14",
          "2012-09-16",
          "2012-09-17",
          "2012-09-19",
          "2012-09-21",
          "2012-09-22",
          "2012-09-23",
          "2012-09-24",
          "2012-09-25",
          "2012-09-26",
          "2012-09-27",
          "2012-09-28",
          "2012-09-29",
          "2012-09-30",
          "2012-10-01",
          "2012-10-02",
          "2012-10-03",
          "2012-10-04",
          "2012-10-05",
          "2012-10-06",
          "2012-10-07",
          "2012-10-08",
          "2012-10-09",
          "2012-10-10",
          "2012-10-11",
          "2012-10-12",
          "2012-10-13",
          "2012-10-14",
          "2012-10-15",
          "2012-10-16",
          "2012-10-18",
          "2012-10-19",
          "2012-10-20",
          "2012-10-21",
          "2012-10-22",
          "2012-10-23",
          "2012-10-24",
          "2012-10-25",
          "2012-10-26",
          "2012-10-27",
          "2012-10-28",
          "2012-10-29",
          "2012-10-30",
          "2012-10-31",
          "2012-11-01",
          "2012-11-02",
          "2012-11-03",
          "2012-11-04",
          "2012-11-05",
          "2012-11-06",
          "2012-11-07",
          "2012-11-08",
          "2012-11-09",
          "2012-11-10",
          "2012-11-11",
          "2012-11-12",
          "2012-11-13",
          "2012-11-14",
          "2012-11-15",
          "2012-11-16",
          "2012-11-17",
          "2012-11-18",
          "2012-11-19",
          "2012-11-20",
          "2012-11-21",
          "2012-11-26",
          "2012-11-27",
          "2012-11-28",
          "2012-11-29",
          "2012-12-01",
          "2012-12-02",
          "2012-12-04",
          "2012-12-05",
          "2012-12-06",
          "2012-12-07",
          "2012-12-08",
          "2012-12-10",
          "2012-12-11",
          "2012-12-13",
          "2012-12-14",
          "2012-12-18",
          "2012-12-19",
          "2012-12-20",
          "2012-12-21",
          "2012-12-22",
          "2012-12-24",
          "2012-12-25",
          "2012-12-27",
          "2012-12-28",
          "2012-12-29",
          "2012-12-30",
          "2012-12-31",
          "2013-01-01",
          "2013-01-02",
          "2013-01-03",
          "2013-01-05",
          "2013-01-06",
          "2013-01-07",
          "2013-01-08",
          "2013-01-09",
          "2013-01-10",
          "2013-01-11",
          "2013-01-12",
          "2013-01-13",
          "2013-01-14",
          "2013-01-15",
          "2013-01-16",
          "2013-01-17",
          "2013-01-18",
          "2013-01-19",
          "2013-01-20",
          "2013-01-21",
          "2013-01-22",
          "2013-01-23",
          "2013-01-24",
          "2013-01-25",
          "2013-01-26",
          "2013-01-27",
          "2013-01-28",
          "2013-01-29",
          "2013-01-30",
          "2013-01-31",
          "2013-02-01",
          "2013-02-02",
          "2013-02-03",
          "2013-02-04",
          "2013-02-05",
          "2013-02-06",
          "2013-02-07",
          "2013-02-08",
          "2013-02-09",
          "2013-02-10",
          "2013-02-11",
          "2013-02-12",
          "2013-02-13",
          "2013-02-14",
          "2013-02-15",
          "2013-02-16",
          "2013-02-17",
          "2013-02-18",
          "2013-02-19",
          "2013-02-20",
          "2013-02-21",
          "2013-02-22",
          "2013-02-23",
          "2013-02-24",
          "2013-02-25",
          "2013-02-26",
          "2013-02-27",
          "2013-02-28",
          "2013-03-01",
          "2013-03-03",
          "2013-03-04",
          "2013-03-05",
          "2013-03-08",
          "2013-03-09",
          "2013-03-10",
          "2013-03-11",
          "2013-03-12",
          "2013-03-13",
          "2013-03-14",
          "2013-03-15",
          "2013-03-16",
          "2013-03-17",
          "2013-03-18",
          "2013-03-19",
          "2013-03-20",
          "2013-03-21",
          "2013-03-22",
          "2013-03-23",
          "2013-03-24",
          "2013-03-25",
          "2013-03-26",
          "2013-03-27",
          "2013-03-28",
          "2013-03-29",
          "2013-03-30",
          "2013-03-31",
          "2013-04-01",
          "2013-04-02",
          "2013-04-03",
          "2013-04-04",
          "2013-04-05",
          "2013-04-06",
          "2013-04-07",
          "2013-04-08",
          "2013-04-09",
          "2013-04-10",
          "2013-04-11",
          "2013-04-12",
          "2013-04-13",
          "2013-04-14",
          "2013-04-15",
          "2013-04-16",
          "2013-04-17",
          "2013-04-18",
          "2013-04-19",
          "2013-04-20",
          "2013-04-21",
          "2013-04-22",
          "2013-04-23",
          "2013-04-24",
          "2013-04-25",
          "2013-04-26",
          "2013-04-28",
          "2013-04-29",
          "2013-04-30",
          "2013-05-01",
          "2013-05-02",
          "2013-05-03",
          "2013-05-04",
          "2013-05-05",
          "2013-05-06",
          "2013-05-07",
          "2013-05-08",
          "2013-05-09",
          "2013-05-10",
          "2013-05-11",
          "2013-05-12",
          "2013-05-14",
          "2013-05-15",
          "2013-05-16",
          "2013-05-17",
          "2013-05-18",
          "2013-05-19",
          "2013-05-20",
          "2013-05-21",
          "2013-05-22",
          "2013-05-24",
          "2013-05-26",
          "2013-05-28",
          "2013-05-29",
          "2013-05-30",
          "2013-05-31",
          "2013-06-01",
          "2013-06-02",
          "2013-06-03",
          "2013-06-04",
          "2013-06-05",
          "2013-06-06",
          "2013-06-07",
          "2013-06-08",
          "2013-06-09",
          "2013-06-10",
          "2013-06-11",
          "2013-06-12",
          "2013-06-13",
          "2013-06-14",
          "2013-06-15",
          "2013-06-16",
          "2013-06-17",
          "2013-06-18",
          "2013-06-19",
          "2013-06-20",
          "2013-06-21",
          "2013-06-22",
          "2013-06-23",
          "2013-06-24",
          "2013-06-25",
          "2013-06-26",
          "2013-06-27",
          "2013-06-28",
          "2013-06-29",
          "2013-06-30",
          "2013-07-01",
          "2013-07-02",
          "2013-07-03",
          "2013-07-04",
          "2013-07-05",
          "2013-07-06",
          "2013-07-07",
          "2013-07-08",
          "2013-07-09",
          "2013-07-10",
          "2013-07-11",
          "2013-07-12",
          "2013-07-13",
          "2013-07-14",
          "2013-07-15",
          "2013-07-16",
          "2013-07-17",
          "2013-07-18",
          "2013-07-19",
          "2013-07-21",
          "2013-07-22",
          "2013-07-23",
          "2013-07-24",
          "2013-07-25",
          "2013-07-26",
          "2013-07-27",
          "2013-07-28",
          "2013-07-29",
          "2013-07-30",
          "2013-07-31",
          "2013-08-01",
          "2013-08-02",
          "2013-08-03",
          "2013-08-04",
          "2013-08-05",
          "2013-08-06",
          "2013-08-07",
          "2013-08-08",
          "2013-08-09",
          "2013-08-10",
          "2013-08-11",
          "2013-08-12",
          "2013-08-13",
          "2013-08-14",
          "2013-08-15",
          "2013-08-16",
          "2013-08-17",
          "2013-08-18",
          "2013-08-19",
          "2013-08-20",
          "2013-08-21",
          "2013-08-22",
          "2013-08-23",
          "2013-08-24",
          "2013-08-26",
          "2013-08-27",
          "2013-08-28",
          "2013-08-29",
          "2013-08-30",
          "2013-08-31",
          "2013-09-01",
          "2013-09-02",
          "2013-09-03",
          "2013-09-04",
          "2013-09-05",
          "2013-09-06",
          "2013-09-07",
          "2013-09-08",
          "2013-09-09",
          "2013-09-10",
          "2013-09-11",
          "2013-09-12",
          "2013-09-13",
          "2013-09-14",
          "2013-09-15",
          "2013-09-16",
          "2013-09-17",
          "2013-09-18",
          "2013-09-19",
          "2013-09-20",
          "2013-09-21",
          "2013-09-22",
          "2013-09-23",
          "2013-09-24",
          "2013-09-25",
          "2013-09-26",
          "2013-09-27",
          "2013-09-28",
          "2013-09-29",
          "2013-09-30",
          "2013-10-01",
          "2013-10-02",
          "2013-10-03",
          "2013-10-04",
          "2013-10-05",
          "2013-10-06",
          "2013-10-07",
          "2013-10-08",
          "2013-10-09",
          "2013-10-10",
          "2013-10-11",
          "2013-10-12",
          "2013-10-13",
          "2013-10-14",
          "2013-10-15",
          "2013-10-16",
          "2013-10-17",
          "2013-10-18",
          "2013-10-19",
          "2013-10-20",
          "2013-10-21",
          "2013-10-22",
          "2013-10-23",
          "2013-10-24",
          "2013-10-25",
          "2013-10-26",
          "2013-10-27",
          "2013-10-28",
          "2013-10-29",
          "2013-10-30",
          "2013-10-31",
          "2013-11-01",
          "2013-11-02",
          "2013-11-03",
          "2013-11-04",
          "2013-11-05",
          "2013-11-06",
          "2013-11-07",
          "2013-11-08",
          "2013-11-09",
          "2013-11-10",
          "2013-11-11",
          "2013-11-12",
          "2013-11-13",
          "2013-11-14",
          "2013-11-15",
          "2013-11-16",
          "2013-11-17",
          "2013-11-18",
          "2013-11-19",
          "2013-11-20",
          "2013-11-21",
          "2013-11-22",
          "2013-11-23",
          "2013-11-24",
          "2013-11-25",
          "2013-11-26",
          "2013-11-27",
          "2013-11-28",
          "2013-11-29",
          "2013-11-30",
          "2013-12-01",
          "2013-12-02",
          "2013-12-03",
          "2013-12-04",
          "2013-12-05",
          "2013-12-06",
          "2013-12-07",
          "2013-12-08",
          "2013-12-09",
          "2013-12-10",
          "2013-12-11",
          "2013-12-12",
          "2013-12-13",
          "2013-12-14",
          "2013-12-15",
          "2013-12-16",
          "2013-12-17",
          "2013-12-18",
          "2013-12-19",
          "2013-12-20",
          "2013-12-21",
          "2013-12-22",
          "2013-12-23",
          "2013-12-24",
          "2013-12-25",
          "2013-12-26",
          "2013-12-27",
          "2013-12-28",
          "2013-12-29",
          "2013-12-30",
          "2013-12-31",
          "2014-01-01",
          "2014-01-02",
          "2014-01-03",
          "2014-01-04",
          "2014-01-05",
          "2014-01-06",
          "2014-01-07",
          "2014-01-08",
          "2014-01-09",
          "2014-01-10",
          "2014-01-11",
          "2014-01-12",
          "2014-01-13",
          "2014-01-14",
          "2014-01-15",
          "2014-01-16",
          "2014-01-17",
          "2014-01-18",
          "2014-01-19",
          "2014-01-20",
          "2014-01-21",
          "2014-01-22",
          "2014-01-23",
          "2014-01-24",
          "2014-01-26",
          "2014-01-27",
          "2014-01-28",
          "2014-01-29",
          "2014-01-30",
          "2014-02-01",
          "2014-02-03",
          "2014-02-04",
          "2014-02-05",
          "2014-02-06",
          "2014-02-07",
          "2014-02-08",
          "2014-02-09",
          "2014-02-10",
          "2014-02-11",
          "2014-02-12",
          "2014-02-13",
          "2014-02-14",
          "2014-02-16",
          "2014-02-17",
          "2014-02-18",
          "2014-02-19",
          "2014-02-20",
          "2014-02-21",
          "2014-02-22",
          "2014-02-23",
          "2014-02-24",
          "2014-02-25",
          "2014-02-26",
          "2014-02-27",
          "2014-02-28",
          "2014-03-01",
          "2014-03-02",
          "2014-03-03",
          "2014-03-04",
          "2014-03-05",
          "2014-03-06",
          "2014-03-07",
          "2014-03-08",
          "2014-03-09",
          "2014-03-10",
          "2014-03-11",
          "2014-03-12",
          "2014-03-13",
          "2014-03-14",
          "2014-03-15",
          "2014-03-16",
          "2014-03-17",
          "2014-03-18",
          "2014-03-19",
          "2014-03-20",
          "2014-03-21",
          "2014-03-22",
          "2014-03-23",
          "2014-03-24",
          "2014-03-25",
          "2014-03-26",
          "2014-03-27",
          "2014-03-28",
          "2014-03-29",
          "2014-03-30",
          "2014-03-31",
          "2014-04-01",
          "2014-04-02",
          "2014-04-03",
          "2014-04-04",
          "2014-04-05",
          "2014-04-06",
          "2014-04-07",
          "2014-04-08",
          "2014-04-09",
          "2014-04-10",
          "2014-04-11",
          "2014-04-12",
          "2014-04-13",
          "2014-04-14",
          "2014-04-15",
          "2014-04-16",
          "2014-04-17",
          "2014-04-18",
          "2014-04-19",
          "2014-04-20",
          "2014-04-21",
          "2014-04-22",
          "2014-04-23",
          "2014-04-24",
          "2014-04-25",
          "2014-04-26",
          "2014-04-27",
          "2014-04-28",
          "2014-04-29",
          "2014-04-30",
          "2014-05-01",
          "2014-05-02",
          "2014-05-03",
          "2014-05-04",
          "2014-05-05",
          "2014-05-06",
          "2014-05-07",
          "2014-05-08",
          "2014-05-09",
          "2014-05-10",
          "2014-05-11",
          "2014-05-12",
          "2014-05-13",
          "2014-05-14",
          "2014-05-15",
          "2014-05-16",
          "2014-05-17",
          "2014-05-18",
          "2014-05-19",
          "2014-05-20",
          "2014-05-21",
          "2014-05-22",
          "2014-05-23",
          "2014-05-25",
          "2014-05-26",
          "2014-05-27",
          "2014-05-28",
          "2014-05-29",
          "2014-05-30",
          "2014-05-31",
          "2014-06-01",
          "2014-06-02",
          "2014-06-03",
          "2014-06-04",
          "2014-06-05",
          "2014-06-06",
          "2014-06-07",
          "2014-06-08",
          "2014-06-09",
          "2014-06-10",
          "2014-06-11",
          "2014-06-12",
          "2014-06-13",
          "2014-06-14",
          "2014-06-15",
          "2014-06-16",
          "2014-06-17",
          "2014-06-18",
          "2014-06-19",
          "2014-06-20",
          "2014-06-21",
          "2014-06-22",
          "2014-06-23",
          "2014-06-24",
          "2014-06-25",
          "2014-06-26",
          "2014-06-27",
          "2014-06-28",
          "2014-06-29",
          "2014-06-30",
          "2014-07-01",
          "2014-07-02",
          "2014-07-03",
          "2014-07-04",
          "2014-07-05",
          "2014-07-07",
          "2014-07-08",
          "2014-07-09",
          "2014-07-10",
          "2014-07-11",
          "2014-07-12",
          "2014-07-14",
          "2014-07-15",
          "2014-07-16",
          "2014-07-17",
          "2014-07-18",
          "2014-07-19",
          "2014-07-20",
          "2014-07-21",
          "2014-07-22",
          "2014-07-23",
          "2014-07-24",
          "2014-07-25",
          "2014-07-26",
          "2014-07-27",
          "2014-07-28",
          "2014-07-29",
          "2014-07-30",
          "2014-07-31",
          "2014-08-01",
          "2014-08-02",
          "2014-08-03",
          "2014-08-04",
          "2014-08-05",
          "2014-08-06",
          "2014-08-07",
          "2014-08-08",
          "2014-08-09",
          "2014-08-10",
          "2014-08-11",
          "2014-08-12",
          "2014-08-13",
          "2014-08-14",
          "2014-08-15",
          "2014-08-16",
          "2014-08-17",
          "2014-08-18",
          "2014-08-19",
          "2014-08-20",
          "2014-08-21",
          "2014-08-22",
          "2014-08-23",
          "2014-08-24",
          "2014-08-25",
          "2014-08-26",
          "2014-08-27",
          "2014-08-28",
          "2014-08-29",
          "2014-08-30",
          "2014-08-31",
          "2014-09-02",
          "2014-09-03",
          "2014-09-04",
          "2014-09-05",
          "2014-09-06",
          "2014-09-07",
          "2014-09-08",
          "2014-09-09",
          "2014-09-10",
          "2014-09-11",
          "2014-09-12",
          "2014-09-13",
          "2014-09-14",
          "2014-09-15",
          "2014-09-16",
          "2014-09-17",
          "2014-09-18",
          "2014-09-19",
          "2014-09-20",
          "2014-09-21",
          "2014-09-22",
          "2014-09-23",
          "2014-09-24",
          "2014-09-25",
          "2014-09-26",
          "2014-09-27",
          "2014-09-28",
          "2014-09-29",
          "2014-09-30",
          "2014-10-01",
          "2014-10-02",
          "2014-10-03",
          "2014-10-05",
          "2014-10-06",
          "2014-10-07",
          "2014-10-08",
          "2014-10-09",
          "2014-10-10",
          "2014-10-11",
          "2014-10-12",
          "2014-10-13",
          "2014-10-14",
          "2014-10-15",
          "2014-10-16",
          "2014-10-17",
          "2014-10-18",
          "2014-10-19",
          "2014-10-20",
          "2014-10-21",
          "2014-10-22",
          "2014-10-23",
          "2014-10-24",
          "2014-10-25",
          "2014-10-26",
          "2014-10-27",
          "2014-10-28",
          "2014-10-29",
          "2014-10-30",
          "2014-10-31",
          "2014-11-01",
          "2014-11-02",
          "2014-11-03",
          "2014-11-04",
          "2014-11-05",
          "2014-11-06",
          "2014-11-07",
          "2014-11-08",
          "2014-11-09",
          "2014-11-10",
          "2014-11-11",
          "2014-11-12",
          "2014-11-13",
          "2014-11-14",
          "2014-11-15",
          "2014-11-16",
          "2014-11-17",
          "2014-11-18",
          "2014-11-19",
          "2014-11-20",
          "2014-11-21",
          "2014-11-22",
          "2014-11-24",
          "2014-11-25",
          "2014-11-26",
          "2014-11-27",
          "2014-11-28",
          "2014-11-29",
          "2014-11-30",
          "2014-12-01",
          "2014-12-02",
          "2014-12-03",
          "2014-12-04",
          "2014-12-05",
          "2014-12-06",
          "2014-12-08",
          "2014-12-09",
          "2014-12-10",
          "2014-12-11",
          "2014-12-12",
          "2014-12-14",
          "2014-12-15",
          "2014-12-16",
          "2014-12-17",
          "2014-12-18",
          "2014-12-19",
          "2014-12-20",
          "2014-12-21",
          "2014-12-22",
          "2014-12-23",
          "2014-12-24",
          "2014-12-25",
          "2014-12-26",
          "2014-12-27",
          "2014-12-29",
          "2014-12-30",
          "2014-12-31",
          "2015-01-01",
          "2015-01-02",
          "2015-01-04",
          "2015-01-05",
          "2015-01-06",
          "2015-01-07",
          "2015-01-08",
          "2015-01-09",
          "2015-01-10",
          "2015-01-11",
          "2015-01-12",
          "2015-01-13",
          "2015-01-14",
          "2015-01-15",
          "2015-01-16",
          "2015-01-17",
          "2015-01-18",
          "2015-01-19",
          "2015-01-20",
          "2015-01-21",
          "2015-01-22",
          "2015-01-23",
          "2015-01-24",
          "2015-01-25",
          "2015-01-26",
          "2015-01-27",
          "2015-01-28",
          "2015-01-29",
          "2015-01-30",
          "2015-01-31",
          "2015-02-01",
          "2015-02-02",
          "2015-02-03",
          "2015-02-04",
          "2015-02-05",
          "2015-02-06",
          "2015-02-07",
          "2015-02-08",
          "2015-02-09",
          "2015-02-10",
          "2015-02-11",
          "2015-02-12",
          "2015-02-13",
          "2015-02-14",
          "2015-02-15",
          "2015-02-16",
          "2015-02-17",
          "2015-02-18",
          "2015-02-19",
          "2015-02-20",
          "2015-02-21",
          "2015-02-22",
          "2015-02-23",
          "2015-02-24",
          "2015-02-25",
          "2015-02-26",
          "2015-02-27",
          "2015-02-28",
          "2015-03-01",
          "2015-03-02",
          "2015-03-03",
          "2015-03-04",
          "2015-03-05",
          "2015-03-06",
          "2015-03-07",
          "2015-03-08",
          "2015-03-09",
          "2015-03-10",
          "2015-03-11",
          "2015-03-12",
          "2015-03-13",
          "2015-03-14",
          "2015-03-15",
          "2015-03-16",
          "2015-03-17",
          "2015-03-18",
          "2015-03-19",
          "2015-03-20",
          "2015-03-21",
          "2015-03-22",
          "2015-03-23",
          "2015-03-24",
          "2015-03-25",
          "2015-03-26",
          "2015-03-27",
          "2015-03-28",
          "2015-03-29",
          "2015-03-30",
          "2015-03-31",
          "2015-04-01",
          "2015-04-02",
          "2015-04-03",
          "2015-04-04",
          "2015-04-05",
          "2015-04-06",
          "2015-04-07",
          "2015-04-08",
          "2015-04-09",
          "2015-04-10",
          "2015-04-11",
          "2015-04-12",
          "2015-04-13",
          "2015-04-14",
          "2015-04-15",
          "2015-04-16",
          "2015-04-17",
          "2015-04-18",
          "2015-04-19",
          "2015-04-20",
          "2015-04-21",
          "2015-04-22",
          "2015-04-23",
          "2015-04-24",
          "2015-04-25",
          "2015-04-26",
          "2015-04-27",
          "2015-04-28",
          "2015-04-29",
          "2015-04-30",
          "2015-05-01",
          "2015-05-02",
          "2015-05-03",
          "2015-05-04",
          "2015-05-05",
          "2015-05-06",
          "2015-05-07",
          "2015-05-08",
          "2015-05-09",
          "2015-05-10",
          "2015-05-11",
          "2015-05-12",
          "2015-05-13",
          "2015-05-14",
          "2015-05-15",
          "2015-05-16",
          "2015-05-17",
          "2015-05-18",
          "2015-05-19",
          "2015-05-20",
          "2015-05-21",
          "2015-05-22",
          "2015-05-23",
          "2015-05-24",
          "2015-05-25",
          "2015-05-26",
          "2015-05-27",
          "2015-05-28",
          "2015-05-29",
          "2015-05-30",
          "2015-05-31",
          "2015-06-01",
          "2015-06-02",
          "2015-06-03",
          "2015-06-04",
          "2015-06-05",
          "2015-06-06",
          "2015-06-07",
          "2015-06-08",
          "2015-06-09",
          "2015-06-10",
          "2015-06-11",
          "2015-06-12",
          "2015-06-13",
          "2015-06-14",
          "2015-06-15",
          "2015-06-16",
          "2015-06-17",
          "2015-06-18",
          "2015-06-19",
          "2015-06-20",
          "2015-06-21",
          "2015-06-22",
          "2015-06-23",
          "2015-06-24",
          "2015-06-25",
          "2015-06-26",
          "2015-06-27",
          "2015-06-28",
          "2015-06-29",
          "2015-06-30",
          "2015-07-01",
          "2015-07-02",
          "2015-07-03",
          "2015-07-04",
          "2015-07-05",
          "2015-07-06",
          "2015-07-07",
          "2015-07-08",
          "2015-07-09",
          "2015-07-10",
          "2015-07-11",
          "2015-07-13",
          "2015-07-14",
          "2015-07-15",
          "2015-07-16",
          "2015-07-17",
          "2015-07-18",
          "2015-07-19",
          "2015-07-20",
          "2015-07-21",
          "2015-07-22",
          "2015-07-23",
          "2015-07-24",
          "2015-07-25",
          "2015-07-26",
          "2015-07-27",
          "2015-07-28",
          "2015-07-29",
          "2015-07-30",
          "2015-07-31",
          "2015-08-01",
          "2015-08-02",
          "2015-08-03",
          "2015-08-04",
          "2015-08-05",
          "2015-08-06",
          "2015-08-07",
          "2015-08-08",
          "2015-08-09",
          "2015-08-10",
          "2015-08-11",
          "2015-08-12",
          "2015-08-13",
          "2015-08-14",
          "2015-08-15",
          "2015-08-16",
          "2015-08-17",
          "2015-08-18",
          "2015-08-19",
          "2015-08-20",
          "2015-08-21",
          "2015-08-22",
          "2015-08-23",
          "2015-08-24",
          "2015-08-25",
          "2015-08-26",
          "2015-08-27",
          "2015-08-28",
          "2015-08-29",
          "2015-08-30",
          "2015-08-31",
          "2015-09-01",
          "2015-09-02",
          "2015-09-03",
          "2015-09-04",
          "2015-09-05",
          "2015-09-07",
          "2015-09-08",
          "2015-09-09",
          "2015-09-10",
          "2015-09-11",
          "2015-09-12",
          "2015-09-13",
          "2015-09-14",
          "2015-09-15",
          "2015-09-16",
          "2015-09-17",
          "2015-09-18",
          "2015-09-19",
          "2015-09-20",
          "2015-09-21",
          "2015-09-22",
          "2015-09-23",
          "2015-09-24",
          "2015-09-25",
          "2015-09-27",
          "2015-09-28",
          "2015-09-29",
          "2015-09-30",
          "2015-10-01",
          "2015-10-02",
          "2015-10-03",
          "2015-10-04",
          "2015-10-05",
          "2015-10-06",
          "2015-10-07",
          "2015-10-08",
          "2015-10-09",
          "2015-10-10",
          "2015-10-12",
          "2015-10-13",
          "2015-10-14",
          "2015-10-15",
          "2015-10-16",
          "2015-10-17",
          "2015-10-18",
          "2015-10-19",
          "2015-10-20",
          "2015-10-21",
          "2015-10-22",
          "2015-10-23",
          "2015-10-24",
          "2015-10-25",
          "2015-10-26",
          "2015-10-27",
          "2015-10-28",
          "2015-10-29",
          "2015-10-30",
          "2015-10-31",
          "2015-11-01",
          "2015-11-02",
          "2015-11-03",
          "2015-11-04",
          "2015-11-05",
          "2015-11-06",
          "2015-11-07",
          "2015-11-08",
          "2015-11-09",
          "2015-11-10",
          "2015-11-11",
          "2015-11-12",
          "2015-11-13",
          "2015-11-14",
          "2015-11-15",
          "2015-11-16",
          "2015-11-17",
          "2015-11-18",
          "2015-11-19",
          "2015-11-20",
          "2015-11-21",
          "2015-11-22",
          "2015-11-23",
          "2015-11-24",
          "2015-11-25",
          "2015-11-26",
          "2015-11-27",
          "2015-11-28",
          "2015-11-29",
          "2015-11-30",
          "2015-12-01",
          "2015-12-02",
          "2015-12-03",
          "2015-12-04",
          "2015-12-05",
          "2015-12-06",
          "2015-12-07",
          "2015-12-08",
          "2015-12-09",
          "2015-12-10",
          "2015-12-11",
          "2015-12-12",
          "2015-12-13",
          "2015-12-14",
          "2015-12-15",
          "2015-12-16",
          "2015-12-17",
          "2015-12-18",
          "2015-12-19",
          "2015-12-20",
          "2015-12-21",
          "2015-12-22",
          "2015-12-23",
          "2015-12-24",
          "2015-12-26",
          "2015-12-28",
          "2015-12-29",
          "2015-12-30",
          "2015-12-31",
          "2016-01-01",
          "2016-01-02",
          "2016-01-03",
          "2016-01-04",
          "2016-01-05",
          "2016-01-06",
          "2016-01-07",
          "2016-01-08",
          "2016-01-09",
          "2016-01-10",
          "2016-01-11",
          "2016-01-12",
          "2016-01-13",
          "2016-01-14",
          "2016-01-15",
          "2016-01-16",
          "2016-01-17",
          "2016-01-18",
          "2016-01-19",
          "2016-01-20",
          "2016-01-21",
          "2016-01-22",
          "2016-01-23",
          "2016-01-24",
          "2016-01-25",
          "2016-01-26",
          "2016-01-27",
          "2016-01-28",
          "2016-01-29",
          "2016-01-30",
          "2016-01-31",
          "2016-02-01",
          "2016-02-02",
          "2016-02-03",
          "2016-02-04",
          "2016-02-05",
          "2016-02-06",
          "2016-02-07",
          "2016-02-08",
          "2016-02-09",
          "2016-02-10",
          "2016-02-11",
          "2016-02-12",
          "2016-02-13",
          "2016-02-14",
          "2016-02-15",
          "2016-02-16",
          "2016-02-17",
          "2016-02-18",
          "2016-02-19",
          "2016-02-20",
          "2016-02-21",
          "2016-02-22",
          "2016-02-23",
          "2016-02-24",
          "2016-02-25",
          "2016-02-26",
          "2016-02-27",
          "2016-02-28",
          "2016-02-29",
          "2016-03-01",
          "2016-03-02",
          "2016-03-03",
          "2016-03-04",
          "2016-03-05",
          "2016-03-06",
          "2016-03-07",
          "2016-03-08",
          "2016-03-09",
          "2016-03-10",
          "2016-03-11",
          "2016-03-12",
          "2016-03-13",
          "2016-03-14",
          "2016-03-15",
          "2016-03-16",
          "2016-03-17",
          "2016-03-18",
          "2016-03-19",
          "2016-03-20",
          "2016-03-21",
          "2016-03-22",
          "2016-03-23",
          "2016-03-24",
          "2016-03-25",
          "2016-03-26",
          "2016-03-27",
          "2016-03-28",
          "2016-03-29",
          "2016-03-30",
          "2016-03-31",
          "2016-04-01",
          "2016-04-02",
          "2016-04-03",
          "2016-04-04",
          "2016-04-05",
          "2016-04-06",
          "2016-04-07",
          "2016-04-08",
          "2016-04-09",
          "2016-04-10",
          "2016-04-11",
          "2016-04-12",
          "2016-04-13",
          "2016-04-14",
          "2016-04-15",
          "2016-04-16",
          "2016-04-17",
          "2016-04-18",
          "2016-04-19",
          "2016-04-20",
          "2016-04-21",
          "2016-04-22",
          "2016-04-23",
          "2016-04-24",
          "2016-04-25",
          "2016-04-26",
          "2016-04-27",
          "2016-04-28",
          "2016-04-29",
          "2016-04-30",
          "2016-05-01",
          "2016-05-02",
          "2016-05-03",
          "2016-05-04",
          "2016-05-05",
          "2016-05-06",
          "2016-05-07",
          "2016-05-08",
          "2016-05-09",
          "2016-05-10",
          "2016-05-11",
          "2016-05-12",
          "2016-05-13",
          "2016-05-14",
          "2016-05-15",
          "2016-05-16",
          "2016-05-17",
          "2016-05-18",
          "2016-05-19",
          "2016-05-20",
          "2016-05-21",
          "2016-05-22",
          "2016-05-23",
          "2016-05-24",
          "2016-05-25",
          "2016-05-26",
          "2016-05-27",
          "2016-05-28",
          "2016-05-29",
          "2016-05-30",
          "2016-05-31",
          "2016-06-01",
          "2016-06-02",
          "2016-06-03",
          "2016-06-04",
          "2016-06-05",
          "2016-06-06",
          "2016-06-07",
          "2016-06-08",
          "2016-06-09",
          "2016-06-10",
          "2016-06-11",
          "2016-06-12",
          "2016-06-13",
          "2016-06-14",
          "2016-06-15",
          "2016-06-16",
          "2016-06-17",
          "2016-06-18",
          "2016-06-19",
          "2016-06-20",
          "2016-06-21",
          "2016-06-22",
          "2016-06-23",
          "2016-06-24",
          "2016-06-25",
          "2016-06-26",
          "2016-06-27",
          "2016-06-28",
          "2016-06-29",
          "2016-06-30",
          "2016-07-01",
          "2016-07-02",
          "2016-07-03",
          "2016-07-04",
          "2016-07-05",
          "2016-07-06",
          "2016-07-07",
          "2016-07-08",
          "2016-07-09",
          "2016-07-11",
          "2016-07-12",
          "2016-07-13",
          "2016-07-14",
          "2016-07-15",
          "2016-07-16",
          "2016-07-17",
          "2016-07-18",
          "2016-07-19",
          "2016-07-20",
          "2016-07-21",
          "2016-07-22",
          "2016-07-23",
          "2016-07-24",
          "2016-07-25",
          "2016-07-26",
          "2016-07-27",
          "2016-07-28",
          "2016-07-29",
          "2016-07-30",
          "2016-07-31",
          "2016-08-01",
          "2016-08-02",
          "2016-08-03",
          "2016-08-04",
          "2016-08-05",
          "2016-08-06",
          "2016-08-07",
          "2016-08-08",
          "2016-08-09",
          "2016-08-10",
          "2016-08-11",
          "2016-08-12",
          "2016-08-13",
          "2016-08-14",
          "2016-08-15",
          "2016-08-16",
          "2016-08-17",
          "2016-08-18",
          "2016-08-19",
          "2016-08-20",
          "2016-08-21",
          "2016-08-22",
          "2016-08-23",
          "2016-08-24",
          "2016-08-25",
          "2016-08-26",
          "2016-08-27",
          "2016-08-28",
          "2016-08-29",
          "2016-08-30",
          "2016-08-31",
          "2016-09-01",
          "2016-09-02",
          "2016-09-03",
          "2016-09-04",
          "2016-09-05",
          "2016-09-06",
          "2016-09-07",
          "2016-09-08",
          "2016-09-09",
          "2016-09-10",
          "2016-09-11",
          "2016-09-12",
          "2016-09-13",
          "2016-09-14",
          "2016-09-15",
          "2016-09-16",
          "2016-09-17",
          "2016-09-18",
          "2016-09-19",
          "2016-09-20",
          "2016-09-21",
          "2016-09-22",
          "2016-09-23",
          "2016-09-24",
          "2016-09-25",
          "2016-09-26",
          "2016-09-27",
          "2016-09-28",
          "2016-09-29",
          "2016-09-30",
          "2016-10-01",
          "2016-10-02",
          "2016-10-03",
          "2016-10-04",
          "2016-10-05",
          "2016-10-06",
          "2016-10-07",
          "2016-10-08",
          "2016-10-10",
          "2016-10-11",
          "2016-10-12",
          "2016-10-13",
          "2016-10-14",
          "2016-10-15",
          "2016-10-16",
          "2016-10-17",
          "2016-10-18",
          "2016-10-19",
          "2016-10-20",
          "2016-10-21",
          "2016-10-22",
          "2016-10-23",
          "2016-10-24",
          "2016-10-25",
          "2016-10-26",
          "2016-10-27",
          "2016-10-28",
          "2016-10-29",
          "2016-10-30",
          "2016-10-31",
          "2016-11-01",
          "2016-11-02",
          "2016-11-03",
          "2016-11-04",
          "2016-11-05",
          "2016-11-06",
          "2016-11-07",
          "2016-11-08",
          "2016-11-09",
          "2016-11-10",
          "2016-11-11",
          "2016-11-12",
          "2016-11-14",
          "2016-11-15",
          "2016-11-16",
          "2016-11-17",
          "2016-11-18",
          "2016-11-19",
          "2016-11-20",
          "2016-11-21",
          "2016-11-22",
          "2016-11-23",
          "2016-11-24",
          "2016-11-25",
          "2016-11-26",
          "2016-11-28",
          "2016-11-29",
          "2016-11-30",
          "2016-12-01",
          "2016-12-02",
          "2016-12-03",
          "2016-12-04",
          "2016-12-05",
          "2016-12-06",
          "2016-12-07",
          "2016-12-08",
          "2016-12-09",
          "2016-12-10",
          "2016-12-11",
          "2016-12-12",
          "2016-12-13",
          "2016-12-14",
          "2016-12-15",
          "2016-12-16",
          "2016-12-17",
          "2016-12-18",
          "2016-12-19",
          "2016-12-20",
          "2016-12-21",
          "2016-12-22",
          "2016-12-23",
          "2016-12-24",
          "2016-12-26",
          "2016-12-27",
          "2016-12-28",
          "2016-12-29",
          "2016-12-30",
          "2016-12-31",
          "2017-01-01",
          "2017-01-02",
          "2017-01-03",
          "2017-01-04",
          "2017-01-05",
          "2017-01-06",
          "2017-01-07",
          "2017-01-08",
          "2017-01-09",
          "2017-01-10",
          "2017-01-11",
          "2017-01-12",
          "2017-01-13",
          "2017-01-14",
          "2017-01-15",
          "2017-01-16",
          "2017-01-17",
          "2017-01-18",
          "2017-01-19",
          "2017-01-20",
          "2017-01-21",
          "2017-01-22",
          "2017-01-23",
          "2017-01-24",
          "2017-01-25",
          "2017-01-26",
          "2017-01-27",
          "2017-01-28",
          "2017-01-29",
          "2017-01-30",
          "2017-01-31",
          "2017-02-01",
          "2017-02-02",
          "2017-02-03",
          "2017-02-04",
          "2017-02-05",
          "2017-02-06",
          "2017-02-07",
          "2017-02-08",
          "2017-02-09",
          "2017-02-10",
          "2017-02-11",
          "2017-02-12",
          "2017-02-13",
          "2017-02-14",
          "2017-02-15",
          "2017-02-16",
          "2017-02-17",
          "2017-02-18",
          "2017-02-19",
          "2017-02-20",
          "2017-02-21",
          "2017-02-22",
          "2017-02-23",
          "2017-02-24",
          "2017-02-25",
          "2017-02-26",
          "2017-02-27",
          "2017-02-28",
          "2017-03-01",
          "2017-03-02",
          "2017-03-03",
          "2017-03-04",
          "2017-03-05",
          "2017-03-06",
          "2017-03-07",
          "2017-03-08",
          "2017-03-09",
          "2017-03-10",
          "2017-03-11",
          "2017-03-12",
          "2017-03-13",
          "2017-03-14",
          "2017-03-15",
          "2017-03-16",
          "2017-03-17",
          "2017-03-18",
          "2017-03-19",
          "2017-03-20",
          "2017-03-21",
          "2017-03-22",
          "2017-03-23",
          "2017-03-24",
          "2017-03-25",
          "2017-03-26",
          "2017-03-27",
          "2017-03-28",
          "2017-03-29",
          "2017-03-30",
          "2017-03-31",
          "2017-04-01",
          "2017-04-02",
          "2017-04-03",
          "2017-04-04",
          "2017-04-05",
          "2017-04-06",
          "2017-04-07",
          "2017-04-08",
          "2017-04-09",
          "2017-04-10",
          "2017-04-11",
          "2017-04-12",
          "2017-04-13",
          "2017-04-14",
          "2017-04-15",
          "2017-04-16",
          "2017-04-17",
          "2017-04-18",
          "2017-04-19",
          "2017-04-20",
          "2017-04-21",
          "2017-04-22",
          "2017-04-23",
          "2017-04-24",
          "2017-04-25",
          "2017-04-26",
          "2017-04-27",
          "2017-04-28",
          "2017-04-29",
          "2017-04-30",
          "2017-05-01",
          "2017-05-02",
          "2017-05-03",
          "2017-05-04",
          "2017-05-05",
          "2017-05-06",
          "2017-05-07",
          "2017-05-08",
          "2017-05-09",
          "2017-05-10",
          "2017-05-11",
          "2017-05-12",
          "2017-05-13",
          "2017-05-14",
          "2017-05-15",
          "2017-05-16",
          "2017-05-17",
          "2017-05-18",
          "2017-05-19",
          "2017-05-20",
          "2017-05-21",
          "2017-05-22",
          "2017-05-23",
          "2017-05-24",
          "2017-05-25",
          "2017-05-26",
          "2017-05-27",
          "2017-05-28",
          "2017-05-29",
          "2017-05-30",
          "2017-05-31",
          "2017-06-01",
          "2017-06-02",
          "2017-06-03",
          "2017-06-04",
          "2017-06-05",
          "2017-06-06",
          "2017-06-07",
          "2017-06-08",
          "2017-06-09",
          "2017-06-10",
          "2017-06-11",
          "2017-06-12",
          "2017-06-13",
          "2017-06-14",
          "2017-06-15",
          "2017-06-16",
          "2017-06-18",
          "2017-06-19",
          "2017-06-20",
          "2017-06-21",
          "2017-06-22",
          "2017-06-23",
          "2017-06-24",
          "2017-06-25",
          "2017-06-26",
          "2017-06-27",
          "2017-06-28",
          "2017-06-29",
          "2017-06-30",
          "2017-07-01",
          "2017-07-02",
          "2017-07-03",
          "2017-07-04",
          "2017-07-05",
          "2017-07-06",
          "2017-07-07",
          "2017-07-08",
          "2017-07-09",
          "2017-07-10",
          "2017-07-11",
          "2017-07-12",
          "2017-07-13",
          "2017-07-14",
          "2017-07-15",
          "2017-07-17",
          "2017-07-18",
          "2017-07-19",
          "2017-07-20",
          "2017-07-21",
          "2017-07-23",
          "2017-07-24",
          "2017-07-25",
          "2017-07-26",
          "2017-07-27",
          "2017-07-28",
          "2017-07-29",
          "2017-07-30",
          "2017-07-31",
          "2017-08-01",
          "2017-08-02",
          "2017-08-03",
          "2017-08-04",
          "2017-08-05",
          "2017-08-06",
          "2017-08-07",
          "2017-08-08",
          "2017-08-09",
          "2017-08-10",
          "2017-08-11",
          "2017-08-12",
          "2017-08-14",
          "2017-08-15",
          "2017-08-16",
          "2017-08-17",
          "2017-08-18",
          "2017-08-19",
          "2017-08-20",
          "2017-08-21",
          "2017-08-22",
          "2017-08-23",
          "2017-08-24",
          "2017-08-25",
          "2017-08-26",
          "2017-08-27",
          "2017-08-28",
          "2017-08-29",
          "2017-08-30",
          "2017-08-31",
          "2017-09-01",
          "2017-09-02",
          "2017-09-03",
          "2017-09-04",
          "2017-09-05",
          "2017-09-06",
          "2017-09-07",
          "2017-09-08",
          "2017-09-09",
          "2017-09-10",
          "2017-09-11",
          "2017-09-12",
          "2017-09-13",
          "2017-09-14",
          "2017-09-15",
          "2017-09-16",
          "2017-09-17",
          "2017-09-18",
          "2017-09-19",
          "2017-09-20",
          "2017-09-21",
          "2017-09-22",
          "2017-09-23",
          "2017-09-24",
          "2017-09-25",
          "2017-09-26",
          "2017-09-27",
          "2017-09-28",
          "2017-09-29",
          "2017-09-30",
          "2017-10-01",
          "2017-10-02",
          "2017-10-03",
          "2017-10-04",
          "2017-10-05",
          "2017-10-06",
          "2017-10-07",
          "2017-10-08",
          "2017-10-09",
          "2017-10-10",
          "2017-10-11",
          "2017-10-12",
          "2017-10-13",
          "2017-10-14",
          "2017-10-15",
          "2017-10-16",
          "2017-10-17",
          "2017-10-18",
          "2017-10-19",
          "2017-10-20",
          "2017-10-21",
          "2017-10-22",
          "2017-10-23",
          "2017-10-24",
          "2017-10-25",
          "2017-10-26",
          "2017-10-27",
          "2017-10-28",
          "2017-10-29",
          "2017-10-30",
          "2017-10-31",
          "2017-11-01",
          "2017-11-02",
          "2017-11-03",
          "2017-11-04",
          "2017-11-05",
          "2017-11-06",
          "2017-11-07",
          "2017-11-08",
          "2017-11-09",
          "2017-11-10",
          "2017-11-11",
          "2017-11-12",
          "2017-11-13",
          "2017-11-14",
          "2017-11-15",
          "2017-11-16",
          "2017-11-17",
          "2017-11-18",
          "2017-11-20",
          "2017-11-21",
          "2017-11-22",
          "2017-11-23",
          "2017-11-24",
          "2017-11-25",
          "2017-11-26",
          "2017-11-27",
          "2017-11-28",
          "2017-11-29",
          "2017-11-30",
          "2017-12-01",
          "2017-12-02",
          "2017-12-03",
          "2017-12-04",
          "2017-12-05",
          "2017-12-06",
          "2017-12-07",
          "2017-12-08",
          "2017-12-09",
          "2017-12-11",
          "2017-12-12",
          "2017-12-13",
          "2017-12-14",
          "2017-12-15",
          "2017-12-16",
          "2017-12-17",
          "2017-12-18",
          "2017-12-19",
          "2017-12-20",
          "2017-12-21",
          "2017-12-22",
          "2017-12-23",
          "2017-12-24",
          "2017-12-25",
          "2017-12-26",
          "2017-12-27",
          "2017-12-28",
          "2017-12-29",
          "2017-12-30",
          "2017-12-31",
          "2018-01-01",
          "2018-01-02",
          "2018-01-03",
          "2018-01-04",
          "2018-01-05",
          "2018-01-06",
          "2018-01-07",
          "2018-01-08",
          "2018-01-09",
          "2018-01-10",
          "2018-01-11",
          "2018-01-12",
          "2018-01-13",
          "2018-01-14",
          "2018-01-15",
          "2018-01-16",
          "2018-01-17",
          "2018-01-18",
          "2018-01-19",
          "2018-01-20",
          "2018-01-21",
          "2018-01-22",
          "2018-01-23",
          "2018-01-24",
          "2018-01-25",
          "2018-01-26",
          "2018-01-27",
          "2018-01-28",
          "2018-01-29",
          "2018-01-30",
          "2018-01-31",
          "2018-02-01",
          "2018-02-02",
          "2018-02-03",
          "2018-02-04",
          "2018-02-05",
          "2018-02-06",
          "2018-02-07",
          "2018-02-08",
          "2018-02-09",
          "2018-02-10",
          "2018-02-11",
          "2018-02-12",
          "2018-02-13",
          "2018-02-14",
          "2018-02-15",
          "2018-02-16",
          "2018-02-17",
          "2018-02-20",
          "2018-02-21",
          "2018-02-22",
          "2018-02-23",
          "2018-02-24",
          "2018-02-25",
          "2018-02-26",
          "2018-02-27",
          "2018-02-28",
          "2018-03-01",
          "2018-03-02",
          "2018-03-03",
          "2018-03-04",
          "2018-03-05",
          "2018-03-06",
          "2018-03-07",
          "2018-03-08",
          "2018-03-09",
          "2018-03-10",
          "2018-03-12",
          "2018-03-13",
          "2018-03-15",
          "2018-03-16",
          "2018-03-18",
          "2018-03-19",
          "2018-03-20",
          "2018-03-21",
          "2018-03-22",
          "2018-03-23",
          "2018-03-25",
          "2018-03-26",
          "2018-03-27",
          "2018-03-28",
          "2018-03-29",
          "2018-03-30",
          "2018-03-31",
          "2018-04-02",
          "2018-04-03",
          "2018-04-04",
          "2018-04-05",
          "2018-04-06",
          "2018-04-08",
          "2018-04-09",
          "2018-04-10",
          "2018-04-11",
          "2018-04-12",
          "2018-04-13",
          "2018-04-14",
          "2018-04-16",
          "2018-04-17",
          "2018-04-18",
          "2018-04-19",
          "2018-04-20",
          "2018-04-21",
          "2018-04-22",
          "2018-04-23",
          "2018-04-24",
          "2018-04-25",
          "2018-04-26",
          "2018-04-27",
          "2018-04-28",
          "2018-04-29",
          "2018-04-30",
          "2018-05-01",
          "2018-05-02",
          "2018-05-03",
          "2018-05-04",
          "2018-05-06",
          "2018-05-07",
          "2018-05-08",
          "2018-05-09",
          "2018-05-10",
          "2018-05-11",
          "2018-05-12",
          "2018-05-13",
          "2018-05-14",
          "2018-05-15",
          "2018-05-16",
          "2018-05-17",
          "2018-05-18",
          "2018-05-19",
          "2018-05-20",
          "2018-05-21",
          "2018-05-22",
          "2018-05-23",
          "2018-05-24",
          "2018-05-25",
          "2018-05-26",
          "2018-05-27",
          "2018-05-28",
          "2018-05-29",
          "2018-05-30",
          "2018-05-31",
          "2018-06-01",
          "2018-06-02",
          "2018-06-03",
          "2018-06-04",
          "2018-06-05",
          "2018-06-06",
          "2018-06-08",
          "2018-06-09",
          "2018-06-11",
          "2018-06-12",
          "2018-06-13",
          "2018-06-14",
          "2018-06-15",
          "2018-06-16",
          "2018-06-18",
          "2018-06-19",
          "2018-06-20",
          "2018-06-21",
          "2018-06-22",
          "2018-06-24",
          "2018-06-25",
          "2018-06-26",
          "2018-06-27",
          "2018-06-28",
          "2018-06-29",
          "2018-06-30",
          "2018-07-01",
          "2018-07-02",
          "2018-07-03",
          "2018-07-04",
          "2018-07-05",
          "2018-07-06",
          "2018-07-07",
          "2018-07-09",
          "2018-07-10",
          "2018-07-11",
          "2018-07-12",
          "2018-07-13",
          "2018-07-14",
          "2018-07-15",
          "2018-07-16",
          "2018-07-17",
          "2018-07-18",
          "2018-07-19",
          "2018-07-20",
          "2018-07-21",
          "2018-07-23",
          "2018-07-24",
          "2018-07-25",
          "2018-07-26",
          "2018-07-27",
          "2018-07-28",
          "2018-07-29",
          "2018-07-30",
          "2018-07-31",
          "2018-08-01",
          "2018-08-02",
          "2018-08-03",
          "2018-08-04",
          "2018-08-06",
          "2018-08-07",
          "2018-08-08",
          "2018-08-09",
          "2018-08-10",
          "2018-08-11",
          "2018-08-12",
          "2018-08-13",
          "2018-08-14",
          "2018-08-15",
          "2018-08-16",
          "2018-08-17",
          "2018-08-18",
          "2018-08-19",
          "2018-08-20",
          "2018-08-21",
          "2018-08-22",
          "2018-08-23",
          "2018-08-24",
          "2018-08-25",
          "2018-08-26",
          "2018-08-27",
          "2018-08-28",
          "2018-08-29",
          "2018-08-30",
          "2018-08-31",
          "2018-09-01",
          "2018-09-02",
          "2018-09-03",
          "2018-09-04",
          "2018-09-05",
          "2018-09-06",
          "2018-09-07",
          "2018-09-08",
          "2018-09-09",
          "2018-09-10",
          "2018-09-11",
          "2018-09-12",
          "2018-09-13",
          "2018-09-14",
          "2018-09-15",
          "2018-09-16",
          "2018-09-17",
          "2018-09-18",
          "2018-09-19",
          "2018-09-20",
          "2018-09-21",
          "2018-09-22",
          "2018-09-23",
          "2018-09-24",
          "2018-09-25",
          "2018-09-26",
          "2018-09-27",
          "2018-09-28",
          "2018-09-29",
          "2018-09-30",
          "2018-10-01",
          "2018-10-02",
          "2018-10-03",
          "2018-10-04",
          "2018-10-05",
          "2018-10-06",
          "2018-10-07",
          "2018-10-08",
          "2018-10-09",
          "2018-10-10",
          "2018-10-11",
          "2018-10-12",
          "2018-10-13",
          "2018-10-14",
          "2018-10-15",
          "2018-10-16",
          "2018-10-17",
          "2018-10-18",
          "2018-10-19",
          "2018-10-20",
          "2018-10-21",
          "2018-10-22",
          "2018-10-23",
          "2018-10-24",
          "2018-10-25",
          "2018-10-26",
          "2018-10-27",
          "2018-10-28",
          "2018-10-29",
          "2018-10-30",
          "2018-10-31",
          "2018-11-01",
          "2018-11-02",
          "2018-11-03",
          "2018-11-04",
          "2018-11-05",
          "2018-11-06",
          "2018-11-07",
          "2018-11-08",
          "2018-11-09",
          "2018-11-10",
          "2018-11-11",
          "2018-11-12",
          "2018-11-13",
          "2018-11-14",
          "2018-11-15",
          "2018-11-16",
          "2018-11-17",
          "2018-11-18",
          "2018-11-19",
          "2018-11-20",
          "2018-11-21",
          "2018-11-22",
          "2018-11-23",
          "2018-11-24",
          "2018-11-25",
          "2018-11-26",
          "2018-11-27",
          "2018-11-28",
          "2018-11-29",
          "2018-11-30",
          "2018-12-01",
          "2018-12-02",
          "2018-12-03",
          "2018-12-04",
          "2018-12-05",
          "2018-12-06",
          "2018-12-07",
          "2018-12-08",
          "2018-12-09",
          "2018-12-10",
          "2018-12-11",
          "2018-12-12",
          "2018-12-13",
          "2018-12-14",
          "2018-12-15",
          "2018-12-16",
          "2018-12-17",
          "2018-12-18",
          "2018-12-19",
          "2018-12-20",
          "2018-12-21",
          "2018-12-22",
          "2018-12-24",
          "2018-12-25",
          "2018-12-27",
          "2018-12-28",
          "2018-12-29",
          "2018-12-30",
          "2018-12-31",
          "2019-01-01",
          "2019-01-02",
          "2019-01-03",
          "2019-01-04",
          "2019-01-05",
          "2019-01-06",
          "2019-01-07",
          "2019-01-08",
          "2019-01-09",
          "2019-01-10",
          "2019-01-11",
          "2019-01-12",
          "2019-01-13",
          "2019-01-14",
          "2019-01-15",
          "2019-01-16",
          "2019-01-17",
          "2019-01-18",
          "2019-01-19",
          "2019-01-20",
          "2019-01-21",
          "2019-01-22",
          "2019-01-23",
          "2019-01-24",
          "2019-01-25",
          "2019-01-26",
          "2019-01-27",
          "2019-01-28",
          "2019-01-29",
          "2019-01-30",
          "2019-01-31",
          "2019-02-01",
          "2019-02-02",
          "2019-02-03",
          "2019-02-04",
          "2019-02-05",
          "2019-02-06",
          "2019-02-07",
          "2019-02-08",
          "2019-02-09",
          "2019-02-10",
          "2019-02-11",
          "2019-02-12",
          "2019-02-13",
          "2019-02-14",
          "2019-02-15",
          "2019-02-16",
          "2019-02-17",
          "2019-02-18",
          "2019-02-19",
          "2019-02-20",
          "2019-02-21",
          "2019-02-22",
          "2019-02-23",
          "2019-02-24",
          "2019-02-25",
          "2019-02-26",
          "2019-02-27",
          "2019-02-28",
          "2019-03-01",
          "2019-03-02",
          "2019-03-03",
          "2019-03-04",
          "2019-03-05",
          "2019-03-06",
          "2019-03-07",
          "2019-03-08",
          "2019-03-09",
          "2019-03-10",
          "2019-03-11",
          "2019-03-12",
          "2019-03-13",
          "2019-03-14",
          "2019-03-15",
          "2019-03-16",
          "2019-03-17",
          "2019-03-18",
          "2019-03-19",
          "2019-03-20",
          "2019-03-21",
          "2019-03-22",
          "2019-03-23",
          "2019-03-24",
          "2019-03-25",
          "2019-03-26",
          "2019-03-27",
          "2019-03-28",
          "2019-03-29",
          "2019-03-30",
          "2019-03-31",
          "2019-04-01",
          "2019-04-02",
          "2019-04-03",
          "2019-04-04",
          "2019-04-05",
          "2019-04-06",
          "2019-04-08",
          "2019-04-09",
          "2019-04-10",
          "2019-04-11",
          "2019-04-12",
          "2019-04-13",
          "2019-04-14",
          "2019-04-15",
          "2019-04-16",
          "2019-04-17",
          "2019-04-18",
          "2019-04-19",
          "2019-04-21",
          "2019-04-22",
          "2019-04-23",
          "2019-04-24",
          "2019-04-25",
          "2019-04-26",
          "2019-04-27",
          "2019-04-28",
          "2019-04-29",
          "2019-04-30",
          "2019-05-01",
          "2019-05-02",
          "2019-05-03",
          "2019-05-04",
          "2019-05-06",
          "2019-05-07",
          "2019-05-08",
          "2019-05-09",
          "2019-05-10",
          "2019-05-12",
          "2019-05-13",
          "2019-05-14",
          "2019-05-15",
          "2019-05-16",
          "2019-05-17",
          "2019-05-19",
          "2019-05-20",
          "2019-05-21",
          "2019-05-22",
          "2019-05-23",
          "2019-05-24",
          "2019-05-25",
          "2019-05-26",
          "2019-05-27",
          "2019-05-28",
          "2019-05-29",
          "2019-05-30",
          "2019-05-31",
          "2019-06-01",
          "2019-06-02",
          "2019-06-03",
          "2019-06-04",
          "2019-06-05",
          "2019-06-06",
          "2019-06-07",
          "2019-06-08",
          "2019-06-09",
          "2019-06-10",
          "2019-06-11",
          "2019-06-12",
          "2019-06-13",
          "2019-06-14",
          "2019-06-15",
          "2019-06-17",
          "2019-06-18",
          "2019-06-19",
          "2019-06-20",
          "2019-06-21",
          "2019-06-22",
          "2019-06-23",
          "2019-06-24",
          "2019-06-25",
          "2019-06-26",
          "2019-06-27",
          "2019-06-28",
          "2019-06-29",
          "2019-06-30",
          "2019-07-01",
          "2019-07-02",
          "2019-07-03",
          "2019-07-04",
          "2019-07-05",
          "2019-07-06",
          "2019-07-07",
          "2019-07-08",
          "2019-07-09",
          "2019-07-10",
          "2019-07-11",
          "2019-07-12",
          "2019-07-13",
          "2019-07-14",
          "2019-07-15",
          "2019-07-16",
          "2019-07-17",
          "2019-07-18",
          "2019-07-19",
          "2019-07-20",
          "2019-07-21",
          "2019-07-22",
          "2019-07-23",
          "2019-07-24",
          "2019-07-25",
          "2019-07-26",
          "2019-07-27",
          "2019-07-28",
          "2019-07-29",
          "2019-07-30",
          "2019-07-31",
          "2019-08-01",
          "2019-08-02",
          "2019-08-03",
          "2019-08-04",
          "2019-08-05",
          "2019-08-06",
          "2019-08-07",
          "2019-08-08",
          "2019-08-09",
          "2019-08-10",
          "2019-08-11",
          "2019-08-12",
          "2019-08-13",
          "2019-08-14",
          "2019-08-15",
          "2019-08-16",
          "2019-08-17",
          "2019-08-18",
          "2019-08-19",
          "2019-08-20",
          "2019-08-21",
          "2019-08-22",
          "2019-08-23",
          "2019-08-24",
          "2019-08-25",
          "2019-08-26",
          "2019-08-27",
          "2019-08-28",
          "2019-08-29",
          "2019-08-30",
          "2019-08-31",
          "2019-09-01",
          "2019-09-02",
          "2019-09-03",
          "2019-09-04",
          "2019-09-05",
          "2019-09-06",
          "2019-09-07",
          "2019-09-08",
          "2019-09-09",
          "2019-09-10",
          "2019-09-11",
          "2019-09-12",
          "2019-09-13",
          "2019-09-14",
          "2019-09-15",
          "2019-09-16",
          "2019-09-17",
          "2019-09-18",
          "2019-09-19",
          "2019-09-20",
          "2019-09-21",
          "2019-09-22",
          "2019-09-23",
          "2019-09-24",
          "2019-09-25",
          "2019-09-26",
          "2019-09-27",
          "2019-09-28",
          "2019-09-29",
          "2019-09-30",
          "2019-10-01",
          "2019-10-02",
          "2019-10-03",
          "2019-10-04",
          "2019-10-05",
          "2019-10-06",
          "2019-10-07",
          "2019-10-08",
          "2019-10-09",
          "2019-10-10",
          "2019-10-11",
          "2019-10-12",
          "2019-10-13",
          "2019-10-14",
          "2019-10-15",
          "2019-10-16",
          "2019-10-17",
          "2019-10-18",
          "2019-10-19",
          "2019-10-20",
          "2019-10-21",
          "2019-10-22",
          "2019-10-23",
          "2019-10-24",
          "2019-10-25",
          "2019-10-26",
          "2019-10-27",
          "2019-10-28",
          "2019-10-29",
          "2019-10-30",
          "2019-10-31",
          "2019-11-01",
          "2019-11-02",
          "2019-11-03",
          "2019-11-04",
          "2019-11-05",
          "2019-11-06",
          "2019-11-07",
          "2019-11-08",
          "2019-11-09",
          "2019-11-10",
          "2019-11-11",
          "2019-11-12",
          "2019-11-13",
          "2019-11-14",
          "2019-11-15",
          "2019-11-16",
          "2019-11-17",
          "2019-11-18",
          "2019-11-19",
          "2019-11-20",
          "2019-11-21",
          "2019-11-22",
          "2019-11-23",
          "2019-11-24",
          "2019-11-25",
          "2019-11-26",
          "2019-11-27",
          "2019-11-28",
          "2019-11-29",
          "2019-11-30",
          "2019-12-02",
          "2019-12-03",
          "2019-12-04",
          "2019-12-05",
          "2019-12-06",
          "2019-12-07",
          "2019-12-09",
          "2019-12-10",
          "2019-12-11",
          "2019-12-12",
          "2019-12-13",
          "2019-12-14",
          "2019-12-15",
          "2019-12-16",
          "2019-12-17",
          "2019-12-18",
          "2019-12-19",
          "2019-12-20",
          "2019-12-21",
          "2019-12-23",
          "2019-12-24"
         ],
         "y": [
          1,
          3,
          1,
          2,
          1,
          2,
          2,
          1,
          1,
          1,
          3,
          1,
          1,
          9,
          2,
          2,
          1,
          1,
          1,
          1,
          4,
          1,
          1,
          2,
          2,
          1,
          1,
          2,
          1,
          1,
          1,
          1,
          1,
          1,
          15,
          3,
          2,
          1,
          4,
          3,
          4,
          2,
          2,
          5,
          11,
          6,
          5,
          5,
          5,
          2,
          4,
          2,
          1,
          4,
          6,
          6,
          4,
          1,
          2,
          8,
          1,
          3,
          2,
          3,
          2,
          5,
          4,
          2,
          2,
          8,
          4,
          1,
          6,
          1,
          6,
          4,
          4,
          2,
          1,
          7,
          2,
          1,
          4,
          1,
          1,
          1,
          10,
          3,
          2,
          6,
          1,
          1,
          9,
          5,
          2,
          4,
          3,
          3,
          4,
          1,
          4,
          1,
          3,
          2,
          3,
          3,
          1,
          2,
          5,
          1,
          1,
          1,
          1,
          3,
          3,
          2,
          1,
          11,
          1,
          2,
          1,
          1,
          1,
          3,
          1,
          4,
          3,
          4,
          10,
          2,
          1,
          3,
          1,
          2,
          1,
          1,
          2,
          1,
          1,
          2,
          4,
          9,
          8,
          1,
          3,
          4,
          1,
          2,
          1,
          5,
          1,
          2,
          7,
          14,
          4,
          1,
          1,
          19,
          1,
          1,
          2,
          1,
          1,
          1,
          3,
          7,
          2,
          1,
          6,
          5,
          1,
          2,
          3,
          1,
          2,
          2,
          22,
          1,
          3,
          1,
          4,
          1,
          2,
          4,
          8,
          1,
          1,
          1,
          1,
          4,
          2,
          8,
          1,
          1,
          8,
          1,
          2,
          1,
          2,
          1,
          5,
          3,
          2,
          2,
          2,
          6,
          1,
          2,
          1,
          1,
          1,
          3,
          1,
          3,
          4,
          2,
          2,
          7,
          1,
          1,
          1,
          1,
          2,
          1,
          2,
          1,
          6,
          1,
          3,
          6,
          3,
          2,
          4,
          3,
          1,
          1,
          2,
          1,
          4,
          1,
          1,
          2,
          1,
          1,
          1,
          1,
          5,
          2,
          2,
          1,
          7,
          2,
          1,
          7,
          1,
          2,
          1,
          2,
          4,
          9,
          1,
          1,
          9,
          3,
          2,
          1,
          2,
          2,
          5,
          9,
          7,
          8,
          5,
          3,
          1,
          6,
          6,
          1,
          1,
          3,
          15,
          14,
          8,
          4,
          3,
          22,
          9,
          8,
          5,
          1,
          4,
          1,
          3,
          5,
          5,
          12,
          4,
          1,
          1,
          3,
          1,
          2,
          1,
          9,
          2,
          8,
          24,
          9,
          4,
          8,
          15,
          10,
          2,
          3,
          3,
          21,
          8,
          10,
          2,
          13,
          12,
          12,
          17,
          4,
          3,
          7,
          2,
          6,
          1,
          2,
          7,
          12,
          9,
          8,
          10,
          10,
          8,
          18,
          10,
          26,
          5,
          10,
          9,
          29,
          11,
          12,
          9,
          8,
          6,
          16,
          12,
          8,
          3,
          2,
          5,
          4,
          4,
          6,
          6,
          6,
          4,
          2,
          1,
          2,
          5,
          1,
          2,
          3,
          1,
          1,
          3,
          1,
          5,
          1,
          5,
          5,
          3,
          9,
          6,
          6,
          1,
          4,
          2,
          6,
          3,
          9,
          1,
          2,
          1,
          2,
          16,
          5,
          2,
          3,
          2,
          4,
          6,
          3,
          5,
          15,
          10,
          5,
          23,
          5,
          4,
          6,
          2,
          4,
          5,
          1,
          6,
          4,
          10,
          6,
          2,
          10,
          5,
          2,
          5,
          7,
          11,
          18,
          12,
          6,
          13,
          7,
          13,
          37,
          16,
          4,
          6,
          16,
          6,
          28,
          22,
          21,
          36,
          13,
          9,
          1,
          10,
          10,
          26,
          20,
          6,
          27,
          10,
          11,
          6,
          15,
          12,
          7,
          2,
          10,
          12,
          18,
          4,
          2,
          5,
          5,
          13,
          5,
          6,
          24,
          17,
          16,
          9,
          9,
          17,
          33,
          17,
          6,
          3,
          3,
          3,
          7,
          2,
          1,
          4,
          8,
          10,
          8,
          10,
          8,
          9,
          11,
          3,
          2,
          6,
          11,
          3,
          4,
          4,
          2,
          3,
          2,
          4,
          4,
          2,
          5,
          2,
          5,
          5,
          11,
          6,
          18,
          1,
          4,
          12,
          3,
          9,
          1,
          5,
          2,
          2,
          10,
          11,
          7,
          3,
          2,
          1,
          1,
          3,
          4,
          8,
          7,
          3,
          11,
          11,
          17,
          13,
          10,
          9,
          8,
          9,
          6,
          5,
          8,
          13,
          8,
          3,
          7,
          3,
          10,
          11,
          5,
          6,
          1,
          1,
          3,
          2,
          8,
          3,
          4,
          4,
          8,
          3,
          6,
          3,
          7,
          4,
          4,
          1,
          6,
          11,
          2,
          6,
          1,
          5,
          10,
          5,
          4,
          5,
          10,
          5,
          4,
          2,
          13,
          37,
          3,
          9,
          23,
          10,
          3,
          9,
          12,
          10,
          14,
          4,
          5,
          5,
          37,
          21,
          7,
          6,
          6,
          13,
          20,
          11,
          10,
          11,
          18,
          16,
          13,
          10,
          9,
          2,
          15,
          20,
          38,
          11,
          8,
          17,
          5,
          27,
          32,
          45,
          40,
          7,
          4,
          2,
          13,
          28,
          11,
          16,
          11,
          9,
          14,
          10,
          25,
          11,
          29,
          20,
          1,
          11,
          18,
          39,
          14,
          13,
          8,
          3,
          10,
          3,
          10,
          5,
          28,
          6,
          26,
          14,
          15,
          3,
          7,
          22,
          9,
          18,
          23,
          8,
          14,
          5,
          1,
          3,
          11,
          1,
          2,
          12,
          4,
          21,
          2,
          12,
          13,
          3,
          1,
          20,
          2,
          1,
          1,
          5,
          6,
          4,
          11,
          11,
          13,
          10,
          16,
          12,
          22,
          21,
          21,
          6,
          6,
          7,
          25,
          24,
          25,
          22,
          22,
          22,
          18,
          31,
          10,
          20,
          14,
          9,
          5,
          5,
          14,
          18,
          16,
          17,
          6,
          4,
          13,
          13,
          6,
          7,
          19,
          10,
          19,
          12,
          18,
          14,
          19,
          10,
          2,
          1,
          11,
          13,
          24,
          8,
          6,
          5,
          10,
          13,
          22,
          9,
          3,
          8,
          12,
          8,
          4,
          21,
          8,
          18,
          25,
          17,
          7,
          4,
          10,
          6,
          10,
          5,
          38,
          9,
          13,
          23,
          14,
          22,
          37,
          7,
          7,
          8,
          21,
          23,
          28,
          39,
          7,
          24,
          19,
          32,
          15,
          40,
          40,
          29,
          13,
          40,
          33,
          38,
          37,
          69,
          43,
          23,
          50,
          85,
          24,
          11,
          14,
          4,
          10,
          3,
          23,
          10,
          12,
          11,
          4,
          3,
          2,
          4,
          1,
          1,
          3,
          2,
          2,
          5,
          4,
          3,
          9,
          2,
          3,
          3,
          6,
          1,
          1,
          5,
          2,
          4,
          2,
          4,
          5,
          3,
          2,
          5,
          4,
          10,
          4,
          2,
          12,
          5,
          8,
          1,
          5,
          6,
          5,
          5,
          5,
          2,
          6,
          7,
          2,
          1,
          1,
          2,
          6,
          9,
          3,
          6,
          1,
          3,
          3,
          9,
          4,
          10,
          4,
          3,
          6,
          3,
          4,
          11,
          9,
          7,
          11,
          4,
          12,
          13,
          7,
          11,
          8,
          6,
          3,
          2,
          6,
          15,
          11,
          9,
          5,
          1,
          5,
          13,
          12,
          16,
          22,
          4,
          6,
          6,
          12,
          6,
          1,
          5,
          9,
          6,
          10,
          13,
          15,
          8,
          12,
          9,
          4,
          11,
          15,
          21,
          18,
          8,
          6,
          2,
          3,
          6,
          6,
          3,
          4,
          11,
          8,
          9,
          5,
          4,
          4,
          12,
          2,
          4,
          10,
          14,
          7,
          8,
          3,
          4,
          10,
          9,
          18,
          10,
          11,
          4,
          2,
          8,
          12,
          9,
          6,
          16,
          12,
          4,
          9,
          7,
          14,
          10,
          8,
          2,
          3,
          7,
          2,
          4,
          5,
          12,
          5,
          1,
          14,
          7,
          11,
          7,
          8,
          6,
          20,
          21,
          6,
          11,
          5,
          9,
          7,
          8,
          13,
          14,
          14,
          7,
          9,
          7,
          12,
          26,
          24,
          31,
          25,
          13,
          7,
          16,
          20,
          10,
          11,
          4,
          8,
          3,
          14,
          11,
          20,
          10,
          13,
          3,
          24,
          12,
          23,
          4,
          1,
          8,
          4,
          10,
          15,
          32,
          13,
          13,
          8,
          3,
          11,
          16,
          13,
          10,
          10,
          1,
          17,
          13,
          11,
          7,
          13,
          13,
          1,
          6,
          22,
          11,
          8,
          15,
          6,
          4,
          3,
          14,
          4,
          7,
          10,
          14,
          4,
          12,
          13,
          22,
          11,
          18,
          4,
          11,
          12,
          8,
          26,
          9,
          3,
          4,
          17,
          7,
          3,
          4,
          13,
          1,
          2,
          10,
          12,
          6,
          7,
          17,
          4,
          18,
          6,
          25,
          9,
          17,
          18,
          16,
          10,
          16,
          11,
          11,
          9,
          17,
          4,
          1,
          17,
          18,
          14,
          10,
          21,
          7,
          5,
          9,
          17,
          19,
          14,
          11,
          2,
          7,
          21,
          9,
          4,
          8,
          3,
          6,
          17,
          14,
          15,
          18,
          10,
          1,
          4,
          12,
          15,
          3,
          11,
          1,
          5,
          17,
          22,
          7,
          19,
          8,
          1,
          13,
          11,
          4,
          5,
          3,
          7,
          9,
          22,
          9,
          4,
          2,
          3,
          12,
          6,
          6,
          12,
          14,
          12,
          4,
          10,
          7,
          10,
          5,
          12,
          3,
          6,
          10,
          12,
          14,
          7,
          3,
          4,
          9,
          9,
          8,
          19,
          14,
          18,
          6,
          3,
          30,
          34,
          26,
          23,
          54,
          3,
          6,
          16,
          31,
          25,
          22,
          14,
          8,
          3,
          25,
          31,
          17,
          11,
          6,
          4,
          3,
          7,
          14,
          18,
          19,
          14,
          9,
          3,
          17,
          22,
          8,
          9,
          4,
          4,
          3,
          4,
          4,
          13,
          11,
          10,
          5,
          2,
          6,
          14,
          12,
          10,
          16,
          8,
          8,
          6,
          22,
          14,
          20,
          9,
          3,
          5,
          11,
          16,
          11,
          16,
          21,
          3,
          1,
          4,
          13,
          12,
          10,
          11,
          7,
          15,
          24,
          21,
          16,
          9,
          16,
          7,
          3,
          10,
          20,
          13,
          22,
          11,
          7,
          3,
          11,
          20,
          25,
          19,
          33,
          22,
          3,
          8,
          32,
          16,
          34,
          28,
          15,
          5,
          15,
          38,
          31,
          19,
          22,
          14,
          12,
          22,
          21,
          16,
          31,
          19,
          18,
          5,
          5,
          14,
          17,
          12,
          35,
          19,
          19,
          7,
          24,
          31,
          14,
          18,
          5,
          15,
          13,
          11,
          16,
          14,
          11,
          7,
          9,
          3,
          10,
          18,
          15,
          28,
          7,
          5,
          12,
          21,
          19,
          8,
          8,
          5,
          8,
          28,
          46,
          23,
          30,
          11,
          9,
          2,
          16,
          17,
          28,
          35,
          14,
          7,
          14,
          14,
          25,
          14,
          33,
          14,
          16,
          21,
          37,
          14,
          18,
          23,
          9,
          9,
          23,
          27,
          18,
          43,
          36,
          19,
          12,
          27,
          25,
          34,
          30,
          24,
          11,
          8,
          10,
          22,
          30,
          30,
          22,
          10,
          5,
          12,
          27,
          38,
          17,
          10,
          2,
          1,
          11,
          30,
          14,
          20,
          18,
          8,
          5,
          11,
          7,
          5,
          19,
          8,
          6,
          1,
          11,
          13,
          16,
          20,
          5,
          1,
          13,
          19,
          12,
          19,
          15,
          4,
          4,
          12,
          24,
          11,
          8,
          3,
          5,
          5,
          7,
          6,
          4,
          7,
          3,
          4,
          1,
          9,
          18,
          20,
          13,
          2,
          7,
          16,
          15,
          12,
          13,
          6,
          6,
          14,
          13,
          17,
          13,
          10,
          6,
          4,
          9,
          21,
          11,
          13,
          13,
          5,
          7,
          13,
          27,
          22,
          23,
          23,
          7,
          6,
          22,
          29,
          32,
          18,
          21,
          5,
          5,
          20,
          32,
          43,
          26,
          26,
          6,
          1,
          18,
          23,
          24,
          6,
          14,
          1,
          4,
          15,
          26,
          12,
          16,
          9,
          8,
          5,
          10,
          22,
          12,
          21,
          8,
          4,
          2,
          5,
          6,
          39,
          19,
          11,
          11,
          3,
          12,
          13,
          5,
          5,
          1,
          15,
          7,
          12,
          12,
          7,
          4,
          4,
          18,
          23,
          21,
          19,
          14,
          5,
          5,
          14,
          17,
          15,
          10,
          17,
          8,
          3,
          10,
          21,
          20,
          5,
          6,
          10,
          3,
          12,
          19,
          19,
          7,
          12,
          8,
          3,
          12,
          15,
          13,
          18,
          9,
          3,
          2,
          5,
          12,
          16,
          22,
          17,
          3,
          5,
          4,
          8,
          6,
          7,
          8,
          8,
          12,
          16,
          24,
          13,
          22,
          22,
          5,
          3,
          15,
          8,
          14,
          19,
          15,
          3,
          2,
          15,
          19,
          21,
          22,
          25,
          2,
          4,
          21,
          23,
          30,
          25,
          17,
          7,
          2,
          17,
          19,
          20,
          11,
          20,
          10,
          4,
          24,
          20,
          13,
          20,
          22,
          10,
          9,
          14,
          19,
          30,
          14,
          19,
          14,
          12,
          13,
          23,
          17,
          19,
          16,
          10,
          3,
          19,
          23,
          29,
          29,
          25,
          23,
          10,
          22,
          25,
          23,
          22,
          30,
          23,
          5,
          15,
          32,
          26,
          25,
          7,
          7,
          1,
          24,
          27,
          30,
          17,
          14,
          3,
          2,
          5,
          15,
          18,
          24,
          38,
          6,
          11,
          6,
          18,
          21,
          17,
          26,
          9,
          1,
          4,
          13,
          23,
          19,
          24,
          5,
          5,
          11,
          9,
          5,
          9,
          26,
          13,
          13,
          13,
          17,
          24,
          19,
          17,
          12,
          3,
          17,
          28,
          21,
          17,
          13,
          10,
          1,
          10,
          17,
          23,
          18,
          15,
          3,
          3,
          5,
          11,
          21,
          13,
          12,
          5,
          11,
          15,
          20,
          16,
          6,
          3,
          2,
          7,
          16,
          10,
          10,
          7,
          5,
          5,
          20,
          15,
          9,
          7,
          6,
          4,
          3,
          9,
          16,
          5,
          16,
          11,
          3,
          8,
          12,
          12,
          17,
          15,
          11,
          5,
          2,
          7,
          8,
          13,
          8,
          11,
          9,
          5,
          14,
          13,
          15,
          14,
          14,
          10,
          1,
          5,
          12,
          11,
          19,
          19,
          7,
          4,
          3,
          16,
          10,
          4,
          6,
          5,
          6,
          10,
          5,
          14,
          15,
          6,
          7,
          7,
          5,
          10,
          18,
          19,
          11,
          3,
          1,
          9,
          11,
          8,
          17,
          4,
          7,
          2,
          5,
          11,
          8,
          7,
          14,
          5,
          8,
          15,
          14,
          14,
          20,
          3,
          2,
          6,
          16,
          7,
          12,
          15,
          9,
          5,
          3,
          12,
          18,
          11,
          4,
          2,
          8,
          5,
          20,
          21,
          16,
          8,
          9,
          4,
          11,
          17,
          12,
          8,
          7,
          5,
          10,
          13,
          17,
          7,
          5,
          7,
          8,
          8,
          12,
          10,
          3,
          7,
          4,
          16,
          17,
          20,
          10,
          15,
          8,
          4,
          9,
          18,
          15,
          18,
          13,
          9,
          4,
          7,
          14,
          15,
          14,
          13,
          3,
          2,
          5,
          7,
          10,
          15,
          5,
          4,
          3,
          6,
          10,
          6,
          4,
          1,
          1,
          5,
          7,
          8,
          2,
          8,
          6,
          4,
          5,
          12,
          9,
          8,
          8,
          2,
          6,
          5,
          15,
          11,
          7,
          5,
          7,
          3,
          11,
          17,
          8,
          8,
          8,
          4,
          3,
          2,
          5,
          9,
          2,
          6,
          4,
          1,
          9,
          14,
          12,
          10,
          10,
          1,
          2,
          14,
          12,
          18,
          10,
          10,
          6,
          4,
          5,
          5,
          9,
          12,
          14,
          6,
          4,
          2,
          13,
          9,
          11,
          13,
          7,
          5,
          11,
          12,
          22,
          12,
          8,
          2,
          3,
          4,
          15,
          12,
          9,
          8,
          5,
          4,
          8,
          17,
          11,
          5,
          16,
          5,
          5,
          5,
          13,
          9,
          13,
          5,
          3,
          4,
          7,
          12,
          10,
          11,
          8,
          2,
          3,
          12,
          7,
          13,
          8,
          1,
          1,
          5,
          3,
          9,
          7,
          13,
          10,
          2,
          2,
          4,
          8,
          10,
          13,
          9,
          6,
          3,
          8,
          11,
          9,
          8,
          10,
          1,
          8,
          11,
          15,
          15,
          7,
          15,
          2,
          2,
          10,
          8,
          4,
          8,
          10,
          1,
          2,
          15,
          7,
          8,
          11,
          14,
          6,
          3,
          4,
          10,
          9,
          11,
          7,
          6,
          1,
          5,
          4,
          4,
          6,
          7,
          3,
          6,
          13,
          10,
          9,
          7,
          9,
          3,
          15,
          6,
          9,
          8,
          15,
          5,
          3,
          3,
          3,
          4,
          16,
          13,
          6,
          2,
          8,
          11,
          13,
          12,
          12,
          14,
          1,
          9,
          12,
          9,
          6,
          2,
          3,
          7,
          12,
          11,
          8,
          4,
          5,
          2,
          7,
          6,
          6,
          5,
          6,
          3,
          3,
          12,
          6,
          8,
          5,
          5,
          9,
          8,
          7,
          12,
          3,
          6,
          3,
          7,
          8,
          9,
          9,
          5,
          2,
          3,
          5,
          8,
          7,
          12,
          9,
          2,
          1,
          4,
          7,
          11,
          13,
          6,
          2,
          1,
          2,
          7,
          9,
          5,
          9,
          4,
          1,
          4,
          9,
          11,
          9,
          7,
          2,
          2,
          6,
          10,
          9,
          12,
          8,
          7,
          4,
          5,
          3,
          9,
          7,
          7,
          2,
          2,
          5,
          3,
          6,
          3,
          5,
          2,
          1,
          8,
          9,
          3,
          6,
          7,
          4,
          1,
          5,
          7,
          4,
          3,
          8,
          4,
          1,
          3,
          5,
          11,
          7,
          6,
          5,
          5,
          9,
          7,
          6,
          8,
          1,
          6,
          4,
          7,
          7,
          6,
          11,
          15,
          5,
          3,
          4,
          7,
          10,
          4,
          5,
          1,
          4,
          10,
          7,
          3,
          5,
          3,
          1,
          5,
          6,
          7,
          10,
          6,
          2,
          3,
          5,
          9,
          12,
          13,
          6,
          3,
          8,
          9,
          19,
          13,
          5,
          1,
          3,
          5,
          8,
          10,
          13,
          8,
          6,
          1,
          3,
          6,
          3,
          15,
          14,
          8,
          6,
          5,
          2,
          5,
          10,
          8,
          8,
          1,
          8,
          9,
          10,
          10,
          9,
          6,
          7,
          6,
          8,
          16,
          15,
          17,
          3,
          3,
          15,
          7,
          15,
          6,
          10,
          5,
          3,
          9,
          12,
          10,
          18,
          7,
          7,
          2,
          3,
          8,
          5,
          6,
          5,
          4,
          4,
          10,
          17,
          5,
          11,
          2,
          3,
          6,
          9,
          3,
          2,
          1,
          1,
          3,
          6,
          6,
          3,
          6,
          3,
          1,
          14,
          6,
          6,
          11,
          4,
          1,
          3,
          4,
          5,
          13,
          1,
          3,
          6,
          8,
          4,
          9,
          3,
          5,
          2,
          3,
          5,
          7,
          1,
          6,
          5,
          8,
          4,
          12,
          4,
          6,
          7,
          9,
          4,
          11,
          1,
          6,
          9,
          8,
          12,
          5,
          2,
          1,
          9,
          11,
          6,
          10,
          5,
          3,
          1,
          4,
          3,
          8,
          6,
          8,
          1,
          14,
          7,
          11,
          8,
          5,
          5,
          2,
          8,
          8,
          4,
          10,
          11,
          1,
          2,
          9,
          10,
          6,
          11,
          5,
          1,
          1,
          3,
          5,
          9,
          7,
          9,
          1,
          1,
          7,
          5,
          2,
          7,
          2,
          5,
          12,
          7,
          6,
          6,
          1,
          4,
          7,
          4,
          9,
          4,
          3,
          8,
          7,
          12,
          9,
          1,
          3,
          1,
          5,
          2,
          9,
          10,
          4,
          5,
          5,
          5,
          10,
          11,
          8,
          3,
          5,
          11,
          8,
          13,
          8,
          17,
          5,
          8,
          7,
          11,
          7,
          12,
          4,
          2,
          12,
          8,
          10,
          18,
          14,
          9,
          12,
          18,
          7,
          12,
          10,
          4,
          5,
          11,
          8,
          6,
          9,
          8,
          7,
          1,
          2,
          14,
          11,
          11,
          10,
          4,
          1,
          7,
          8,
          11,
          10,
          8,
          4,
          1,
          3,
          7,
          12,
          10,
          10,
          4,
          4,
          6,
          10,
          3,
          11,
          2,
          4,
          5,
          11,
          7,
          8,
          17,
          11,
          1,
          3,
          7,
          5,
          12,
          16,
          7,
          8,
          4,
          6,
          5,
          5,
          4,
          12,
          14,
          5,
          9,
          6,
          6,
          7,
          13,
          7,
          3,
          3,
          8,
          9,
          8,
          12,
          6,
          8,
          4,
          6,
          6,
          10,
          15,
          3,
          4,
          7,
          7,
          17,
          5,
          6,
          3,
          3,
          9,
          8,
          5,
          11,
          7,
          3,
          3,
          3,
          10,
          8,
          11,
          8,
          5,
          1,
          9,
          6,
          11,
          11,
          7,
          2,
          4,
          10,
          6,
          9,
          13,
          10,
          6,
          9,
          13,
          9,
          5,
          4,
          10,
          3,
          3,
          9,
          10,
          4,
          11,
          7,
          3,
          3,
          12,
          8,
          2,
          9,
          5,
          7,
          2,
          1,
          5,
          3,
          1,
          2,
          5,
          6,
          5,
          7,
          5,
          7,
          3,
          11,
          9,
          6,
          7,
          6,
          5,
          5,
          2,
          10,
          9,
          9,
          4,
          2,
          2,
          4,
          10,
          8,
          8,
          12,
          3,
          5,
          10,
          7,
          6,
          12,
          8,
          7,
          3,
          2,
          3,
          3,
          2,
          4,
          1,
          2,
          1,
          4,
          7,
          6,
          6,
          4,
          1,
          8,
          7,
          9,
          4,
          9,
          7,
          1,
          6,
          7,
          14,
          3,
          9,
          4,
          2,
          17,
          12,
          11,
          10,
          8,
          6,
          5,
          16,
          15,
          12,
          7,
          8,
          6,
          8,
          4,
          10,
          14,
          7,
          9,
          5,
          4,
          14,
          13,
          9,
          3,
          4,
          9,
          5,
          9,
          10,
          7,
          8,
          9,
          3,
          7,
          9,
          8,
          9,
          4,
          3,
          3,
          4,
          10,
          4,
          6,
          6,
          5,
          7,
          9,
          3,
          4,
          6,
          3,
          3,
          10,
          3,
          4,
          8,
          8,
          3,
          4,
          6,
          9,
          4,
          8,
          2,
          6,
          5,
          9,
          3,
          4,
          1,
          9,
          11,
          10,
          11,
          9,
          2,
          5,
          5,
          9,
          5,
          10,
          6,
          2,
          1,
          9,
          11,
          8,
          5,
          6,
          3,
          5,
          5,
          4,
          4,
          4,
          4,
          10,
          3,
          10,
          11,
          8,
          4,
          2,
          3,
          10,
          9,
          5,
          6,
          6,
          1,
          4,
          4,
          8,
          8,
          4,
          8,
          3,
          2,
          2,
          8,
          7,
          19,
          11,
          4,
          3,
          11,
          14,
          3,
          12,
          9,
          4,
          3,
          8,
          5,
          8,
          4,
          11,
          8,
          7,
          8,
          10,
          8,
          9,
          13,
          1,
          2,
          7,
          10,
          10,
          8,
          11,
          3,
          2,
          8,
          16,
          6,
          10,
          11,
          3,
          4,
          12,
          11,
          9,
          8,
          12,
          2,
          2,
          11,
          16,
          7,
          6,
          11,
          5,
          2,
          6,
          8,
          10,
          16,
          7,
          2,
          1,
          16,
          10,
          8,
          8,
          13,
          3,
          7,
          6,
          14,
          21,
          9,
          13,
          10,
          9,
          7,
          11,
          7,
          9,
          13,
          4,
          5,
          7,
          6,
          9,
          14,
          10,
          1,
          3,
          10,
          9,
          9,
          5,
          2,
          8,
          5,
          12,
          11,
          10,
          9,
          18,
          2,
          2,
          4,
          17,
          13,
          13,
          11,
          4,
          2,
          10,
          9,
          10,
          18,
          8,
          3,
          6,
          18,
          9,
          13,
          7,
          10,
          7,
          7,
          8,
          6,
          18,
          9,
          11,
          9,
          6,
          11,
          16,
          9,
          13,
          6,
          3,
          10,
          13,
          12,
          10,
          2,
          1,
          7,
          16,
          12,
          10,
          9,
          11,
          7,
          9,
          13,
          12,
          15,
          9,
          5,
          4,
          12,
          15,
          6,
          4,
          8,
          5,
          4,
          3
         ]
        }
       ],
       "layout": {
        "template": {
         "data": {
          "bar": [
           {
            "error_x": {
             "color": "#2a3f5f"
            },
            "error_y": {
             "color": "#2a3f5f"
            },
            "marker": {
             "line": {
              "color": "#E5ECF6",
              "width": 0.5
             }
            },
            "type": "bar"
           }
          ],
          "barpolar": [
           {
            "marker": {
             "line": {
              "color": "#E5ECF6",
              "width": 0.5
             }
            },
            "type": "barpolar"
           }
          ],
          "carpet": [
           {
            "aaxis": {
             "endlinecolor": "#2a3f5f",
             "gridcolor": "white",
             "linecolor": "white",
             "minorgridcolor": "white",
             "startlinecolor": "#2a3f5f"
            },
            "baxis": {
             "endlinecolor": "#2a3f5f",
             "gridcolor": "white",
             "linecolor": "white",
             "minorgridcolor": "white",
             "startlinecolor": "#2a3f5f"
            },
            "type": "carpet"
           }
          ],
          "choropleth": [
           {
            "colorbar": {
             "outlinewidth": 0,
             "ticks": ""
            },
            "type": "choropleth"
           }
          ],
          "contour": [
           {
            "colorbar": {
             "outlinewidth": 0,
             "ticks": ""
            },
            "colorscale": [
             [
              0,
              "#0d0887"
             ],
             [
              0.1111111111111111,
              "#46039f"
             ],
             [
              0.2222222222222222,
              "#7201a8"
             ],
             [
              0.3333333333333333,
              "#9c179e"
             ],
             [
              0.4444444444444444,
              "#bd3786"
             ],
             [
              0.5555555555555556,
              "#d8576b"
             ],
             [
              0.6666666666666666,
              "#ed7953"
             ],
             [
              0.7777777777777778,
              "#fb9f3a"
             ],
             [
              0.8888888888888888,
              "#fdca26"
             ],
             [
              1,
              "#f0f921"
             ]
            ],
            "type": "contour"
           }
          ],
          "contourcarpet": [
           {
            "colorbar": {
             "outlinewidth": 0,
             "ticks": ""
            },
            "type": "contourcarpet"
           }
          ],
          "heatmap": [
           {
            "colorbar": {
             "outlinewidth": 0,
             "ticks": ""
            },
            "colorscale": [
             [
              0,
              "#0d0887"
             ],
             [
              0.1111111111111111,
              "#46039f"
             ],
             [
              0.2222222222222222,
              "#7201a8"
             ],
             [
              0.3333333333333333,
              "#9c179e"
             ],
             [
              0.4444444444444444,
              "#bd3786"
             ],
             [
              0.5555555555555556,
              "#d8576b"
             ],
             [
              0.6666666666666666,
              "#ed7953"
             ],
             [
              0.7777777777777778,
              "#fb9f3a"
             ],
             [
              0.8888888888888888,
              "#fdca26"
             ],
             [
              1,
              "#f0f921"
             ]
            ],
            "type": "heatmap"
           }
          ],
          "heatmapgl": [
           {
            "colorbar": {
             "outlinewidth": 0,
             "ticks": ""
            },
            "colorscale": [
             [
              0,
              "#0d0887"
             ],
             [
              0.1111111111111111,
              "#46039f"
             ],
             [
              0.2222222222222222,
              "#7201a8"
             ],
             [
              0.3333333333333333,
              "#9c179e"
             ],
             [
              0.4444444444444444,
              "#bd3786"
             ],
             [
              0.5555555555555556,
              "#d8576b"
             ],
             [
              0.6666666666666666,
              "#ed7953"
             ],
             [
              0.7777777777777778,
              "#fb9f3a"
             ],
             [
              0.8888888888888888,
              "#fdca26"
             ],
             [
              1,
              "#f0f921"
             ]
            ],
            "type": "heatmapgl"
           }
          ],
          "histogram": [
           {
            "marker": {
             "colorbar": {
              "outlinewidth": 0,
              "ticks": ""
             }
            },
            "type": "histogram"
           }
          ],
          "histogram2d": [
           {
            "colorbar": {
             "outlinewidth": 0,
             "ticks": ""
            },
            "colorscale": [
             [
              0,
              "#0d0887"
             ],
             [
              0.1111111111111111,
              "#46039f"
             ],
             [
              0.2222222222222222,
              "#7201a8"
             ],
             [
              0.3333333333333333,
              "#9c179e"
             ],
             [
              0.4444444444444444,
              "#bd3786"
             ],
             [
              0.5555555555555556,
              "#d8576b"
             ],
             [
              0.6666666666666666,
              "#ed7953"
             ],
             [
              0.7777777777777778,
              "#fb9f3a"
             ],
             [
              0.8888888888888888,
              "#fdca26"
             ],
             [
              1,
              "#f0f921"
             ]
            ],
            "type": "histogram2d"
           }
          ],
          "histogram2dcontour": [
           {
            "colorbar": {
             "outlinewidth": 0,
             "ticks": ""
            },
            "colorscale": [
             [
              0,
              "#0d0887"
             ],
             [
              0.1111111111111111,
              "#46039f"
             ],
             [
              0.2222222222222222,
              "#7201a8"
             ],
             [
              0.3333333333333333,
              "#9c179e"
             ],
             [
              0.4444444444444444,
              "#bd3786"
             ],
             [
              0.5555555555555556,
              "#d8576b"
             ],
             [
              0.6666666666666666,
              "#ed7953"
             ],
             [
              0.7777777777777778,
              "#fb9f3a"
             ],
             [
              0.8888888888888888,
              "#fdca26"
             ],
             [
              1,
              "#f0f921"
             ]
            ],
            "type": "histogram2dcontour"
           }
          ],
          "mesh3d": [
           {
            "colorbar": {
             "outlinewidth": 0,
             "ticks": ""
            },
            "type": "mesh3d"
           }
          ],
          "parcoords": [
           {
            "line": {
             "colorbar": {
              "outlinewidth": 0,
              "ticks": ""
             }
            },
            "type": "parcoords"
           }
          ],
          "pie": [
           {
            "automargin": true,
            "type": "pie"
           }
          ],
          "scatter": [
           {
            "marker": {
             "colorbar": {
              "outlinewidth": 0,
              "ticks": ""
             }
            },
            "type": "scatter"
           }
          ],
          "scatter3d": [
           {
            "line": {
             "colorbar": {
              "outlinewidth": 0,
              "ticks": ""
             }
            },
            "marker": {
             "colorbar": {
              "outlinewidth": 0,
              "ticks": ""
             }
            },
            "type": "scatter3d"
           }
          ],
          "scattercarpet": [
           {
            "marker": {
             "colorbar": {
              "outlinewidth": 0,
              "ticks": ""
             }
            },
            "type": "scattercarpet"
           }
          ],
          "scattergeo": [
           {
            "marker": {
             "colorbar": {
              "outlinewidth": 0,
              "ticks": ""
             }
            },
            "type": "scattergeo"
           }
          ],
          "scattergl": [
           {
            "marker": {
             "colorbar": {
              "outlinewidth": 0,
              "ticks": ""
             }
            },
            "type": "scattergl"
           }
          ],
          "scattermapbox": [
           {
            "marker": {
             "colorbar": {
              "outlinewidth": 0,
              "ticks": ""
             }
            },
            "type": "scattermapbox"
           }
          ],
          "scatterpolar": [
           {
            "marker": {
             "colorbar": {
              "outlinewidth": 0,
              "ticks": ""
             }
            },
            "type": "scatterpolar"
           }
          ],
          "scatterpolargl": [
           {
            "marker": {
             "colorbar": {
              "outlinewidth": 0,
              "ticks": ""
             }
            },
            "type": "scatterpolargl"
           }
          ],
          "scatterternary": [
           {
            "marker": {
             "colorbar": {
              "outlinewidth": 0,
              "ticks": ""
             }
            },
            "type": "scatterternary"
           }
          ],
          "surface": [
           {
            "colorbar": {
             "outlinewidth": 0,
             "ticks": ""
            },
            "colorscale": [
             [
              0,
              "#0d0887"
             ],
             [
              0.1111111111111111,
              "#46039f"
             ],
             [
              0.2222222222222222,
              "#7201a8"
             ],
             [
              0.3333333333333333,
              "#9c179e"
             ],
             [
              0.4444444444444444,
              "#bd3786"
             ],
             [
              0.5555555555555556,
              "#d8576b"
             ],
             [
              0.6666666666666666,
              "#ed7953"
             ],
             [
              0.7777777777777778,
              "#fb9f3a"
             ],
             [
              0.8888888888888888,
              "#fdca26"
             ],
             [
              1,
              "#f0f921"
             ]
            ],
            "type": "surface"
           }
          ],
          "table": [
           {
            "cells": {
             "fill": {
              "color": "#EBF0F8"
             },
             "line": {
              "color": "white"
             }
            },
            "header": {
             "fill": {
              "color": "#C8D4E3"
             },
             "line": {
              "color": "white"
             }
            },
            "type": "table"
           }
          ]
         },
         "layout": {
          "annotationdefaults": {
           "arrowcolor": "#2a3f5f",
           "arrowhead": 0,
           "arrowwidth": 1
          },
          "coloraxis": {
           "colorbar": {
            "outlinewidth": 0,
            "ticks": ""
           }
          },
          "colorscale": {
           "diverging": [
            [
             0,
             "#8e0152"
            ],
            [
             0.1,
             "#c51b7d"
            ],
            [
             0.2,
             "#de77ae"
            ],
            [
             0.3,
             "#f1b6da"
            ],
            [
             0.4,
             "#fde0ef"
            ],
            [
             0.5,
             "#f7f7f7"
            ],
            [
             0.6,
             "#e6f5d0"
            ],
            [
             0.7,
             "#b8e186"
            ],
            [
             0.8,
             "#7fbc41"
            ],
            [
             0.9,
             "#4d9221"
            ],
            [
             1,
             "#276419"
            ]
           ],
           "sequential": [
            [
             0,
             "#0d0887"
            ],
            [
             0.1111111111111111,
             "#46039f"
            ],
            [
             0.2222222222222222,
             "#7201a8"
            ],
            [
             0.3333333333333333,
             "#9c179e"
            ],
            [
             0.4444444444444444,
             "#bd3786"
            ],
            [
             0.5555555555555556,
             "#d8576b"
            ],
            [
             0.6666666666666666,
             "#ed7953"
            ],
            [
             0.7777777777777778,
             "#fb9f3a"
            ],
            [
             0.8888888888888888,
             "#fdca26"
            ],
            [
             1,
             "#f0f921"
            ]
           ],
           "sequentialminus": [
            [
             0,
             "#0d0887"
            ],
            [
             0.1111111111111111,
             "#46039f"
            ],
            [
             0.2222222222222222,
             "#7201a8"
            ],
            [
             0.3333333333333333,
             "#9c179e"
            ],
            [
             0.4444444444444444,
             "#bd3786"
            ],
            [
             0.5555555555555556,
             "#d8576b"
            ],
            [
             0.6666666666666666,
             "#ed7953"
            ],
            [
             0.7777777777777778,
             "#fb9f3a"
            ],
            [
             0.8888888888888888,
             "#fdca26"
            ],
            [
             1,
             "#f0f921"
            ]
           ]
          },
          "colorway": [
           "#636efa",
           "#EF553B",
           "#00cc96",
           "#ab63fa",
           "#FFA15A",
           "#19d3f3",
           "#FF6692",
           "#B6E880",
           "#FF97FF",
           "#FECB52"
          ],
          "font": {
           "color": "#2a3f5f"
          },
          "geo": {
           "bgcolor": "white",
           "lakecolor": "white",
           "landcolor": "#E5ECF6",
           "showlakes": true,
           "showland": true,
           "subunitcolor": "white"
          },
          "hoverlabel": {
           "align": "left"
          },
          "hovermode": "closest",
          "mapbox": {
           "style": "light"
          },
          "paper_bgcolor": "white",
          "plot_bgcolor": "#E5ECF6",
          "polar": {
           "angularaxis": {
            "gridcolor": "white",
            "linecolor": "white",
            "ticks": ""
           },
           "bgcolor": "#E5ECF6",
           "radialaxis": {
            "gridcolor": "white",
            "linecolor": "white",
            "ticks": ""
           }
          },
          "scene": {
           "xaxis": {
            "backgroundcolor": "#E5ECF6",
            "gridcolor": "white",
            "gridwidth": 2,
            "linecolor": "white",
            "showbackground": true,
            "ticks": "",
            "zerolinecolor": "white"
           },
           "yaxis": {
            "backgroundcolor": "#E5ECF6",
            "gridcolor": "white",
            "gridwidth": 2,
            "linecolor": "white",
            "showbackground": true,
            "ticks": "",
            "zerolinecolor": "white"
           },
           "zaxis": {
            "backgroundcolor": "#E5ECF6",
            "gridcolor": "white",
            "gridwidth": 2,
            "linecolor": "white",
            "showbackground": true,
            "ticks": "",
            "zerolinecolor": "white"
           }
          },
          "shapedefaults": {
           "line": {
            "color": "#2a3f5f"
           }
          },
          "ternary": {
           "aaxis": {
            "gridcolor": "white",
            "linecolor": "white",
            "ticks": ""
           },
           "baxis": {
            "gridcolor": "white",
            "linecolor": "white",
            "ticks": ""
           },
           "bgcolor": "#E5ECF6",
           "caxis": {
            "gridcolor": "white",
            "linecolor": "white",
            "ticks": ""
           }
          },
          "title": {
           "x": 0.05
          },
          "xaxis": {
           "automargin": true,
           "gridcolor": "white",
           "linecolor": "white",
           "ticks": "",
           "title": {
            "standoff": 15
           },
           "zerolinecolor": "white",
           "zerolinewidth": 2
          },
          "yaxis": {
           "automargin": true,
           "gridcolor": "white",
           "linecolor": "white",
           "ticks": "",
           "title": {
            "standoff": 15
           },
           "zerolinecolor": "white",
           "zerolinewidth": 2
          }
         }
        },
        "title": {
         "text": "Commits by Date"
        },
        "xaxis": {
         "title": {
          "text": "Date"
         }
        },
        "yaxis": {
         "title": {
          "text": "Commits Count"
         }
        }
       }
      },
      "text/html": [
       "<div>\n",
       "        \n",
       "        \n",
       "            <div id=\"4ce3a01f-a65c-421f-8833-4cddb2671b40\" class=\"plotly-graph-div\" style=\"height:525px; width:100%;\"></div>\n",
       "            <script type=\"text/javascript\">\n",
       "                require([\"plotly\"], function(Plotly) {\n",
       "                    window.PLOTLYENV=window.PLOTLYENV || {};\n",
       "                    \n",
       "                if (document.getElementById(\"4ce3a01f-a65c-421f-8833-4cddb2671b40\")) {\n",
       "                    Plotly.newPlot(\n",
       "                        '4ce3a01f-a65c-421f-8833-4cddb2671b40',\n",
       "                        [{\"fill\": \"tozeroy\", \"text\": [1.0, 3.0, 1.0, 2.0, 1.0, 2.0, 2.0, 1.0, 1.0, 1.0, 3.0, 1.0, 1.0, 9.0, 2.0, 2.0, 1.0, 1.0, 1.0, 1.0, 4.0, 1.0, 1.0, 2.0, 2.0, 1.0, 1.0, 2.0, 1.0, 1.0, 1.0, 1.0, 1.0, 1.0, 15.0, 3.0, 2.0, 1.0, 4.0, 3.0, 4.0, 2.0, 2.0, 5.0, 11.0, 6.0, 5.0, 5.0, 5.0, 2.0, 4.0, 2.0, 1.0, 4.0, 6.0, 6.0, 4.0, 1.0, 2.0, 8.0, 1.0, 3.0, 2.0, 3.0, 2.0, 5.0, 4.0, 2.0, 2.0, 8.0, 4.0, 1.0, 6.0, 1.0, 6.0, 4.0, 4.0, 2.0, 1.0, 7.0, 2.0, 1.0, 4.0, 1.0, 1.0, 1.0, 10.0, 3.0, 2.0, 6.0, 1.0, 1.0, 9.0, 5.0, 2.0, 4.0, 3.0, 3.0, 4.0, 1.0, 4.0, 1.0, 3.0, 2.0, 3.0, 3.0, 1.0, 2.0, 5.0, 1.0, 1.0, 1.0, 1.0, 3.0, 3.0, 2.0, 1.0, 11.0, 1.0, 2.0, 1.0, 1.0, 1.0, 3.0, 1.0, 4.0, 3.0, 4.0, 10.0, 2.0, 1.0, 3.0, 1.0, 2.0, 1.0, 1.0, 2.0, 1.0, 1.0, 2.0, 4.0, 9.0, 8.0, 1.0, 3.0, 4.0, 1.0, 2.0, 1.0, 5.0, 1.0, 2.0, 7.0, 14.0, 4.0, 1.0, 1.0, 19.0, 1.0, 1.0, 2.0, 1.0, 1.0, 1.0, 3.0, 7.0, 2.0, 1.0, 6.0, 5.0, 1.0, 2.0, 3.0, 1.0, 2.0, 2.0, 22.0, 1.0, 3.0, 1.0, 4.0, 1.0, 2.0, 4.0, 8.0, 1.0, 1.0, 1.0, 1.0, 4.0, 2.0, 8.0, 1.0, 1.0, 8.0, 1.0, 2.0, 1.0, 2.0, 1.0, 5.0, 3.0, 2.0, 2.0, 2.0, 6.0, 1.0, 2.0, 1.0, 1.0, 1.0, 3.0, 1.0, 3.0, 4.0, 2.0, 2.0, 7.0, 1.0, 1.0, 1.0, 1.0, 2.0, 1.0, 2.0, 1.0, 6.0, 1.0, 3.0, 6.0, 3.0, 2.0, 4.0, 3.0, 1.0, 1.0, 2.0, 1.0, 4.0, 1.0, 1.0, 2.0, 1.0, 1.0, 1.0, 1.0, 5.0, 2.0, 2.0, 1.0, 7.0, 2.0, 1.0, 7.0, 1.0, 2.0, 1.0, 2.0, 4.0, 9.0, 1.0, 1.0, 9.0, 3.0, 2.0, 1.0, 2.0, 2.0, 5.0, 9.0, 7.0, 8.0, 5.0, 3.0, 1.0, 6.0, 6.0, 1.0, 1.0, 3.0, 15.0, 14.0, 8.0, 4.0, 3.0, 22.0, 9.0, 8.0, 5.0, 1.0, 4.0, 1.0, 3.0, 5.0, 5.0, 12.0, 4.0, 1.0, 1.0, 3.0, 1.0, 2.0, 1.0, 9.0, 2.0, 8.0, 24.0, 9.0, 4.0, 8.0, 15.0, 10.0, 2.0, 3.0, 3.0, 21.0, 8.0, 10.0, 2.0, 13.0, 12.0, 12.0, 17.0, 4.0, 3.0, 7.0, 2.0, 6.0, 1.0, 2.0, 7.0, 12.0, 9.0, 8.0, 10.0, 10.0, 8.0, 18.0, 10.0, 26.0, 5.0, 10.0, 9.0, 29.0, 11.0, 12.0, 9.0, 8.0, 6.0, 16.0, 12.0, 8.0, 3.0, 2.0, 5.0, 4.0, 4.0, 6.0, 6.0, 6.0, 4.0, 2.0, 1.0, 2.0, 5.0, 1.0, 2.0, 3.0, 1.0, 1.0, 3.0, 1.0, 5.0, 1.0, 5.0, 5.0, 3.0, 9.0, 6.0, 6.0, 1.0, 4.0, 2.0, 6.0, 3.0, 9.0, 1.0, 2.0, 1.0, 2.0, 16.0, 5.0, 2.0, 3.0, 2.0, 4.0, 6.0, 3.0, 5.0, 15.0, 10.0, 5.0, 23.0, 5.0, 4.0, 6.0, 2.0, 4.0, 5.0, 1.0, 6.0, 4.0, 10.0, 6.0, 2.0, 10.0, 5.0, 2.0, 5.0, 7.0, 11.0, 18.0, 12.0, 6.0, 13.0, 7.0, 13.0, 37.0, 16.0, 4.0, 6.0, 16.0, 6.0, 28.0, 22.0, 21.0, 36.0, 13.0, 9.0, 1.0, 10.0, 10.0, 26.0, 20.0, 6.0, 27.0, 10.0, 11.0, 6.0, 15.0, 12.0, 7.0, 2.0, 10.0, 12.0, 18.0, 4.0, 2.0, 5.0, 5.0, 13.0, 5.0, 6.0, 24.0, 17.0, 16.0, 9.0, 9.0, 17.0, 33.0, 17.0, 6.0, 3.0, 3.0, 3.0, 7.0, 2.0, 1.0, 4.0, 8.0, 10.0, 8.0, 10.0, 8.0, 9.0, 11.0, 3.0, 2.0, 6.0, 11.0, 3.0, 4.0, 4.0, 2.0, 3.0, 2.0, 4.0, 4.0, 2.0, 5.0, 2.0, 5.0, 5.0, 11.0, 6.0, 18.0, 1.0, 4.0, 12.0, 3.0, 9.0, 1.0, 5.0, 2.0, 2.0, 10.0, 11.0, 7.0, 3.0, 2.0, 1.0, 1.0, 3.0, 4.0, 8.0, 7.0, 3.0, 11.0, 11.0, 17.0, 13.0, 10.0, 9.0, 8.0, 9.0, 6.0, 5.0, 8.0, 13.0, 8.0, 3.0, 7.0, 3.0, 10.0, 11.0, 5.0, 6.0, 1.0, 1.0, 3.0, 2.0, 8.0, 3.0, 4.0, 4.0, 8.0, 3.0, 6.0, 3.0, 7.0, 4.0, 4.0, 1.0, 6.0, 11.0, 2.0, 6.0, 1.0, 5.0, 10.0, 5.0, 4.0, 5.0, 10.0, 5.0, 4.0, 2.0, 13.0, 37.0, 3.0, 9.0, 23.0, 10.0, 3.0, 9.0, 12.0, 10.0, 14.0, 4.0, 5.0, 5.0, 37.0, 21.0, 7.0, 6.0, 6.0, 13.0, 20.0, 11.0, 10.0, 11.0, 18.0, 16.0, 13.0, 10.0, 9.0, 2.0, 15.0, 20.0, 38.0, 11.0, 8.0, 17.0, 5.0, 27.0, 32.0, 45.0, 40.0, 7.0, 4.0, 2.0, 13.0, 28.0, 11.0, 16.0, 11.0, 9.0, 14.0, 10.0, 25.0, 11.0, 29.0, 20.0, 1.0, 11.0, 18.0, 39.0, 14.0, 13.0, 8.0, 3.0, 10.0, 3.0, 10.0, 5.0, 28.0, 6.0, 26.0, 14.0, 15.0, 3.0, 7.0, 22.0, 9.0, 18.0, 23.0, 8.0, 14.0, 5.0, 1.0, 3.0, 11.0, 1.0, 2.0, 12.0, 4.0, 21.0, 2.0, 12.0, 13.0, 3.0, 1.0, 20.0, 2.0, 1.0, 1.0, 5.0, 6.0, 4.0, 11.0, 11.0, 13.0, 10.0, 16.0, 12.0, 22.0, 21.0, 21.0, 6.0, 6.0, 7.0, 25.0, 24.0, 25.0, 22.0, 22.0, 22.0, 18.0, 31.0, 10.0, 20.0, 14.0, 9.0, 5.0, 5.0, 14.0, 18.0, 16.0, 17.0, 6.0, 4.0, 13.0, 13.0, 6.0, 7.0, 19.0, 10.0, 19.0, 12.0, 18.0, 14.0, 19.0, 10.0, 2.0, 1.0, 11.0, 13.0, 24.0, 8.0, 6.0, 5.0, 10.0, 13.0, 22.0, 9.0, 3.0, 8.0, 12.0, 8.0, 4.0, 21.0, 8.0, 18.0, 25.0, 17.0, 7.0, 4.0, 10.0, 6.0, 10.0, 5.0, 38.0, 9.0, 13.0, 23.0, 14.0, 22.0, 37.0, 7.0, 7.0, 8.0, 21.0, 23.0, 28.0, 39.0, 7.0, 24.0, 19.0, 32.0, 15.0, 40.0, 40.0, 29.0, 13.0, 40.0, 33.0, 38.0, 37.0, 69.0, 43.0, 23.0, 50.0, 85.0, 24.0, 11.0, 14.0, 4.0, 10.0, 3.0, 23.0, 10.0, 12.0, 11.0, 4.0, 3.0, 2.0, 4.0, 1.0, 1.0, 3.0, 2.0, 2.0, 5.0, 4.0, 3.0, 9.0, 2.0, 3.0, 3.0, 6.0, 1.0, 1.0, 5.0, 2.0, 4.0, 2.0, 4.0, 5.0, 3.0, 2.0, 5.0, 4.0, 10.0, 4.0, 2.0, 12.0, 5.0, 8.0, 1.0, 5.0, 6.0, 5.0, 5.0, 5.0, 2.0, 6.0, 7.0, 2.0, 1.0, 1.0, 2.0, 6.0, 9.0, 3.0, 6.0, 1.0, 3.0, 3.0, 9.0, 4.0, 10.0, 4.0, 3.0, 6.0, 3.0, 4.0, 11.0, 9.0, 7.0, 11.0, 4.0, 12.0, 13.0, 7.0, 11.0, 8.0, 6.0, 3.0, 2.0, 6.0, 15.0, 11.0, 9.0, 5.0, 1.0, 5.0, 13.0, 12.0, 16.0, 22.0, 4.0, 6.0, 6.0, 12.0, 6.0, 1.0, 5.0, 9.0, 6.0, 10.0, 13.0, 15.0, 8.0, 12.0, 9.0, 4.0, 11.0, 15.0, 21.0, 18.0, 8.0, 6.0, 2.0, 3.0, 6.0, 6.0, 3.0, 4.0, 11.0, 8.0, 9.0, 5.0, 4.0, 4.0, 12.0, 2.0, 4.0, 10.0, 14.0, 7.0, 8.0, 3.0, 4.0, 10.0, 9.0, 18.0, 10.0, 11.0, 4.0, 2.0, 8.0, 12.0, 9.0, 6.0, 16.0, 12.0, 4.0, 9.0, 7.0, 14.0, 10.0, 8.0, 2.0, 3.0, 7.0, 2.0, 4.0, 5.0, 12.0, 5.0, 1.0, 14.0, 7.0, 11.0, 7.0, 8.0, 6.0, 20.0, 21.0, 6.0, 11.0, 5.0, 9.0, 7.0, 8.0, 13.0, 14.0, 14.0, 7.0, 9.0, 7.0, 12.0, 26.0, 24.0, 31.0, 25.0, 13.0, 7.0, 16.0, 20.0, 10.0, 11.0, 4.0, 8.0, 3.0, 14.0, 11.0, 20.0, 10.0, 13.0, 3.0, 24.0, 12.0, 23.0, 4.0, 1.0, 8.0, 4.0, 10.0, 15.0, 32.0, 13.0, 13.0, 8.0, 3.0, 11.0, 16.0, 13.0, 10.0, 10.0, 1.0, 17.0, 13.0, 11.0, 7.0, 13.0, 13.0, 1.0, 6.0, 22.0, 11.0, 8.0, 15.0, 6.0, 4.0, 3.0, 14.0, 4.0, 7.0, 10.0, 14.0, 4.0, 12.0, 13.0, 22.0, 11.0, 18.0, 4.0, 11.0, 12.0, 8.0, 26.0, 9.0, 3.0, 4.0, 17.0, 7.0, 3.0, 4.0, 13.0, 1.0, 2.0, 10.0, 12.0, 6.0, 7.0, 17.0, 4.0, 18.0, 6.0, 25.0, 9.0, 17.0, 18.0, 16.0, 10.0, 16.0, 11.0, 11.0, 9.0, 17.0, 4.0, 1.0, 17.0, 18.0, 14.0, 10.0, 21.0, 7.0, 5.0, 9.0, 17.0, 19.0, 14.0, 11.0, 2.0, 7.0, 21.0, 9.0, 4.0, 8.0, 3.0, 6.0, 17.0, 14.0, 15.0, 18.0, 10.0, 1.0, 4.0, 12.0, 15.0, 3.0, 11.0, 1.0, 5.0, 17.0, 22.0, 7.0, 19.0, 8.0, 1.0, 13.0, 11.0, 4.0, 5.0, 3.0, 7.0, 9.0, 22.0, 9.0, 4.0, 2.0, 3.0, 12.0, 6.0, 6.0, 12.0, 14.0, 12.0, 4.0, 10.0, 7.0, 10.0, 5.0, 12.0, 3.0, 6.0, 10.0, 12.0, 14.0, 7.0, 3.0, 4.0, 9.0, 9.0, 8.0, 19.0, 14.0, 18.0, 6.0, 3.0, 30.0, 34.0, 26.0, 23.0, 54.0, 3.0, 6.0, 16.0, 31.0, 25.0, 22.0, 14.0, 8.0, 3.0, 25.0, 31.0, 17.0, 11.0, 6.0, 4.0, 3.0, 7.0, 14.0, 18.0, 19.0, 14.0, 9.0, 3.0, 17.0, 22.0, 8.0, 9.0, 4.0, 4.0, 3.0, 4.0, 4.0, 13.0, 11.0, 10.0, 5.0, 2.0, 6.0, 14.0, 12.0, 10.0, 16.0, 8.0, 8.0, 6.0, 22.0, 14.0, 20.0, 9.0, 3.0, 5.0, 11.0, 16.0, 11.0, 16.0, 21.0, 3.0, 1.0, 4.0, 13.0, 12.0, 10.0, 11.0, 7.0, 15.0, 24.0, 21.0, 16.0, 9.0, 16.0, 7.0, 3.0, 10.0, 20.0, 13.0, 22.0, 11.0, 7.0, 3.0, 11.0, 20.0, 25.0, 19.0, 33.0, 22.0, 3.0, 8.0, 32.0, 16.0, 34.0, 28.0, 15.0, 5.0, 15.0, 38.0, 31.0, 19.0, 22.0, 14.0, 12.0, 22.0, 21.0, 16.0, 31.0, 19.0, 18.0, 5.0, 5.0, 14.0, 17.0, 12.0, 35.0, 19.0, 19.0, 7.0, 24.0, 31.0, 14.0, 18.0, 5.0, 15.0, 13.0, 11.0, 16.0, 14.0, 11.0, 7.0, 9.0, 3.0, 10.0, 18.0, 15.0, 28.0, 7.0, 5.0, 12.0, 21.0, 19.0, 8.0, 8.0, 5.0, 8.0, 28.0, 46.0, 23.0, 30.0, 11.0, 9.0, 2.0, 16.0, 17.0, 28.0, 35.0, 14.0, 7.0, 14.0, 14.0, 25.0, 14.0, 33.0, 14.0, 16.0, 21.0, 37.0, 14.0, 18.0, 23.0, 9.0, 9.0, 23.0, 27.0, 18.0, 43.0, 36.0, 19.0, 12.0, 27.0, 25.0, 34.0, 30.0, 24.0, 11.0, 8.0, 10.0, 22.0, 30.0, 30.0, 22.0, 10.0, 5.0, 12.0, 27.0, 38.0, 17.0, 10.0, 2.0, 1.0, 11.0, 30.0, 14.0, 20.0, 18.0, 8.0, 5.0, 11.0, 7.0, 5.0, 19.0, 8.0, 6.0, 1.0, 11.0, 13.0, 16.0, 20.0, 5.0, 1.0, 13.0, 19.0, 12.0, 19.0, 15.0, 4.0, 4.0, 12.0, 24.0, 11.0, 8.0, 3.0, 5.0, 5.0, 7.0, 6.0, 4.0, 7.0, 3.0, 4.0, 1.0, 9.0, 18.0, 20.0, 13.0, 2.0, 7.0, 16.0, 15.0, 12.0, 13.0, 6.0, 6.0, 14.0, 13.0, 17.0, 13.0, 10.0, 6.0, 4.0, 9.0, 21.0, 11.0, 13.0, 13.0, 5.0, 7.0, 13.0, 27.0, 22.0, 23.0, 23.0, 7.0, 6.0, 22.0, 29.0, 32.0, 18.0, 21.0, 5.0, 5.0, 20.0, 32.0, 43.0, 26.0, 26.0, 6.0, 1.0, 18.0, 23.0, 24.0, 6.0, 14.0, 1.0, 4.0, 15.0, 26.0, 12.0, 16.0, 9.0, 8.0, 5.0, 10.0, 22.0, 12.0, 21.0, 8.0, 4.0, 2.0, 5.0, 6.0, 39.0, 19.0, 11.0, 11.0, 3.0, 12.0, 13.0, 5.0, 5.0, 1.0, 15.0, 7.0, 12.0, 12.0, 7.0, 4.0, 4.0, 18.0, 23.0, 21.0, 19.0, 14.0, 5.0, 5.0, 14.0, 17.0, 15.0, 10.0, 17.0, 8.0, 3.0, 10.0, 21.0, 20.0, 5.0, 6.0, 10.0, 3.0, 12.0, 19.0, 19.0, 7.0, 12.0, 8.0, 3.0, 12.0, 15.0, 13.0, 18.0, 9.0, 3.0, 2.0, 5.0, 12.0, 16.0, 22.0, 17.0, 3.0, 5.0, 4.0, 8.0, 6.0, 7.0, 8.0, 8.0, 12.0, 16.0, 24.0, 13.0, 22.0, 22.0, 5.0, 3.0, 15.0, 8.0, 14.0, 19.0, 15.0, 3.0, 2.0, 15.0, 19.0, 21.0, 22.0, 25.0, 2.0, 4.0, 21.0, 23.0, 30.0, 25.0, 17.0, 7.0, 2.0, 17.0, 19.0, 20.0, 11.0, 20.0, 10.0, 4.0, 24.0, 20.0, 13.0, 20.0, 22.0, 10.0, 9.0, 14.0, 19.0, 30.0, 14.0, 19.0, 14.0, 12.0, 13.0, 23.0, 17.0, 19.0, 16.0, 10.0, 3.0, 19.0, 23.0, 29.0, 29.0, 25.0, 23.0, 10.0, 22.0, 25.0, 23.0, 22.0, 30.0, 23.0, 5.0, 15.0, 32.0, 26.0, 25.0, 7.0, 7.0, 1.0, 24.0, 27.0, 30.0, 17.0, 14.0, 3.0, 2.0, 5.0, 15.0, 18.0, 24.0, 38.0, 6.0, 11.0, 6.0, 18.0, 21.0, 17.0, 26.0, 9.0, 1.0, 4.0, 13.0, 23.0, 19.0, 24.0, 5.0, 5.0, 11.0, 9.0, 5.0, 9.0, 26.0, 13.0, 13.0, 13.0, 17.0, 24.0, 19.0, 17.0, 12.0, 3.0, 17.0, 28.0, 21.0, 17.0, 13.0, 10.0, 1.0, 10.0, 17.0, 23.0, 18.0, 15.0, 3.0, 3.0, 5.0, 11.0, 21.0, 13.0, 12.0, 5.0, 11.0, 15.0, 20.0, 16.0, 6.0, 3.0, 2.0, 7.0, 16.0, 10.0, 10.0, 7.0, 5.0, 5.0, 20.0, 15.0, 9.0, 7.0, 6.0, 4.0, 3.0, 9.0, 16.0, 5.0, 16.0, 11.0, 3.0, 8.0, 12.0, 12.0, 17.0, 15.0, 11.0, 5.0, 2.0, 7.0, 8.0, 13.0, 8.0, 11.0, 9.0, 5.0, 14.0, 13.0, 15.0, 14.0, 14.0, 10.0, 1.0, 5.0, 12.0, 11.0, 19.0, 19.0, 7.0, 4.0, 3.0, 16.0, 10.0, 4.0, 6.0, 5.0, 6.0, 10.0, 5.0, 14.0, 15.0, 6.0, 7.0, 7.0, 5.0, 10.0, 18.0, 19.0, 11.0, 3.0, 1.0, 9.0, 11.0, 8.0, 17.0, 4.0, 7.0, 2.0, 5.0, 11.0, 8.0, 7.0, 14.0, 5.0, 8.0, 15.0, 14.0, 14.0, 20.0, 3.0, 2.0, 6.0, 16.0, 7.0, 12.0, 15.0, 9.0, 5.0, 3.0, 12.0, 18.0, 11.0, 4.0, 2.0, 8.0, 5.0, 20.0, 21.0, 16.0, 8.0, 9.0, 4.0, 11.0, 17.0, 12.0, 8.0, 7.0, 5.0, 10.0, 13.0, 17.0, 7.0, 5.0, 7.0, 8.0, 8.0, 12.0, 10.0, 3.0, 7.0, 4.0, 16.0, 17.0, 20.0, 10.0, 15.0, 8.0, 4.0, 9.0, 18.0, 15.0, 18.0, 13.0, 9.0, 4.0, 7.0, 14.0, 15.0, 14.0, 13.0, 3.0, 2.0, 5.0, 7.0, 10.0, 15.0, 5.0, 4.0, 3.0, 6.0, 10.0, 6.0, 4.0, 1.0, 1.0, 5.0, 7.0, 8.0, 2.0, 8.0, 6.0, 4.0, 5.0, 12.0, 9.0, 8.0, 8.0, 2.0, 6.0, 5.0, 15.0, 11.0, 7.0, 5.0, 7.0, 3.0, 11.0, 17.0, 8.0, 8.0, 8.0, 4.0, 3.0, 2.0, 5.0, 9.0, 2.0, 6.0, 4.0, 1.0, 9.0, 14.0, 12.0, 10.0, 10.0, 1.0, 2.0, 14.0, 12.0, 18.0, 10.0, 10.0, 6.0, 4.0, 5.0, 5.0, 9.0, 12.0, 14.0, 6.0, 4.0, 2.0, 13.0, 9.0, 11.0, 13.0, 7.0, 5.0, 11.0, 12.0, 22.0, 12.0, 8.0, 2.0, 3.0, 4.0, 15.0, 12.0, 9.0, 8.0, 5.0, 4.0, 8.0, 17.0, 11.0, 5.0, 16.0, 5.0, 5.0, 5.0, 13.0, 9.0, 13.0, 5.0, 3.0, 4.0, 7.0, 12.0, 10.0, 11.0, 8.0, 2.0, 3.0, 12.0, 7.0, 13.0, 8.0, 1.0, 1.0, 5.0, 3.0, 9.0, 7.0, 13.0, 10.0, 2.0, 2.0, 4.0, 8.0, 10.0, 13.0, 9.0, 6.0, 3.0, 8.0, 11.0, 9.0, 8.0, 10.0, 1.0, 8.0, 11.0, 15.0, 15.0, 7.0, 15.0, 2.0, 2.0, 10.0, 8.0, 4.0, 8.0, 10.0, 1.0, 2.0, 15.0, 7.0, 8.0, 11.0, 14.0, 6.0, 3.0, 4.0, 10.0, 9.0, 11.0, 7.0, 6.0, 1.0, 5.0, 4.0, 4.0, 6.0, 7.0, 3.0, 6.0, 13.0, 10.0, 9.0, 7.0, 9.0, 3.0, 15.0, 6.0, 9.0, 8.0, 15.0, 5.0, 3.0, 3.0, 3.0, 4.0, 16.0, 13.0, 6.0, 2.0, 8.0, 11.0, 13.0, 12.0, 12.0, 14.0, 1.0, 9.0, 12.0, 9.0, 6.0, 2.0, 3.0, 7.0, 12.0, 11.0, 8.0, 4.0, 5.0, 2.0, 7.0, 6.0, 6.0, 5.0, 6.0, 3.0, 3.0, 12.0, 6.0, 8.0, 5.0, 5.0, 9.0, 8.0, 7.0, 12.0, 3.0, 6.0, 3.0, 7.0, 8.0, 9.0, 9.0, 5.0, 2.0, 3.0, 5.0, 8.0, 7.0, 12.0, 9.0, 2.0, 1.0, 4.0, 7.0, 11.0, 13.0, 6.0, 2.0, 1.0, 2.0, 7.0, 9.0, 5.0, 9.0, 4.0, 1.0, 4.0, 9.0, 11.0, 9.0, 7.0, 2.0, 2.0, 6.0, 10.0, 9.0, 12.0, 8.0, 7.0, 4.0, 5.0, 3.0, 9.0, 7.0, 7.0, 2.0, 2.0, 5.0, 3.0, 6.0, 3.0, 5.0, 2.0, 1.0, 8.0, 9.0, 3.0, 6.0, 7.0, 4.0, 1.0, 5.0, 7.0, 4.0, 3.0, 8.0, 4.0, 1.0, 3.0, 5.0, 11.0, 7.0, 6.0, 5.0, 5.0, 9.0, 7.0, 6.0, 8.0, 1.0, 6.0, 4.0, 7.0, 7.0, 6.0, 11.0, 15.0, 5.0, 3.0, 4.0, 7.0, 10.0, 4.0, 5.0, 1.0, 4.0, 10.0, 7.0, 3.0, 5.0, 3.0, 1.0, 5.0, 6.0, 7.0, 10.0, 6.0, 2.0, 3.0, 5.0, 9.0, 12.0, 13.0, 6.0, 3.0, 8.0, 9.0, 19.0, 13.0, 5.0, 1.0, 3.0, 5.0, 8.0, 10.0, 13.0, 8.0, 6.0, 1.0, 3.0, 6.0, 3.0, 15.0, 14.0, 8.0, 6.0, 5.0, 2.0, 5.0, 10.0, 8.0, 8.0, 1.0, 8.0, 9.0, 10.0, 10.0, 9.0, 6.0, 7.0, 6.0, 8.0, 16.0, 15.0, 17.0, 3.0, 3.0, 15.0, 7.0, 15.0, 6.0, 10.0, 5.0, 3.0, 9.0, 12.0, 10.0, 18.0, 7.0, 7.0, 2.0, 3.0, 8.0, 5.0, 6.0, 5.0, 4.0, 4.0, 10.0, 17.0, 5.0, 11.0, 2.0, 3.0, 6.0, 9.0, 3.0, 2.0, 1.0, 1.0, 3.0, 6.0, 6.0, 3.0, 6.0, 3.0, 1.0, 14.0, 6.0, 6.0, 11.0, 4.0, 1.0, 3.0, 4.0, 5.0, 13.0, 1.0, 3.0, 6.0, 8.0, 4.0, 9.0, 3.0, 5.0, 2.0, 3.0, 5.0, 7.0, 1.0, 6.0, 5.0, 8.0, 4.0, 12.0, 4.0, 6.0, 7.0, 9.0, 4.0, 11.0, 1.0, 6.0, 9.0, 8.0, 12.0, 5.0, 2.0, 1.0, 9.0, 11.0, 6.0, 10.0, 5.0, 3.0, 1.0, 4.0, 3.0, 8.0, 6.0, 8.0, 1.0, 14.0, 7.0, 11.0, 8.0, 5.0, 5.0, 2.0, 8.0, 8.0, 4.0, 10.0, 11.0, 1.0, 2.0, 9.0, 10.0, 6.0, 11.0, 5.0, 1.0, 1.0, 3.0, 5.0, 9.0, 7.0, 9.0, 1.0, 1.0, 7.0, 5.0, 2.0, 7.0, 2.0, 5.0, 12.0, 7.0, 6.0, 6.0, 1.0, 4.0, 7.0, 4.0, 9.0, 4.0, 3.0, 8.0, 7.0, 12.0, 9.0, 1.0, 3.0, 1.0, 5.0, 2.0, 9.0, 10.0, 4.0, 5.0, 5.0, 5.0, 10.0, 11.0, 8.0, 3.0, 5.0, 11.0, 8.0, 13.0, 8.0, 17.0, 5.0, 8.0, 7.0, 11.0, 7.0, 12.0, 4.0, 2.0, 12.0, 8.0, 10.0, 18.0, 14.0, 9.0, 12.0, 18.0, 7.0, 12.0, 10.0, 4.0, 5.0, 11.0, 8.0, 6.0, 9.0, 8.0, 7.0, 1.0, 2.0, 14.0, 11.0, 11.0, 10.0, 4.0, 1.0, 7.0, 8.0, 11.0, 10.0, 8.0, 4.0, 1.0, 3.0, 7.0, 12.0, 10.0, 10.0, 4.0, 4.0, 6.0, 10.0, 3.0, 11.0, 2.0, 4.0, 5.0, 11.0, 7.0, 8.0, 17.0, 11.0, 1.0, 3.0, 7.0, 5.0, 12.0, 16.0, 7.0, 8.0, 4.0, 6.0, 5.0, 5.0, 4.0, 12.0, 14.0, 5.0, 9.0, 6.0, 6.0, 7.0, 13.0, 7.0, 3.0, 3.0, 8.0, 9.0, 8.0, 12.0, 6.0, 8.0, 4.0, 6.0, 6.0, 10.0, 15.0, 3.0, 4.0, 7.0, 7.0, 17.0, 5.0, 6.0, 3.0, 3.0, 9.0, 8.0, 5.0, 11.0, 7.0, 3.0, 3.0, 3.0, 10.0, 8.0, 11.0, 8.0, 5.0, 1.0, 9.0, 6.0, 11.0, 11.0, 7.0, 2.0, 4.0, 10.0, 6.0, 9.0, 13.0, 10.0, 6.0, 9.0, 13.0, 9.0, 5.0, 4.0, 10.0, 3.0, 3.0, 9.0, 10.0, 4.0, 11.0, 7.0, 3.0, 3.0, 12.0, 8.0, 2.0, 9.0, 5.0, 7.0, 2.0, 1.0, 5.0, 3.0, 1.0, 2.0, 5.0, 6.0, 5.0, 7.0, 5.0, 7.0, 3.0, 11.0, 9.0, 6.0, 7.0, 6.0, 5.0, 5.0, 2.0, 10.0, 9.0, 9.0, 4.0, 2.0, 2.0, 4.0, 10.0, 8.0, 8.0, 12.0, 3.0, 5.0, 10.0, 7.0, 6.0, 12.0, 8.0, 7.0, 3.0, 2.0, 3.0, 3.0, 2.0, 4.0, 1.0, 2.0, 1.0, 4.0, 7.0, 6.0, 6.0, 4.0, 1.0, 8.0, 7.0, 9.0, 4.0, 9.0, 7.0, 1.0, 6.0, 7.0, 14.0, 3.0, 9.0, 4.0, 2.0, 17.0, 12.0, 11.0, 10.0, 8.0, 6.0, 5.0, 16.0, 15.0, 12.0, 7.0, 8.0, 6.0, 8.0, 4.0, 10.0, 14.0, 7.0, 9.0, 5.0, 4.0, 14.0, 13.0, 9.0, 3.0, 4.0, 9.0, 5.0, 9.0, 10.0, 7.0, 8.0, 9.0, 3.0, 7.0, 9.0, 8.0, 9.0, 4.0, 3.0, 3.0, 4.0, 10.0, 4.0, 6.0, 6.0, 5.0, 7.0, 9.0, 3.0, 4.0, 6.0, 3.0, 3.0, 10.0, 3.0, 4.0, 8.0, 8.0, 3.0, 4.0, 6.0, 9.0, 4.0, 8.0, 2.0, 6.0, 5.0, 9.0, 3.0, 4.0, 1.0, 9.0, 11.0, 10.0, 11.0, 9.0, 2.0, 5.0, 5.0, 9.0, 5.0, 10.0, 6.0, 2.0, 1.0, 9.0, 11.0, 8.0, 5.0, 6.0, 3.0, 5.0, 5.0, 4.0, 4.0, 4.0, 4.0, 10.0, 3.0, 10.0, 11.0, 8.0, 4.0, 2.0, 3.0, 10.0, 9.0, 5.0, 6.0, 6.0, 1.0, 4.0, 4.0, 8.0, 8.0, 4.0, 8.0, 3.0, 2.0, 2.0, 8.0, 7.0, 19.0, 11.0, 4.0, 3.0, 11.0, 14.0, 3.0, 12.0, 9.0, 4.0, 3.0, 8.0, 5.0, 8.0, 4.0, 11.0, 8.0, 7.0, 8.0, 10.0, 8.0, 9.0, 13.0, 1.0, 2.0, 7.0, 10.0, 10.0, 8.0, 11.0, 3.0, 2.0, 8.0, 16.0, 6.0, 10.0, 11.0, 3.0, 4.0, 12.0, 11.0, 9.0, 8.0, 12.0, 2.0, 2.0, 11.0, 16.0, 7.0, 6.0, 11.0, 5.0, 2.0, 6.0, 8.0, 10.0, 16.0, 7.0, 2.0, 1.0, 16.0, 10.0, 8.0, 8.0, 13.0, 3.0, 7.0, 6.0, 14.0, 21.0, 9.0, 13.0, 10.0, 9.0, 7.0, 11.0, 7.0, 9.0, 13.0, 4.0, 5.0, 7.0, 6.0, 9.0, 14.0, 10.0, 1.0, 3.0, 10.0, 9.0, 9.0, 5.0, 2.0, 8.0, 5.0, 12.0, 11.0, 10.0, 9.0, 18.0, 2.0, 2.0, 4.0, 17.0, 13.0, 13.0, 11.0, 4.0, 2.0, 10.0, 9.0, 10.0, 18.0, 8.0, 3.0, 6.0, 18.0, 9.0, 13.0, 7.0, 10.0, 7.0, 7.0, 8.0, 6.0, 18.0, 9.0, 11.0, 9.0, 6.0, 11.0, 16.0, 9.0, 13.0, 6.0, 3.0, 10.0, 13.0, 12.0, 10.0, 2.0, 1.0, 7.0, 16.0, 12.0, 10.0, 9.0, 11.0, 7.0, 9.0, 13.0, 12.0, 15.0, 9.0, 5.0, 4.0, 12.0, 15.0, 6.0, 4.0, 8.0, 5.0, 4.0, 3.0], \"type\": \"scatter\", \"x\": [\"2010-03-29\", \"2010-04-04\", \"2010-04-15\", \"2010-04-16\", \"2010-04-19\", \"2010-04-20\", \"2010-04-21\", \"2010-04-22\", \"2010-04-30\", \"2010-05-04\", \"2010-05-16\", \"2010-05-17\", \"2010-05-19\", \"2010-06-11\", \"2010-06-17\", \"2010-06-18\", \"2010-06-27\", \"2010-06-28\", \"2010-07-19\", \"2010-07-20\", \"2010-07-26\", \"2010-08-06\", \"2010-08-09\", \"2010-08-13\", \"2010-08-14\", \"2010-08-16\", \"2010-08-17\", \"2010-08-18\", \"2010-08-31\", \"2010-09-01\", \"2010-09-07\", \"2010-09-12\", \"2010-09-13\", \"2010-09-25\", \"2010-09-29\", \"2010-10-03\", \"2010-10-04\", \"2010-10-05\", \"2010-10-07\", \"2010-10-08\", \"2010-10-12\", \"2010-10-13\", \"2010-10-14\", \"2010-10-15\", \"2010-10-16\", \"2010-10-17\", \"2010-10-18\", \"2010-10-19\", \"2010-10-20\", \"2010-10-21\", \"2010-10-22\", \"2010-10-23\", \"2010-10-24\", \"2010-10-25\", \"2010-10-26\", \"2010-10-27\", \"2010-10-28\", \"2010-11-01\", \"2010-11-02\", \"2010-11-04\", \"2010-11-05\", \"2010-11-06\", \"2010-11-07\", \"2010-11-08\", \"2010-11-09\", \"2010-11-10\", \"2010-11-11\", \"2010-11-12\", \"2010-11-13\", \"2010-11-14\", \"2010-11-18\", \"2010-11-26\", \"2010-11-27\", \"2010-11-28\", \"2010-11-29\", \"2010-11-30\", \"2010-12-01\", \"2010-12-02\", \"2010-12-03\", \"2010-12-04\", \"2010-12-05\", \"2010-12-06\", \"2010-12-07\", \"2010-12-12\", \"2010-12-13\", \"2010-12-15\", \"2010-12-16\", \"2010-12-17\", \"2010-12-18\", \"2010-12-19\", \"2010-12-20\", \"2010-12-21\", \"2010-12-22\", \"2010-12-23\", \"2010-12-25\", \"2010-12-26\", \"2010-12-27\", \"2010-12-28\", \"2010-12-29\", \"2010-12-30\", \"2010-12-31\", \"2011-01-03\", \"2011-01-04\", \"2011-01-05\", \"2011-01-06\", \"2011-01-07\", \"2011-01-10\", \"2011-01-11\", \"2011-01-14\", \"2011-01-21\", \"2011-01-23\", \"2011-01-26\", \"2011-02-01\", \"2011-02-02\", \"2011-02-03\", \"2011-02-05\", \"2011-02-08\", \"2011-02-09\", \"2011-02-10\", \"2011-02-11\", \"2011-02-13\", \"2011-02-14\", \"2011-02-16\", \"2011-02-27\", \"2011-02-28\", \"2011-03-01\", \"2011-03-06\", \"2011-03-07\", \"2011-03-08\", \"2011-03-09\", \"2011-03-29\", \"2011-03-30\", \"2011-03-31\", \"2011-04-01\", \"2011-04-02\", \"2011-04-03\", \"2011-04-13\", \"2011-04-19\", \"2011-04-22\", \"2011-04-26\", \"2011-04-27\", \"2011-04-28\", \"2011-05-03\", \"2011-05-04\", \"2011-05-09\", \"2011-05-13\", \"2011-05-17\", \"2011-05-19\", \"2011-05-20\", \"2011-05-22\", \"2011-05-23\", \"2011-05-24\", \"2011-05-26\", \"2011-05-27\", \"2011-05-29\", \"2011-05-30\", \"2011-05-31\", \"2011-06-01\", \"2011-06-02\", \"2011-06-05\", \"2011-06-07\", \"2011-06-09\", \"2011-06-11\", \"2011-06-17\", \"2011-06-20\", \"2011-06-23\", \"2011-06-24\", \"2011-06-25\", \"2011-06-27\", \"2011-06-28\", \"2011-06-29\", \"2011-07-07\", \"2011-07-09\", \"2011-07-10\", \"2011-07-12\", \"2011-07-13\", \"2011-07-14\", \"2011-07-15\", \"2011-07-17\", \"2011-07-18\", \"2011-07-21\", \"2011-07-22\", \"2011-07-31\", \"2011-08-01\", \"2011-08-02\", \"2011-08-03\", \"2011-08-10\", \"2011-08-27\", \"2011-08-29\", \"2011-08-30\", \"2011-08-31\", \"2011-09-26\", \"2011-09-27\", \"2011-10-01\", \"2011-10-09\", \"2011-10-14\", \"2011-10-17\", \"2011-10-30\", \"2011-11-02\", \"2011-11-04\", \"2011-11-08\", \"2011-11-09\", \"2011-11-14\", \"2011-11-22\", \"2011-11-30\", \"2011-12-01\", \"2011-12-03\", \"2011-12-14\", \"2011-12-15\", \"2012-01-05\", \"2012-01-09\", \"2012-01-14\", \"2012-01-26\", \"2012-01-31\", \"2012-02-06\", \"2012-02-07\", \"2012-02-09\", \"2012-02-10\", \"2012-02-11\", \"2012-02-12\", \"2012-02-13\", \"2012-02-20\", \"2012-02-22\", \"2012-02-24\", \"2012-03-01\", \"2012-03-06\", \"2012-03-17\", \"2012-03-23\", \"2012-03-29\", \"2012-03-30\", \"2012-04-05\", \"2012-04-06\", \"2012-04-09\", \"2012-04-10\", \"2012-04-12\", \"2012-04-17\", \"2012-04-20\", \"2012-04-23\", \"2012-04-24\", \"2012-05-06\", \"2012-05-07\", \"2012-05-15\", \"2012-05-16\", \"2012-05-18\", \"2012-05-19\", \"2012-05-20\", \"2012-05-22\", \"2012-05-26\", \"2012-05-31\", \"2012-06-04\", \"2012-06-06\", \"2012-06-07\", \"2012-06-08\", \"2012-06-09\", \"2012-06-11\", \"2012-06-12\", \"2012-06-13\", \"2012-06-14\", \"2012-06-16\", \"2012-06-17\", \"2012-06-20\", \"2012-06-22\", \"2012-06-29\", \"2012-06-30\", \"2012-07-01\", \"2012-07-02\", \"2012-07-06\", \"2012-07-07\", \"2012-07-08\", \"2012-07-10\", \"2012-07-12\", \"2012-07-13\", \"2012-07-17\", \"2012-07-18\", \"2012-07-19\", \"2012-07-22\", \"2012-07-23\", \"2012-07-24\", \"2012-07-25\", \"2012-07-26\", \"2012-07-27\", \"2012-07-29\", \"2012-07-30\", \"2012-07-31\", \"2012-08-01\", \"2012-08-02\", \"2012-08-03\", \"2012-08-04\", \"2012-08-05\", \"2012-08-06\", \"2012-08-08\", \"2012-08-09\", \"2012-08-10\", \"2012-08-11\", \"2012-08-12\", \"2012-08-13\", \"2012-08-14\", \"2012-08-17\", \"2012-08-19\", \"2012-08-20\", \"2012-08-21\", \"2012-08-22\", \"2012-08-23\", \"2012-08-24\", \"2012-08-25\", \"2012-08-26\", \"2012-08-27\", \"2012-08-28\", \"2012-08-29\", \"2012-08-30\", \"2012-08-31\", \"2012-09-01\", \"2012-09-02\", \"2012-09-03\", \"2012-09-04\", \"2012-09-05\", \"2012-09-06\", \"2012-09-07\", \"2012-09-08\", \"2012-09-10\", \"2012-09-11\", \"2012-09-12\", \"2012-09-13\", \"2012-09-14\", \"2012-09-16\", \"2012-09-17\", \"2012-09-19\", \"2012-09-21\", \"2012-09-22\", \"2012-09-23\", \"2012-09-24\", \"2012-09-25\", \"2012-09-26\", \"2012-09-27\", \"2012-09-28\", \"2012-09-29\", \"2012-09-30\", \"2012-10-01\", \"2012-10-02\", \"2012-10-03\", \"2012-10-04\", \"2012-10-05\", \"2012-10-06\", \"2012-10-07\", \"2012-10-08\", \"2012-10-09\", \"2012-10-10\", \"2012-10-11\", \"2012-10-12\", \"2012-10-13\", \"2012-10-14\", \"2012-10-15\", \"2012-10-16\", \"2012-10-18\", \"2012-10-19\", \"2012-10-20\", \"2012-10-21\", \"2012-10-22\", \"2012-10-23\", \"2012-10-24\", \"2012-10-25\", \"2012-10-26\", \"2012-10-27\", \"2012-10-28\", \"2012-10-29\", \"2012-10-30\", \"2012-10-31\", \"2012-11-01\", \"2012-11-02\", \"2012-11-03\", \"2012-11-04\", \"2012-11-05\", \"2012-11-06\", \"2012-11-07\", \"2012-11-08\", \"2012-11-09\", \"2012-11-10\", \"2012-11-11\", \"2012-11-12\", \"2012-11-13\", \"2012-11-14\", \"2012-11-15\", \"2012-11-16\", \"2012-11-17\", \"2012-11-18\", \"2012-11-19\", \"2012-11-20\", \"2012-11-21\", \"2012-11-26\", \"2012-11-27\", \"2012-11-28\", \"2012-11-29\", \"2012-12-01\", \"2012-12-02\", \"2012-12-04\", \"2012-12-05\", \"2012-12-06\", \"2012-12-07\", \"2012-12-08\", \"2012-12-10\", \"2012-12-11\", \"2012-12-13\", \"2012-12-14\", \"2012-12-18\", \"2012-12-19\", \"2012-12-20\", \"2012-12-21\", \"2012-12-22\", \"2012-12-24\", \"2012-12-25\", \"2012-12-27\", \"2012-12-28\", \"2012-12-29\", \"2012-12-30\", \"2012-12-31\", \"2013-01-01\", \"2013-01-02\", \"2013-01-03\", \"2013-01-05\", \"2013-01-06\", \"2013-01-07\", \"2013-01-08\", \"2013-01-09\", \"2013-01-10\", \"2013-01-11\", \"2013-01-12\", \"2013-01-13\", \"2013-01-14\", \"2013-01-15\", \"2013-01-16\", \"2013-01-17\", \"2013-01-18\", \"2013-01-19\", \"2013-01-20\", \"2013-01-21\", \"2013-01-22\", \"2013-01-23\", \"2013-01-24\", \"2013-01-25\", \"2013-01-26\", \"2013-01-27\", \"2013-01-28\", \"2013-01-29\", \"2013-01-30\", \"2013-01-31\", \"2013-02-01\", \"2013-02-02\", \"2013-02-03\", \"2013-02-04\", \"2013-02-05\", \"2013-02-06\", \"2013-02-07\", \"2013-02-08\", \"2013-02-09\", \"2013-02-10\", \"2013-02-11\", \"2013-02-12\", \"2013-02-13\", \"2013-02-14\", \"2013-02-15\", \"2013-02-16\", \"2013-02-17\", \"2013-02-18\", \"2013-02-19\", \"2013-02-20\", \"2013-02-21\", \"2013-02-22\", \"2013-02-23\", \"2013-02-24\", \"2013-02-25\", \"2013-02-26\", \"2013-02-27\", \"2013-02-28\", \"2013-03-01\", \"2013-03-03\", \"2013-03-04\", \"2013-03-05\", \"2013-03-08\", \"2013-03-09\", \"2013-03-10\", \"2013-03-11\", \"2013-03-12\", \"2013-03-13\", \"2013-03-14\", \"2013-03-15\", \"2013-03-16\", \"2013-03-17\", \"2013-03-18\", \"2013-03-19\", \"2013-03-20\", \"2013-03-21\", \"2013-03-22\", \"2013-03-23\", \"2013-03-24\", \"2013-03-25\", \"2013-03-26\", \"2013-03-27\", \"2013-03-28\", \"2013-03-29\", \"2013-03-30\", \"2013-03-31\", \"2013-04-01\", \"2013-04-02\", \"2013-04-03\", \"2013-04-04\", \"2013-04-05\", \"2013-04-06\", \"2013-04-07\", \"2013-04-08\", \"2013-04-09\", \"2013-04-10\", \"2013-04-11\", \"2013-04-12\", \"2013-04-13\", \"2013-04-14\", \"2013-04-15\", \"2013-04-16\", \"2013-04-17\", \"2013-04-18\", \"2013-04-19\", \"2013-04-20\", \"2013-04-21\", \"2013-04-22\", \"2013-04-23\", \"2013-04-24\", \"2013-04-25\", \"2013-04-26\", \"2013-04-28\", \"2013-04-29\", \"2013-04-30\", \"2013-05-01\", \"2013-05-02\", \"2013-05-03\", \"2013-05-04\", \"2013-05-05\", \"2013-05-06\", \"2013-05-07\", \"2013-05-08\", \"2013-05-09\", \"2013-05-10\", \"2013-05-11\", \"2013-05-12\", \"2013-05-14\", \"2013-05-15\", \"2013-05-16\", \"2013-05-17\", \"2013-05-18\", \"2013-05-19\", \"2013-05-20\", \"2013-05-21\", \"2013-05-22\", \"2013-05-24\", \"2013-05-26\", \"2013-05-28\", \"2013-05-29\", \"2013-05-30\", \"2013-05-31\", \"2013-06-01\", \"2013-06-02\", \"2013-06-03\", \"2013-06-04\", \"2013-06-05\", \"2013-06-06\", \"2013-06-07\", \"2013-06-08\", \"2013-06-09\", \"2013-06-10\", \"2013-06-11\", \"2013-06-12\", \"2013-06-13\", \"2013-06-14\", \"2013-06-15\", \"2013-06-16\", \"2013-06-17\", \"2013-06-18\", \"2013-06-19\", \"2013-06-20\", \"2013-06-21\", \"2013-06-22\", \"2013-06-23\", \"2013-06-24\", \"2013-06-25\", \"2013-06-26\", \"2013-06-27\", \"2013-06-28\", \"2013-06-29\", \"2013-06-30\", \"2013-07-01\", \"2013-07-02\", \"2013-07-03\", \"2013-07-04\", \"2013-07-05\", \"2013-07-06\", \"2013-07-07\", \"2013-07-08\", \"2013-07-09\", \"2013-07-10\", \"2013-07-11\", \"2013-07-12\", \"2013-07-13\", \"2013-07-14\", \"2013-07-15\", \"2013-07-16\", \"2013-07-17\", \"2013-07-18\", \"2013-07-19\", \"2013-07-21\", \"2013-07-22\", \"2013-07-23\", \"2013-07-24\", \"2013-07-25\", \"2013-07-26\", \"2013-07-27\", \"2013-07-28\", \"2013-07-29\", \"2013-07-30\", \"2013-07-31\", \"2013-08-01\", \"2013-08-02\", \"2013-08-03\", \"2013-08-04\", \"2013-08-05\", \"2013-08-06\", \"2013-08-07\", \"2013-08-08\", \"2013-08-09\", \"2013-08-10\", \"2013-08-11\", \"2013-08-12\", \"2013-08-13\", \"2013-08-14\", \"2013-08-15\", \"2013-08-16\", \"2013-08-17\", \"2013-08-18\", \"2013-08-19\", \"2013-08-20\", \"2013-08-21\", \"2013-08-22\", \"2013-08-23\", \"2013-08-24\", \"2013-08-26\", \"2013-08-27\", \"2013-08-28\", \"2013-08-29\", \"2013-08-30\", \"2013-08-31\", \"2013-09-01\", \"2013-09-02\", \"2013-09-03\", \"2013-09-04\", \"2013-09-05\", \"2013-09-06\", \"2013-09-07\", \"2013-09-08\", \"2013-09-09\", \"2013-09-10\", \"2013-09-11\", \"2013-09-12\", \"2013-09-13\", \"2013-09-14\", \"2013-09-15\", \"2013-09-16\", \"2013-09-17\", \"2013-09-18\", \"2013-09-19\", \"2013-09-20\", \"2013-09-21\", \"2013-09-22\", \"2013-09-23\", \"2013-09-24\", \"2013-09-25\", \"2013-09-26\", \"2013-09-27\", \"2013-09-28\", \"2013-09-29\", \"2013-09-30\", \"2013-10-01\", \"2013-10-02\", \"2013-10-03\", \"2013-10-04\", \"2013-10-05\", \"2013-10-06\", \"2013-10-07\", \"2013-10-08\", \"2013-10-09\", \"2013-10-10\", \"2013-10-11\", \"2013-10-12\", \"2013-10-13\", \"2013-10-14\", \"2013-10-15\", \"2013-10-16\", \"2013-10-17\", \"2013-10-18\", \"2013-10-19\", \"2013-10-20\", \"2013-10-21\", \"2013-10-22\", \"2013-10-23\", \"2013-10-24\", \"2013-10-25\", \"2013-10-26\", \"2013-10-27\", \"2013-10-28\", \"2013-10-29\", \"2013-10-30\", \"2013-10-31\", \"2013-11-01\", \"2013-11-02\", \"2013-11-03\", \"2013-11-04\", \"2013-11-05\", \"2013-11-06\", \"2013-11-07\", \"2013-11-08\", \"2013-11-09\", \"2013-11-10\", \"2013-11-11\", \"2013-11-12\", \"2013-11-13\", \"2013-11-14\", \"2013-11-15\", \"2013-11-16\", \"2013-11-17\", \"2013-11-18\", \"2013-11-19\", \"2013-11-20\", \"2013-11-21\", \"2013-11-22\", \"2013-11-23\", \"2013-11-24\", \"2013-11-25\", \"2013-11-26\", \"2013-11-27\", \"2013-11-28\", \"2013-11-29\", \"2013-11-30\", \"2013-12-01\", \"2013-12-02\", \"2013-12-03\", \"2013-12-04\", \"2013-12-05\", \"2013-12-06\", \"2013-12-07\", \"2013-12-08\", \"2013-12-09\", \"2013-12-10\", \"2013-12-11\", \"2013-12-12\", \"2013-12-13\", \"2013-12-14\", \"2013-12-15\", \"2013-12-16\", \"2013-12-17\", \"2013-12-18\", \"2013-12-19\", \"2013-12-20\", \"2013-12-21\", \"2013-12-22\", \"2013-12-23\", \"2013-12-24\", \"2013-12-25\", \"2013-12-26\", \"2013-12-27\", \"2013-12-28\", \"2013-12-29\", \"2013-12-30\", \"2013-12-31\", \"2014-01-01\", \"2014-01-02\", \"2014-01-03\", \"2014-01-04\", \"2014-01-05\", \"2014-01-06\", \"2014-01-07\", \"2014-01-08\", \"2014-01-09\", \"2014-01-10\", \"2014-01-11\", \"2014-01-12\", \"2014-01-13\", \"2014-01-14\", \"2014-01-15\", \"2014-01-16\", \"2014-01-17\", \"2014-01-18\", \"2014-01-19\", \"2014-01-20\", \"2014-01-21\", \"2014-01-22\", \"2014-01-23\", \"2014-01-24\", \"2014-01-26\", \"2014-01-27\", \"2014-01-28\", \"2014-01-29\", \"2014-01-30\", \"2014-02-01\", \"2014-02-03\", \"2014-02-04\", \"2014-02-05\", \"2014-02-06\", \"2014-02-07\", \"2014-02-08\", \"2014-02-09\", \"2014-02-10\", \"2014-02-11\", \"2014-02-12\", \"2014-02-13\", \"2014-02-14\", \"2014-02-16\", \"2014-02-17\", \"2014-02-18\", \"2014-02-19\", \"2014-02-20\", \"2014-02-21\", \"2014-02-22\", \"2014-02-23\", \"2014-02-24\", \"2014-02-25\", \"2014-02-26\", \"2014-02-27\", \"2014-02-28\", \"2014-03-01\", \"2014-03-02\", \"2014-03-03\", \"2014-03-04\", \"2014-03-05\", \"2014-03-06\", \"2014-03-07\", \"2014-03-08\", \"2014-03-09\", \"2014-03-10\", \"2014-03-11\", \"2014-03-12\", \"2014-03-13\", \"2014-03-14\", \"2014-03-15\", \"2014-03-16\", \"2014-03-17\", \"2014-03-18\", \"2014-03-19\", \"2014-03-20\", \"2014-03-21\", \"2014-03-22\", \"2014-03-23\", \"2014-03-24\", \"2014-03-25\", \"2014-03-26\", \"2014-03-27\", \"2014-03-28\", \"2014-03-29\", \"2014-03-30\", \"2014-03-31\", \"2014-04-01\", \"2014-04-02\", \"2014-04-03\", \"2014-04-04\", \"2014-04-05\", \"2014-04-06\", \"2014-04-07\", \"2014-04-08\", \"2014-04-09\", \"2014-04-10\", \"2014-04-11\", \"2014-04-12\", \"2014-04-13\", \"2014-04-14\", \"2014-04-15\", \"2014-04-16\", \"2014-04-17\", \"2014-04-18\", \"2014-04-19\", \"2014-04-20\", \"2014-04-21\", \"2014-04-22\", \"2014-04-23\", \"2014-04-24\", \"2014-04-25\", \"2014-04-26\", \"2014-04-27\", \"2014-04-28\", \"2014-04-29\", \"2014-04-30\", \"2014-05-01\", \"2014-05-02\", \"2014-05-03\", \"2014-05-04\", \"2014-05-05\", \"2014-05-06\", \"2014-05-07\", \"2014-05-08\", \"2014-05-09\", \"2014-05-10\", \"2014-05-11\", \"2014-05-12\", \"2014-05-13\", \"2014-05-14\", \"2014-05-15\", \"2014-05-16\", \"2014-05-17\", \"2014-05-18\", \"2014-05-19\", \"2014-05-20\", \"2014-05-21\", \"2014-05-22\", \"2014-05-23\", \"2014-05-25\", \"2014-05-26\", \"2014-05-27\", \"2014-05-28\", \"2014-05-29\", \"2014-05-30\", \"2014-05-31\", \"2014-06-01\", \"2014-06-02\", \"2014-06-03\", \"2014-06-04\", \"2014-06-05\", \"2014-06-06\", \"2014-06-07\", \"2014-06-08\", \"2014-06-09\", \"2014-06-10\", \"2014-06-11\", \"2014-06-12\", \"2014-06-13\", \"2014-06-14\", \"2014-06-15\", \"2014-06-16\", \"2014-06-17\", \"2014-06-18\", \"2014-06-19\", \"2014-06-20\", \"2014-06-21\", \"2014-06-22\", \"2014-06-23\", \"2014-06-24\", \"2014-06-25\", \"2014-06-26\", \"2014-06-27\", \"2014-06-28\", \"2014-06-29\", \"2014-06-30\", \"2014-07-01\", \"2014-07-02\", \"2014-07-03\", \"2014-07-04\", \"2014-07-05\", \"2014-07-07\", \"2014-07-08\", \"2014-07-09\", \"2014-07-10\", \"2014-07-11\", \"2014-07-12\", \"2014-07-14\", \"2014-07-15\", \"2014-07-16\", \"2014-07-17\", \"2014-07-18\", \"2014-07-19\", \"2014-07-20\", \"2014-07-21\", \"2014-07-22\", \"2014-07-23\", \"2014-07-24\", \"2014-07-25\", \"2014-07-26\", \"2014-07-27\", \"2014-07-28\", \"2014-07-29\", \"2014-07-30\", \"2014-07-31\", \"2014-08-01\", \"2014-08-02\", \"2014-08-03\", \"2014-08-04\", \"2014-08-05\", \"2014-08-06\", \"2014-08-07\", \"2014-08-08\", \"2014-08-09\", \"2014-08-10\", \"2014-08-11\", \"2014-08-12\", \"2014-08-13\", \"2014-08-14\", \"2014-08-15\", \"2014-08-16\", \"2014-08-17\", \"2014-08-18\", \"2014-08-19\", \"2014-08-20\", \"2014-08-21\", \"2014-08-22\", \"2014-08-23\", \"2014-08-24\", \"2014-08-25\", \"2014-08-26\", \"2014-08-27\", \"2014-08-28\", \"2014-08-29\", \"2014-08-30\", \"2014-08-31\", \"2014-09-02\", \"2014-09-03\", \"2014-09-04\", \"2014-09-05\", \"2014-09-06\", \"2014-09-07\", \"2014-09-08\", \"2014-09-09\", \"2014-09-10\", \"2014-09-11\", \"2014-09-12\", \"2014-09-13\", \"2014-09-14\", \"2014-09-15\", \"2014-09-16\", \"2014-09-17\", \"2014-09-18\", \"2014-09-19\", \"2014-09-20\", \"2014-09-21\", \"2014-09-22\", \"2014-09-23\", \"2014-09-24\", \"2014-09-25\", \"2014-09-26\", \"2014-09-27\", \"2014-09-28\", \"2014-09-29\", \"2014-09-30\", \"2014-10-01\", \"2014-10-02\", \"2014-10-03\", \"2014-10-05\", \"2014-10-06\", \"2014-10-07\", \"2014-10-08\", \"2014-10-09\", \"2014-10-10\", \"2014-10-11\", \"2014-10-12\", \"2014-10-13\", \"2014-10-14\", \"2014-10-15\", \"2014-10-16\", \"2014-10-17\", \"2014-10-18\", \"2014-10-19\", \"2014-10-20\", \"2014-10-21\", \"2014-10-22\", \"2014-10-23\", \"2014-10-24\", \"2014-10-25\", \"2014-10-26\", \"2014-10-27\", \"2014-10-28\", \"2014-10-29\", \"2014-10-30\", \"2014-10-31\", \"2014-11-01\", \"2014-11-02\", \"2014-11-03\", \"2014-11-04\", \"2014-11-05\", \"2014-11-06\", \"2014-11-07\", \"2014-11-08\", \"2014-11-09\", \"2014-11-10\", \"2014-11-11\", \"2014-11-12\", \"2014-11-13\", \"2014-11-14\", \"2014-11-15\", \"2014-11-16\", \"2014-11-17\", \"2014-11-18\", \"2014-11-19\", \"2014-11-20\", \"2014-11-21\", \"2014-11-22\", \"2014-11-24\", \"2014-11-25\", \"2014-11-26\", \"2014-11-27\", \"2014-11-28\", \"2014-11-29\", \"2014-11-30\", \"2014-12-01\", \"2014-12-02\", \"2014-12-03\", \"2014-12-04\", \"2014-12-05\", \"2014-12-06\", \"2014-12-08\", \"2014-12-09\", \"2014-12-10\", \"2014-12-11\", \"2014-12-12\", \"2014-12-14\", \"2014-12-15\", \"2014-12-16\", \"2014-12-17\", \"2014-12-18\", \"2014-12-19\", \"2014-12-20\", \"2014-12-21\", \"2014-12-22\", \"2014-12-23\", \"2014-12-24\", \"2014-12-25\", \"2014-12-26\", \"2014-12-27\", \"2014-12-29\", \"2014-12-30\", \"2014-12-31\", \"2015-01-01\", \"2015-01-02\", \"2015-01-04\", \"2015-01-05\", \"2015-01-06\", \"2015-01-07\", \"2015-01-08\", \"2015-01-09\", \"2015-01-10\", \"2015-01-11\", \"2015-01-12\", \"2015-01-13\", \"2015-01-14\", \"2015-01-15\", \"2015-01-16\", \"2015-01-17\", \"2015-01-18\", \"2015-01-19\", \"2015-01-20\", \"2015-01-21\", \"2015-01-22\", \"2015-01-23\", \"2015-01-24\", \"2015-01-25\", \"2015-01-26\", \"2015-01-27\", \"2015-01-28\", \"2015-01-29\", \"2015-01-30\", \"2015-01-31\", \"2015-02-01\", \"2015-02-02\", \"2015-02-03\", \"2015-02-04\", \"2015-02-05\", \"2015-02-06\", \"2015-02-07\", \"2015-02-08\", \"2015-02-09\", \"2015-02-10\", \"2015-02-11\", \"2015-02-12\", \"2015-02-13\", \"2015-02-14\", \"2015-02-15\", \"2015-02-16\", \"2015-02-17\", \"2015-02-18\", \"2015-02-19\", \"2015-02-20\", \"2015-02-21\", \"2015-02-22\", \"2015-02-23\", \"2015-02-24\", \"2015-02-25\", \"2015-02-26\", \"2015-02-27\", \"2015-02-28\", \"2015-03-01\", \"2015-03-02\", \"2015-03-03\", \"2015-03-04\", \"2015-03-05\", \"2015-03-06\", \"2015-03-07\", \"2015-03-08\", \"2015-03-09\", \"2015-03-10\", \"2015-03-11\", \"2015-03-12\", \"2015-03-13\", \"2015-03-14\", \"2015-03-15\", \"2015-03-16\", \"2015-03-17\", \"2015-03-18\", \"2015-03-19\", \"2015-03-20\", \"2015-03-21\", \"2015-03-22\", \"2015-03-23\", \"2015-03-24\", \"2015-03-25\", \"2015-03-26\", \"2015-03-27\", \"2015-03-28\", \"2015-03-29\", \"2015-03-30\", \"2015-03-31\", \"2015-04-01\", \"2015-04-02\", \"2015-04-03\", \"2015-04-04\", \"2015-04-05\", \"2015-04-06\", \"2015-04-07\", \"2015-04-08\", \"2015-04-09\", \"2015-04-10\", \"2015-04-11\", \"2015-04-12\", \"2015-04-13\", \"2015-04-14\", \"2015-04-15\", \"2015-04-16\", \"2015-04-17\", \"2015-04-18\", \"2015-04-19\", \"2015-04-20\", \"2015-04-21\", \"2015-04-22\", \"2015-04-23\", \"2015-04-24\", \"2015-04-25\", \"2015-04-26\", \"2015-04-27\", \"2015-04-28\", \"2015-04-29\", \"2015-04-30\", \"2015-05-01\", \"2015-05-02\", \"2015-05-03\", \"2015-05-04\", \"2015-05-05\", \"2015-05-06\", \"2015-05-07\", \"2015-05-08\", \"2015-05-09\", \"2015-05-10\", \"2015-05-11\", \"2015-05-12\", \"2015-05-13\", \"2015-05-14\", \"2015-05-15\", \"2015-05-16\", \"2015-05-17\", \"2015-05-18\", \"2015-05-19\", \"2015-05-20\", \"2015-05-21\", \"2015-05-22\", \"2015-05-23\", \"2015-05-24\", \"2015-05-25\", \"2015-05-26\", \"2015-05-27\", \"2015-05-28\", \"2015-05-29\", \"2015-05-30\", \"2015-05-31\", \"2015-06-01\", \"2015-06-02\", \"2015-06-03\", \"2015-06-04\", \"2015-06-05\", \"2015-06-06\", \"2015-06-07\", \"2015-06-08\", \"2015-06-09\", \"2015-06-10\", \"2015-06-11\", \"2015-06-12\", \"2015-06-13\", \"2015-06-14\", \"2015-06-15\", \"2015-06-16\", \"2015-06-17\", \"2015-06-18\", \"2015-06-19\", \"2015-06-20\", \"2015-06-21\", \"2015-06-22\", \"2015-06-23\", \"2015-06-24\", \"2015-06-25\", \"2015-06-26\", \"2015-06-27\", \"2015-06-28\", \"2015-06-29\", \"2015-06-30\", \"2015-07-01\", \"2015-07-02\", \"2015-07-03\", \"2015-07-04\", \"2015-07-05\", \"2015-07-06\", \"2015-07-07\", \"2015-07-08\", \"2015-07-09\", \"2015-07-10\", \"2015-07-11\", \"2015-07-13\", \"2015-07-14\", \"2015-07-15\", \"2015-07-16\", \"2015-07-17\", \"2015-07-18\", \"2015-07-19\", \"2015-07-20\", \"2015-07-21\", \"2015-07-22\", \"2015-07-23\", \"2015-07-24\", \"2015-07-25\", \"2015-07-26\", \"2015-07-27\", \"2015-07-28\", \"2015-07-29\", \"2015-07-30\", \"2015-07-31\", \"2015-08-01\", \"2015-08-02\", \"2015-08-03\", \"2015-08-04\", \"2015-08-05\", \"2015-08-06\", \"2015-08-07\", \"2015-08-08\", \"2015-08-09\", \"2015-08-10\", \"2015-08-11\", \"2015-08-12\", \"2015-08-13\", \"2015-08-14\", \"2015-08-15\", \"2015-08-16\", \"2015-08-17\", \"2015-08-18\", \"2015-08-19\", \"2015-08-20\", \"2015-08-21\", \"2015-08-22\", \"2015-08-23\", \"2015-08-24\", \"2015-08-25\", \"2015-08-26\", \"2015-08-27\", \"2015-08-28\", \"2015-08-29\", \"2015-08-30\", \"2015-08-31\", \"2015-09-01\", \"2015-09-02\", \"2015-09-03\", \"2015-09-04\", \"2015-09-05\", \"2015-09-07\", \"2015-09-08\", \"2015-09-09\", \"2015-09-10\", \"2015-09-11\", \"2015-09-12\", \"2015-09-13\", \"2015-09-14\", \"2015-09-15\", \"2015-09-16\", \"2015-09-17\", \"2015-09-18\", \"2015-09-19\", \"2015-09-20\", \"2015-09-21\", \"2015-09-22\", \"2015-09-23\", \"2015-09-24\", \"2015-09-25\", \"2015-09-27\", \"2015-09-28\", \"2015-09-29\", \"2015-09-30\", \"2015-10-01\", \"2015-10-02\", \"2015-10-03\", \"2015-10-04\", \"2015-10-05\", \"2015-10-06\", \"2015-10-07\", \"2015-10-08\", \"2015-10-09\", \"2015-10-10\", \"2015-10-12\", \"2015-10-13\", \"2015-10-14\", \"2015-10-15\", \"2015-10-16\", \"2015-10-17\", \"2015-10-18\", \"2015-10-19\", \"2015-10-20\", \"2015-10-21\", \"2015-10-22\", \"2015-10-23\", \"2015-10-24\", \"2015-10-25\", \"2015-10-26\", \"2015-10-27\", \"2015-10-28\", \"2015-10-29\", \"2015-10-30\", \"2015-10-31\", \"2015-11-01\", \"2015-11-02\", \"2015-11-03\", \"2015-11-04\", \"2015-11-05\", \"2015-11-06\", \"2015-11-07\", \"2015-11-08\", \"2015-11-09\", \"2015-11-10\", \"2015-11-11\", \"2015-11-12\", \"2015-11-13\", \"2015-11-14\", \"2015-11-15\", \"2015-11-16\", \"2015-11-17\", \"2015-11-18\", \"2015-11-19\", \"2015-11-20\", \"2015-11-21\", \"2015-11-22\", \"2015-11-23\", \"2015-11-24\", \"2015-11-25\", \"2015-11-26\", \"2015-11-27\", \"2015-11-28\", \"2015-11-29\", \"2015-11-30\", \"2015-12-01\", \"2015-12-02\", \"2015-12-03\", \"2015-12-04\", \"2015-12-05\", \"2015-12-06\", \"2015-12-07\", \"2015-12-08\", \"2015-12-09\", \"2015-12-10\", \"2015-12-11\", \"2015-12-12\", \"2015-12-13\", \"2015-12-14\", \"2015-12-15\", \"2015-12-16\", \"2015-12-17\", \"2015-12-18\", \"2015-12-19\", \"2015-12-20\", \"2015-12-21\", \"2015-12-22\", \"2015-12-23\", \"2015-12-24\", \"2015-12-26\", \"2015-12-28\", \"2015-12-29\", \"2015-12-30\", \"2015-12-31\", \"2016-01-01\", \"2016-01-02\", \"2016-01-03\", \"2016-01-04\", \"2016-01-05\", \"2016-01-06\", \"2016-01-07\", \"2016-01-08\", \"2016-01-09\", \"2016-01-10\", \"2016-01-11\", \"2016-01-12\", \"2016-01-13\", \"2016-01-14\", \"2016-01-15\", \"2016-01-16\", \"2016-01-17\", \"2016-01-18\", \"2016-01-19\", \"2016-01-20\", \"2016-01-21\", \"2016-01-22\", \"2016-01-23\", \"2016-01-24\", \"2016-01-25\", \"2016-01-26\", \"2016-01-27\", \"2016-01-28\", \"2016-01-29\", \"2016-01-30\", \"2016-01-31\", \"2016-02-01\", \"2016-02-02\", \"2016-02-03\", \"2016-02-04\", \"2016-02-05\", \"2016-02-06\", \"2016-02-07\", \"2016-02-08\", \"2016-02-09\", \"2016-02-10\", \"2016-02-11\", \"2016-02-12\", \"2016-02-13\", \"2016-02-14\", \"2016-02-15\", \"2016-02-16\", \"2016-02-17\", \"2016-02-18\", \"2016-02-19\", \"2016-02-20\", \"2016-02-21\", \"2016-02-22\", \"2016-02-23\", \"2016-02-24\", \"2016-02-25\", \"2016-02-26\", \"2016-02-27\", \"2016-02-28\", \"2016-02-29\", \"2016-03-01\", \"2016-03-02\", \"2016-03-03\", \"2016-03-04\", \"2016-03-05\", \"2016-03-06\", \"2016-03-07\", \"2016-03-08\", \"2016-03-09\", \"2016-03-10\", \"2016-03-11\", \"2016-03-12\", \"2016-03-13\", \"2016-03-14\", \"2016-03-15\", \"2016-03-16\", \"2016-03-17\", \"2016-03-18\", \"2016-03-19\", \"2016-03-20\", \"2016-03-21\", \"2016-03-22\", \"2016-03-23\", \"2016-03-24\", \"2016-03-25\", \"2016-03-26\", \"2016-03-27\", \"2016-03-28\", \"2016-03-29\", \"2016-03-30\", \"2016-03-31\", \"2016-04-01\", \"2016-04-02\", \"2016-04-03\", \"2016-04-04\", \"2016-04-05\", \"2016-04-06\", \"2016-04-07\", \"2016-04-08\", \"2016-04-09\", \"2016-04-10\", \"2016-04-11\", \"2016-04-12\", \"2016-04-13\", \"2016-04-14\", \"2016-04-15\", \"2016-04-16\", \"2016-04-17\", \"2016-04-18\", \"2016-04-19\", \"2016-04-20\", \"2016-04-21\", \"2016-04-22\", \"2016-04-23\", \"2016-04-24\", \"2016-04-25\", \"2016-04-26\", \"2016-04-27\", \"2016-04-28\", \"2016-04-29\", \"2016-04-30\", \"2016-05-01\", \"2016-05-02\", \"2016-05-03\", \"2016-05-04\", \"2016-05-05\", \"2016-05-06\", \"2016-05-07\", \"2016-05-08\", \"2016-05-09\", \"2016-05-10\", \"2016-05-11\", \"2016-05-12\", \"2016-05-13\", \"2016-05-14\", \"2016-05-15\", \"2016-05-16\", \"2016-05-17\", \"2016-05-18\", \"2016-05-19\", \"2016-05-20\", \"2016-05-21\", \"2016-05-22\", \"2016-05-23\", \"2016-05-24\", \"2016-05-25\", \"2016-05-26\", \"2016-05-27\", \"2016-05-28\", \"2016-05-29\", \"2016-05-30\", \"2016-05-31\", \"2016-06-01\", \"2016-06-02\", \"2016-06-03\", \"2016-06-04\", \"2016-06-05\", \"2016-06-06\", \"2016-06-07\", \"2016-06-08\", \"2016-06-09\", \"2016-06-10\", \"2016-06-11\", \"2016-06-12\", \"2016-06-13\", \"2016-06-14\", \"2016-06-15\", \"2016-06-16\", \"2016-06-17\", \"2016-06-18\", \"2016-06-19\", \"2016-06-20\", \"2016-06-21\", \"2016-06-22\", \"2016-06-23\", \"2016-06-24\", \"2016-06-25\", \"2016-06-26\", \"2016-06-27\", \"2016-06-28\", \"2016-06-29\", \"2016-06-30\", \"2016-07-01\", \"2016-07-02\", \"2016-07-03\", \"2016-07-04\", \"2016-07-05\", \"2016-07-06\", \"2016-07-07\", \"2016-07-08\", \"2016-07-09\", \"2016-07-11\", \"2016-07-12\", \"2016-07-13\", \"2016-07-14\", \"2016-07-15\", \"2016-07-16\", \"2016-07-17\", \"2016-07-18\", \"2016-07-19\", \"2016-07-20\", \"2016-07-21\", \"2016-07-22\", \"2016-07-23\", \"2016-07-24\", \"2016-07-25\", \"2016-07-26\", \"2016-07-27\", \"2016-07-28\", \"2016-07-29\", \"2016-07-30\", \"2016-07-31\", \"2016-08-01\", \"2016-08-02\", \"2016-08-03\", \"2016-08-04\", \"2016-08-05\", \"2016-08-06\", \"2016-08-07\", \"2016-08-08\", \"2016-08-09\", \"2016-08-10\", \"2016-08-11\", \"2016-08-12\", \"2016-08-13\", \"2016-08-14\", \"2016-08-15\", \"2016-08-16\", \"2016-08-17\", \"2016-08-18\", \"2016-08-19\", \"2016-08-20\", \"2016-08-21\", \"2016-08-22\", \"2016-08-23\", \"2016-08-24\", \"2016-08-25\", \"2016-08-26\", \"2016-08-27\", \"2016-08-28\", \"2016-08-29\", \"2016-08-30\", \"2016-08-31\", \"2016-09-01\", \"2016-09-02\", \"2016-09-03\", \"2016-09-04\", \"2016-09-05\", \"2016-09-06\", \"2016-09-07\", \"2016-09-08\", \"2016-09-09\", \"2016-09-10\", \"2016-09-11\", \"2016-09-12\", \"2016-09-13\", \"2016-09-14\", \"2016-09-15\", \"2016-09-16\", \"2016-09-17\", \"2016-09-18\", \"2016-09-19\", \"2016-09-20\", \"2016-09-21\", \"2016-09-22\", \"2016-09-23\", \"2016-09-24\", \"2016-09-25\", \"2016-09-26\", \"2016-09-27\", \"2016-09-28\", \"2016-09-29\", \"2016-09-30\", \"2016-10-01\", \"2016-10-02\", \"2016-10-03\", \"2016-10-04\", \"2016-10-05\", \"2016-10-06\", \"2016-10-07\", \"2016-10-08\", \"2016-10-10\", \"2016-10-11\", \"2016-10-12\", \"2016-10-13\", \"2016-10-14\", \"2016-10-15\", \"2016-10-16\", \"2016-10-17\", \"2016-10-18\", \"2016-10-19\", \"2016-10-20\", \"2016-10-21\", \"2016-10-22\", \"2016-10-23\", \"2016-10-24\", \"2016-10-25\", \"2016-10-26\", \"2016-10-27\", \"2016-10-28\", \"2016-10-29\", \"2016-10-30\", \"2016-10-31\", \"2016-11-01\", \"2016-11-02\", \"2016-11-03\", \"2016-11-04\", \"2016-11-05\", \"2016-11-06\", \"2016-11-07\", \"2016-11-08\", \"2016-11-09\", \"2016-11-10\", \"2016-11-11\", \"2016-11-12\", \"2016-11-14\", \"2016-11-15\", \"2016-11-16\", \"2016-11-17\", \"2016-11-18\", \"2016-11-19\", \"2016-11-20\", \"2016-11-21\", \"2016-11-22\", \"2016-11-23\", \"2016-11-24\", \"2016-11-25\", \"2016-11-26\", \"2016-11-28\", \"2016-11-29\", \"2016-11-30\", \"2016-12-01\", \"2016-12-02\", \"2016-12-03\", \"2016-12-04\", \"2016-12-05\", \"2016-12-06\", \"2016-12-07\", \"2016-12-08\", \"2016-12-09\", \"2016-12-10\", \"2016-12-11\", \"2016-12-12\", \"2016-12-13\", \"2016-12-14\", \"2016-12-15\", \"2016-12-16\", \"2016-12-17\", \"2016-12-18\", \"2016-12-19\", \"2016-12-20\", \"2016-12-21\", \"2016-12-22\", \"2016-12-23\", \"2016-12-24\", \"2016-12-26\", \"2016-12-27\", \"2016-12-28\", \"2016-12-29\", \"2016-12-30\", \"2016-12-31\", \"2017-01-01\", \"2017-01-02\", \"2017-01-03\", \"2017-01-04\", \"2017-01-05\", \"2017-01-06\", \"2017-01-07\", \"2017-01-08\", \"2017-01-09\", \"2017-01-10\", \"2017-01-11\", \"2017-01-12\", \"2017-01-13\", \"2017-01-14\", \"2017-01-15\", \"2017-01-16\", \"2017-01-17\", \"2017-01-18\", \"2017-01-19\", \"2017-01-20\", \"2017-01-21\", \"2017-01-22\", \"2017-01-23\", \"2017-01-24\", \"2017-01-25\", \"2017-01-26\", \"2017-01-27\", \"2017-01-28\", \"2017-01-29\", \"2017-01-30\", \"2017-01-31\", \"2017-02-01\", \"2017-02-02\", \"2017-02-03\", \"2017-02-04\", \"2017-02-05\", \"2017-02-06\", \"2017-02-07\", \"2017-02-08\", \"2017-02-09\", \"2017-02-10\", \"2017-02-11\", \"2017-02-12\", \"2017-02-13\", \"2017-02-14\", \"2017-02-15\", \"2017-02-16\", \"2017-02-17\", \"2017-02-18\", \"2017-02-19\", \"2017-02-20\", \"2017-02-21\", \"2017-02-22\", \"2017-02-23\", \"2017-02-24\", \"2017-02-25\", \"2017-02-26\", \"2017-02-27\", \"2017-02-28\", \"2017-03-01\", \"2017-03-02\", \"2017-03-03\", \"2017-03-04\", \"2017-03-05\", \"2017-03-06\", \"2017-03-07\", \"2017-03-08\", \"2017-03-09\", \"2017-03-10\", \"2017-03-11\", \"2017-03-12\", \"2017-03-13\", \"2017-03-14\", \"2017-03-15\", \"2017-03-16\", \"2017-03-17\", \"2017-03-18\", \"2017-03-19\", \"2017-03-20\", \"2017-03-21\", \"2017-03-22\", \"2017-03-23\", \"2017-03-24\", \"2017-03-25\", \"2017-03-26\", \"2017-03-27\", \"2017-03-28\", \"2017-03-29\", \"2017-03-30\", \"2017-03-31\", \"2017-04-01\", \"2017-04-02\", \"2017-04-03\", \"2017-04-04\", \"2017-04-05\", \"2017-04-06\", \"2017-04-07\", \"2017-04-08\", \"2017-04-09\", \"2017-04-10\", \"2017-04-11\", \"2017-04-12\", \"2017-04-13\", \"2017-04-14\", \"2017-04-15\", \"2017-04-16\", \"2017-04-17\", \"2017-04-18\", \"2017-04-19\", \"2017-04-20\", \"2017-04-21\", \"2017-04-22\", \"2017-04-23\", \"2017-04-24\", \"2017-04-25\", \"2017-04-26\", \"2017-04-27\", \"2017-04-28\", \"2017-04-29\", \"2017-04-30\", \"2017-05-01\", \"2017-05-02\", \"2017-05-03\", \"2017-05-04\", \"2017-05-05\", \"2017-05-06\", \"2017-05-07\", \"2017-05-08\", \"2017-05-09\", \"2017-05-10\", \"2017-05-11\", \"2017-05-12\", \"2017-05-13\", \"2017-05-14\", \"2017-05-15\", \"2017-05-16\", \"2017-05-17\", \"2017-05-18\", \"2017-05-19\", \"2017-05-20\", \"2017-05-21\", \"2017-05-22\", \"2017-05-23\", \"2017-05-24\", \"2017-05-25\", \"2017-05-26\", \"2017-05-27\", \"2017-05-28\", \"2017-05-29\", \"2017-05-30\", \"2017-05-31\", \"2017-06-01\", \"2017-06-02\", \"2017-06-03\", \"2017-06-04\", \"2017-06-05\", \"2017-06-06\", \"2017-06-07\", \"2017-06-08\", \"2017-06-09\", \"2017-06-10\", \"2017-06-11\", \"2017-06-12\", \"2017-06-13\", \"2017-06-14\", \"2017-06-15\", \"2017-06-16\", \"2017-06-18\", \"2017-06-19\", \"2017-06-20\", \"2017-06-21\", \"2017-06-22\", \"2017-06-23\", \"2017-06-24\", \"2017-06-25\", \"2017-06-26\", \"2017-06-27\", \"2017-06-28\", \"2017-06-29\", \"2017-06-30\", \"2017-07-01\", \"2017-07-02\", \"2017-07-03\", \"2017-07-04\", \"2017-07-05\", \"2017-07-06\", \"2017-07-07\", \"2017-07-08\", \"2017-07-09\", \"2017-07-10\", \"2017-07-11\", \"2017-07-12\", \"2017-07-13\", \"2017-07-14\", \"2017-07-15\", \"2017-07-17\", \"2017-07-18\", \"2017-07-19\", \"2017-07-20\", \"2017-07-21\", \"2017-07-23\", \"2017-07-24\", \"2017-07-25\", \"2017-07-26\", \"2017-07-27\", \"2017-07-28\", \"2017-07-29\", \"2017-07-30\", \"2017-07-31\", \"2017-08-01\", \"2017-08-02\", \"2017-08-03\", \"2017-08-04\", \"2017-08-05\", \"2017-08-06\", \"2017-08-07\", \"2017-08-08\", \"2017-08-09\", \"2017-08-10\", \"2017-08-11\", \"2017-08-12\", \"2017-08-14\", \"2017-08-15\", \"2017-08-16\", \"2017-08-17\", \"2017-08-18\", \"2017-08-19\", \"2017-08-20\", \"2017-08-21\", \"2017-08-22\", \"2017-08-23\", \"2017-08-24\", \"2017-08-25\", \"2017-08-26\", \"2017-08-27\", \"2017-08-28\", \"2017-08-29\", \"2017-08-30\", \"2017-08-31\", \"2017-09-01\", \"2017-09-02\", \"2017-09-03\", \"2017-09-04\", \"2017-09-05\", \"2017-09-06\", \"2017-09-07\", \"2017-09-08\", \"2017-09-09\", \"2017-09-10\", \"2017-09-11\", \"2017-09-12\", \"2017-09-13\", \"2017-09-14\", \"2017-09-15\", \"2017-09-16\", \"2017-09-17\", \"2017-09-18\", \"2017-09-19\", \"2017-09-20\", \"2017-09-21\", \"2017-09-22\", \"2017-09-23\", \"2017-09-24\", \"2017-09-25\", \"2017-09-26\", \"2017-09-27\", \"2017-09-28\", \"2017-09-29\", \"2017-09-30\", \"2017-10-01\", \"2017-10-02\", \"2017-10-03\", \"2017-10-04\", \"2017-10-05\", \"2017-10-06\", \"2017-10-07\", \"2017-10-08\", \"2017-10-09\", \"2017-10-10\", \"2017-10-11\", \"2017-10-12\", \"2017-10-13\", \"2017-10-14\", \"2017-10-15\", \"2017-10-16\", \"2017-10-17\", \"2017-10-18\", \"2017-10-19\", \"2017-10-20\", \"2017-10-21\", \"2017-10-22\", \"2017-10-23\", \"2017-10-24\", \"2017-10-25\", \"2017-10-26\", \"2017-10-27\", \"2017-10-28\", \"2017-10-29\", \"2017-10-30\", \"2017-10-31\", \"2017-11-01\", \"2017-11-02\", \"2017-11-03\", \"2017-11-04\", \"2017-11-05\", \"2017-11-06\", \"2017-11-07\", \"2017-11-08\", \"2017-11-09\", \"2017-11-10\", \"2017-11-11\", \"2017-11-12\", \"2017-11-13\", \"2017-11-14\", \"2017-11-15\", \"2017-11-16\", \"2017-11-17\", \"2017-11-18\", \"2017-11-20\", \"2017-11-21\", \"2017-11-22\", \"2017-11-23\", \"2017-11-24\", \"2017-11-25\", \"2017-11-26\", \"2017-11-27\", \"2017-11-28\", \"2017-11-29\", \"2017-11-30\", \"2017-12-01\", \"2017-12-02\", \"2017-12-03\", \"2017-12-04\", \"2017-12-05\", \"2017-12-06\", \"2017-12-07\", \"2017-12-08\", \"2017-12-09\", \"2017-12-11\", \"2017-12-12\", \"2017-12-13\", \"2017-12-14\", \"2017-12-15\", \"2017-12-16\", \"2017-12-17\", \"2017-12-18\", \"2017-12-19\", \"2017-12-20\", \"2017-12-21\", \"2017-12-22\", \"2017-12-23\", \"2017-12-24\", \"2017-12-25\", \"2017-12-26\", \"2017-12-27\", \"2017-12-28\", \"2017-12-29\", \"2017-12-30\", \"2017-12-31\", \"2018-01-01\", \"2018-01-02\", \"2018-01-03\", \"2018-01-04\", \"2018-01-05\", \"2018-01-06\", \"2018-01-07\", \"2018-01-08\", \"2018-01-09\", \"2018-01-10\", \"2018-01-11\", \"2018-01-12\", \"2018-01-13\", \"2018-01-14\", \"2018-01-15\", \"2018-01-16\", \"2018-01-17\", \"2018-01-18\", \"2018-01-19\", \"2018-01-20\", \"2018-01-21\", \"2018-01-22\", \"2018-01-23\", \"2018-01-24\", \"2018-01-25\", \"2018-01-26\", \"2018-01-27\", \"2018-01-28\", \"2018-01-29\", \"2018-01-30\", \"2018-01-31\", \"2018-02-01\", \"2018-02-02\", \"2018-02-03\", \"2018-02-04\", \"2018-02-05\", \"2018-02-06\", \"2018-02-07\", \"2018-02-08\", \"2018-02-09\", \"2018-02-10\", \"2018-02-11\", \"2018-02-12\", \"2018-02-13\", \"2018-02-14\", \"2018-02-15\", \"2018-02-16\", \"2018-02-17\", \"2018-02-20\", \"2018-02-21\", \"2018-02-22\", \"2018-02-23\", \"2018-02-24\", \"2018-02-25\", \"2018-02-26\", \"2018-02-27\", \"2018-02-28\", \"2018-03-01\", \"2018-03-02\", \"2018-03-03\", \"2018-03-04\", \"2018-03-05\", \"2018-03-06\", \"2018-03-07\", \"2018-03-08\", \"2018-03-09\", \"2018-03-10\", \"2018-03-12\", \"2018-03-13\", \"2018-03-15\", \"2018-03-16\", \"2018-03-18\", \"2018-03-19\", \"2018-03-20\", \"2018-03-21\", \"2018-03-22\", \"2018-03-23\", \"2018-03-25\", \"2018-03-26\", \"2018-03-27\", \"2018-03-28\", \"2018-03-29\", \"2018-03-30\", \"2018-03-31\", \"2018-04-02\", \"2018-04-03\", \"2018-04-04\", \"2018-04-05\", \"2018-04-06\", \"2018-04-08\", \"2018-04-09\", \"2018-04-10\", \"2018-04-11\", \"2018-04-12\", \"2018-04-13\", \"2018-04-14\", \"2018-04-16\", \"2018-04-17\", \"2018-04-18\", \"2018-04-19\", \"2018-04-20\", \"2018-04-21\", \"2018-04-22\", \"2018-04-23\", \"2018-04-24\", \"2018-04-25\", \"2018-04-26\", \"2018-04-27\", \"2018-04-28\", \"2018-04-29\", \"2018-04-30\", \"2018-05-01\", \"2018-05-02\", \"2018-05-03\", \"2018-05-04\", \"2018-05-06\", \"2018-05-07\", \"2018-05-08\", \"2018-05-09\", \"2018-05-10\", \"2018-05-11\", \"2018-05-12\", \"2018-05-13\", \"2018-05-14\", \"2018-05-15\", \"2018-05-16\", \"2018-05-17\", \"2018-05-18\", \"2018-05-19\", \"2018-05-20\", \"2018-05-21\", \"2018-05-22\", \"2018-05-23\", \"2018-05-24\", \"2018-05-25\", \"2018-05-26\", \"2018-05-27\", \"2018-05-28\", \"2018-05-29\", \"2018-05-30\", \"2018-05-31\", \"2018-06-01\", \"2018-06-02\", \"2018-06-03\", \"2018-06-04\", \"2018-06-05\", \"2018-06-06\", \"2018-06-08\", \"2018-06-09\", \"2018-06-11\", \"2018-06-12\", \"2018-06-13\", \"2018-06-14\", \"2018-06-15\", \"2018-06-16\", \"2018-06-18\", \"2018-06-19\", \"2018-06-20\", \"2018-06-21\", \"2018-06-22\", \"2018-06-24\", \"2018-06-25\", \"2018-06-26\", \"2018-06-27\", \"2018-06-28\", \"2018-06-29\", \"2018-06-30\", \"2018-07-01\", \"2018-07-02\", \"2018-07-03\", \"2018-07-04\", \"2018-07-05\", \"2018-07-06\", \"2018-07-07\", \"2018-07-09\", \"2018-07-10\", \"2018-07-11\", \"2018-07-12\", \"2018-07-13\", \"2018-07-14\", \"2018-07-15\", \"2018-07-16\", \"2018-07-17\", \"2018-07-18\", \"2018-07-19\", \"2018-07-20\", \"2018-07-21\", \"2018-07-23\", \"2018-07-24\", \"2018-07-25\", \"2018-07-26\", \"2018-07-27\", \"2018-07-28\", \"2018-07-29\", \"2018-07-30\", \"2018-07-31\", \"2018-08-01\", \"2018-08-02\", \"2018-08-03\", \"2018-08-04\", \"2018-08-06\", \"2018-08-07\", \"2018-08-08\", \"2018-08-09\", \"2018-08-10\", \"2018-08-11\", \"2018-08-12\", \"2018-08-13\", \"2018-08-14\", \"2018-08-15\", \"2018-08-16\", \"2018-08-17\", \"2018-08-18\", \"2018-08-19\", \"2018-08-20\", \"2018-08-21\", \"2018-08-22\", \"2018-08-23\", \"2018-08-24\", \"2018-08-25\", \"2018-08-26\", \"2018-08-27\", \"2018-08-28\", \"2018-08-29\", \"2018-08-30\", \"2018-08-31\", \"2018-09-01\", \"2018-09-02\", \"2018-09-03\", \"2018-09-04\", \"2018-09-05\", \"2018-09-06\", \"2018-09-07\", \"2018-09-08\", \"2018-09-09\", \"2018-09-10\", \"2018-09-11\", \"2018-09-12\", \"2018-09-13\", \"2018-09-14\", \"2018-09-15\", \"2018-09-16\", \"2018-09-17\", \"2018-09-18\", \"2018-09-19\", \"2018-09-20\", \"2018-09-21\", \"2018-09-22\", \"2018-09-23\", \"2018-09-24\", \"2018-09-25\", \"2018-09-26\", \"2018-09-27\", \"2018-09-28\", \"2018-09-29\", \"2018-09-30\", \"2018-10-01\", \"2018-10-02\", \"2018-10-03\", \"2018-10-04\", \"2018-10-05\", \"2018-10-06\", \"2018-10-07\", \"2018-10-08\", \"2018-10-09\", \"2018-10-10\", \"2018-10-11\", \"2018-10-12\", \"2018-10-13\", \"2018-10-14\", \"2018-10-15\", \"2018-10-16\", \"2018-10-17\", \"2018-10-18\", \"2018-10-19\", \"2018-10-20\", \"2018-10-21\", \"2018-10-22\", \"2018-10-23\", \"2018-10-24\", \"2018-10-25\", \"2018-10-26\", \"2018-10-27\", \"2018-10-28\", \"2018-10-29\", \"2018-10-30\", \"2018-10-31\", \"2018-11-01\", \"2018-11-02\", \"2018-11-03\", \"2018-11-04\", \"2018-11-05\", \"2018-11-06\", \"2018-11-07\", \"2018-11-08\", \"2018-11-09\", \"2018-11-10\", \"2018-11-11\", \"2018-11-12\", \"2018-11-13\", \"2018-11-14\", \"2018-11-15\", \"2018-11-16\", \"2018-11-17\", \"2018-11-18\", \"2018-11-19\", \"2018-11-20\", \"2018-11-21\", \"2018-11-22\", \"2018-11-23\", \"2018-11-24\", \"2018-11-25\", \"2018-11-26\", \"2018-11-27\", \"2018-11-28\", \"2018-11-29\", \"2018-11-30\", \"2018-12-01\", \"2018-12-02\", \"2018-12-03\", \"2018-12-04\", \"2018-12-05\", \"2018-12-06\", \"2018-12-07\", \"2018-12-08\", \"2018-12-09\", \"2018-12-10\", \"2018-12-11\", \"2018-12-12\", \"2018-12-13\", \"2018-12-14\", \"2018-12-15\", \"2018-12-16\", \"2018-12-17\", \"2018-12-18\", \"2018-12-19\", \"2018-12-20\", \"2018-12-21\", \"2018-12-22\", \"2018-12-24\", \"2018-12-25\", \"2018-12-27\", \"2018-12-28\", \"2018-12-29\", \"2018-12-30\", \"2018-12-31\", \"2019-01-01\", \"2019-01-02\", \"2019-01-03\", \"2019-01-04\", \"2019-01-05\", \"2019-01-06\", \"2019-01-07\", \"2019-01-08\", \"2019-01-09\", \"2019-01-10\", \"2019-01-11\", \"2019-01-12\", \"2019-01-13\", \"2019-01-14\", \"2019-01-15\", \"2019-01-16\", \"2019-01-17\", \"2019-01-18\", \"2019-01-19\", \"2019-01-20\", \"2019-01-21\", \"2019-01-22\", \"2019-01-23\", \"2019-01-24\", \"2019-01-25\", \"2019-01-26\", \"2019-01-27\", \"2019-01-28\", \"2019-01-29\", \"2019-01-30\", \"2019-01-31\", \"2019-02-01\", \"2019-02-02\", \"2019-02-03\", \"2019-02-04\", \"2019-02-05\", \"2019-02-06\", \"2019-02-07\", \"2019-02-08\", \"2019-02-09\", \"2019-02-10\", \"2019-02-11\", \"2019-02-12\", \"2019-02-13\", \"2019-02-14\", \"2019-02-15\", \"2019-02-16\", \"2019-02-17\", \"2019-02-18\", \"2019-02-19\", \"2019-02-20\", \"2019-02-21\", \"2019-02-22\", \"2019-02-23\", \"2019-02-24\", \"2019-02-25\", \"2019-02-26\", \"2019-02-27\", \"2019-02-28\", \"2019-03-01\", \"2019-03-02\", \"2019-03-03\", \"2019-03-04\", \"2019-03-05\", \"2019-03-06\", \"2019-03-07\", \"2019-03-08\", \"2019-03-09\", \"2019-03-10\", \"2019-03-11\", \"2019-03-12\", \"2019-03-13\", \"2019-03-14\", \"2019-03-15\", \"2019-03-16\", \"2019-03-17\", \"2019-03-18\", \"2019-03-19\", \"2019-03-20\", \"2019-03-21\", \"2019-03-22\", \"2019-03-23\", \"2019-03-24\", \"2019-03-25\", \"2019-03-26\", \"2019-03-27\", \"2019-03-28\", \"2019-03-29\", \"2019-03-30\", \"2019-03-31\", \"2019-04-01\", \"2019-04-02\", \"2019-04-03\", \"2019-04-04\", \"2019-04-05\", \"2019-04-06\", \"2019-04-08\", \"2019-04-09\", \"2019-04-10\", \"2019-04-11\", \"2019-04-12\", \"2019-04-13\", \"2019-04-14\", \"2019-04-15\", \"2019-04-16\", \"2019-04-17\", \"2019-04-18\", \"2019-04-19\", \"2019-04-21\", \"2019-04-22\", \"2019-04-23\", \"2019-04-24\", \"2019-04-25\", \"2019-04-26\", \"2019-04-27\", \"2019-04-28\", \"2019-04-29\", \"2019-04-30\", \"2019-05-01\", \"2019-05-02\", \"2019-05-03\", \"2019-05-04\", \"2019-05-06\", \"2019-05-07\", \"2019-05-08\", \"2019-05-09\", \"2019-05-10\", \"2019-05-12\", \"2019-05-13\", \"2019-05-14\", \"2019-05-15\", \"2019-05-16\", \"2019-05-17\", \"2019-05-19\", \"2019-05-20\", \"2019-05-21\", \"2019-05-22\", \"2019-05-23\", \"2019-05-24\", \"2019-05-25\", \"2019-05-26\", \"2019-05-27\", \"2019-05-28\", \"2019-05-29\", \"2019-05-30\", \"2019-05-31\", \"2019-06-01\", \"2019-06-02\", \"2019-06-03\", \"2019-06-04\", \"2019-06-05\", \"2019-06-06\", \"2019-06-07\", \"2019-06-08\", \"2019-06-09\", \"2019-06-10\", \"2019-06-11\", \"2019-06-12\", \"2019-06-13\", \"2019-06-14\", \"2019-06-15\", \"2019-06-17\", \"2019-06-18\", \"2019-06-19\", \"2019-06-20\", \"2019-06-21\", \"2019-06-22\", \"2019-06-23\", \"2019-06-24\", \"2019-06-25\", \"2019-06-26\", \"2019-06-27\", \"2019-06-28\", \"2019-06-29\", \"2019-06-30\", \"2019-07-01\", \"2019-07-02\", \"2019-07-03\", \"2019-07-04\", \"2019-07-05\", \"2019-07-06\", \"2019-07-07\", \"2019-07-08\", \"2019-07-09\", \"2019-07-10\", \"2019-07-11\", \"2019-07-12\", \"2019-07-13\", \"2019-07-14\", \"2019-07-15\", \"2019-07-16\", \"2019-07-17\", \"2019-07-18\", \"2019-07-19\", \"2019-07-20\", \"2019-07-21\", \"2019-07-22\", \"2019-07-23\", \"2019-07-24\", \"2019-07-25\", \"2019-07-26\", \"2019-07-27\", \"2019-07-28\", \"2019-07-29\", \"2019-07-30\", \"2019-07-31\", \"2019-08-01\", \"2019-08-02\", \"2019-08-03\", \"2019-08-04\", \"2019-08-05\", \"2019-08-06\", \"2019-08-07\", \"2019-08-08\", \"2019-08-09\", \"2019-08-10\", \"2019-08-11\", \"2019-08-12\", \"2019-08-13\", \"2019-08-14\", \"2019-08-15\", \"2019-08-16\", \"2019-08-17\", \"2019-08-18\", \"2019-08-19\", \"2019-08-20\", \"2019-08-21\", \"2019-08-22\", \"2019-08-23\", \"2019-08-24\", \"2019-08-25\", \"2019-08-26\", \"2019-08-27\", \"2019-08-28\", \"2019-08-29\", \"2019-08-30\", \"2019-08-31\", \"2019-09-01\", \"2019-09-02\", \"2019-09-03\", \"2019-09-04\", \"2019-09-05\", \"2019-09-06\", \"2019-09-07\", \"2019-09-08\", \"2019-09-09\", \"2019-09-10\", \"2019-09-11\", \"2019-09-12\", \"2019-09-13\", \"2019-09-14\", \"2019-09-15\", \"2019-09-16\", \"2019-09-17\", \"2019-09-18\", \"2019-09-19\", \"2019-09-20\", \"2019-09-21\", \"2019-09-22\", \"2019-09-23\", \"2019-09-24\", \"2019-09-25\", \"2019-09-26\", \"2019-09-27\", \"2019-09-28\", \"2019-09-29\", \"2019-09-30\", \"2019-10-01\", \"2019-10-02\", \"2019-10-03\", \"2019-10-04\", \"2019-10-05\", \"2019-10-06\", \"2019-10-07\", \"2019-10-08\", \"2019-10-09\", \"2019-10-10\", \"2019-10-11\", \"2019-10-12\", \"2019-10-13\", \"2019-10-14\", \"2019-10-15\", \"2019-10-16\", \"2019-10-17\", \"2019-10-18\", \"2019-10-19\", \"2019-10-20\", \"2019-10-21\", \"2019-10-22\", \"2019-10-23\", \"2019-10-24\", \"2019-10-25\", \"2019-10-26\", \"2019-10-27\", \"2019-10-28\", \"2019-10-29\", \"2019-10-30\", \"2019-10-31\", \"2019-11-01\", \"2019-11-02\", \"2019-11-03\", \"2019-11-04\", \"2019-11-05\", \"2019-11-06\", \"2019-11-07\", \"2019-11-08\", \"2019-11-09\", \"2019-11-10\", \"2019-11-11\", \"2019-11-12\", \"2019-11-13\", \"2019-11-14\", \"2019-11-15\", \"2019-11-16\", \"2019-11-17\", \"2019-11-18\", \"2019-11-19\", \"2019-11-20\", \"2019-11-21\", \"2019-11-22\", \"2019-11-23\", \"2019-11-24\", \"2019-11-25\", \"2019-11-26\", \"2019-11-27\", \"2019-11-28\", \"2019-11-29\", \"2019-11-30\", \"2019-12-02\", \"2019-12-03\", \"2019-12-04\", \"2019-12-05\", \"2019-12-06\", \"2019-12-07\", \"2019-12-09\", \"2019-12-10\", \"2019-12-11\", \"2019-12-12\", \"2019-12-13\", \"2019-12-14\", \"2019-12-15\", \"2019-12-16\", \"2019-12-17\", \"2019-12-18\", \"2019-12-19\", \"2019-12-20\", \"2019-12-21\", \"2019-12-23\", \"2019-12-24\"], \"y\": [1, 3, 1, 2, 1, 2, 2, 1, 1, 1, 3, 1, 1, 9, 2, 2, 1, 1, 1, 1, 4, 1, 1, 2, 2, 1, 1, 2, 1, 1, 1, 1, 1, 1, 15, 3, 2, 1, 4, 3, 4, 2, 2, 5, 11, 6, 5, 5, 5, 2, 4, 2, 1, 4, 6, 6, 4, 1, 2, 8, 1, 3, 2, 3, 2, 5, 4, 2, 2, 8, 4, 1, 6, 1, 6, 4, 4, 2, 1, 7, 2, 1, 4, 1, 1, 1, 10, 3, 2, 6, 1, 1, 9, 5, 2, 4, 3, 3, 4, 1, 4, 1, 3, 2, 3, 3, 1, 2, 5, 1, 1, 1, 1, 3, 3, 2, 1, 11, 1, 2, 1, 1, 1, 3, 1, 4, 3, 4, 10, 2, 1, 3, 1, 2, 1, 1, 2, 1, 1, 2, 4, 9, 8, 1, 3, 4, 1, 2, 1, 5, 1, 2, 7, 14, 4, 1, 1, 19, 1, 1, 2, 1, 1, 1, 3, 7, 2, 1, 6, 5, 1, 2, 3, 1, 2, 2, 22, 1, 3, 1, 4, 1, 2, 4, 8, 1, 1, 1, 1, 4, 2, 8, 1, 1, 8, 1, 2, 1, 2, 1, 5, 3, 2, 2, 2, 6, 1, 2, 1, 1, 1, 3, 1, 3, 4, 2, 2, 7, 1, 1, 1, 1, 2, 1, 2, 1, 6, 1, 3, 6, 3, 2, 4, 3, 1, 1, 2, 1, 4, 1, 1, 2, 1, 1, 1, 1, 5, 2, 2, 1, 7, 2, 1, 7, 1, 2, 1, 2, 4, 9, 1, 1, 9, 3, 2, 1, 2, 2, 5, 9, 7, 8, 5, 3, 1, 6, 6, 1, 1, 3, 15, 14, 8, 4, 3, 22, 9, 8, 5, 1, 4, 1, 3, 5, 5, 12, 4, 1, 1, 3, 1, 2, 1, 9, 2, 8, 24, 9, 4, 8, 15, 10, 2, 3, 3, 21, 8, 10, 2, 13, 12, 12, 17, 4, 3, 7, 2, 6, 1, 2, 7, 12, 9, 8, 10, 10, 8, 18, 10, 26, 5, 10, 9, 29, 11, 12, 9, 8, 6, 16, 12, 8, 3, 2, 5, 4, 4, 6, 6, 6, 4, 2, 1, 2, 5, 1, 2, 3, 1, 1, 3, 1, 5, 1, 5, 5, 3, 9, 6, 6, 1, 4, 2, 6, 3, 9, 1, 2, 1, 2, 16, 5, 2, 3, 2, 4, 6, 3, 5, 15, 10, 5, 23, 5, 4, 6, 2, 4, 5, 1, 6, 4, 10, 6, 2, 10, 5, 2, 5, 7, 11, 18, 12, 6, 13, 7, 13, 37, 16, 4, 6, 16, 6, 28, 22, 21, 36, 13, 9, 1, 10, 10, 26, 20, 6, 27, 10, 11, 6, 15, 12, 7, 2, 10, 12, 18, 4, 2, 5, 5, 13, 5, 6, 24, 17, 16, 9, 9, 17, 33, 17, 6, 3, 3, 3, 7, 2, 1, 4, 8, 10, 8, 10, 8, 9, 11, 3, 2, 6, 11, 3, 4, 4, 2, 3, 2, 4, 4, 2, 5, 2, 5, 5, 11, 6, 18, 1, 4, 12, 3, 9, 1, 5, 2, 2, 10, 11, 7, 3, 2, 1, 1, 3, 4, 8, 7, 3, 11, 11, 17, 13, 10, 9, 8, 9, 6, 5, 8, 13, 8, 3, 7, 3, 10, 11, 5, 6, 1, 1, 3, 2, 8, 3, 4, 4, 8, 3, 6, 3, 7, 4, 4, 1, 6, 11, 2, 6, 1, 5, 10, 5, 4, 5, 10, 5, 4, 2, 13, 37, 3, 9, 23, 10, 3, 9, 12, 10, 14, 4, 5, 5, 37, 21, 7, 6, 6, 13, 20, 11, 10, 11, 18, 16, 13, 10, 9, 2, 15, 20, 38, 11, 8, 17, 5, 27, 32, 45, 40, 7, 4, 2, 13, 28, 11, 16, 11, 9, 14, 10, 25, 11, 29, 20, 1, 11, 18, 39, 14, 13, 8, 3, 10, 3, 10, 5, 28, 6, 26, 14, 15, 3, 7, 22, 9, 18, 23, 8, 14, 5, 1, 3, 11, 1, 2, 12, 4, 21, 2, 12, 13, 3, 1, 20, 2, 1, 1, 5, 6, 4, 11, 11, 13, 10, 16, 12, 22, 21, 21, 6, 6, 7, 25, 24, 25, 22, 22, 22, 18, 31, 10, 20, 14, 9, 5, 5, 14, 18, 16, 17, 6, 4, 13, 13, 6, 7, 19, 10, 19, 12, 18, 14, 19, 10, 2, 1, 11, 13, 24, 8, 6, 5, 10, 13, 22, 9, 3, 8, 12, 8, 4, 21, 8, 18, 25, 17, 7, 4, 10, 6, 10, 5, 38, 9, 13, 23, 14, 22, 37, 7, 7, 8, 21, 23, 28, 39, 7, 24, 19, 32, 15, 40, 40, 29, 13, 40, 33, 38, 37, 69, 43, 23, 50, 85, 24, 11, 14, 4, 10, 3, 23, 10, 12, 11, 4, 3, 2, 4, 1, 1, 3, 2, 2, 5, 4, 3, 9, 2, 3, 3, 6, 1, 1, 5, 2, 4, 2, 4, 5, 3, 2, 5, 4, 10, 4, 2, 12, 5, 8, 1, 5, 6, 5, 5, 5, 2, 6, 7, 2, 1, 1, 2, 6, 9, 3, 6, 1, 3, 3, 9, 4, 10, 4, 3, 6, 3, 4, 11, 9, 7, 11, 4, 12, 13, 7, 11, 8, 6, 3, 2, 6, 15, 11, 9, 5, 1, 5, 13, 12, 16, 22, 4, 6, 6, 12, 6, 1, 5, 9, 6, 10, 13, 15, 8, 12, 9, 4, 11, 15, 21, 18, 8, 6, 2, 3, 6, 6, 3, 4, 11, 8, 9, 5, 4, 4, 12, 2, 4, 10, 14, 7, 8, 3, 4, 10, 9, 18, 10, 11, 4, 2, 8, 12, 9, 6, 16, 12, 4, 9, 7, 14, 10, 8, 2, 3, 7, 2, 4, 5, 12, 5, 1, 14, 7, 11, 7, 8, 6, 20, 21, 6, 11, 5, 9, 7, 8, 13, 14, 14, 7, 9, 7, 12, 26, 24, 31, 25, 13, 7, 16, 20, 10, 11, 4, 8, 3, 14, 11, 20, 10, 13, 3, 24, 12, 23, 4, 1, 8, 4, 10, 15, 32, 13, 13, 8, 3, 11, 16, 13, 10, 10, 1, 17, 13, 11, 7, 13, 13, 1, 6, 22, 11, 8, 15, 6, 4, 3, 14, 4, 7, 10, 14, 4, 12, 13, 22, 11, 18, 4, 11, 12, 8, 26, 9, 3, 4, 17, 7, 3, 4, 13, 1, 2, 10, 12, 6, 7, 17, 4, 18, 6, 25, 9, 17, 18, 16, 10, 16, 11, 11, 9, 17, 4, 1, 17, 18, 14, 10, 21, 7, 5, 9, 17, 19, 14, 11, 2, 7, 21, 9, 4, 8, 3, 6, 17, 14, 15, 18, 10, 1, 4, 12, 15, 3, 11, 1, 5, 17, 22, 7, 19, 8, 1, 13, 11, 4, 5, 3, 7, 9, 22, 9, 4, 2, 3, 12, 6, 6, 12, 14, 12, 4, 10, 7, 10, 5, 12, 3, 6, 10, 12, 14, 7, 3, 4, 9, 9, 8, 19, 14, 18, 6, 3, 30, 34, 26, 23, 54, 3, 6, 16, 31, 25, 22, 14, 8, 3, 25, 31, 17, 11, 6, 4, 3, 7, 14, 18, 19, 14, 9, 3, 17, 22, 8, 9, 4, 4, 3, 4, 4, 13, 11, 10, 5, 2, 6, 14, 12, 10, 16, 8, 8, 6, 22, 14, 20, 9, 3, 5, 11, 16, 11, 16, 21, 3, 1, 4, 13, 12, 10, 11, 7, 15, 24, 21, 16, 9, 16, 7, 3, 10, 20, 13, 22, 11, 7, 3, 11, 20, 25, 19, 33, 22, 3, 8, 32, 16, 34, 28, 15, 5, 15, 38, 31, 19, 22, 14, 12, 22, 21, 16, 31, 19, 18, 5, 5, 14, 17, 12, 35, 19, 19, 7, 24, 31, 14, 18, 5, 15, 13, 11, 16, 14, 11, 7, 9, 3, 10, 18, 15, 28, 7, 5, 12, 21, 19, 8, 8, 5, 8, 28, 46, 23, 30, 11, 9, 2, 16, 17, 28, 35, 14, 7, 14, 14, 25, 14, 33, 14, 16, 21, 37, 14, 18, 23, 9, 9, 23, 27, 18, 43, 36, 19, 12, 27, 25, 34, 30, 24, 11, 8, 10, 22, 30, 30, 22, 10, 5, 12, 27, 38, 17, 10, 2, 1, 11, 30, 14, 20, 18, 8, 5, 11, 7, 5, 19, 8, 6, 1, 11, 13, 16, 20, 5, 1, 13, 19, 12, 19, 15, 4, 4, 12, 24, 11, 8, 3, 5, 5, 7, 6, 4, 7, 3, 4, 1, 9, 18, 20, 13, 2, 7, 16, 15, 12, 13, 6, 6, 14, 13, 17, 13, 10, 6, 4, 9, 21, 11, 13, 13, 5, 7, 13, 27, 22, 23, 23, 7, 6, 22, 29, 32, 18, 21, 5, 5, 20, 32, 43, 26, 26, 6, 1, 18, 23, 24, 6, 14, 1, 4, 15, 26, 12, 16, 9, 8, 5, 10, 22, 12, 21, 8, 4, 2, 5, 6, 39, 19, 11, 11, 3, 12, 13, 5, 5, 1, 15, 7, 12, 12, 7, 4, 4, 18, 23, 21, 19, 14, 5, 5, 14, 17, 15, 10, 17, 8, 3, 10, 21, 20, 5, 6, 10, 3, 12, 19, 19, 7, 12, 8, 3, 12, 15, 13, 18, 9, 3, 2, 5, 12, 16, 22, 17, 3, 5, 4, 8, 6, 7, 8, 8, 12, 16, 24, 13, 22, 22, 5, 3, 15, 8, 14, 19, 15, 3, 2, 15, 19, 21, 22, 25, 2, 4, 21, 23, 30, 25, 17, 7, 2, 17, 19, 20, 11, 20, 10, 4, 24, 20, 13, 20, 22, 10, 9, 14, 19, 30, 14, 19, 14, 12, 13, 23, 17, 19, 16, 10, 3, 19, 23, 29, 29, 25, 23, 10, 22, 25, 23, 22, 30, 23, 5, 15, 32, 26, 25, 7, 7, 1, 24, 27, 30, 17, 14, 3, 2, 5, 15, 18, 24, 38, 6, 11, 6, 18, 21, 17, 26, 9, 1, 4, 13, 23, 19, 24, 5, 5, 11, 9, 5, 9, 26, 13, 13, 13, 17, 24, 19, 17, 12, 3, 17, 28, 21, 17, 13, 10, 1, 10, 17, 23, 18, 15, 3, 3, 5, 11, 21, 13, 12, 5, 11, 15, 20, 16, 6, 3, 2, 7, 16, 10, 10, 7, 5, 5, 20, 15, 9, 7, 6, 4, 3, 9, 16, 5, 16, 11, 3, 8, 12, 12, 17, 15, 11, 5, 2, 7, 8, 13, 8, 11, 9, 5, 14, 13, 15, 14, 14, 10, 1, 5, 12, 11, 19, 19, 7, 4, 3, 16, 10, 4, 6, 5, 6, 10, 5, 14, 15, 6, 7, 7, 5, 10, 18, 19, 11, 3, 1, 9, 11, 8, 17, 4, 7, 2, 5, 11, 8, 7, 14, 5, 8, 15, 14, 14, 20, 3, 2, 6, 16, 7, 12, 15, 9, 5, 3, 12, 18, 11, 4, 2, 8, 5, 20, 21, 16, 8, 9, 4, 11, 17, 12, 8, 7, 5, 10, 13, 17, 7, 5, 7, 8, 8, 12, 10, 3, 7, 4, 16, 17, 20, 10, 15, 8, 4, 9, 18, 15, 18, 13, 9, 4, 7, 14, 15, 14, 13, 3, 2, 5, 7, 10, 15, 5, 4, 3, 6, 10, 6, 4, 1, 1, 5, 7, 8, 2, 8, 6, 4, 5, 12, 9, 8, 8, 2, 6, 5, 15, 11, 7, 5, 7, 3, 11, 17, 8, 8, 8, 4, 3, 2, 5, 9, 2, 6, 4, 1, 9, 14, 12, 10, 10, 1, 2, 14, 12, 18, 10, 10, 6, 4, 5, 5, 9, 12, 14, 6, 4, 2, 13, 9, 11, 13, 7, 5, 11, 12, 22, 12, 8, 2, 3, 4, 15, 12, 9, 8, 5, 4, 8, 17, 11, 5, 16, 5, 5, 5, 13, 9, 13, 5, 3, 4, 7, 12, 10, 11, 8, 2, 3, 12, 7, 13, 8, 1, 1, 5, 3, 9, 7, 13, 10, 2, 2, 4, 8, 10, 13, 9, 6, 3, 8, 11, 9, 8, 10, 1, 8, 11, 15, 15, 7, 15, 2, 2, 10, 8, 4, 8, 10, 1, 2, 15, 7, 8, 11, 14, 6, 3, 4, 10, 9, 11, 7, 6, 1, 5, 4, 4, 6, 7, 3, 6, 13, 10, 9, 7, 9, 3, 15, 6, 9, 8, 15, 5, 3, 3, 3, 4, 16, 13, 6, 2, 8, 11, 13, 12, 12, 14, 1, 9, 12, 9, 6, 2, 3, 7, 12, 11, 8, 4, 5, 2, 7, 6, 6, 5, 6, 3, 3, 12, 6, 8, 5, 5, 9, 8, 7, 12, 3, 6, 3, 7, 8, 9, 9, 5, 2, 3, 5, 8, 7, 12, 9, 2, 1, 4, 7, 11, 13, 6, 2, 1, 2, 7, 9, 5, 9, 4, 1, 4, 9, 11, 9, 7, 2, 2, 6, 10, 9, 12, 8, 7, 4, 5, 3, 9, 7, 7, 2, 2, 5, 3, 6, 3, 5, 2, 1, 8, 9, 3, 6, 7, 4, 1, 5, 7, 4, 3, 8, 4, 1, 3, 5, 11, 7, 6, 5, 5, 9, 7, 6, 8, 1, 6, 4, 7, 7, 6, 11, 15, 5, 3, 4, 7, 10, 4, 5, 1, 4, 10, 7, 3, 5, 3, 1, 5, 6, 7, 10, 6, 2, 3, 5, 9, 12, 13, 6, 3, 8, 9, 19, 13, 5, 1, 3, 5, 8, 10, 13, 8, 6, 1, 3, 6, 3, 15, 14, 8, 6, 5, 2, 5, 10, 8, 8, 1, 8, 9, 10, 10, 9, 6, 7, 6, 8, 16, 15, 17, 3, 3, 15, 7, 15, 6, 10, 5, 3, 9, 12, 10, 18, 7, 7, 2, 3, 8, 5, 6, 5, 4, 4, 10, 17, 5, 11, 2, 3, 6, 9, 3, 2, 1, 1, 3, 6, 6, 3, 6, 3, 1, 14, 6, 6, 11, 4, 1, 3, 4, 5, 13, 1, 3, 6, 8, 4, 9, 3, 5, 2, 3, 5, 7, 1, 6, 5, 8, 4, 12, 4, 6, 7, 9, 4, 11, 1, 6, 9, 8, 12, 5, 2, 1, 9, 11, 6, 10, 5, 3, 1, 4, 3, 8, 6, 8, 1, 14, 7, 11, 8, 5, 5, 2, 8, 8, 4, 10, 11, 1, 2, 9, 10, 6, 11, 5, 1, 1, 3, 5, 9, 7, 9, 1, 1, 7, 5, 2, 7, 2, 5, 12, 7, 6, 6, 1, 4, 7, 4, 9, 4, 3, 8, 7, 12, 9, 1, 3, 1, 5, 2, 9, 10, 4, 5, 5, 5, 10, 11, 8, 3, 5, 11, 8, 13, 8, 17, 5, 8, 7, 11, 7, 12, 4, 2, 12, 8, 10, 18, 14, 9, 12, 18, 7, 12, 10, 4, 5, 11, 8, 6, 9, 8, 7, 1, 2, 14, 11, 11, 10, 4, 1, 7, 8, 11, 10, 8, 4, 1, 3, 7, 12, 10, 10, 4, 4, 6, 10, 3, 11, 2, 4, 5, 11, 7, 8, 17, 11, 1, 3, 7, 5, 12, 16, 7, 8, 4, 6, 5, 5, 4, 12, 14, 5, 9, 6, 6, 7, 13, 7, 3, 3, 8, 9, 8, 12, 6, 8, 4, 6, 6, 10, 15, 3, 4, 7, 7, 17, 5, 6, 3, 3, 9, 8, 5, 11, 7, 3, 3, 3, 10, 8, 11, 8, 5, 1, 9, 6, 11, 11, 7, 2, 4, 10, 6, 9, 13, 10, 6, 9, 13, 9, 5, 4, 10, 3, 3, 9, 10, 4, 11, 7, 3, 3, 12, 8, 2, 9, 5, 7, 2, 1, 5, 3, 1, 2, 5, 6, 5, 7, 5, 7, 3, 11, 9, 6, 7, 6, 5, 5, 2, 10, 9, 9, 4, 2, 2, 4, 10, 8, 8, 12, 3, 5, 10, 7, 6, 12, 8, 7, 3, 2, 3, 3, 2, 4, 1, 2, 1, 4, 7, 6, 6, 4, 1, 8, 7, 9, 4, 9, 7, 1, 6, 7, 14, 3, 9, 4, 2, 17, 12, 11, 10, 8, 6, 5, 16, 15, 12, 7, 8, 6, 8, 4, 10, 14, 7, 9, 5, 4, 14, 13, 9, 3, 4, 9, 5, 9, 10, 7, 8, 9, 3, 7, 9, 8, 9, 4, 3, 3, 4, 10, 4, 6, 6, 5, 7, 9, 3, 4, 6, 3, 3, 10, 3, 4, 8, 8, 3, 4, 6, 9, 4, 8, 2, 6, 5, 9, 3, 4, 1, 9, 11, 10, 11, 9, 2, 5, 5, 9, 5, 10, 6, 2, 1, 9, 11, 8, 5, 6, 3, 5, 5, 4, 4, 4, 4, 10, 3, 10, 11, 8, 4, 2, 3, 10, 9, 5, 6, 6, 1, 4, 4, 8, 8, 4, 8, 3, 2, 2, 8, 7, 19, 11, 4, 3, 11, 14, 3, 12, 9, 4, 3, 8, 5, 8, 4, 11, 8, 7, 8, 10, 8, 9, 13, 1, 2, 7, 10, 10, 8, 11, 3, 2, 8, 16, 6, 10, 11, 3, 4, 12, 11, 9, 8, 12, 2, 2, 11, 16, 7, 6, 11, 5, 2, 6, 8, 10, 16, 7, 2, 1, 16, 10, 8, 8, 13, 3, 7, 6, 14, 21, 9, 13, 10, 9, 7, 11, 7, 9, 13, 4, 5, 7, 6, 9, 14, 10, 1, 3, 10, 9, 9, 5, 2, 8, 5, 12, 11, 10, 9, 18, 2, 2, 4, 17, 13, 13, 11, 4, 2, 10, 9, 10, 18, 8, 3, 6, 18, 9, 13, 7, 10, 7, 7, 8, 6, 18, 9, 11, 9, 6, 11, 16, 9, 13, 6, 3, 10, 13, 12, 10, 2, 1, 7, 16, 12, 10, 9, 11, 7, 9, 13, 12, 15, 9, 5, 4, 12, 15, 6, 4, 8, 5, 4, 3]}],\n",
       "                        {\"template\": {\"data\": {\"bar\": [{\"error_x\": {\"color\": \"#2a3f5f\"}, \"error_y\": {\"color\": \"#2a3f5f\"}, \"marker\": {\"line\": {\"color\": \"#E5ECF6\", \"width\": 0.5}}, \"type\": \"bar\"}], \"barpolar\": [{\"marker\": {\"line\": {\"color\": \"#E5ECF6\", \"width\": 0.5}}, \"type\": \"barpolar\"}], \"carpet\": [{\"aaxis\": {\"endlinecolor\": \"#2a3f5f\", \"gridcolor\": \"white\", \"linecolor\": \"white\", \"minorgridcolor\": \"white\", \"startlinecolor\": \"#2a3f5f\"}, \"baxis\": {\"endlinecolor\": \"#2a3f5f\", \"gridcolor\": \"white\", \"linecolor\": \"white\", \"minorgridcolor\": \"white\", \"startlinecolor\": \"#2a3f5f\"}, \"type\": \"carpet\"}], \"choropleth\": [{\"colorbar\": {\"outlinewidth\": 0, \"ticks\": \"\"}, \"type\": \"choropleth\"}], \"contour\": [{\"colorbar\": {\"outlinewidth\": 0, \"ticks\": \"\"}, \"colorscale\": [[0.0, \"#0d0887\"], [0.1111111111111111, \"#46039f\"], [0.2222222222222222, \"#7201a8\"], [0.3333333333333333, \"#9c179e\"], [0.4444444444444444, \"#bd3786\"], [0.5555555555555556, \"#d8576b\"], [0.6666666666666666, \"#ed7953\"], [0.7777777777777778, \"#fb9f3a\"], [0.8888888888888888, \"#fdca26\"], [1.0, \"#f0f921\"]], \"type\": \"contour\"}], \"contourcarpet\": [{\"colorbar\": {\"outlinewidth\": 0, \"ticks\": \"\"}, \"type\": \"contourcarpet\"}], \"heatmap\": [{\"colorbar\": {\"outlinewidth\": 0, \"ticks\": \"\"}, \"colorscale\": [[0.0, \"#0d0887\"], [0.1111111111111111, \"#46039f\"], [0.2222222222222222, \"#7201a8\"], [0.3333333333333333, \"#9c179e\"], [0.4444444444444444, \"#bd3786\"], [0.5555555555555556, \"#d8576b\"], [0.6666666666666666, \"#ed7953\"], [0.7777777777777778, \"#fb9f3a\"], [0.8888888888888888, \"#fdca26\"], [1.0, \"#f0f921\"]], \"type\": \"heatmap\"}], \"heatmapgl\": [{\"colorbar\": {\"outlinewidth\": 0, \"ticks\": \"\"}, \"colorscale\": [[0.0, \"#0d0887\"], [0.1111111111111111, \"#46039f\"], [0.2222222222222222, \"#7201a8\"], [0.3333333333333333, \"#9c179e\"], [0.4444444444444444, \"#bd3786\"], [0.5555555555555556, \"#d8576b\"], [0.6666666666666666, \"#ed7953\"], [0.7777777777777778, \"#fb9f3a\"], [0.8888888888888888, \"#fdca26\"], [1.0, \"#f0f921\"]], \"type\": \"heatmapgl\"}], \"histogram\": [{\"marker\": {\"colorbar\": {\"outlinewidth\": 0, \"ticks\": \"\"}}, \"type\": \"histogram\"}], \"histogram2d\": [{\"colorbar\": {\"outlinewidth\": 0, \"ticks\": \"\"}, \"colorscale\": [[0.0, \"#0d0887\"], [0.1111111111111111, \"#46039f\"], [0.2222222222222222, \"#7201a8\"], [0.3333333333333333, \"#9c179e\"], [0.4444444444444444, \"#bd3786\"], [0.5555555555555556, \"#d8576b\"], [0.6666666666666666, \"#ed7953\"], [0.7777777777777778, \"#fb9f3a\"], [0.8888888888888888, \"#fdca26\"], [1.0, \"#f0f921\"]], \"type\": \"histogram2d\"}], \"histogram2dcontour\": [{\"colorbar\": {\"outlinewidth\": 0, \"ticks\": \"\"}, \"colorscale\": [[0.0, \"#0d0887\"], [0.1111111111111111, \"#46039f\"], [0.2222222222222222, \"#7201a8\"], [0.3333333333333333, \"#9c179e\"], [0.4444444444444444, \"#bd3786\"], [0.5555555555555556, \"#d8576b\"], [0.6666666666666666, \"#ed7953\"], [0.7777777777777778, \"#fb9f3a\"], [0.8888888888888888, \"#fdca26\"], [1.0, \"#f0f921\"]], \"type\": \"histogram2dcontour\"}], \"mesh3d\": [{\"colorbar\": {\"outlinewidth\": 0, \"ticks\": \"\"}, \"type\": \"mesh3d\"}], \"parcoords\": [{\"line\": {\"colorbar\": {\"outlinewidth\": 0, \"ticks\": \"\"}}, \"type\": \"parcoords\"}], \"pie\": [{\"automargin\": true, \"type\": \"pie\"}], \"scatter\": [{\"marker\": {\"colorbar\": {\"outlinewidth\": 0, \"ticks\": \"\"}}, \"type\": \"scatter\"}], \"scatter3d\": [{\"line\": {\"colorbar\": {\"outlinewidth\": 0, \"ticks\": \"\"}}, \"marker\": {\"colorbar\": {\"outlinewidth\": 0, \"ticks\": \"\"}}, \"type\": \"scatter3d\"}], \"scattercarpet\": [{\"marker\": {\"colorbar\": {\"outlinewidth\": 0, \"ticks\": \"\"}}, \"type\": \"scattercarpet\"}], \"scattergeo\": [{\"marker\": {\"colorbar\": {\"outlinewidth\": 0, \"ticks\": \"\"}}, \"type\": \"scattergeo\"}], \"scattergl\": [{\"marker\": {\"colorbar\": {\"outlinewidth\": 0, \"ticks\": \"\"}}, \"type\": \"scattergl\"}], \"scattermapbox\": [{\"marker\": {\"colorbar\": {\"outlinewidth\": 0, \"ticks\": \"\"}}, \"type\": \"scattermapbox\"}], \"scatterpolar\": [{\"marker\": {\"colorbar\": {\"outlinewidth\": 0, \"ticks\": \"\"}}, \"type\": \"scatterpolar\"}], \"scatterpolargl\": [{\"marker\": {\"colorbar\": {\"outlinewidth\": 0, \"ticks\": \"\"}}, \"type\": \"scatterpolargl\"}], \"scatterternary\": [{\"marker\": {\"colorbar\": {\"outlinewidth\": 0, \"ticks\": \"\"}}, \"type\": \"scatterternary\"}], \"surface\": [{\"colorbar\": {\"outlinewidth\": 0, \"ticks\": \"\"}, \"colorscale\": [[0.0, \"#0d0887\"], [0.1111111111111111, \"#46039f\"], [0.2222222222222222, \"#7201a8\"], [0.3333333333333333, \"#9c179e\"], [0.4444444444444444, \"#bd3786\"], [0.5555555555555556, \"#d8576b\"], [0.6666666666666666, \"#ed7953\"], [0.7777777777777778, \"#fb9f3a\"], [0.8888888888888888, \"#fdca26\"], [1.0, \"#f0f921\"]], \"type\": \"surface\"}], \"table\": [{\"cells\": {\"fill\": {\"color\": \"#EBF0F8\"}, \"line\": {\"color\": \"white\"}}, \"header\": {\"fill\": {\"color\": \"#C8D4E3\"}, \"line\": {\"color\": \"white\"}}, \"type\": \"table\"}]}, \"layout\": {\"annotationdefaults\": {\"arrowcolor\": \"#2a3f5f\", \"arrowhead\": 0, \"arrowwidth\": 1}, \"coloraxis\": {\"colorbar\": {\"outlinewidth\": 0, \"ticks\": \"\"}}, \"colorscale\": {\"diverging\": [[0, \"#8e0152\"], [0.1, \"#c51b7d\"], [0.2, \"#de77ae\"], [0.3, \"#f1b6da\"], [0.4, \"#fde0ef\"], [0.5, \"#f7f7f7\"], [0.6, \"#e6f5d0\"], [0.7, \"#b8e186\"], [0.8, \"#7fbc41\"], [0.9, \"#4d9221\"], [1, \"#276419\"]], \"sequential\": [[0.0, \"#0d0887\"], [0.1111111111111111, \"#46039f\"], [0.2222222222222222, \"#7201a8\"], [0.3333333333333333, \"#9c179e\"], [0.4444444444444444, \"#bd3786\"], [0.5555555555555556, \"#d8576b\"], [0.6666666666666666, \"#ed7953\"], [0.7777777777777778, \"#fb9f3a\"], [0.8888888888888888, \"#fdca26\"], [1.0, \"#f0f921\"]], \"sequentialminus\": [[0.0, \"#0d0887\"], [0.1111111111111111, \"#46039f\"], [0.2222222222222222, \"#7201a8\"], [0.3333333333333333, \"#9c179e\"], [0.4444444444444444, \"#bd3786\"], [0.5555555555555556, \"#d8576b\"], [0.6666666666666666, \"#ed7953\"], [0.7777777777777778, \"#fb9f3a\"], [0.8888888888888888, \"#fdca26\"], [1.0, \"#f0f921\"]]}, \"colorway\": [\"#636efa\", \"#EF553B\", \"#00cc96\", \"#ab63fa\", \"#FFA15A\", \"#19d3f3\", \"#FF6692\", \"#B6E880\", \"#FF97FF\", \"#FECB52\"], \"font\": {\"color\": \"#2a3f5f\"}, \"geo\": {\"bgcolor\": \"white\", \"lakecolor\": \"white\", \"landcolor\": \"#E5ECF6\", \"showlakes\": true, \"showland\": true, \"subunitcolor\": \"white\"}, \"hoverlabel\": {\"align\": \"left\"}, \"hovermode\": \"closest\", \"mapbox\": {\"style\": \"light\"}, \"paper_bgcolor\": \"white\", \"plot_bgcolor\": \"#E5ECF6\", \"polar\": {\"angularaxis\": {\"gridcolor\": \"white\", \"linecolor\": \"white\", \"ticks\": \"\"}, \"bgcolor\": \"#E5ECF6\", \"radialaxis\": {\"gridcolor\": \"white\", \"linecolor\": \"white\", \"ticks\": \"\"}}, \"scene\": {\"xaxis\": {\"backgroundcolor\": \"#E5ECF6\", \"gridcolor\": \"white\", \"gridwidth\": 2, \"linecolor\": \"white\", \"showbackground\": true, \"ticks\": \"\", \"zerolinecolor\": \"white\"}, \"yaxis\": {\"backgroundcolor\": \"#E5ECF6\", \"gridcolor\": \"white\", \"gridwidth\": 2, \"linecolor\": \"white\", \"showbackground\": true, \"ticks\": \"\", \"zerolinecolor\": \"white\"}, \"zaxis\": {\"backgroundcolor\": \"#E5ECF6\", \"gridcolor\": \"white\", \"gridwidth\": 2, \"linecolor\": \"white\", \"showbackground\": true, \"ticks\": \"\", \"zerolinecolor\": \"white\"}}, \"shapedefaults\": {\"line\": {\"color\": \"#2a3f5f\"}}, \"ternary\": {\"aaxis\": {\"gridcolor\": \"white\", \"linecolor\": \"white\", \"ticks\": \"\"}, \"baxis\": {\"gridcolor\": \"white\", \"linecolor\": \"white\", \"ticks\": \"\"}, \"bgcolor\": \"#E5ECF6\", \"caxis\": {\"gridcolor\": \"white\", \"linecolor\": \"white\", \"ticks\": \"\"}}, \"title\": {\"x\": 0.05}, \"xaxis\": {\"automargin\": true, \"gridcolor\": \"white\", \"linecolor\": \"white\", \"ticks\": \"\", \"title\": {\"standoff\": 15}, \"zerolinecolor\": \"white\", \"zerolinewidth\": 2}, \"yaxis\": {\"automargin\": true, \"gridcolor\": \"white\", \"linecolor\": \"white\", \"ticks\": \"\", \"title\": {\"standoff\": 15}, \"zerolinecolor\": \"white\", \"zerolinewidth\": 2}}}, \"title\": {\"text\": \"Commits by Date\"}, \"xaxis\": {\"title\": {\"text\": \"Date\"}}, \"yaxis\": {\"title\": {\"text\": \"Commits Count\"}}},\n",
       "                        {\"responsive\": true}\n",
       "                    ).then(function(){\n",
       "                            \n",
       "var gd = document.getElementById('4ce3a01f-a65c-421f-8833-4cddb2671b40');\n",
       "var x = new MutationObserver(function (mutations, observer) {{\n",
       "        var display = window.getComputedStyle(gd).display;\n",
       "        if (!display || display === 'none') {{\n",
       "            console.log([gd, 'removed!']);\n",
       "            Plotly.purge(gd);\n",
       "            observer.disconnect();\n",
       "        }}\n",
       "}});\n",
       "\n",
       "// Listen for the removal of the full notebook cells\n",
       "var notebookContainer = gd.closest('#notebook-container');\n",
       "if (notebookContainer) {{\n",
       "    x.observe(notebookContainer, {childList: true});\n",
       "}}\n",
       "\n",
       "// Listen for the clearing of the current output cell\n",
       "var outputEl = gd.closest('.output');\n",
       "if (outputEl) {{\n",
       "    x.observe(outputEl, {childList: true});\n",
       "}}\n",
       "\n",
       "                        })\n",
       "                };\n",
       "                });\n",
       "            </script>\n",
       "        </div>"
      ]
     },
     "metadata": {},
     "output_type": "display_data"
    },
    {
     "name": "stdout",
     "output_type": "stream",
     "text": [
      "time: 11 s\n"
     ]
    }
   ],
   "source": [
    "fig = go.Figure([go.Scatter(\n",
    "    x=commits_by_day.index, \n",
    "    y=commits_by_day.commit_count, \n",
    "    text=commits_by_day.commit_count, \n",
    "    fill='tozeroy')])\n",
    "fig.update_layout(\n",
    "    title = 'Commits by Date', \n",
    "    xaxis_title = 'Date', \n",
    "    yaxis_title = 'Commits Count')\n",
    "fig.show()"
   ]
  },
  {
   "cell_type": "code",
   "execution_count": 189,
   "metadata": {},
   "outputs": [
    {
     "name": "stdout",
     "output_type": "stream",
     "text": [
      "time: 800 ms\n"
     ]
    }
   ],
   "source": [
    "yearly_commits = commits.groupby('commit_year')[['sha']].count()\n",
    "yearly_commits = yearly_commits.rename(columns = {'sha': 'commits_count'})\n",
    "yearly_commits['daily_avg'] = yearly_commits['commits_count']/365"
   ]
  },
  {
   "cell_type": "code",
   "execution_count": 195,
   "metadata": {},
   "outputs": [
    {
     "data": {
      "application/vnd.plotly.v1+json": {
       "config": {
        "plotlyServerURL": "https://plot.ly"
       },
       "data": [
        {
         "text": [
          0.8383561643835616,
          0.8931506849315068,
          2.9863013698630136,
          10.712328767123287,
          9.797260273972602,
          13.780821917808218,
          11.904109589041095,
          6.920547945205479,
          6.457534246575342,
          7.057534246575343
         ],
         "type": "scatter",
         "x": [
          2010,
          2011,
          2012,
          2013,
          2014,
          2015,
          2016,
          2017,
          2018,
          2019
         ],
         "y": [
          0.8383561643835616,
          0.8931506849315068,
          2.9863013698630136,
          10.712328767123287,
          9.797260273972602,
          13.780821917808218,
          11.904109589041095,
          6.920547945205479,
          6.457534246575342,
          7.057534246575343
         ]
        }
       ],
       "layout": {
        "template": {
         "data": {
          "bar": [
           {
            "error_x": {
             "color": "#2a3f5f"
            },
            "error_y": {
             "color": "#2a3f5f"
            },
            "marker": {
             "line": {
              "color": "#E5ECF6",
              "width": 0.5
             }
            },
            "type": "bar"
           }
          ],
          "barpolar": [
           {
            "marker": {
             "line": {
              "color": "#E5ECF6",
              "width": 0.5
             }
            },
            "type": "barpolar"
           }
          ],
          "carpet": [
           {
            "aaxis": {
             "endlinecolor": "#2a3f5f",
             "gridcolor": "white",
             "linecolor": "white",
             "minorgridcolor": "white",
             "startlinecolor": "#2a3f5f"
            },
            "baxis": {
             "endlinecolor": "#2a3f5f",
             "gridcolor": "white",
             "linecolor": "white",
             "minorgridcolor": "white",
             "startlinecolor": "#2a3f5f"
            },
            "type": "carpet"
           }
          ],
          "choropleth": [
           {
            "colorbar": {
             "outlinewidth": 0,
             "ticks": ""
            },
            "type": "choropleth"
           }
          ],
          "contour": [
           {
            "colorbar": {
             "outlinewidth": 0,
             "ticks": ""
            },
            "colorscale": [
             [
              0,
              "#0d0887"
             ],
             [
              0.1111111111111111,
              "#46039f"
             ],
             [
              0.2222222222222222,
              "#7201a8"
             ],
             [
              0.3333333333333333,
              "#9c179e"
             ],
             [
              0.4444444444444444,
              "#bd3786"
             ],
             [
              0.5555555555555556,
              "#d8576b"
             ],
             [
              0.6666666666666666,
              "#ed7953"
             ],
             [
              0.7777777777777778,
              "#fb9f3a"
             ],
             [
              0.8888888888888888,
              "#fdca26"
             ],
             [
              1,
              "#f0f921"
             ]
            ],
            "type": "contour"
           }
          ],
          "contourcarpet": [
           {
            "colorbar": {
             "outlinewidth": 0,
             "ticks": ""
            },
            "type": "contourcarpet"
           }
          ],
          "heatmap": [
           {
            "colorbar": {
             "outlinewidth": 0,
             "ticks": ""
            },
            "colorscale": [
             [
              0,
              "#0d0887"
             ],
             [
              0.1111111111111111,
              "#46039f"
             ],
             [
              0.2222222222222222,
              "#7201a8"
             ],
             [
              0.3333333333333333,
              "#9c179e"
             ],
             [
              0.4444444444444444,
              "#bd3786"
             ],
             [
              0.5555555555555556,
              "#d8576b"
             ],
             [
              0.6666666666666666,
              "#ed7953"
             ],
             [
              0.7777777777777778,
              "#fb9f3a"
             ],
             [
              0.8888888888888888,
              "#fdca26"
             ],
             [
              1,
              "#f0f921"
             ]
            ],
            "type": "heatmap"
           }
          ],
          "heatmapgl": [
           {
            "colorbar": {
             "outlinewidth": 0,
             "ticks": ""
            },
            "colorscale": [
             [
              0,
              "#0d0887"
             ],
             [
              0.1111111111111111,
              "#46039f"
             ],
             [
              0.2222222222222222,
              "#7201a8"
             ],
             [
              0.3333333333333333,
              "#9c179e"
             ],
             [
              0.4444444444444444,
              "#bd3786"
             ],
             [
              0.5555555555555556,
              "#d8576b"
             ],
             [
              0.6666666666666666,
              "#ed7953"
             ],
             [
              0.7777777777777778,
              "#fb9f3a"
             ],
             [
              0.8888888888888888,
              "#fdca26"
             ],
             [
              1,
              "#f0f921"
             ]
            ],
            "type": "heatmapgl"
           }
          ],
          "histogram": [
           {
            "marker": {
             "colorbar": {
              "outlinewidth": 0,
              "ticks": ""
             }
            },
            "type": "histogram"
           }
          ],
          "histogram2d": [
           {
            "colorbar": {
             "outlinewidth": 0,
             "ticks": ""
            },
            "colorscale": [
             [
              0,
              "#0d0887"
             ],
             [
              0.1111111111111111,
              "#46039f"
             ],
             [
              0.2222222222222222,
              "#7201a8"
             ],
             [
              0.3333333333333333,
              "#9c179e"
             ],
             [
              0.4444444444444444,
              "#bd3786"
             ],
             [
              0.5555555555555556,
              "#d8576b"
             ],
             [
              0.6666666666666666,
              "#ed7953"
             ],
             [
              0.7777777777777778,
              "#fb9f3a"
             ],
             [
              0.8888888888888888,
              "#fdca26"
             ],
             [
              1,
              "#f0f921"
             ]
            ],
            "type": "histogram2d"
           }
          ],
          "histogram2dcontour": [
           {
            "colorbar": {
             "outlinewidth": 0,
             "ticks": ""
            },
            "colorscale": [
             [
              0,
              "#0d0887"
             ],
             [
              0.1111111111111111,
              "#46039f"
             ],
             [
              0.2222222222222222,
              "#7201a8"
             ],
             [
              0.3333333333333333,
              "#9c179e"
             ],
             [
              0.4444444444444444,
              "#bd3786"
             ],
             [
              0.5555555555555556,
              "#d8576b"
             ],
             [
              0.6666666666666666,
              "#ed7953"
             ],
             [
              0.7777777777777778,
              "#fb9f3a"
             ],
             [
              0.8888888888888888,
              "#fdca26"
             ],
             [
              1,
              "#f0f921"
             ]
            ],
            "type": "histogram2dcontour"
           }
          ],
          "mesh3d": [
           {
            "colorbar": {
             "outlinewidth": 0,
             "ticks": ""
            },
            "type": "mesh3d"
           }
          ],
          "parcoords": [
           {
            "line": {
             "colorbar": {
              "outlinewidth": 0,
              "ticks": ""
             }
            },
            "type": "parcoords"
           }
          ],
          "pie": [
           {
            "automargin": true,
            "type": "pie"
           }
          ],
          "scatter": [
           {
            "marker": {
             "colorbar": {
              "outlinewidth": 0,
              "ticks": ""
             }
            },
            "type": "scatter"
           }
          ],
          "scatter3d": [
           {
            "line": {
             "colorbar": {
              "outlinewidth": 0,
              "ticks": ""
             }
            },
            "marker": {
             "colorbar": {
              "outlinewidth": 0,
              "ticks": ""
             }
            },
            "type": "scatter3d"
           }
          ],
          "scattercarpet": [
           {
            "marker": {
             "colorbar": {
              "outlinewidth": 0,
              "ticks": ""
             }
            },
            "type": "scattercarpet"
           }
          ],
          "scattergeo": [
           {
            "marker": {
             "colorbar": {
              "outlinewidth": 0,
              "ticks": ""
             }
            },
            "type": "scattergeo"
           }
          ],
          "scattergl": [
           {
            "marker": {
             "colorbar": {
              "outlinewidth": 0,
              "ticks": ""
             }
            },
            "type": "scattergl"
           }
          ],
          "scattermapbox": [
           {
            "marker": {
             "colorbar": {
              "outlinewidth": 0,
              "ticks": ""
             }
            },
            "type": "scattermapbox"
           }
          ],
          "scatterpolar": [
           {
            "marker": {
             "colorbar": {
              "outlinewidth": 0,
              "ticks": ""
             }
            },
            "type": "scatterpolar"
           }
          ],
          "scatterpolargl": [
           {
            "marker": {
             "colorbar": {
              "outlinewidth": 0,
              "ticks": ""
             }
            },
            "type": "scatterpolargl"
           }
          ],
          "scatterternary": [
           {
            "marker": {
             "colorbar": {
              "outlinewidth": 0,
              "ticks": ""
             }
            },
            "type": "scatterternary"
           }
          ],
          "surface": [
           {
            "colorbar": {
             "outlinewidth": 0,
             "ticks": ""
            },
            "colorscale": [
             [
              0,
              "#0d0887"
             ],
             [
              0.1111111111111111,
              "#46039f"
             ],
             [
              0.2222222222222222,
              "#7201a8"
             ],
             [
              0.3333333333333333,
              "#9c179e"
             ],
             [
              0.4444444444444444,
              "#bd3786"
             ],
             [
              0.5555555555555556,
              "#d8576b"
             ],
             [
              0.6666666666666666,
              "#ed7953"
             ],
             [
              0.7777777777777778,
              "#fb9f3a"
             ],
             [
              0.8888888888888888,
              "#fdca26"
             ],
             [
              1,
              "#f0f921"
             ]
            ],
            "type": "surface"
           }
          ],
          "table": [
           {
            "cells": {
             "fill": {
              "color": "#EBF0F8"
             },
             "line": {
              "color": "white"
             }
            },
            "header": {
             "fill": {
              "color": "#C8D4E3"
             },
             "line": {
              "color": "white"
             }
            },
            "type": "table"
           }
          ]
         },
         "layout": {
          "annotationdefaults": {
           "arrowcolor": "#2a3f5f",
           "arrowhead": 0,
           "arrowwidth": 1
          },
          "coloraxis": {
           "colorbar": {
            "outlinewidth": 0,
            "ticks": ""
           }
          },
          "colorscale": {
           "diverging": [
            [
             0,
             "#8e0152"
            ],
            [
             0.1,
             "#c51b7d"
            ],
            [
             0.2,
             "#de77ae"
            ],
            [
             0.3,
             "#f1b6da"
            ],
            [
             0.4,
             "#fde0ef"
            ],
            [
             0.5,
             "#f7f7f7"
            ],
            [
             0.6,
             "#e6f5d0"
            ],
            [
             0.7,
             "#b8e186"
            ],
            [
             0.8,
             "#7fbc41"
            ],
            [
             0.9,
             "#4d9221"
            ],
            [
             1,
             "#276419"
            ]
           ],
           "sequential": [
            [
             0,
             "#0d0887"
            ],
            [
             0.1111111111111111,
             "#46039f"
            ],
            [
             0.2222222222222222,
             "#7201a8"
            ],
            [
             0.3333333333333333,
             "#9c179e"
            ],
            [
             0.4444444444444444,
             "#bd3786"
            ],
            [
             0.5555555555555556,
             "#d8576b"
            ],
            [
             0.6666666666666666,
             "#ed7953"
            ],
            [
             0.7777777777777778,
             "#fb9f3a"
            ],
            [
             0.8888888888888888,
             "#fdca26"
            ],
            [
             1,
             "#f0f921"
            ]
           ],
           "sequentialminus": [
            [
             0,
             "#0d0887"
            ],
            [
             0.1111111111111111,
             "#46039f"
            ],
            [
             0.2222222222222222,
             "#7201a8"
            ],
            [
             0.3333333333333333,
             "#9c179e"
            ],
            [
             0.4444444444444444,
             "#bd3786"
            ],
            [
             0.5555555555555556,
             "#d8576b"
            ],
            [
             0.6666666666666666,
             "#ed7953"
            ],
            [
             0.7777777777777778,
             "#fb9f3a"
            ],
            [
             0.8888888888888888,
             "#fdca26"
            ],
            [
             1,
             "#f0f921"
            ]
           ]
          },
          "colorway": [
           "#636efa",
           "#EF553B",
           "#00cc96",
           "#ab63fa",
           "#FFA15A",
           "#19d3f3",
           "#FF6692",
           "#B6E880",
           "#FF97FF",
           "#FECB52"
          ],
          "font": {
           "color": "#2a3f5f"
          },
          "geo": {
           "bgcolor": "white",
           "lakecolor": "white",
           "landcolor": "#E5ECF6",
           "showlakes": true,
           "showland": true,
           "subunitcolor": "white"
          },
          "hoverlabel": {
           "align": "left"
          },
          "hovermode": "closest",
          "mapbox": {
           "style": "light"
          },
          "paper_bgcolor": "white",
          "plot_bgcolor": "#E5ECF6",
          "polar": {
           "angularaxis": {
            "gridcolor": "white",
            "linecolor": "white",
            "ticks": ""
           },
           "bgcolor": "#E5ECF6",
           "radialaxis": {
            "gridcolor": "white",
            "linecolor": "white",
            "ticks": ""
           }
          },
          "scene": {
           "xaxis": {
            "backgroundcolor": "#E5ECF6",
            "gridcolor": "white",
            "gridwidth": 2,
            "linecolor": "white",
            "showbackground": true,
            "ticks": "",
            "zerolinecolor": "white"
           },
           "yaxis": {
            "backgroundcolor": "#E5ECF6",
            "gridcolor": "white",
            "gridwidth": 2,
            "linecolor": "white",
            "showbackground": true,
            "ticks": "",
            "zerolinecolor": "white"
           },
           "zaxis": {
            "backgroundcolor": "#E5ECF6",
            "gridcolor": "white",
            "gridwidth": 2,
            "linecolor": "white",
            "showbackground": true,
            "ticks": "",
            "zerolinecolor": "white"
           }
          },
          "shapedefaults": {
           "line": {
            "color": "#2a3f5f"
           }
          },
          "ternary": {
           "aaxis": {
            "gridcolor": "white",
            "linecolor": "white",
            "ticks": ""
           },
           "baxis": {
            "gridcolor": "white",
            "linecolor": "white",
            "ticks": ""
           },
           "bgcolor": "#E5ECF6",
           "caxis": {
            "gridcolor": "white",
            "linecolor": "white",
            "ticks": ""
           }
          },
          "title": {
           "x": 0.05
          },
          "xaxis": {
           "automargin": true,
           "gridcolor": "white",
           "linecolor": "white",
           "ticks": "",
           "title": {
            "standoff": 15
           },
           "zerolinecolor": "white",
           "zerolinewidth": 2
          },
          "yaxis": {
           "automargin": true,
           "gridcolor": "white",
           "linecolor": "white",
           "ticks": "",
           "title": {
            "standoff": 15
           },
           "zerolinecolor": "white",
           "zerolinewidth": 2
          }
         }
        },
        "title": {
         "text": "Average Daily Commits by Year"
        },
        "xaxis": {
         "tickmode": "linear",
         "title": {
          "text": "Year"
         }
        },
        "yaxis": {
         "title": {
          "text": "Average Number of Commits"
         }
        }
       }
      },
      "text/html": [
       "<div>\n",
       "        \n",
       "        \n",
       "            <div id=\"f569b288-363c-462d-a22a-6a4e97e28173\" class=\"plotly-graph-div\" style=\"height:525px; width:100%;\"></div>\n",
       "            <script type=\"text/javascript\">\n",
       "                require([\"plotly\"], function(Plotly) {\n",
       "                    window.PLOTLYENV=window.PLOTLYENV || {};\n",
       "                    \n",
       "                if (document.getElementById(\"f569b288-363c-462d-a22a-6a4e97e28173\")) {\n",
       "                    Plotly.newPlot(\n",
       "                        'f569b288-363c-462d-a22a-6a4e97e28173',\n",
       "                        [{\"text\": [0.8383561643835616, 0.8931506849315068, 2.9863013698630136, 10.712328767123287, 9.797260273972602, 13.780821917808218, 11.904109589041095, 6.920547945205479, 6.457534246575342, 7.057534246575343], \"type\": \"scatter\", \"x\": [2010, 2011, 2012, 2013, 2014, 2015, 2016, 2017, 2018, 2019], \"y\": [0.8383561643835616, 0.8931506849315068, 2.9863013698630136, 10.712328767123287, 9.797260273972602, 13.780821917808218, 11.904109589041095, 6.920547945205479, 6.457534246575342, 7.057534246575343]}],\n",
       "                        {\"template\": {\"data\": {\"bar\": [{\"error_x\": {\"color\": \"#2a3f5f\"}, \"error_y\": {\"color\": \"#2a3f5f\"}, \"marker\": {\"line\": {\"color\": \"#E5ECF6\", \"width\": 0.5}}, \"type\": \"bar\"}], \"barpolar\": [{\"marker\": {\"line\": {\"color\": \"#E5ECF6\", \"width\": 0.5}}, \"type\": \"barpolar\"}], \"carpet\": [{\"aaxis\": {\"endlinecolor\": \"#2a3f5f\", \"gridcolor\": \"white\", \"linecolor\": \"white\", \"minorgridcolor\": \"white\", \"startlinecolor\": \"#2a3f5f\"}, \"baxis\": {\"endlinecolor\": \"#2a3f5f\", \"gridcolor\": \"white\", \"linecolor\": \"white\", \"minorgridcolor\": \"white\", \"startlinecolor\": \"#2a3f5f\"}, \"type\": \"carpet\"}], \"choropleth\": [{\"colorbar\": {\"outlinewidth\": 0, \"ticks\": \"\"}, \"type\": \"choropleth\"}], \"contour\": [{\"colorbar\": {\"outlinewidth\": 0, \"ticks\": \"\"}, \"colorscale\": [[0.0, \"#0d0887\"], [0.1111111111111111, \"#46039f\"], [0.2222222222222222, \"#7201a8\"], [0.3333333333333333, \"#9c179e\"], [0.4444444444444444, \"#bd3786\"], [0.5555555555555556, \"#d8576b\"], [0.6666666666666666, \"#ed7953\"], [0.7777777777777778, \"#fb9f3a\"], [0.8888888888888888, \"#fdca26\"], [1.0, \"#f0f921\"]], \"type\": \"contour\"}], \"contourcarpet\": [{\"colorbar\": {\"outlinewidth\": 0, \"ticks\": \"\"}, \"type\": \"contourcarpet\"}], \"heatmap\": [{\"colorbar\": {\"outlinewidth\": 0, \"ticks\": \"\"}, \"colorscale\": [[0.0, \"#0d0887\"], [0.1111111111111111, \"#46039f\"], [0.2222222222222222, \"#7201a8\"], [0.3333333333333333, \"#9c179e\"], [0.4444444444444444, \"#bd3786\"], [0.5555555555555556, \"#d8576b\"], [0.6666666666666666, \"#ed7953\"], [0.7777777777777778, \"#fb9f3a\"], [0.8888888888888888, \"#fdca26\"], [1.0, \"#f0f921\"]], \"type\": \"heatmap\"}], \"heatmapgl\": [{\"colorbar\": {\"outlinewidth\": 0, \"ticks\": \"\"}, \"colorscale\": [[0.0, \"#0d0887\"], [0.1111111111111111, \"#46039f\"], [0.2222222222222222, \"#7201a8\"], [0.3333333333333333, \"#9c179e\"], [0.4444444444444444, \"#bd3786\"], [0.5555555555555556, \"#d8576b\"], [0.6666666666666666, \"#ed7953\"], [0.7777777777777778, \"#fb9f3a\"], [0.8888888888888888, \"#fdca26\"], [1.0, \"#f0f921\"]], \"type\": \"heatmapgl\"}], \"histogram\": [{\"marker\": {\"colorbar\": {\"outlinewidth\": 0, \"ticks\": \"\"}}, \"type\": \"histogram\"}], \"histogram2d\": [{\"colorbar\": {\"outlinewidth\": 0, \"ticks\": \"\"}, \"colorscale\": [[0.0, \"#0d0887\"], [0.1111111111111111, \"#46039f\"], [0.2222222222222222, \"#7201a8\"], [0.3333333333333333, \"#9c179e\"], [0.4444444444444444, \"#bd3786\"], [0.5555555555555556, \"#d8576b\"], [0.6666666666666666, \"#ed7953\"], [0.7777777777777778, \"#fb9f3a\"], [0.8888888888888888, \"#fdca26\"], [1.0, \"#f0f921\"]], \"type\": \"histogram2d\"}], \"histogram2dcontour\": [{\"colorbar\": {\"outlinewidth\": 0, \"ticks\": \"\"}, \"colorscale\": [[0.0, \"#0d0887\"], [0.1111111111111111, \"#46039f\"], [0.2222222222222222, \"#7201a8\"], [0.3333333333333333, \"#9c179e\"], [0.4444444444444444, \"#bd3786\"], [0.5555555555555556, \"#d8576b\"], [0.6666666666666666, \"#ed7953\"], [0.7777777777777778, \"#fb9f3a\"], [0.8888888888888888, \"#fdca26\"], [1.0, \"#f0f921\"]], \"type\": \"histogram2dcontour\"}], \"mesh3d\": [{\"colorbar\": {\"outlinewidth\": 0, \"ticks\": \"\"}, \"type\": \"mesh3d\"}], \"parcoords\": [{\"line\": {\"colorbar\": {\"outlinewidth\": 0, \"ticks\": \"\"}}, \"type\": \"parcoords\"}], \"pie\": [{\"automargin\": true, \"type\": \"pie\"}], \"scatter\": [{\"marker\": {\"colorbar\": {\"outlinewidth\": 0, \"ticks\": \"\"}}, \"type\": \"scatter\"}], \"scatter3d\": [{\"line\": {\"colorbar\": {\"outlinewidth\": 0, \"ticks\": \"\"}}, \"marker\": {\"colorbar\": {\"outlinewidth\": 0, \"ticks\": \"\"}}, \"type\": \"scatter3d\"}], \"scattercarpet\": [{\"marker\": {\"colorbar\": {\"outlinewidth\": 0, \"ticks\": \"\"}}, \"type\": \"scattercarpet\"}], \"scattergeo\": [{\"marker\": {\"colorbar\": {\"outlinewidth\": 0, \"ticks\": \"\"}}, \"type\": \"scattergeo\"}], \"scattergl\": [{\"marker\": {\"colorbar\": {\"outlinewidth\": 0, \"ticks\": \"\"}}, \"type\": \"scattergl\"}], \"scattermapbox\": [{\"marker\": {\"colorbar\": {\"outlinewidth\": 0, \"ticks\": \"\"}}, \"type\": \"scattermapbox\"}], \"scatterpolar\": [{\"marker\": {\"colorbar\": {\"outlinewidth\": 0, \"ticks\": \"\"}}, \"type\": \"scatterpolar\"}], \"scatterpolargl\": [{\"marker\": {\"colorbar\": {\"outlinewidth\": 0, \"ticks\": \"\"}}, \"type\": \"scatterpolargl\"}], \"scatterternary\": [{\"marker\": {\"colorbar\": {\"outlinewidth\": 0, \"ticks\": \"\"}}, \"type\": \"scatterternary\"}], \"surface\": [{\"colorbar\": {\"outlinewidth\": 0, \"ticks\": \"\"}, \"colorscale\": [[0.0, \"#0d0887\"], [0.1111111111111111, \"#46039f\"], [0.2222222222222222, \"#7201a8\"], [0.3333333333333333, \"#9c179e\"], [0.4444444444444444, \"#bd3786\"], [0.5555555555555556, \"#d8576b\"], [0.6666666666666666, \"#ed7953\"], [0.7777777777777778, \"#fb9f3a\"], [0.8888888888888888, \"#fdca26\"], [1.0, \"#f0f921\"]], \"type\": \"surface\"}], \"table\": [{\"cells\": {\"fill\": {\"color\": \"#EBF0F8\"}, \"line\": {\"color\": \"white\"}}, \"header\": {\"fill\": {\"color\": \"#C8D4E3\"}, \"line\": {\"color\": \"white\"}}, \"type\": \"table\"}]}, \"layout\": {\"annotationdefaults\": {\"arrowcolor\": \"#2a3f5f\", \"arrowhead\": 0, \"arrowwidth\": 1}, \"coloraxis\": {\"colorbar\": {\"outlinewidth\": 0, \"ticks\": \"\"}}, \"colorscale\": {\"diverging\": [[0, \"#8e0152\"], [0.1, \"#c51b7d\"], [0.2, \"#de77ae\"], [0.3, \"#f1b6da\"], [0.4, \"#fde0ef\"], [0.5, \"#f7f7f7\"], [0.6, \"#e6f5d0\"], [0.7, \"#b8e186\"], [0.8, \"#7fbc41\"], [0.9, \"#4d9221\"], [1, \"#276419\"]], \"sequential\": [[0.0, \"#0d0887\"], [0.1111111111111111, \"#46039f\"], [0.2222222222222222, \"#7201a8\"], [0.3333333333333333, \"#9c179e\"], [0.4444444444444444, \"#bd3786\"], [0.5555555555555556, \"#d8576b\"], [0.6666666666666666, \"#ed7953\"], [0.7777777777777778, \"#fb9f3a\"], [0.8888888888888888, \"#fdca26\"], [1.0, \"#f0f921\"]], \"sequentialminus\": [[0.0, \"#0d0887\"], [0.1111111111111111, \"#46039f\"], [0.2222222222222222, \"#7201a8\"], [0.3333333333333333, \"#9c179e\"], [0.4444444444444444, \"#bd3786\"], [0.5555555555555556, \"#d8576b\"], [0.6666666666666666, \"#ed7953\"], [0.7777777777777778, \"#fb9f3a\"], [0.8888888888888888, \"#fdca26\"], [1.0, \"#f0f921\"]]}, \"colorway\": [\"#636efa\", \"#EF553B\", \"#00cc96\", \"#ab63fa\", \"#FFA15A\", \"#19d3f3\", \"#FF6692\", \"#B6E880\", \"#FF97FF\", \"#FECB52\"], \"font\": {\"color\": \"#2a3f5f\"}, \"geo\": {\"bgcolor\": \"white\", \"lakecolor\": \"white\", \"landcolor\": \"#E5ECF6\", \"showlakes\": true, \"showland\": true, \"subunitcolor\": \"white\"}, \"hoverlabel\": {\"align\": \"left\"}, \"hovermode\": \"closest\", \"mapbox\": {\"style\": \"light\"}, \"paper_bgcolor\": \"white\", \"plot_bgcolor\": \"#E5ECF6\", \"polar\": {\"angularaxis\": {\"gridcolor\": \"white\", \"linecolor\": \"white\", \"ticks\": \"\"}, \"bgcolor\": \"#E5ECF6\", \"radialaxis\": {\"gridcolor\": \"white\", \"linecolor\": \"white\", \"ticks\": \"\"}}, \"scene\": {\"xaxis\": {\"backgroundcolor\": \"#E5ECF6\", \"gridcolor\": \"white\", \"gridwidth\": 2, \"linecolor\": \"white\", \"showbackground\": true, \"ticks\": \"\", \"zerolinecolor\": \"white\"}, \"yaxis\": {\"backgroundcolor\": \"#E5ECF6\", \"gridcolor\": \"white\", \"gridwidth\": 2, \"linecolor\": \"white\", \"showbackground\": true, \"ticks\": \"\", \"zerolinecolor\": \"white\"}, \"zaxis\": {\"backgroundcolor\": \"#E5ECF6\", \"gridcolor\": \"white\", \"gridwidth\": 2, \"linecolor\": \"white\", \"showbackground\": true, \"ticks\": \"\", \"zerolinecolor\": \"white\"}}, \"shapedefaults\": {\"line\": {\"color\": \"#2a3f5f\"}}, \"ternary\": {\"aaxis\": {\"gridcolor\": \"white\", \"linecolor\": \"white\", \"ticks\": \"\"}, \"baxis\": {\"gridcolor\": \"white\", \"linecolor\": \"white\", \"ticks\": \"\"}, \"bgcolor\": \"#E5ECF6\", \"caxis\": {\"gridcolor\": \"white\", \"linecolor\": \"white\", \"ticks\": \"\"}}, \"title\": {\"x\": 0.05}, \"xaxis\": {\"automargin\": true, \"gridcolor\": \"white\", \"linecolor\": \"white\", \"ticks\": \"\", \"title\": {\"standoff\": 15}, \"zerolinecolor\": \"white\", \"zerolinewidth\": 2}, \"yaxis\": {\"automargin\": true, \"gridcolor\": \"white\", \"linecolor\": \"white\", \"ticks\": \"\", \"title\": {\"standoff\": 15}, \"zerolinecolor\": \"white\", \"zerolinewidth\": 2}}}, \"title\": {\"text\": \"Average Daily Commits by Year\"}, \"xaxis\": {\"tickmode\": \"linear\", \"title\": {\"text\": \"Year\"}}, \"yaxis\": {\"title\": {\"text\": \"Average Number of Commits\"}}},\n",
       "                        {\"responsive\": true}\n",
       "                    ).then(function(){\n",
       "                            \n",
       "var gd = document.getElementById('f569b288-363c-462d-a22a-6a4e97e28173');\n",
       "var x = new MutationObserver(function (mutations, observer) {{\n",
       "        var display = window.getComputedStyle(gd).display;\n",
       "        if (!display || display === 'none') {{\n",
       "            console.log([gd, 'removed!']);\n",
       "            Plotly.purge(gd);\n",
       "            observer.disconnect();\n",
       "        }}\n",
       "}});\n",
       "\n",
       "// Listen for the removal of the full notebook cells\n",
       "var notebookContainer = gd.closest('#notebook-container');\n",
       "if (notebookContainer) {{\n",
       "    x.observe(notebookContainer, {childList: true});\n",
       "}}\n",
       "\n",
       "// Listen for the clearing of the current output cell\n",
       "var outputEl = gd.closest('.output');\n",
       "if (outputEl) {{\n",
       "    x.observe(outputEl, {childList: true});\n",
       "}}\n",
       "\n",
       "                        })\n",
       "                };\n",
       "                });\n",
       "            </script>\n",
       "        </div>"
      ]
     },
     "metadata": {},
     "output_type": "display_data"
    },
    {
     "name": "stdout",
     "output_type": "stream",
     "text": [
      "time: 378 ms\n"
     ]
    }
   ],
   "source": [
    "fig = go.Figure([go.Scatter(\n",
    "    x=yearly_commits.index, \n",
    "    y=yearly_commits.daily_avg, \n",
    "    text=yearly_commits.daily_avg\n",
    ")])\n",
    "fig.update_layout(\n",
    "    title = 'Average Daily Commits by Year', \n",
    "    xaxis_title = 'Year', \n",
    "    yaxis_title = 'Average Number of Commits',\n",
    "    xaxis_tickmode = 'linear')\n",
    "fig.show()"
   ]
  },
  {
   "cell_type": "code",
   "execution_count": 96,
   "metadata": {},
   "outputs": [
    {
     "name": "stdout",
     "output_type": "stream",
     "text": [
      "time: 22.5 ms\n"
     ]
    }
   ],
   "source": [
    "commits_by_author = commits.groupby('author.login')[['sha']].count()\n",
    "commits_by_author = commits_by_author.rename(columns = {'sha': 'commit_count'})\n",
    "commits_by_author = commits_by_author.sort_values(by='commit_count', ascending=False)\n",
    "top_authors = commits_by_author.head(30)"
   ]
  },
  {
   "cell_type": "code",
   "execution_count": 97,
   "metadata": {},
   "outputs": [
    {
     "data": {
      "application/vnd.plotly.v1+json": {
       "config": {
        "plotlyServerURL": "https://plot.ly"
       },
       "data": [
        {
         "type": "bar",
         "x": [
          "mateiz",
          "rxin",
          "pwendell",
          "cloud-fan",
          "HyukjinKwon",
          "tdas",
          "srowen",
          "dongjoon-hyun",
          "JoshRosen",
          "zsxwing",
          "viirya",
          "gatorsmile",
          "vanzin",
          "liancheng",
          "mengxr",
          "yanboliang",
          "wangyum",
          "marmbrus",
          "ankurdave",
          "yhuai",
          "MaxGekk",
          "shivaram",
          "jegonzal",
          "ScrapCodes",
          "jerryshao",
          "maropu",
          "ueshin",
          "jkbradley",
          "gengliangwang",
          "zhengruifeng"
         ],
         "y": [
          1588,
          1476,
          857,
          737,
          566,
          564,
          557,
          529,
          520,
          514,
          469,
          419,
          409,
          377,
          351,
          290,
          287,
          281,
          266,
          258,
          214,
          209,
          203,
          203,
          197,
          185,
          181,
          170,
          169,
          167
         ]
        }
       ],
       "layout": {
        "template": {
         "data": {
          "bar": [
           {
            "error_x": {
             "color": "#2a3f5f"
            },
            "error_y": {
             "color": "#2a3f5f"
            },
            "marker": {
             "line": {
              "color": "#E5ECF6",
              "width": 0.5
             }
            },
            "type": "bar"
           }
          ],
          "barpolar": [
           {
            "marker": {
             "line": {
              "color": "#E5ECF6",
              "width": 0.5
             }
            },
            "type": "barpolar"
           }
          ],
          "carpet": [
           {
            "aaxis": {
             "endlinecolor": "#2a3f5f",
             "gridcolor": "white",
             "linecolor": "white",
             "minorgridcolor": "white",
             "startlinecolor": "#2a3f5f"
            },
            "baxis": {
             "endlinecolor": "#2a3f5f",
             "gridcolor": "white",
             "linecolor": "white",
             "minorgridcolor": "white",
             "startlinecolor": "#2a3f5f"
            },
            "type": "carpet"
           }
          ],
          "choropleth": [
           {
            "colorbar": {
             "outlinewidth": 0,
             "ticks": ""
            },
            "type": "choropleth"
           }
          ],
          "contour": [
           {
            "colorbar": {
             "outlinewidth": 0,
             "ticks": ""
            },
            "colorscale": [
             [
              0,
              "#0d0887"
             ],
             [
              0.1111111111111111,
              "#46039f"
             ],
             [
              0.2222222222222222,
              "#7201a8"
             ],
             [
              0.3333333333333333,
              "#9c179e"
             ],
             [
              0.4444444444444444,
              "#bd3786"
             ],
             [
              0.5555555555555556,
              "#d8576b"
             ],
             [
              0.6666666666666666,
              "#ed7953"
             ],
             [
              0.7777777777777778,
              "#fb9f3a"
             ],
             [
              0.8888888888888888,
              "#fdca26"
             ],
             [
              1,
              "#f0f921"
             ]
            ],
            "type": "contour"
           }
          ],
          "contourcarpet": [
           {
            "colorbar": {
             "outlinewidth": 0,
             "ticks": ""
            },
            "type": "contourcarpet"
           }
          ],
          "heatmap": [
           {
            "colorbar": {
             "outlinewidth": 0,
             "ticks": ""
            },
            "colorscale": [
             [
              0,
              "#0d0887"
             ],
             [
              0.1111111111111111,
              "#46039f"
             ],
             [
              0.2222222222222222,
              "#7201a8"
             ],
             [
              0.3333333333333333,
              "#9c179e"
             ],
             [
              0.4444444444444444,
              "#bd3786"
             ],
             [
              0.5555555555555556,
              "#d8576b"
             ],
             [
              0.6666666666666666,
              "#ed7953"
             ],
             [
              0.7777777777777778,
              "#fb9f3a"
             ],
             [
              0.8888888888888888,
              "#fdca26"
             ],
             [
              1,
              "#f0f921"
             ]
            ],
            "type": "heatmap"
           }
          ],
          "heatmapgl": [
           {
            "colorbar": {
             "outlinewidth": 0,
             "ticks": ""
            },
            "colorscale": [
             [
              0,
              "#0d0887"
             ],
             [
              0.1111111111111111,
              "#46039f"
             ],
             [
              0.2222222222222222,
              "#7201a8"
             ],
             [
              0.3333333333333333,
              "#9c179e"
             ],
             [
              0.4444444444444444,
              "#bd3786"
             ],
             [
              0.5555555555555556,
              "#d8576b"
             ],
             [
              0.6666666666666666,
              "#ed7953"
             ],
             [
              0.7777777777777778,
              "#fb9f3a"
             ],
             [
              0.8888888888888888,
              "#fdca26"
             ],
             [
              1,
              "#f0f921"
             ]
            ],
            "type": "heatmapgl"
           }
          ],
          "histogram": [
           {
            "marker": {
             "colorbar": {
              "outlinewidth": 0,
              "ticks": ""
             }
            },
            "type": "histogram"
           }
          ],
          "histogram2d": [
           {
            "colorbar": {
             "outlinewidth": 0,
             "ticks": ""
            },
            "colorscale": [
             [
              0,
              "#0d0887"
             ],
             [
              0.1111111111111111,
              "#46039f"
             ],
             [
              0.2222222222222222,
              "#7201a8"
             ],
             [
              0.3333333333333333,
              "#9c179e"
             ],
             [
              0.4444444444444444,
              "#bd3786"
             ],
             [
              0.5555555555555556,
              "#d8576b"
             ],
             [
              0.6666666666666666,
              "#ed7953"
             ],
             [
              0.7777777777777778,
              "#fb9f3a"
             ],
             [
              0.8888888888888888,
              "#fdca26"
             ],
             [
              1,
              "#f0f921"
             ]
            ],
            "type": "histogram2d"
           }
          ],
          "histogram2dcontour": [
           {
            "colorbar": {
             "outlinewidth": 0,
             "ticks": ""
            },
            "colorscale": [
             [
              0,
              "#0d0887"
             ],
             [
              0.1111111111111111,
              "#46039f"
             ],
             [
              0.2222222222222222,
              "#7201a8"
             ],
             [
              0.3333333333333333,
              "#9c179e"
             ],
             [
              0.4444444444444444,
              "#bd3786"
             ],
             [
              0.5555555555555556,
              "#d8576b"
             ],
             [
              0.6666666666666666,
              "#ed7953"
             ],
             [
              0.7777777777777778,
              "#fb9f3a"
             ],
             [
              0.8888888888888888,
              "#fdca26"
             ],
             [
              1,
              "#f0f921"
             ]
            ],
            "type": "histogram2dcontour"
           }
          ],
          "mesh3d": [
           {
            "colorbar": {
             "outlinewidth": 0,
             "ticks": ""
            },
            "type": "mesh3d"
           }
          ],
          "parcoords": [
           {
            "line": {
             "colorbar": {
              "outlinewidth": 0,
              "ticks": ""
             }
            },
            "type": "parcoords"
           }
          ],
          "pie": [
           {
            "automargin": true,
            "type": "pie"
           }
          ],
          "scatter": [
           {
            "marker": {
             "colorbar": {
              "outlinewidth": 0,
              "ticks": ""
             }
            },
            "type": "scatter"
           }
          ],
          "scatter3d": [
           {
            "line": {
             "colorbar": {
              "outlinewidth": 0,
              "ticks": ""
             }
            },
            "marker": {
             "colorbar": {
              "outlinewidth": 0,
              "ticks": ""
             }
            },
            "type": "scatter3d"
           }
          ],
          "scattercarpet": [
           {
            "marker": {
             "colorbar": {
              "outlinewidth": 0,
              "ticks": ""
             }
            },
            "type": "scattercarpet"
           }
          ],
          "scattergeo": [
           {
            "marker": {
             "colorbar": {
              "outlinewidth": 0,
              "ticks": ""
             }
            },
            "type": "scattergeo"
           }
          ],
          "scattergl": [
           {
            "marker": {
             "colorbar": {
              "outlinewidth": 0,
              "ticks": ""
             }
            },
            "type": "scattergl"
           }
          ],
          "scattermapbox": [
           {
            "marker": {
             "colorbar": {
              "outlinewidth": 0,
              "ticks": ""
             }
            },
            "type": "scattermapbox"
           }
          ],
          "scatterpolar": [
           {
            "marker": {
             "colorbar": {
              "outlinewidth": 0,
              "ticks": ""
             }
            },
            "type": "scatterpolar"
           }
          ],
          "scatterpolargl": [
           {
            "marker": {
             "colorbar": {
              "outlinewidth": 0,
              "ticks": ""
             }
            },
            "type": "scatterpolargl"
           }
          ],
          "scatterternary": [
           {
            "marker": {
             "colorbar": {
              "outlinewidth": 0,
              "ticks": ""
             }
            },
            "type": "scatterternary"
           }
          ],
          "surface": [
           {
            "colorbar": {
             "outlinewidth": 0,
             "ticks": ""
            },
            "colorscale": [
             [
              0,
              "#0d0887"
             ],
             [
              0.1111111111111111,
              "#46039f"
             ],
             [
              0.2222222222222222,
              "#7201a8"
             ],
             [
              0.3333333333333333,
              "#9c179e"
             ],
             [
              0.4444444444444444,
              "#bd3786"
             ],
             [
              0.5555555555555556,
              "#d8576b"
             ],
             [
              0.6666666666666666,
              "#ed7953"
             ],
             [
              0.7777777777777778,
              "#fb9f3a"
             ],
             [
              0.8888888888888888,
              "#fdca26"
             ],
             [
              1,
              "#f0f921"
             ]
            ],
            "type": "surface"
           }
          ],
          "table": [
           {
            "cells": {
             "fill": {
              "color": "#EBF0F8"
             },
             "line": {
              "color": "white"
             }
            },
            "header": {
             "fill": {
              "color": "#C8D4E3"
             },
             "line": {
              "color": "white"
             }
            },
            "type": "table"
           }
          ]
         },
         "layout": {
          "annotationdefaults": {
           "arrowcolor": "#2a3f5f",
           "arrowhead": 0,
           "arrowwidth": 1
          },
          "coloraxis": {
           "colorbar": {
            "outlinewidth": 0,
            "ticks": ""
           }
          },
          "colorscale": {
           "diverging": [
            [
             0,
             "#8e0152"
            ],
            [
             0.1,
             "#c51b7d"
            ],
            [
             0.2,
             "#de77ae"
            ],
            [
             0.3,
             "#f1b6da"
            ],
            [
             0.4,
             "#fde0ef"
            ],
            [
             0.5,
             "#f7f7f7"
            ],
            [
             0.6,
             "#e6f5d0"
            ],
            [
             0.7,
             "#b8e186"
            ],
            [
             0.8,
             "#7fbc41"
            ],
            [
             0.9,
             "#4d9221"
            ],
            [
             1,
             "#276419"
            ]
           ],
           "sequential": [
            [
             0,
             "#0d0887"
            ],
            [
             0.1111111111111111,
             "#46039f"
            ],
            [
             0.2222222222222222,
             "#7201a8"
            ],
            [
             0.3333333333333333,
             "#9c179e"
            ],
            [
             0.4444444444444444,
             "#bd3786"
            ],
            [
             0.5555555555555556,
             "#d8576b"
            ],
            [
             0.6666666666666666,
             "#ed7953"
            ],
            [
             0.7777777777777778,
             "#fb9f3a"
            ],
            [
             0.8888888888888888,
             "#fdca26"
            ],
            [
             1,
             "#f0f921"
            ]
           ],
           "sequentialminus": [
            [
             0,
             "#0d0887"
            ],
            [
             0.1111111111111111,
             "#46039f"
            ],
            [
             0.2222222222222222,
             "#7201a8"
            ],
            [
             0.3333333333333333,
             "#9c179e"
            ],
            [
             0.4444444444444444,
             "#bd3786"
            ],
            [
             0.5555555555555556,
             "#d8576b"
            ],
            [
             0.6666666666666666,
             "#ed7953"
            ],
            [
             0.7777777777777778,
             "#fb9f3a"
            ],
            [
             0.8888888888888888,
             "#fdca26"
            ],
            [
             1,
             "#f0f921"
            ]
           ]
          },
          "colorway": [
           "#636efa",
           "#EF553B",
           "#00cc96",
           "#ab63fa",
           "#FFA15A",
           "#19d3f3",
           "#FF6692",
           "#B6E880",
           "#FF97FF",
           "#FECB52"
          ],
          "font": {
           "color": "#2a3f5f"
          },
          "geo": {
           "bgcolor": "white",
           "lakecolor": "white",
           "landcolor": "#E5ECF6",
           "showlakes": true,
           "showland": true,
           "subunitcolor": "white"
          },
          "hoverlabel": {
           "align": "left"
          },
          "hovermode": "closest",
          "mapbox": {
           "style": "light"
          },
          "paper_bgcolor": "white",
          "plot_bgcolor": "#E5ECF6",
          "polar": {
           "angularaxis": {
            "gridcolor": "white",
            "linecolor": "white",
            "ticks": ""
           },
           "bgcolor": "#E5ECF6",
           "radialaxis": {
            "gridcolor": "white",
            "linecolor": "white",
            "ticks": ""
           }
          },
          "scene": {
           "xaxis": {
            "backgroundcolor": "#E5ECF6",
            "gridcolor": "white",
            "gridwidth": 2,
            "linecolor": "white",
            "showbackground": true,
            "ticks": "",
            "zerolinecolor": "white"
           },
           "yaxis": {
            "backgroundcolor": "#E5ECF6",
            "gridcolor": "white",
            "gridwidth": 2,
            "linecolor": "white",
            "showbackground": true,
            "ticks": "",
            "zerolinecolor": "white"
           },
           "zaxis": {
            "backgroundcolor": "#E5ECF6",
            "gridcolor": "white",
            "gridwidth": 2,
            "linecolor": "white",
            "showbackground": true,
            "ticks": "",
            "zerolinecolor": "white"
           }
          },
          "shapedefaults": {
           "line": {
            "color": "#2a3f5f"
           }
          },
          "ternary": {
           "aaxis": {
            "gridcolor": "white",
            "linecolor": "white",
            "ticks": ""
           },
           "baxis": {
            "gridcolor": "white",
            "linecolor": "white",
            "ticks": ""
           },
           "bgcolor": "#E5ECF6",
           "caxis": {
            "gridcolor": "white",
            "linecolor": "white",
            "ticks": ""
           }
          },
          "title": {
           "x": 0.05
          },
          "xaxis": {
           "automargin": true,
           "gridcolor": "white",
           "linecolor": "white",
           "ticks": "",
           "title": {
            "standoff": 15
           },
           "zerolinecolor": "white",
           "zerolinewidth": 2
          },
          "yaxis": {
           "automargin": true,
           "gridcolor": "white",
           "linecolor": "white",
           "ticks": "",
           "title": {
            "standoff": 15
           },
           "zerolinecolor": "white",
           "zerolinewidth": 2
          }
         }
        },
        "title": {
         "text": "Top Committers"
        },
        "xaxis": {
         "tickangle": -40,
         "tickmode": "linear",
         "title": {
          "text": "Author"
         }
        },
        "yaxis": {
         "title": {
          "text": "Commits Count"
         }
        }
       }
      },
      "text/html": [
       "<div>\n",
       "        \n",
       "        \n",
       "            <div id=\"577de029-9452-4c25-be0a-526fea5733bd\" class=\"plotly-graph-div\" style=\"height:525px; width:100%;\"></div>\n",
       "            <script type=\"text/javascript\">\n",
       "                require([\"plotly\"], function(Plotly) {\n",
       "                    window.PLOTLYENV=window.PLOTLYENV || {};\n",
       "                    \n",
       "                if (document.getElementById(\"577de029-9452-4c25-be0a-526fea5733bd\")) {\n",
       "                    Plotly.newPlot(\n",
       "                        '577de029-9452-4c25-be0a-526fea5733bd',\n",
       "                        [{\"type\": \"bar\", \"x\": [\"mateiz\", \"rxin\", \"pwendell\", \"cloud-fan\", \"HyukjinKwon\", \"tdas\", \"srowen\", \"dongjoon-hyun\", \"JoshRosen\", \"zsxwing\", \"viirya\", \"gatorsmile\", \"vanzin\", \"liancheng\", \"mengxr\", \"yanboliang\", \"wangyum\", \"marmbrus\", \"ankurdave\", \"yhuai\", \"MaxGekk\", \"shivaram\", \"jegonzal\", \"ScrapCodes\", \"jerryshao\", \"maropu\", \"ueshin\", \"jkbradley\", \"gengliangwang\", \"zhengruifeng\"], \"y\": [1588, 1476, 857, 737, 566, 564, 557, 529, 520, 514, 469, 419, 409, 377, 351, 290, 287, 281, 266, 258, 214, 209, 203, 203, 197, 185, 181, 170, 169, 167]}],\n",
       "                        {\"template\": {\"data\": {\"bar\": [{\"error_x\": {\"color\": \"#2a3f5f\"}, \"error_y\": {\"color\": \"#2a3f5f\"}, \"marker\": {\"line\": {\"color\": \"#E5ECF6\", \"width\": 0.5}}, \"type\": \"bar\"}], \"barpolar\": [{\"marker\": {\"line\": {\"color\": \"#E5ECF6\", \"width\": 0.5}}, \"type\": \"barpolar\"}], \"carpet\": [{\"aaxis\": {\"endlinecolor\": \"#2a3f5f\", \"gridcolor\": \"white\", \"linecolor\": \"white\", \"minorgridcolor\": \"white\", \"startlinecolor\": \"#2a3f5f\"}, \"baxis\": {\"endlinecolor\": \"#2a3f5f\", \"gridcolor\": \"white\", \"linecolor\": \"white\", \"minorgridcolor\": \"white\", \"startlinecolor\": \"#2a3f5f\"}, \"type\": \"carpet\"}], \"choropleth\": [{\"colorbar\": {\"outlinewidth\": 0, \"ticks\": \"\"}, \"type\": \"choropleth\"}], \"contour\": [{\"colorbar\": {\"outlinewidth\": 0, \"ticks\": \"\"}, \"colorscale\": [[0.0, \"#0d0887\"], [0.1111111111111111, \"#46039f\"], [0.2222222222222222, \"#7201a8\"], [0.3333333333333333, \"#9c179e\"], [0.4444444444444444, \"#bd3786\"], [0.5555555555555556, \"#d8576b\"], [0.6666666666666666, \"#ed7953\"], [0.7777777777777778, \"#fb9f3a\"], [0.8888888888888888, \"#fdca26\"], [1.0, \"#f0f921\"]], \"type\": \"contour\"}], \"contourcarpet\": [{\"colorbar\": {\"outlinewidth\": 0, \"ticks\": \"\"}, \"type\": \"contourcarpet\"}], \"heatmap\": [{\"colorbar\": {\"outlinewidth\": 0, \"ticks\": \"\"}, \"colorscale\": [[0.0, \"#0d0887\"], [0.1111111111111111, \"#46039f\"], [0.2222222222222222, \"#7201a8\"], [0.3333333333333333, \"#9c179e\"], [0.4444444444444444, \"#bd3786\"], [0.5555555555555556, \"#d8576b\"], [0.6666666666666666, \"#ed7953\"], [0.7777777777777778, \"#fb9f3a\"], [0.8888888888888888, \"#fdca26\"], [1.0, \"#f0f921\"]], \"type\": \"heatmap\"}], \"heatmapgl\": [{\"colorbar\": {\"outlinewidth\": 0, \"ticks\": \"\"}, \"colorscale\": [[0.0, \"#0d0887\"], [0.1111111111111111, \"#46039f\"], [0.2222222222222222, \"#7201a8\"], [0.3333333333333333, \"#9c179e\"], [0.4444444444444444, \"#bd3786\"], [0.5555555555555556, \"#d8576b\"], [0.6666666666666666, \"#ed7953\"], [0.7777777777777778, \"#fb9f3a\"], [0.8888888888888888, \"#fdca26\"], [1.0, \"#f0f921\"]], \"type\": \"heatmapgl\"}], \"histogram\": [{\"marker\": {\"colorbar\": {\"outlinewidth\": 0, \"ticks\": \"\"}}, \"type\": \"histogram\"}], \"histogram2d\": [{\"colorbar\": {\"outlinewidth\": 0, \"ticks\": \"\"}, \"colorscale\": [[0.0, \"#0d0887\"], [0.1111111111111111, \"#46039f\"], [0.2222222222222222, \"#7201a8\"], [0.3333333333333333, \"#9c179e\"], [0.4444444444444444, \"#bd3786\"], [0.5555555555555556, \"#d8576b\"], [0.6666666666666666, \"#ed7953\"], [0.7777777777777778, \"#fb9f3a\"], [0.8888888888888888, \"#fdca26\"], [1.0, \"#f0f921\"]], \"type\": \"histogram2d\"}], \"histogram2dcontour\": [{\"colorbar\": {\"outlinewidth\": 0, \"ticks\": \"\"}, \"colorscale\": [[0.0, \"#0d0887\"], [0.1111111111111111, \"#46039f\"], [0.2222222222222222, \"#7201a8\"], [0.3333333333333333, \"#9c179e\"], [0.4444444444444444, \"#bd3786\"], [0.5555555555555556, \"#d8576b\"], [0.6666666666666666, \"#ed7953\"], [0.7777777777777778, \"#fb9f3a\"], [0.8888888888888888, \"#fdca26\"], [1.0, \"#f0f921\"]], \"type\": \"histogram2dcontour\"}], \"mesh3d\": [{\"colorbar\": {\"outlinewidth\": 0, \"ticks\": \"\"}, \"type\": \"mesh3d\"}], \"parcoords\": [{\"line\": {\"colorbar\": {\"outlinewidth\": 0, \"ticks\": \"\"}}, \"type\": \"parcoords\"}], \"pie\": [{\"automargin\": true, \"type\": \"pie\"}], \"scatter\": [{\"marker\": {\"colorbar\": {\"outlinewidth\": 0, \"ticks\": \"\"}}, \"type\": \"scatter\"}], \"scatter3d\": [{\"line\": {\"colorbar\": {\"outlinewidth\": 0, \"ticks\": \"\"}}, \"marker\": {\"colorbar\": {\"outlinewidth\": 0, \"ticks\": \"\"}}, \"type\": \"scatter3d\"}], \"scattercarpet\": [{\"marker\": {\"colorbar\": {\"outlinewidth\": 0, \"ticks\": \"\"}}, \"type\": \"scattercarpet\"}], \"scattergeo\": [{\"marker\": {\"colorbar\": {\"outlinewidth\": 0, \"ticks\": \"\"}}, \"type\": \"scattergeo\"}], \"scattergl\": [{\"marker\": {\"colorbar\": {\"outlinewidth\": 0, \"ticks\": \"\"}}, \"type\": \"scattergl\"}], \"scattermapbox\": [{\"marker\": {\"colorbar\": {\"outlinewidth\": 0, \"ticks\": \"\"}}, \"type\": \"scattermapbox\"}], \"scatterpolar\": [{\"marker\": {\"colorbar\": {\"outlinewidth\": 0, \"ticks\": \"\"}}, \"type\": \"scatterpolar\"}], \"scatterpolargl\": [{\"marker\": {\"colorbar\": {\"outlinewidth\": 0, \"ticks\": \"\"}}, \"type\": \"scatterpolargl\"}], \"scatterternary\": [{\"marker\": {\"colorbar\": {\"outlinewidth\": 0, \"ticks\": \"\"}}, \"type\": \"scatterternary\"}], \"surface\": [{\"colorbar\": {\"outlinewidth\": 0, \"ticks\": \"\"}, \"colorscale\": [[0.0, \"#0d0887\"], [0.1111111111111111, \"#46039f\"], [0.2222222222222222, \"#7201a8\"], [0.3333333333333333, \"#9c179e\"], [0.4444444444444444, \"#bd3786\"], [0.5555555555555556, \"#d8576b\"], [0.6666666666666666, \"#ed7953\"], [0.7777777777777778, \"#fb9f3a\"], [0.8888888888888888, \"#fdca26\"], [1.0, \"#f0f921\"]], \"type\": \"surface\"}], \"table\": [{\"cells\": {\"fill\": {\"color\": \"#EBF0F8\"}, \"line\": {\"color\": \"white\"}}, \"header\": {\"fill\": {\"color\": \"#C8D4E3\"}, \"line\": {\"color\": \"white\"}}, \"type\": \"table\"}]}, \"layout\": {\"annotationdefaults\": {\"arrowcolor\": \"#2a3f5f\", \"arrowhead\": 0, \"arrowwidth\": 1}, \"coloraxis\": {\"colorbar\": {\"outlinewidth\": 0, \"ticks\": \"\"}}, \"colorscale\": {\"diverging\": [[0, \"#8e0152\"], [0.1, \"#c51b7d\"], [0.2, \"#de77ae\"], [0.3, \"#f1b6da\"], [0.4, \"#fde0ef\"], [0.5, \"#f7f7f7\"], [0.6, \"#e6f5d0\"], [0.7, \"#b8e186\"], [0.8, \"#7fbc41\"], [0.9, \"#4d9221\"], [1, \"#276419\"]], \"sequential\": [[0.0, \"#0d0887\"], [0.1111111111111111, \"#46039f\"], [0.2222222222222222, \"#7201a8\"], [0.3333333333333333, \"#9c179e\"], [0.4444444444444444, \"#bd3786\"], [0.5555555555555556, \"#d8576b\"], [0.6666666666666666, \"#ed7953\"], [0.7777777777777778, \"#fb9f3a\"], [0.8888888888888888, \"#fdca26\"], [1.0, \"#f0f921\"]], \"sequentialminus\": [[0.0, \"#0d0887\"], [0.1111111111111111, \"#46039f\"], [0.2222222222222222, \"#7201a8\"], [0.3333333333333333, \"#9c179e\"], [0.4444444444444444, \"#bd3786\"], [0.5555555555555556, \"#d8576b\"], [0.6666666666666666, \"#ed7953\"], [0.7777777777777778, \"#fb9f3a\"], [0.8888888888888888, \"#fdca26\"], [1.0, \"#f0f921\"]]}, \"colorway\": [\"#636efa\", \"#EF553B\", \"#00cc96\", \"#ab63fa\", \"#FFA15A\", \"#19d3f3\", \"#FF6692\", \"#B6E880\", \"#FF97FF\", \"#FECB52\"], \"font\": {\"color\": \"#2a3f5f\"}, \"geo\": {\"bgcolor\": \"white\", \"lakecolor\": \"white\", \"landcolor\": \"#E5ECF6\", \"showlakes\": true, \"showland\": true, \"subunitcolor\": \"white\"}, \"hoverlabel\": {\"align\": \"left\"}, \"hovermode\": \"closest\", \"mapbox\": {\"style\": \"light\"}, \"paper_bgcolor\": \"white\", \"plot_bgcolor\": \"#E5ECF6\", \"polar\": {\"angularaxis\": {\"gridcolor\": \"white\", \"linecolor\": \"white\", \"ticks\": \"\"}, \"bgcolor\": \"#E5ECF6\", \"radialaxis\": {\"gridcolor\": \"white\", \"linecolor\": \"white\", \"ticks\": \"\"}}, \"scene\": {\"xaxis\": {\"backgroundcolor\": \"#E5ECF6\", \"gridcolor\": \"white\", \"gridwidth\": 2, \"linecolor\": \"white\", \"showbackground\": true, \"ticks\": \"\", \"zerolinecolor\": \"white\"}, \"yaxis\": {\"backgroundcolor\": \"#E5ECF6\", \"gridcolor\": \"white\", \"gridwidth\": 2, \"linecolor\": \"white\", \"showbackground\": true, \"ticks\": \"\", \"zerolinecolor\": \"white\"}, \"zaxis\": {\"backgroundcolor\": \"#E5ECF6\", \"gridcolor\": \"white\", \"gridwidth\": 2, \"linecolor\": \"white\", \"showbackground\": true, \"ticks\": \"\", \"zerolinecolor\": \"white\"}}, \"shapedefaults\": {\"line\": {\"color\": \"#2a3f5f\"}}, \"ternary\": {\"aaxis\": {\"gridcolor\": \"white\", \"linecolor\": \"white\", \"ticks\": \"\"}, \"baxis\": {\"gridcolor\": \"white\", \"linecolor\": \"white\", \"ticks\": \"\"}, \"bgcolor\": \"#E5ECF6\", \"caxis\": {\"gridcolor\": \"white\", \"linecolor\": \"white\", \"ticks\": \"\"}}, \"title\": {\"x\": 0.05}, \"xaxis\": {\"automargin\": true, \"gridcolor\": \"white\", \"linecolor\": \"white\", \"ticks\": \"\", \"title\": {\"standoff\": 15}, \"zerolinecolor\": \"white\", \"zerolinewidth\": 2}, \"yaxis\": {\"automargin\": true, \"gridcolor\": \"white\", \"linecolor\": \"white\", \"ticks\": \"\", \"title\": {\"standoff\": 15}, \"zerolinecolor\": \"white\", \"zerolinewidth\": 2}}}, \"title\": {\"text\": \"Top Committers\"}, \"xaxis\": {\"tickangle\": -40, \"tickmode\": \"linear\", \"title\": {\"text\": \"Author\"}}, \"yaxis\": {\"title\": {\"text\": \"Commits Count\"}}},\n",
       "                        {\"responsive\": true}\n",
       "                    ).then(function(){\n",
       "                            \n",
       "var gd = document.getElementById('577de029-9452-4c25-be0a-526fea5733bd');\n",
       "var x = new MutationObserver(function (mutations, observer) {{\n",
       "        var display = window.getComputedStyle(gd).display;\n",
       "        if (!display || display === 'none') {{\n",
       "            console.log([gd, 'removed!']);\n",
       "            Plotly.purge(gd);\n",
       "            observer.disconnect();\n",
       "        }}\n",
       "}});\n",
       "\n",
       "// Listen for the removal of the full notebook cells\n",
       "var notebookContainer = gd.closest('#notebook-container');\n",
       "if (notebookContainer) {{\n",
       "    x.observe(notebookContainer, {childList: true});\n",
       "}}\n",
       "\n",
       "// Listen for the clearing of the current output cell\n",
       "var outputEl = gd.closest('.output');\n",
       "if (outputEl) {{\n",
       "    x.observe(outputEl, {childList: true});\n",
       "}}\n",
       "\n",
       "                        })\n",
       "                };\n",
       "                });\n",
       "            </script>\n",
       "        </div>"
      ]
     },
     "metadata": {},
     "output_type": "display_data"
    },
    {
     "name": "stdout",
     "output_type": "stream",
     "text": [
      "time: 315 ms\n"
     ]
    }
   ],
   "source": [
    "fig = go.Figure([go.Bar(\n",
    "    x=top_authors.index, \n",
    "    y=top_authors.commit_count)])\n",
    "fig.update_layout(\n",
    "    title = 'Top Committers', \n",
    "    xaxis_title = 'Author', \n",
    "    yaxis_title = 'Commits Count', \n",
    "    xaxis_tickmode = 'linear',\n",
    "    xaxis_tickangle=-40)\n",
    "fig.show()"
   ]
  },
  {
   "cell_type": "markdown",
   "metadata": {},
   "source": [
    "## Open Pull Requests"
   ]
  },
  {
   "cell_type": "code",
   "execution_count": 98,
   "metadata": {},
   "outputs": [
    {
     "name": "stdout",
     "output_type": "stream",
     "text": [
      "time: 258 ms\n"
     ]
    }
   ],
   "source": [
    "pulls = pd.read_csv('data/pulls.csv', parse_dates=True)"
   ]
  },
  {
   "cell_type": "code",
   "execution_count": 99,
   "metadata": {},
   "outputs": [
    {
     "name": "stdout",
     "output_type": "stream",
     "text": [
      "<class 'pandas.core.frame.DataFrame'>\n",
      "RangeIndex: 521 entries, 0 to 520\n",
      "Columns: 289 entries, Unnamed: 0 to head.repo\n",
      "dtypes: bool(14), float64(24), int64(16), object(235)\n",
      "memory usage: 1.1+ MB\n",
      "time: 82.5 ms\n"
     ]
    }
   ],
   "source": [
    "pulls.info()"
   ]
  },
  {
   "cell_type": "code",
   "execution_count": 100,
   "metadata": {},
   "outputs": [
    {
     "name": "stdout",
     "output_type": "stream",
     "text": [
      "time: 25 ms\n"
     ]
    }
   ],
   "source": [
    "pulls['date'] = pd.to_datetime(pulls['created_at'])\n",
    "pulls['date'] = pd.to_datetime(pulls['date'], utc=True)\n",
    "pulls['pull_date'] = pulls['date'].dt.date"
   ]
  },
  {
   "cell_type": "code",
   "execution_count": 101,
   "metadata": {},
   "outputs": [
    {
     "name": "stdout",
     "output_type": "stream",
     "text": [
      "time: 25 ms\n"
     ]
    }
   ],
   "source": [
    "pulls_by_date = pulls.groupby('pull_date')[['id']].count()\n",
    "pulls_by_date = pulls_by_date.rename(columns = {'id': 'commit_count'})"
   ]
  },
  {
   "cell_type": "code",
   "execution_count": 104,
   "metadata": {},
   "outputs": [
    {
     "data": {
      "application/vnd.plotly.v1+json": {
       "config": {
        "plotlyServerURL": "https://plot.ly"
       },
       "data": [
        {
         "text": [
          1,
          1,
          1,
          1,
          1,
          1,
          1,
          1,
          1,
          1,
          1,
          1,
          1,
          1,
          1,
          1,
          1,
          2,
          1,
          1,
          1,
          1,
          1,
          1,
          1,
          1,
          1,
          2,
          1,
          1,
          1,
          1,
          1,
          2,
          1,
          1,
          1,
          1,
          2,
          2,
          1,
          1,
          1,
          1,
          1,
          1,
          1,
          1,
          1,
          2,
          1,
          1,
          1,
          1,
          1,
          1,
          1,
          1,
          1,
          1,
          1,
          1,
          1,
          1,
          1,
          1,
          1,
          1,
          3,
          1,
          2,
          1,
          2,
          1,
          1,
          2,
          2,
          1,
          1,
          3,
          1,
          1,
          1,
          1,
          1,
          1,
          1,
          1,
          1,
          1,
          1,
          1,
          1,
          1,
          1,
          1,
          1,
          1,
          1,
          1,
          1,
          1,
          2,
          1,
          1,
          2,
          1,
          2,
          1,
          1,
          1,
          1,
          1,
          2,
          2,
          1,
          1,
          1,
          1,
          2,
          2,
          1,
          1,
          2,
          1,
          1,
          1,
          2,
          1,
          1,
          1,
          1,
          1,
          1,
          1,
          1,
          1,
          2,
          2,
          1,
          1,
          1,
          1,
          1,
          1,
          1,
          2,
          2,
          1,
          2,
          1,
          1,
          1,
          1,
          1,
          1,
          1,
          1,
          1,
          1,
          1,
          2,
          1,
          1,
          1,
          1,
          1,
          1,
          3,
          1,
          1,
          1,
          1,
          1,
          1,
          1,
          1,
          1,
          1,
          1,
          1,
          1,
          2,
          2,
          1,
          1,
          1,
          1,
          1,
          1,
          1,
          1,
          2,
          1,
          2,
          2,
          1,
          3,
          1,
          3,
          2,
          1,
          1,
          1,
          2,
          1,
          1,
          1,
          1,
          1,
          1,
          2,
          2,
          2,
          1,
          1,
          2,
          1,
          2,
          1,
          3,
          1,
          1,
          2,
          1,
          1,
          1,
          1,
          2,
          1,
          1,
          1,
          3,
          1,
          1,
          1,
          2,
          1,
          2,
          1,
          1,
          2,
          1,
          1,
          1,
          1,
          1,
          2,
          1,
          1,
          1,
          1,
          2,
          1,
          1,
          1,
          1,
          1,
          1,
          2,
          2,
          2,
          3,
          2,
          2,
          1,
          1,
          2,
          1,
          1,
          1,
          1,
          1,
          2,
          1,
          2,
          1,
          2,
          2,
          3,
          3,
          1,
          1,
          2,
          3,
          2,
          4,
          4,
          1,
          1,
          2,
          1,
          2,
          6,
          1,
          1,
          3,
          2,
          4,
          1,
          4,
          2,
          2,
          1,
          1,
          5,
          2,
          2,
          1,
          2,
          1,
          2,
          1,
          4,
          4,
          1,
          11,
          2,
          3,
          5,
          3,
          4,
          6,
          9,
          7,
          7,
          10,
          1,
          3,
          5,
          13
         ],
         "type": "scatter",
         "x": [
          "2015-07-31",
          "2016-02-16",
          "2016-02-24",
          "2016-03-28",
          "2016-04-11",
          "2016-05-26",
          "2016-05-28",
          "2016-06-01",
          "2016-06-13",
          "2016-07-11",
          "2016-08-01",
          "2016-09-02",
          "2016-09-29",
          "2016-10-02",
          "2016-10-15",
          "2016-11-21",
          "2016-12-27",
          "2017-01-05",
          "2017-01-31",
          "2017-02-16",
          "2017-02-20",
          "2017-02-23",
          "2017-03-01",
          "2017-03-06",
          "2017-03-10",
          "2017-03-13",
          "2017-03-17",
          "2017-03-20",
          "2017-04-03",
          "2017-05-01",
          "2017-05-26",
          "2017-06-04",
          "2017-06-14",
          "2017-06-23",
          "2017-06-26",
          "2017-07-05",
          "2017-07-18",
          "2017-07-25",
          "2017-08-10",
          "2017-08-18",
          "2017-08-25",
          "2017-09-11",
          "2017-09-27",
          "2017-10-01",
          "2017-10-02",
          "2017-10-04",
          "2017-10-11",
          "2017-10-24",
          "2017-10-26",
          "2017-11-01",
          "2017-11-04",
          "2017-11-08",
          "2017-11-10",
          "2017-11-17",
          "2017-11-24",
          "2017-11-28",
          "2017-12-27",
          "2017-12-31",
          "2018-01-08",
          "2018-01-09",
          "2018-01-21",
          "2018-01-28",
          "2018-02-01",
          "2018-02-04",
          "2018-02-07",
          "2018-02-13",
          "2018-02-23",
          "2018-02-28",
          "2018-03-14",
          "2018-03-18",
          "2018-03-20",
          "2018-03-21",
          "2018-03-29",
          "2018-04-02",
          "2018-04-04",
          "2018-04-06",
          "2018-04-09",
          "2018-04-16",
          "2018-04-19",
          "2018-04-25",
          "2018-04-26",
          "2018-04-28",
          "2018-04-30",
          "2018-05-04",
          "2018-05-10",
          "2018-05-15",
          "2018-05-17",
          "2018-05-29",
          "2018-05-31",
          "2018-06-02",
          "2018-06-08",
          "2018-06-11",
          "2018-06-22",
          "2018-06-23",
          "2018-06-26",
          "2018-06-29",
          "2018-07-01",
          "2018-07-02",
          "2018-07-04",
          "2018-07-17",
          "2018-07-24",
          "2018-07-25",
          "2018-07-26",
          "2018-07-30",
          "2018-07-31",
          "2018-08-02",
          "2018-08-03",
          "2018-08-07",
          "2018-08-08",
          "2018-08-09",
          "2018-08-13",
          "2018-08-18",
          "2018-08-19",
          "2018-08-21",
          "2018-08-23",
          "2018-08-24",
          "2018-08-30",
          "2018-09-01",
          "2018-09-03",
          "2018-09-13",
          "2018-09-14",
          "2018-09-18",
          "2018-09-19",
          "2018-09-20",
          "2018-09-24",
          "2018-09-26",
          "2018-09-27",
          "2018-09-28",
          "2018-10-03",
          "2018-10-05",
          "2018-10-12",
          "2018-10-15",
          "2018-10-17",
          "2018-10-19",
          "2018-10-21",
          "2018-10-28",
          "2018-10-29",
          "2018-10-31",
          "2018-11-05",
          "2018-11-06",
          "2018-11-07",
          "2018-11-11",
          "2018-11-14",
          "2018-11-15",
          "2018-11-17",
          "2018-11-20",
          "2018-11-21",
          "2018-11-26",
          "2018-11-28",
          "2018-12-03",
          "2018-12-13",
          "2018-12-16",
          "2018-12-18",
          "2018-12-22",
          "2018-12-26",
          "2019-01-08",
          "2019-01-12",
          "2019-01-13",
          "2019-01-17",
          "2019-01-18",
          "2019-01-29",
          "2019-01-30",
          "2019-02-01",
          "2019-02-04",
          "2019-02-07",
          "2019-02-08",
          "2019-02-10",
          "2019-02-12",
          "2019-02-14",
          "2019-02-21",
          "2019-02-27",
          "2019-02-28",
          "2019-03-03",
          "2019-03-06",
          "2019-03-07",
          "2019-03-13",
          "2019-03-15",
          "2019-03-17",
          "2019-03-18",
          "2019-03-20",
          "2019-03-21",
          "2019-03-25",
          "2019-03-26",
          "2019-03-27",
          "2019-03-28",
          "2019-04-03",
          "2019-04-04",
          "2019-04-09",
          "2019-04-11",
          "2019-04-13",
          "2019-04-15",
          "2019-04-20",
          "2019-04-23",
          "2019-04-24",
          "2019-04-25",
          "2019-04-30",
          "2019-05-02",
          "2019-05-05",
          "2019-05-06",
          "2019-05-08",
          "2019-05-09",
          "2019-05-10",
          "2019-05-13",
          "2019-05-14",
          "2019-05-15",
          "2019-05-16",
          "2019-05-21",
          "2019-05-26",
          "2019-05-28",
          "2019-05-30",
          "2019-06-01",
          "2019-06-04",
          "2019-06-05",
          "2019-06-11",
          "2019-06-12",
          "2019-06-16",
          "2019-06-17",
          "2019-06-21",
          "2019-06-23",
          "2019-06-26",
          "2019-06-27",
          "2019-06-29",
          "2019-07-01",
          "2019-07-02",
          "2019-07-04",
          "2019-07-05",
          "2019-07-07",
          "2019-07-08",
          "2019-07-09",
          "2019-07-10",
          "2019-07-11",
          "2019-07-17",
          "2019-07-19",
          "2019-07-20",
          "2019-07-26",
          "2019-07-28",
          "2019-07-29",
          "2019-08-06",
          "2019-08-09",
          "2019-08-12",
          "2019-08-13",
          "2019-08-14",
          "2019-08-19",
          "2019-08-20",
          "2019-08-22",
          "2019-08-23",
          "2019-08-25",
          "2019-08-28",
          "2019-08-29",
          "2019-09-01",
          "2019-09-02",
          "2019-09-05",
          "2019-09-06",
          "2019-09-08",
          "2019-09-10",
          "2019-09-12",
          "2019-09-15",
          "2019-09-17",
          "2019-09-18",
          "2019-09-19",
          "2019-09-20",
          "2019-09-23",
          "2019-09-24",
          "2019-09-26",
          "2019-09-29",
          "2019-09-30",
          "2019-10-01",
          "2019-10-02",
          "2019-10-03",
          "2019-10-07",
          "2019-10-09",
          "2019-10-10",
          "2019-10-11",
          "2019-10-12",
          "2019-10-14",
          "2019-10-16",
          "2019-10-17",
          "2019-10-18",
          "2019-10-21",
          "2019-10-22",
          "2019-10-23",
          "2019-10-24",
          "2019-10-25",
          "2019-10-27",
          "2019-10-28",
          "2019-10-29",
          "2019-10-30",
          "2019-10-31",
          "2019-11-01",
          "2019-11-02",
          "2019-11-05",
          "2019-11-06",
          "2019-11-07",
          "2019-11-08",
          "2019-11-11",
          "2019-11-12",
          "2019-11-13",
          "2019-11-14",
          "2019-11-15",
          "2019-11-18",
          "2019-11-19",
          "2019-11-21",
          "2019-11-22",
          "2019-11-23",
          "2019-11-25",
          "2019-11-26",
          "2019-11-27",
          "2019-11-28",
          "2019-11-29",
          "2019-11-30",
          "2019-12-01",
          "2019-12-02",
          "2019-12-03",
          "2019-12-04",
          "2019-12-06",
          "2019-12-07",
          "2019-12-09",
          "2019-12-10",
          "2019-12-11",
          "2019-12-12",
          "2019-12-13",
          "2019-12-14",
          "2019-12-16",
          "2019-12-17",
          "2019-12-18",
          "2019-12-19",
          "2019-12-20",
          "2019-12-21",
          "2019-12-22",
          "2019-12-23",
          "2019-12-24"
         ],
         "y": [
          1,
          1,
          1,
          1,
          1,
          1,
          1,
          1,
          1,
          1,
          1,
          1,
          1,
          1,
          1,
          1,
          1,
          2,
          1,
          1,
          1,
          1,
          1,
          1,
          1,
          1,
          1,
          2,
          1,
          1,
          1,
          1,
          1,
          2,
          1,
          1,
          1,
          1,
          2,
          2,
          1,
          1,
          1,
          1,
          1,
          1,
          1,
          1,
          1,
          2,
          1,
          1,
          1,
          1,
          1,
          1,
          1,
          1,
          1,
          1,
          1,
          1,
          1,
          1,
          1,
          1,
          1,
          1,
          3,
          1,
          2,
          1,
          2,
          1,
          1,
          2,
          2,
          1,
          1,
          3,
          1,
          1,
          1,
          1,
          1,
          1,
          1,
          1,
          1,
          1,
          1,
          1,
          1,
          1,
          1,
          1,
          1,
          1,
          1,
          1,
          1,
          1,
          2,
          1,
          1,
          2,
          1,
          2,
          1,
          1,
          1,
          1,
          1,
          2,
          2,
          1,
          1,
          1,
          1,
          2,
          2,
          1,
          1,
          2,
          1,
          1,
          1,
          2,
          1,
          1,
          1,
          1,
          1,
          1,
          1,
          1,
          1,
          2,
          2,
          1,
          1,
          1,
          1,
          1,
          1,
          1,
          2,
          2,
          1,
          2,
          1,
          1,
          1,
          1,
          1,
          1,
          1,
          1,
          1,
          1,
          1,
          2,
          1,
          1,
          1,
          1,
          1,
          1,
          3,
          1,
          1,
          1,
          1,
          1,
          1,
          1,
          1,
          1,
          1,
          1,
          1,
          1,
          2,
          2,
          1,
          1,
          1,
          1,
          1,
          1,
          1,
          1,
          2,
          1,
          2,
          2,
          1,
          3,
          1,
          3,
          2,
          1,
          1,
          1,
          2,
          1,
          1,
          1,
          1,
          1,
          1,
          2,
          2,
          2,
          1,
          1,
          2,
          1,
          2,
          1,
          3,
          1,
          1,
          2,
          1,
          1,
          1,
          1,
          2,
          1,
          1,
          1,
          3,
          1,
          1,
          1,
          2,
          1,
          2,
          1,
          1,
          2,
          1,
          1,
          1,
          1,
          1,
          2,
          1,
          1,
          1,
          1,
          2,
          1,
          1,
          1,
          1,
          1,
          1,
          2,
          2,
          2,
          3,
          2,
          2,
          1,
          1,
          2,
          1,
          1,
          1,
          1,
          1,
          2,
          1,
          2,
          1,
          2,
          2,
          3,
          3,
          1,
          1,
          2,
          3,
          2,
          4,
          4,
          1,
          1,
          2,
          1,
          2,
          6,
          1,
          1,
          3,
          2,
          4,
          1,
          4,
          2,
          2,
          1,
          1,
          5,
          2,
          2,
          1,
          2,
          1,
          2,
          1,
          4,
          4,
          1,
          11,
          2,
          3,
          5,
          3,
          4,
          6,
          9,
          7,
          7,
          10,
          1,
          3,
          5,
          13
         ]
        }
       ],
       "layout": {
        "template": {
         "data": {
          "bar": [
           {
            "error_x": {
             "color": "#2a3f5f"
            },
            "error_y": {
             "color": "#2a3f5f"
            },
            "marker": {
             "line": {
              "color": "#E5ECF6",
              "width": 0.5
             }
            },
            "type": "bar"
           }
          ],
          "barpolar": [
           {
            "marker": {
             "line": {
              "color": "#E5ECF6",
              "width": 0.5
             }
            },
            "type": "barpolar"
           }
          ],
          "carpet": [
           {
            "aaxis": {
             "endlinecolor": "#2a3f5f",
             "gridcolor": "white",
             "linecolor": "white",
             "minorgridcolor": "white",
             "startlinecolor": "#2a3f5f"
            },
            "baxis": {
             "endlinecolor": "#2a3f5f",
             "gridcolor": "white",
             "linecolor": "white",
             "minorgridcolor": "white",
             "startlinecolor": "#2a3f5f"
            },
            "type": "carpet"
           }
          ],
          "choropleth": [
           {
            "colorbar": {
             "outlinewidth": 0,
             "ticks": ""
            },
            "type": "choropleth"
           }
          ],
          "contour": [
           {
            "colorbar": {
             "outlinewidth": 0,
             "ticks": ""
            },
            "colorscale": [
             [
              0,
              "#0d0887"
             ],
             [
              0.1111111111111111,
              "#46039f"
             ],
             [
              0.2222222222222222,
              "#7201a8"
             ],
             [
              0.3333333333333333,
              "#9c179e"
             ],
             [
              0.4444444444444444,
              "#bd3786"
             ],
             [
              0.5555555555555556,
              "#d8576b"
             ],
             [
              0.6666666666666666,
              "#ed7953"
             ],
             [
              0.7777777777777778,
              "#fb9f3a"
             ],
             [
              0.8888888888888888,
              "#fdca26"
             ],
             [
              1,
              "#f0f921"
             ]
            ],
            "type": "contour"
           }
          ],
          "contourcarpet": [
           {
            "colorbar": {
             "outlinewidth": 0,
             "ticks": ""
            },
            "type": "contourcarpet"
           }
          ],
          "heatmap": [
           {
            "colorbar": {
             "outlinewidth": 0,
             "ticks": ""
            },
            "colorscale": [
             [
              0,
              "#0d0887"
             ],
             [
              0.1111111111111111,
              "#46039f"
             ],
             [
              0.2222222222222222,
              "#7201a8"
             ],
             [
              0.3333333333333333,
              "#9c179e"
             ],
             [
              0.4444444444444444,
              "#bd3786"
             ],
             [
              0.5555555555555556,
              "#d8576b"
             ],
             [
              0.6666666666666666,
              "#ed7953"
             ],
             [
              0.7777777777777778,
              "#fb9f3a"
             ],
             [
              0.8888888888888888,
              "#fdca26"
             ],
             [
              1,
              "#f0f921"
             ]
            ],
            "type": "heatmap"
           }
          ],
          "heatmapgl": [
           {
            "colorbar": {
             "outlinewidth": 0,
             "ticks": ""
            },
            "colorscale": [
             [
              0,
              "#0d0887"
             ],
             [
              0.1111111111111111,
              "#46039f"
             ],
             [
              0.2222222222222222,
              "#7201a8"
             ],
             [
              0.3333333333333333,
              "#9c179e"
             ],
             [
              0.4444444444444444,
              "#bd3786"
             ],
             [
              0.5555555555555556,
              "#d8576b"
             ],
             [
              0.6666666666666666,
              "#ed7953"
             ],
             [
              0.7777777777777778,
              "#fb9f3a"
             ],
             [
              0.8888888888888888,
              "#fdca26"
             ],
             [
              1,
              "#f0f921"
             ]
            ],
            "type": "heatmapgl"
           }
          ],
          "histogram": [
           {
            "marker": {
             "colorbar": {
              "outlinewidth": 0,
              "ticks": ""
             }
            },
            "type": "histogram"
           }
          ],
          "histogram2d": [
           {
            "colorbar": {
             "outlinewidth": 0,
             "ticks": ""
            },
            "colorscale": [
             [
              0,
              "#0d0887"
             ],
             [
              0.1111111111111111,
              "#46039f"
             ],
             [
              0.2222222222222222,
              "#7201a8"
             ],
             [
              0.3333333333333333,
              "#9c179e"
             ],
             [
              0.4444444444444444,
              "#bd3786"
             ],
             [
              0.5555555555555556,
              "#d8576b"
             ],
             [
              0.6666666666666666,
              "#ed7953"
             ],
             [
              0.7777777777777778,
              "#fb9f3a"
             ],
             [
              0.8888888888888888,
              "#fdca26"
             ],
             [
              1,
              "#f0f921"
             ]
            ],
            "type": "histogram2d"
           }
          ],
          "histogram2dcontour": [
           {
            "colorbar": {
             "outlinewidth": 0,
             "ticks": ""
            },
            "colorscale": [
             [
              0,
              "#0d0887"
             ],
             [
              0.1111111111111111,
              "#46039f"
             ],
             [
              0.2222222222222222,
              "#7201a8"
             ],
             [
              0.3333333333333333,
              "#9c179e"
             ],
             [
              0.4444444444444444,
              "#bd3786"
             ],
             [
              0.5555555555555556,
              "#d8576b"
             ],
             [
              0.6666666666666666,
              "#ed7953"
             ],
             [
              0.7777777777777778,
              "#fb9f3a"
             ],
             [
              0.8888888888888888,
              "#fdca26"
             ],
             [
              1,
              "#f0f921"
             ]
            ],
            "type": "histogram2dcontour"
           }
          ],
          "mesh3d": [
           {
            "colorbar": {
             "outlinewidth": 0,
             "ticks": ""
            },
            "type": "mesh3d"
           }
          ],
          "parcoords": [
           {
            "line": {
             "colorbar": {
              "outlinewidth": 0,
              "ticks": ""
             }
            },
            "type": "parcoords"
           }
          ],
          "pie": [
           {
            "automargin": true,
            "type": "pie"
           }
          ],
          "scatter": [
           {
            "marker": {
             "colorbar": {
              "outlinewidth": 0,
              "ticks": ""
             }
            },
            "type": "scatter"
           }
          ],
          "scatter3d": [
           {
            "line": {
             "colorbar": {
              "outlinewidth": 0,
              "ticks": ""
             }
            },
            "marker": {
             "colorbar": {
              "outlinewidth": 0,
              "ticks": ""
             }
            },
            "type": "scatter3d"
           }
          ],
          "scattercarpet": [
           {
            "marker": {
             "colorbar": {
              "outlinewidth": 0,
              "ticks": ""
             }
            },
            "type": "scattercarpet"
           }
          ],
          "scattergeo": [
           {
            "marker": {
             "colorbar": {
              "outlinewidth": 0,
              "ticks": ""
             }
            },
            "type": "scattergeo"
           }
          ],
          "scattergl": [
           {
            "marker": {
             "colorbar": {
              "outlinewidth": 0,
              "ticks": ""
             }
            },
            "type": "scattergl"
           }
          ],
          "scattermapbox": [
           {
            "marker": {
             "colorbar": {
              "outlinewidth": 0,
              "ticks": ""
             }
            },
            "type": "scattermapbox"
           }
          ],
          "scatterpolar": [
           {
            "marker": {
             "colorbar": {
              "outlinewidth": 0,
              "ticks": ""
             }
            },
            "type": "scatterpolar"
           }
          ],
          "scatterpolargl": [
           {
            "marker": {
             "colorbar": {
              "outlinewidth": 0,
              "ticks": ""
             }
            },
            "type": "scatterpolargl"
           }
          ],
          "scatterternary": [
           {
            "marker": {
             "colorbar": {
              "outlinewidth": 0,
              "ticks": ""
             }
            },
            "type": "scatterternary"
           }
          ],
          "surface": [
           {
            "colorbar": {
             "outlinewidth": 0,
             "ticks": ""
            },
            "colorscale": [
             [
              0,
              "#0d0887"
             ],
             [
              0.1111111111111111,
              "#46039f"
             ],
             [
              0.2222222222222222,
              "#7201a8"
             ],
             [
              0.3333333333333333,
              "#9c179e"
             ],
             [
              0.4444444444444444,
              "#bd3786"
             ],
             [
              0.5555555555555556,
              "#d8576b"
             ],
             [
              0.6666666666666666,
              "#ed7953"
             ],
             [
              0.7777777777777778,
              "#fb9f3a"
             ],
             [
              0.8888888888888888,
              "#fdca26"
             ],
             [
              1,
              "#f0f921"
             ]
            ],
            "type": "surface"
           }
          ],
          "table": [
           {
            "cells": {
             "fill": {
              "color": "#EBF0F8"
             },
             "line": {
              "color": "white"
             }
            },
            "header": {
             "fill": {
              "color": "#C8D4E3"
             },
             "line": {
              "color": "white"
             }
            },
            "type": "table"
           }
          ]
         },
         "layout": {
          "annotationdefaults": {
           "arrowcolor": "#2a3f5f",
           "arrowhead": 0,
           "arrowwidth": 1
          },
          "coloraxis": {
           "colorbar": {
            "outlinewidth": 0,
            "ticks": ""
           }
          },
          "colorscale": {
           "diverging": [
            [
             0,
             "#8e0152"
            ],
            [
             0.1,
             "#c51b7d"
            ],
            [
             0.2,
             "#de77ae"
            ],
            [
             0.3,
             "#f1b6da"
            ],
            [
             0.4,
             "#fde0ef"
            ],
            [
             0.5,
             "#f7f7f7"
            ],
            [
             0.6,
             "#e6f5d0"
            ],
            [
             0.7,
             "#b8e186"
            ],
            [
             0.8,
             "#7fbc41"
            ],
            [
             0.9,
             "#4d9221"
            ],
            [
             1,
             "#276419"
            ]
           ],
           "sequential": [
            [
             0,
             "#0d0887"
            ],
            [
             0.1111111111111111,
             "#46039f"
            ],
            [
             0.2222222222222222,
             "#7201a8"
            ],
            [
             0.3333333333333333,
             "#9c179e"
            ],
            [
             0.4444444444444444,
             "#bd3786"
            ],
            [
             0.5555555555555556,
             "#d8576b"
            ],
            [
             0.6666666666666666,
             "#ed7953"
            ],
            [
             0.7777777777777778,
             "#fb9f3a"
            ],
            [
             0.8888888888888888,
             "#fdca26"
            ],
            [
             1,
             "#f0f921"
            ]
           ],
           "sequentialminus": [
            [
             0,
             "#0d0887"
            ],
            [
             0.1111111111111111,
             "#46039f"
            ],
            [
             0.2222222222222222,
             "#7201a8"
            ],
            [
             0.3333333333333333,
             "#9c179e"
            ],
            [
             0.4444444444444444,
             "#bd3786"
            ],
            [
             0.5555555555555556,
             "#d8576b"
            ],
            [
             0.6666666666666666,
             "#ed7953"
            ],
            [
             0.7777777777777778,
             "#fb9f3a"
            ],
            [
             0.8888888888888888,
             "#fdca26"
            ],
            [
             1,
             "#f0f921"
            ]
           ]
          },
          "colorway": [
           "#636efa",
           "#EF553B",
           "#00cc96",
           "#ab63fa",
           "#FFA15A",
           "#19d3f3",
           "#FF6692",
           "#B6E880",
           "#FF97FF",
           "#FECB52"
          ],
          "font": {
           "color": "#2a3f5f"
          },
          "geo": {
           "bgcolor": "white",
           "lakecolor": "white",
           "landcolor": "#E5ECF6",
           "showlakes": true,
           "showland": true,
           "subunitcolor": "white"
          },
          "hoverlabel": {
           "align": "left"
          },
          "hovermode": "closest",
          "mapbox": {
           "style": "light"
          },
          "paper_bgcolor": "white",
          "plot_bgcolor": "#E5ECF6",
          "polar": {
           "angularaxis": {
            "gridcolor": "white",
            "linecolor": "white",
            "ticks": ""
           },
           "bgcolor": "#E5ECF6",
           "radialaxis": {
            "gridcolor": "white",
            "linecolor": "white",
            "ticks": ""
           }
          },
          "scene": {
           "xaxis": {
            "backgroundcolor": "#E5ECF6",
            "gridcolor": "white",
            "gridwidth": 2,
            "linecolor": "white",
            "showbackground": true,
            "ticks": "",
            "zerolinecolor": "white"
           },
           "yaxis": {
            "backgroundcolor": "#E5ECF6",
            "gridcolor": "white",
            "gridwidth": 2,
            "linecolor": "white",
            "showbackground": true,
            "ticks": "",
            "zerolinecolor": "white"
           },
           "zaxis": {
            "backgroundcolor": "#E5ECF6",
            "gridcolor": "white",
            "gridwidth": 2,
            "linecolor": "white",
            "showbackground": true,
            "ticks": "",
            "zerolinecolor": "white"
           }
          },
          "shapedefaults": {
           "line": {
            "color": "#2a3f5f"
           }
          },
          "ternary": {
           "aaxis": {
            "gridcolor": "white",
            "linecolor": "white",
            "ticks": ""
           },
           "baxis": {
            "gridcolor": "white",
            "linecolor": "white",
            "ticks": ""
           },
           "bgcolor": "#E5ECF6",
           "caxis": {
            "gridcolor": "white",
            "linecolor": "white",
            "ticks": ""
           }
          },
          "title": {
           "x": 0.05
          },
          "xaxis": {
           "automargin": true,
           "gridcolor": "white",
           "linecolor": "white",
           "ticks": "",
           "title": {
            "standoff": 15
           },
           "zerolinecolor": "white",
           "zerolinewidth": 2
          },
          "yaxis": {
           "automargin": true,
           "gridcolor": "white",
           "linecolor": "white",
           "ticks": "",
           "title": {
            "standoff": 15
           },
           "zerolinecolor": "white",
           "zerolinewidth": 2
          }
         }
        },
        "title": {
         "text": "Open Pull Requests by Date"
        },
        "xaxis": {
         "title": {
          "text": "Date"
         }
        },
        "yaxis": {
         "title": {
          "text": "Pulls Count"
         }
        }
       }
      },
      "text/html": [
       "<div>\n",
       "        \n",
       "        \n",
       "            <div id=\"bbfd139e-7fc9-43d1-980d-7e153a77af0f\" class=\"plotly-graph-div\" style=\"height:525px; width:100%;\"></div>\n",
       "            <script type=\"text/javascript\">\n",
       "                require([\"plotly\"], function(Plotly) {\n",
       "                    window.PLOTLYENV=window.PLOTLYENV || {};\n",
       "                    \n",
       "                if (document.getElementById(\"bbfd139e-7fc9-43d1-980d-7e153a77af0f\")) {\n",
       "                    Plotly.newPlot(\n",
       "                        'bbfd139e-7fc9-43d1-980d-7e153a77af0f',\n",
       "                        [{\"text\": [1.0, 1.0, 1.0, 1.0, 1.0, 1.0, 1.0, 1.0, 1.0, 1.0, 1.0, 1.0, 1.0, 1.0, 1.0, 1.0, 1.0, 2.0, 1.0, 1.0, 1.0, 1.0, 1.0, 1.0, 1.0, 1.0, 1.0, 2.0, 1.0, 1.0, 1.0, 1.0, 1.0, 2.0, 1.0, 1.0, 1.0, 1.0, 2.0, 2.0, 1.0, 1.0, 1.0, 1.0, 1.0, 1.0, 1.0, 1.0, 1.0, 2.0, 1.0, 1.0, 1.0, 1.0, 1.0, 1.0, 1.0, 1.0, 1.0, 1.0, 1.0, 1.0, 1.0, 1.0, 1.0, 1.0, 1.0, 1.0, 3.0, 1.0, 2.0, 1.0, 2.0, 1.0, 1.0, 2.0, 2.0, 1.0, 1.0, 3.0, 1.0, 1.0, 1.0, 1.0, 1.0, 1.0, 1.0, 1.0, 1.0, 1.0, 1.0, 1.0, 1.0, 1.0, 1.0, 1.0, 1.0, 1.0, 1.0, 1.0, 1.0, 1.0, 2.0, 1.0, 1.0, 2.0, 1.0, 2.0, 1.0, 1.0, 1.0, 1.0, 1.0, 2.0, 2.0, 1.0, 1.0, 1.0, 1.0, 2.0, 2.0, 1.0, 1.0, 2.0, 1.0, 1.0, 1.0, 2.0, 1.0, 1.0, 1.0, 1.0, 1.0, 1.0, 1.0, 1.0, 1.0, 2.0, 2.0, 1.0, 1.0, 1.0, 1.0, 1.0, 1.0, 1.0, 2.0, 2.0, 1.0, 2.0, 1.0, 1.0, 1.0, 1.0, 1.0, 1.0, 1.0, 1.0, 1.0, 1.0, 1.0, 2.0, 1.0, 1.0, 1.0, 1.0, 1.0, 1.0, 3.0, 1.0, 1.0, 1.0, 1.0, 1.0, 1.0, 1.0, 1.0, 1.0, 1.0, 1.0, 1.0, 1.0, 2.0, 2.0, 1.0, 1.0, 1.0, 1.0, 1.0, 1.0, 1.0, 1.0, 2.0, 1.0, 2.0, 2.0, 1.0, 3.0, 1.0, 3.0, 2.0, 1.0, 1.0, 1.0, 2.0, 1.0, 1.0, 1.0, 1.0, 1.0, 1.0, 2.0, 2.0, 2.0, 1.0, 1.0, 2.0, 1.0, 2.0, 1.0, 3.0, 1.0, 1.0, 2.0, 1.0, 1.0, 1.0, 1.0, 2.0, 1.0, 1.0, 1.0, 3.0, 1.0, 1.0, 1.0, 2.0, 1.0, 2.0, 1.0, 1.0, 2.0, 1.0, 1.0, 1.0, 1.0, 1.0, 2.0, 1.0, 1.0, 1.0, 1.0, 2.0, 1.0, 1.0, 1.0, 1.0, 1.0, 1.0, 2.0, 2.0, 2.0, 3.0, 2.0, 2.0, 1.0, 1.0, 2.0, 1.0, 1.0, 1.0, 1.0, 1.0, 2.0, 1.0, 2.0, 1.0, 2.0, 2.0, 3.0, 3.0, 1.0, 1.0, 2.0, 3.0, 2.0, 4.0, 4.0, 1.0, 1.0, 2.0, 1.0, 2.0, 6.0, 1.0, 1.0, 3.0, 2.0, 4.0, 1.0, 4.0, 2.0, 2.0, 1.0, 1.0, 5.0, 2.0, 2.0, 1.0, 2.0, 1.0, 2.0, 1.0, 4.0, 4.0, 1.0, 11.0, 2.0, 3.0, 5.0, 3.0, 4.0, 6.0, 9.0, 7.0, 7.0, 10.0, 1.0, 3.0, 5.0, 13.0], \"type\": \"scatter\", \"x\": [\"2015-07-31\", \"2016-02-16\", \"2016-02-24\", \"2016-03-28\", \"2016-04-11\", \"2016-05-26\", \"2016-05-28\", \"2016-06-01\", \"2016-06-13\", \"2016-07-11\", \"2016-08-01\", \"2016-09-02\", \"2016-09-29\", \"2016-10-02\", \"2016-10-15\", \"2016-11-21\", \"2016-12-27\", \"2017-01-05\", \"2017-01-31\", \"2017-02-16\", \"2017-02-20\", \"2017-02-23\", \"2017-03-01\", \"2017-03-06\", \"2017-03-10\", \"2017-03-13\", \"2017-03-17\", \"2017-03-20\", \"2017-04-03\", \"2017-05-01\", \"2017-05-26\", \"2017-06-04\", \"2017-06-14\", \"2017-06-23\", \"2017-06-26\", \"2017-07-05\", \"2017-07-18\", \"2017-07-25\", \"2017-08-10\", \"2017-08-18\", \"2017-08-25\", \"2017-09-11\", \"2017-09-27\", \"2017-10-01\", \"2017-10-02\", \"2017-10-04\", \"2017-10-11\", \"2017-10-24\", \"2017-10-26\", \"2017-11-01\", \"2017-11-04\", \"2017-11-08\", \"2017-11-10\", \"2017-11-17\", \"2017-11-24\", \"2017-11-28\", \"2017-12-27\", \"2017-12-31\", \"2018-01-08\", \"2018-01-09\", \"2018-01-21\", \"2018-01-28\", \"2018-02-01\", \"2018-02-04\", \"2018-02-07\", \"2018-02-13\", \"2018-02-23\", \"2018-02-28\", \"2018-03-14\", \"2018-03-18\", \"2018-03-20\", \"2018-03-21\", \"2018-03-29\", \"2018-04-02\", \"2018-04-04\", \"2018-04-06\", \"2018-04-09\", \"2018-04-16\", \"2018-04-19\", \"2018-04-25\", \"2018-04-26\", \"2018-04-28\", \"2018-04-30\", \"2018-05-04\", \"2018-05-10\", \"2018-05-15\", \"2018-05-17\", \"2018-05-29\", \"2018-05-31\", \"2018-06-02\", \"2018-06-08\", \"2018-06-11\", \"2018-06-22\", \"2018-06-23\", \"2018-06-26\", \"2018-06-29\", \"2018-07-01\", \"2018-07-02\", \"2018-07-04\", \"2018-07-17\", \"2018-07-24\", \"2018-07-25\", \"2018-07-26\", \"2018-07-30\", \"2018-07-31\", \"2018-08-02\", \"2018-08-03\", \"2018-08-07\", \"2018-08-08\", \"2018-08-09\", \"2018-08-13\", \"2018-08-18\", \"2018-08-19\", \"2018-08-21\", \"2018-08-23\", \"2018-08-24\", \"2018-08-30\", \"2018-09-01\", \"2018-09-03\", \"2018-09-13\", \"2018-09-14\", \"2018-09-18\", \"2018-09-19\", \"2018-09-20\", \"2018-09-24\", \"2018-09-26\", \"2018-09-27\", \"2018-09-28\", \"2018-10-03\", \"2018-10-05\", \"2018-10-12\", \"2018-10-15\", \"2018-10-17\", \"2018-10-19\", \"2018-10-21\", \"2018-10-28\", \"2018-10-29\", \"2018-10-31\", \"2018-11-05\", \"2018-11-06\", \"2018-11-07\", \"2018-11-11\", \"2018-11-14\", \"2018-11-15\", \"2018-11-17\", \"2018-11-20\", \"2018-11-21\", \"2018-11-26\", \"2018-11-28\", \"2018-12-03\", \"2018-12-13\", \"2018-12-16\", \"2018-12-18\", \"2018-12-22\", \"2018-12-26\", \"2019-01-08\", \"2019-01-12\", \"2019-01-13\", \"2019-01-17\", \"2019-01-18\", \"2019-01-29\", \"2019-01-30\", \"2019-02-01\", \"2019-02-04\", \"2019-02-07\", \"2019-02-08\", \"2019-02-10\", \"2019-02-12\", \"2019-02-14\", \"2019-02-21\", \"2019-02-27\", \"2019-02-28\", \"2019-03-03\", \"2019-03-06\", \"2019-03-07\", \"2019-03-13\", \"2019-03-15\", \"2019-03-17\", \"2019-03-18\", \"2019-03-20\", \"2019-03-21\", \"2019-03-25\", \"2019-03-26\", \"2019-03-27\", \"2019-03-28\", \"2019-04-03\", \"2019-04-04\", \"2019-04-09\", \"2019-04-11\", \"2019-04-13\", \"2019-04-15\", \"2019-04-20\", \"2019-04-23\", \"2019-04-24\", \"2019-04-25\", \"2019-04-30\", \"2019-05-02\", \"2019-05-05\", \"2019-05-06\", \"2019-05-08\", \"2019-05-09\", \"2019-05-10\", \"2019-05-13\", \"2019-05-14\", \"2019-05-15\", \"2019-05-16\", \"2019-05-21\", \"2019-05-26\", \"2019-05-28\", \"2019-05-30\", \"2019-06-01\", \"2019-06-04\", \"2019-06-05\", \"2019-06-11\", \"2019-06-12\", \"2019-06-16\", \"2019-06-17\", \"2019-06-21\", \"2019-06-23\", \"2019-06-26\", \"2019-06-27\", \"2019-06-29\", \"2019-07-01\", \"2019-07-02\", \"2019-07-04\", \"2019-07-05\", \"2019-07-07\", \"2019-07-08\", \"2019-07-09\", \"2019-07-10\", \"2019-07-11\", \"2019-07-17\", \"2019-07-19\", \"2019-07-20\", \"2019-07-26\", \"2019-07-28\", \"2019-07-29\", \"2019-08-06\", \"2019-08-09\", \"2019-08-12\", \"2019-08-13\", \"2019-08-14\", \"2019-08-19\", \"2019-08-20\", \"2019-08-22\", \"2019-08-23\", \"2019-08-25\", \"2019-08-28\", \"2019-08-29\", \"2019-09-01\", \"2019-09-02\", \"2019-09-05\", \"2019-09-06\", \"2019-09-08\", \"2019-09-10\", \"2019-09-12\", \"2019-09-15\", \"2019-09-17\", \"2019-09-18\", \"2019-09-19\", \"2019-09-20\", \"2019-09-23\", \"2019-09-24\", \"2019-09-26\", \"2019-09-29\", \"2019-09-30\", \"2019-10-01\", \"2019-10-02\", \"2019-10-03\", \"2019-10-07\", \"2019-10-09\", \"2019-10-10\", \"2019-10-11\", \"2019-10-12\", \"2019-10-14\", \"2019-10-16\", \"2019-10-17\", \"2019-10-18\", \"2019-10-21\", \"2019-10-22\", \"2019-10-23\", \"2019-10-24\", \"2019-10-25\", \"2019-10-27\", \"2019-10-28\", \"2019-10-29\", \"2019-10-30\", \"2019-10-31\", \"2019-11-01\", \"2019-11-02\", \"2019-11-05\", \"2019-11-06\", \"2019-11-07\", \"2019-11-08\", \"2019-11-11\", \"2019-11-12\", \"2019-11-13\", \"2019-11-14\", \"2019-11-15\", \"2019-11-18\", \"2019-11-19\", \"2019-11-21\", \"2019-11-22\", \"2019-11-23\", \"2019-11-25\", \"2019-11-26\", \"2019-11-27\", \"2019-11-28\", \"2019-11-29\", \"2019-11-30\", \"2019-12-01\", \"2019-12-02\", \"2019-12-03\", \"2019-12-04\", \"2019-12-06\", \"2019-12-07\", \"2019-12-09\", \"2019-12-10\", \"2019-12-11\", \"2019-12-12\", \"2019-12-13\", \"2019-12-14\", \"2019-12-16\", \"2019-12-17\", \"2019-12-18\", \"2019-12-19\", \"2019-12-20\", \"2019-12-21\", \"2019-12-22\", \"2019-12-23\", \"2019-12-24\"], \"y\": [1, 1, 1, 1, 1, 1, 1, 1, 1, 1, 1, 1, 1, 1, 1, 1, 1, 2, 1, 1, 1, 1, 1, 1, 1, 1, 1, 2, 1, 1, 1, 1, 1, 2, 1, 1, 1, 1, 2, 2, 1, 1, 1, 1, 1, 1, 1, 1, 1, 2, 1, 1, 1, 1, 1, 1, 1, 1, 1, 1, 1, 1, 1, 1, 1, 1, 1, 1, 3, 1, 2, 1, 2, 1, 1, 2, 2, 1, 1, 3, 1, 1, 1, 1, 1, 1, 1, 1, 1, 1, 1, 1, 1, 1, 1, 1, 1, 1, 1, 1, 1, 1, 2, 1, 1, 2, 1, 2, 1, 1, 1, 1, 1, 2, 2, 1, 1, 1, 1, 2, 2, 1, 1, 2, 1, 1, 1, 2, 1, 1, 1, 1, 1, 1, 1, 1, 1, 2, 2, 1, 1, 1, 1, 1, 1, 1, 2, 2, 1, 2, 1, 1, 1, 1, 1, 1, 1, 1, 1, 1, 1, 2, 1, 1, 1, 1, 1, 1, 3, 1, 1, 1, 1, 1, 1, 1, 1, 1, 1, 1, 1, 1, 2, 2, 1, 1, 1, 1, 1, 1, 1, 1, 2, 1, 2, 2, 1, 3, 1, 3, 2, 1, 1, 1, 2, 1, 1, 1, 1, 1, 1, 2, 2, 2, 1, 1, 2, 1, 2, 1, 3, 1, 1, 2, 1, 1, 1, 1, 2, 1, 1, 1, 3, 1, 1, 1, 2, 1, 2, 1, 1, 2, 1, 1, 1, 1, 1, 2, 1, 1, 1, 1, 2, 1, 1, 1, 1, 1, 1, 2, 2, 2, 3, 2, 2, 1, 1, 2, 1, 1, 1, 1, 1, 2, 1, 2, 1, 2, 2, 3, 3, 1, 1, 2, 3, 2, 4, 4, 1, 1, 2, 1, 2, 6, 1, 1, 3, 2, 4, 1, 4, 2, 2, 1, 1, 5, 2, 2, 1, 2, 1, 2, 1, 4, 4, 1, 11, 2, 3, 5, 3, 4, 6, 9, 7, 7, 10, 1, 3, 5, 13]}],\n",
       "                        {\"template\": {\"data\": {\"bar\": [{\"error_x\": {\"color\": \"#2a3f5f\"}, \"error_y\": {\"color\": \"#2a3f5f\"}, \"marker\": {\"line\": {\"color\": \"#E5ECF6\", \"width\": 0.5}}, \"type\": \"bar\"}], \"barpolar\": [{\"marker\": {\"line\": {\"color\": \"#E5ECF6\", \"width\": 0.5}}, \"type\": \"barpolar\"}], \"carpet\": [{\"aaxis\": {\"endlinecolor\": \"#2a3f5f\", \"gridcolor\": \"white\", \"linecolor\": \"white\", \"minorgridcolor\": \"white\", \"startlinecolor\": \"#2a3f5f\"}, \"baxis\": {\"endlinecolor\": \"#2a3f5f\", \"gridcolor\": \"white\", \"linecolor\": \"white\", \"minorgridcolor\": \"white\", \"startlinecolor\": \"#2a3f5f\"}, \"type\": \"carpet\"}], \"choropleth\": [{\"colorbar\": {\"outlinewidth\": 0, \"ticks\": \"\"}, \"type\": \"choropleth\"}], \"contour\": [{\"colorbar\": {\"outlinewidth\": 0, \"ticks\": \"\"}, \"colorscale\": [[0.0, \"#0d0887\"], [0.1111111111111111, \"#46039f\"], [0.2222222222222222, \"#7201a8\"], [0.3333333333333333, \"#9c179e\"], [0.4444444444444444, \"#bd3786\"], [0.5555555555555556, \"#d8576b\"], [0.6666666666666666, \"#ed7953\"], [0.7777777777777778, \"#fb9f3a\"], [0.8888888888888888, \"#fdca26\"], [1.0, \"#f0f921\"]], \"type\": \"contour\"}], \"contourcarpet\": [{\"colorbar\": {\"outlinewidth\": 0, \"ticks\": \"\"}, \"type\": \"contourcarpet\"}], \"heatmap\": [{\"colorbar\": {\"outlinewidth\": 0, \"ticks\": \"\"}, \"colorscale\": [[0.0, \"#0d0887\"], [0.1111111111111111, \"#46039f\"], [0.2222222222222222, \"#7201a8\"], [0.3333333333333333, \"#9c179e\"], [0.4444444444444444, \"#bd3786\"], [0.5555555555555556, \"#d8576b\"], [0.6666666666666666, \"#ed7953\"], [0.7777777777777778, \"#fb9f3a\"], [0.8888888888888888, \"#fdca26\"], [1.0, \"#f0f921\"]], \"type\": \"heatmap\"}], \"heatmapgl\": [{\"colorbar\": {\"outlinewidth\": 0, \"ticks\": \"\"}, \"colorscale\": [[0.0, \"#0d0887\"], [0.1111111111111111, \"#46039f\"], [0.2222222222222222, \"#7201a8\"], [0.3333333333333333, \"#9c179e\"], [0.4444444444444444, \"#bd3786\"], [0.5555555555555556, \"#d8576b\"], [0.6666666666666666, \"#ed7953\"], [0.7777777777777778, \"#fb9f3a\"], [0.8888888888888888, \"#fdca26\"], [1.0, \"#f0f921\"]], \"type\": \"heatmapgl\"}], \"histogram\": [{\"marker\": {\"colorbar\": {\"outlinewidth\": 0, \"ticks\": \"\"}}, \"type\": \"histogram\"}], \"histogram2d\": [{\"colorbar\": {\"outlinewidth\": 0, \"ticks\": \"\"}, \"colorscale\": [[0.0, \"#0d0887\"], [0.1111111111111111, \"#46039f\"], [0.2222222222222222, \"#7201a8\"], [0.3333333333333333, \"#9c179e\"], [0.4444444444444444, \"#bd3786\"], [0.5555555555555556, \"#d8576b\"], [0.6666666666666666, \"#ed7953\"], [0.7777777777777778, \"#fb9f3a\"], [0.8888888888888888, \"#fdca26\"], [1.0, \"#f0f921\"]], \"type\": \"histogram2d\"}], \"histogram2dcontour\": [{\"colorbar\": {\"outlinewidth\": 0, \"ticks\": \"\"}, \"colorscale\": [[0.0, \"#0d0887\"], [0.1111111111111111, \"#46039f\"], [0.2222222222222222, \"#7201a8\"], [0.3333333333333333, \"#9c179e\"], [0.4444444444444444, \"#bd3786\"], [0.5555555555555556, \"#d8576b\"], [0.6666666666666666, \"#ed7953\"], [0.7777777777777778, \"#fb9f3a\"], [0.8888888888888888, \"#fdca26\"], [1.0, \"#f0f921\"]], \"type\": \"histogram2dcontour\"}], \"mesh3d\": [{\"colorbar\": {\"outlinewidth\": 0, \"ticks\": \"\"}, \"type\": \"mesh3d\"}], \"parcoords\": [{\"line\": {\"colorbar\": {\"outlinewidth\": 0, \"ticks\": \"\"}}, \"type\": \"parcoords\"}], \"pie\": [{\"automargin\": true, \"type\": \"pie\"}], \"scatter\": [{\"marker\": {\"colorbar\": {\"outlinewidth\": 0, \"ticks\": \"\"}}, \"type\": \"scatter\"}], \"scatter3d\": [{\"line\": {\"colorbar\": {\"outlinewidth\": 0, \"ticks\": \"\"}}, \"marker\": {\"colorbar\": {\"outlinewidth\": 0, \"ticks\": \"\"}}, \"type\": \"scatter3d\"}], \"scattercarpet\": [{\"marker\": {\"colorbar\": {\"outlinewidth\": 0, \"ticks\": \"\"}}, \"type\": \"scattercarpet\"}], \"scattergeo\": [{\"marker\": {\"colorbar\": {\"outlinewidth\": 0, \"ticks\": \"\"}}, \"type\": \"scattergeo\"}], \"scattergl\": [{\"marker\": {\"colorbar\": {\"outlinewidth\": 0, \"ticks\": \"\"}}, \"type\": \"scattergl\"}], \"scattermapbox\": [{\"marker\": {\"colorbar\": {\"outlinewidth\": 0, \"ticks\": \"\"}}, \"type\": \"scattermapbox\"}], \"scatterpolar\": [{\"marker\": {\"colorbar\": {\"outlinewidth\": 0, \"ticks\": \"\"}}, \"type\": \"scatterpolar\"}], \"scatterpolargl\": [{\"marker\": {\"colorbar\": {\"outlinewidth\": 0, \"ticks\": \"\"}}, \"type\": \"scatterpolargl\"}], \"scatterternary\": [{\"marker\": {\"colorbar\": {\"outlinewidth\": 0, \"ticks\": \"\"}}, \"type\": \"scatterternary\"}], \"surface\": [{\"colorbar\": {\"outlinewidth\": 0, \"ticks\": \"\"}, \"colorscale\": [[0.0, \"#0d0887\"], [0.1111111111111111, \"#46039f\"], [0.2222222222222222, \"#7201a8\"], [0.3333333333333333, \"#9c179e\"], [0.4444444444444444, \"#bd3786\"], [0.5555555555555556, \"#d8576b\"], [0.6666666666666666, \"#ed7953\"], [0.7777777777777778, \"#fb9f3a\"], [0.8888888888888888, \"#fdca26\"], [1.0, \"#f0f921\"]], \"type\": \"surface\"}], \"table\": [{\"cells\": {\"fill\": {\"color\": \"#EBF0F8\"}, \"line\": {\"color\": \"white\"}}, \"header\": {\"fill\": {\"color\": \"#C8D4E3\"}, \"line\": {\"color\": \"white\"}}, \"type\": \"table\"}]}, \"layout\": {\"annotationdefaults\": {\"arrowcolor\": \"#2a3f5f\", \"arrowhead\": 0, \"arrowwidth\": 1}, \"coloraxis\": {\"colorbar\": {\"outlinewidth\": 0, \"ticks\": \"\"}}, \"colorscale\": {\"diverging\": [[0, \"#8e0152\"], [0.1, \"#c51b7d\"], [0.2, \"#de77ae\"], [0.3, \"#f1b6da\"], [0.4, \"#fde0ef\"], [0.5, \"#f7f7f7\"], [0.6, \"#e6f5d0\"], [0.7, \"#b8e186\"], [0.8, \"#7fbc41\"], [0.9, \"#4d9221\"], [1, \"#276419\"]], \"sequential\": [[0.0, \"#0d0887\"], [0.1111111111111111, \"#46039f\"], [0.2222222222222222, \"#7201a8\"], [0.3333333333333333, \"#9c179e\"], [0.4444444444444444, \"#bd3786\"], [0.5555555555555556, \"#d8576b\"], [0.6666666666666666, \"#ed7953\"], [0.7777777777777778, \"#fb9f3a\"], [0.8888888888888888, \"#fdca26\"], [1.0, \"#f0f921\"]], \"sequentialminus\": [[0.0, \"#0d0887\"], [0.1111111111111111, \"#46039f\"], [0.2222222222222222, \"#7201a8\"], [0.3333333333333333, \"#9c179e\"], [0.4444444444444444, \"#bd3786\"], [0.5555555555555556, \"#d8576b\"], [0.6666666666666666, \"#ed7953\"], [0.7777777777777778, \"#fb9f3a\"], [0.8888888888888888, \"#fdca26\"], [1.0, \"#f0f921\"]]}, \"colorway\": [\"#636efa\", \"#EF553B\", \"#00cc96\", \"#ab63fa\", \"#FFA15A\", \"#19d3f3\", \"#FF6692\", \"#B6E880\", \"#FF97FF\", \"#FECB52\"], \"font\": {\"color\": \"#2a3f5f\"}, \"geo\": {\"bgcolor\": \"white\", \"lakecolor\": \"white\", \"landcolor\": \"#E5ECF6\", \"showlakes\": true, \"showland\": true, \"subunitcolor\": \"white\"}, \"hoverlabel\": {\"align\": \"left\"}, \"hovermode\": \"closest\", \"mapbox\": {\"style\": \"light\"}, \"paper_bgcolor\": \"white\", \"plot_bgcolor\": \"#E5ECF6\", \"polar\": {\"angularaxis\": {\"gridcolor\": \"white\", \"linecolor\": \"white\", \"ticks\": \"\"}, \"bgcolor\": \"#E5ECF6\", \"radialaxis\": {\"gridcolor\": \"white\", \"linecolor\": \"white\", \"ticks\": \"\"}}, \"scene\": {\"xaxis\": {\"backgroundcolor\": \"#E5ECF6\", \"gridcolor\": \"white\", \"gridwidth\": 2, \"linecolor\": \"white\", \"showbackground\": true, \"ticks\": \"\", \"zerolinecolor\": \"white\"}, \"yaxis\": {\"backgroundcolor\": \"#E5ECF6\", \"gridcolor\": \"white\", \"gridwidth\": 2, \"linecolor\": \"white\", \"showbackground\": true, \"ticks\": \"\", \"zerolinecolor\": \"white\"}, \"zaxis\": {\"backgroundcolor\": \"#E5ECF6\", \"gridcolor\": \"white\", \"gridwidth\": 2, \"linecolor\": \"white\", \"showbackground\": true, \"ticks\": \"\", \"zerolinecolor\": \"white\"}}, \"shapedefaults\": {\"line\": {\"color\": \"#2a3f5f\"}}, \"ternary\": {\"aaxis\": {\"gridcolor\": \"white\", \"linecolor\": \"white\", \"ticks\": \"\"}, \"baxis\": {\"gridcolor\": \"white\", \"linecolor\": \"white\", \"ticks\": \"\"}, \"bgcolor\": \"#E5ECF6\", \"caxis\": {\"gridcolor\": \"white\", \"linecolor\": \"white\", \"ticks\": \"\"}}, \"title\": {\"x\": 0.05}, \"xaxis\": {\"automargin\": true, \"gridcolor\": \"white\", \"linecolor\": \"white\", \"ticks\": \"\", \"title\": {\"standoff\": 15}, \"zerolinecolor\": \"white\", \"zerolinewidth\": 2}, \"yaxis\": {\"automargin\": true, \"gridcolor\": \"white\", \"linecolor\": \"white\", \"ticks\": \"\", \"title\": {\"standoff\": 15}, \"zerolinecolor\": \"white\", \"zerolinewidth\": 2}}}, \"title\": {\"text\": \"Open Pull Requests by Date\"}, \"xaxis\": {\"title\": {\"text\": \"Date\"}}, \"yaxis\": {\"title\": {\"text\": \"Pulls Count\"}}},\n",
       "                        {\"responsive\": true}\n",
       "                    ).then(function(){\n",
       "                            \n",
       "var gd = document.getElementById('bbfd139e-7fc9-43d1-980d-7e153a77af0f');\n",
       "var x = new MutationObserver(function (mutations, observer) {{\n",
       "        var display = window.getComputedStyle(gd).display;\n",
       "        if (!display || display === 'none') {{\n",
       "            console.log([gd, 'removed!']);\n",
       "            Plotly.purge(gd);\n",
       "            observer.disconnect();\n",
       "        }}\n",
       "}});\n",
       "\n",
       "// Listen for the removal of the full notebook cells\n",
       "var notebookContainer = gd.closest('#notebook-container');\n",
       "if (notebookContainer) {{\n",
       "    x.observe(notebookContainer, {childList: true});\n",
       "}}\n",
       "\n",
       "// Listen for the clearing of the current output cell\n",
       "var outputEl = gd.closest('.output');\n",
       "if (outputEl) {{\n",
       "    x.observe(outputEl, {childList: true});\n",
       "}}\n",
       "\n",
       "                        })\n",
       "                };\n",
       "                });\n",
       "            </script>\n",
       "        </div>"
      ]
     },
     "metadata": {},
     "output_type": "display_data"
    },
    {
     "name": "stdout",
     "output_type": "stream",
     "text": [
      "time: 325 ms\n"
     ]
    }
   ],
   "source": [
    "fig = go.Figure([go.Scatter(\n",
    "    x=pulls_by_date.index, \n",
    "    y=pulls_by_date.commit_count, \n",
    "    text=pulls_by_date.commit_count)])\n",
    "fig.update_layout(\n",
    "    title = 'Open Pull Requests by Date', \n",
    "    xaxis_title = 'Date', \n",
    "    yaxis_title = 'Pulls Count')\n",
    "fig.show()"
   ]
  },
  {
   "cell_type": "markdown",
   "metadata": {},
   "source": [
    "### Pull Request Labels"
   ]
  },
  {
   "cell_type": "markdown",
   "metadata": {},
   "source": [
    "**NOTES**:  \n",
    "- ast.literal_eval converts string to list.\n",
    "- The following two lines convert a Pandas column that contains list of dictionaries into a Pandas Dataframe where each dictionary corresponds to a dataframe row."
   ]
  },
  {
   "cell_type": "code",
   "execution_count": 105,
   "metadata": {},
   "outputs": [
    {
     "name": "stdout",
     "output_type": "stream",
     "text": [
      "time: 82.5 ms\n"
     ]
    }
   ],
   "source": [
    "labels_list = [ast.literal_eval(i) for i in pulls['labels'].tolist() if i != '[]']"
   ]
  },
  {
   "cell_type": "code",
   "execution_count": 106,
   "metadata": {},
   "outputs": [
    {
     "name": "stdout",
     "output_type": "stream",
     "text": [
      "time: 2.5 ms\n"
     ]
    }
   ],
   "source": [
    "labels = [j for i in labels_list for j in i]"
   ]
  },
  {
   "cell_type": "code",
   "execution_count": 108,
   "metadata": {},
   "outputs": [
    {
     "name": "stdout",
     "output_type": "stream",
     "text": [
      "time: 10 ms\n"
     ]
    }
   ],
   "source": [
    "labels_df = pd.DataFrame(labels)"
   ]
  },
  {
   "cell_type": "code",
   "execution_count": 114,
   "metadata": {},
   "outputs": [
    {
     "name": "stdout",
     "output_type": "stream",
     "text": [
      "time: 7.5 ms\n"
     ]
    }
   ],
   "source": [
    "labels_by_name = labels_df.groupby('name')[['id']].count()\n",
    "labels_by_name = labels_by_name.rename(columns = {'id': 'label_count'})\n",
    "labels_by_name = labels_by_name.sort_values(by=['label_count'], ascending=False)"
   ]
  },
  {
   "cell_type": "code",
   "execution_count": 115,
   "metadata": {},
   "outputs": [
    {
     "data": {
      "application/vnd.plotly.v1+json": {
       "config": {
        "plotlyServerURL": "https://plot.ly"
       },
       "data": [
        {
         "type": "bar",
         "x": [
          "SQL",
          "SPARK CORE",
          "STRUCTURED STREAMING",
          "ML",
          "MLLIB",
          "KUBERNETES",
          "PYSPARK",
          "MESOS",
          "DSTREAMS",
          "WEB UI",
          "SHUFFLE",
          "SPARKR",
          "GRAPHX",
          "SCHEDULER",
          "YARN",
          "OPTIMIZER",
          "TESTS",
          "DOCUMENTATION",
          "INPUT/OUTPUT",
          "BUILD"
         ],
         "y": [
          265,
          79,
          36,
          28,
          14,
          13,
          12,
          10,
          8,
          8,
          8,
          6,
          6,
          6,
          5,
          4,
          2,
          1,
          1,
          1
         ]
        }
       ],
       "layout": {
        "template": {
         "data": {
          "bar": [
           {
            "error_x": {
             "color": "#2a3f5f"
            },
            "error_y": {
             "color": "#2a3f5f"
            },
            "marker": {
             "line": {
              "color": "#E5ECF6",
              "width": 0.5
             }
            },
            "type": "bar"
           }
          ],
          "barpolar": [
           {
            "marker": {
             "line": {
              "color": "#E5ECF6",
              "width": 0.5
             }
            },
            "type": "barpolar"
           }
          ],
          "carpet": [
           {
            "aaxis": {
             "endlinecolor": "#2a3f5f",
             "gridcolor": "white",
             "linecolor": "white",
             "minorgridcolor": "white",
             "startlinecolor": "#2a3f5f"
            },
            "baxis": {
             "endlinecolor": "#2a3f5f",
             "gridcolor": "white",
             "linecolor": "white",
             "minorgridcolor": "white",
             "startlinecolor": "#2a3f5f"
            },
            "type": "carpet"
           }
          ],
          "choropleth": [
           {
            "colorbar": {
             "outlinewidth": 0,
             "ticks": ""
            },
            "type": "choropleth"
           }
          ],
          "contour": [
           {
            "colorbar": {
             "outlinewidth": 0,
             "ticks": ""
            },
            "colorscale": [
             [
              0,
              "#0d0887"
             ],
             [
              0.1111111111111111,
              "#46039f"
             ],
             [
              0.2222222222222222,
              "#7201a8"
             ],
             [
              0.3333333333333333,
              "#9c179e"
             ],
             [
              0.4444444444444444,
              "#bd3786"
             ],
             [
              0.5555555555555556,
              "#d8576b"
             ],
             [
              0.6666666666666666,
              "#ed7953"
             ],
             [
              0.7777777777777778,
              "#fb9f3a"
             ],
             [
              0.8888888888888888,
              "#fdca26"
             ],
             [
              1,
              "#f0f921"
             ]
            ],
            "type": "contour"
           }
          ],
          "contourcarpet": [
           {
            "colorbar": {
             "outlinewidth": 0,
             "ticks": ""
            },
            "type": "contourcarpet"
           }
          ],
          "heatmap": [
           {
            "colorbar": {
             "outlinewidth": 0,
             "ticks": ""
            },
            "colorscale": [
             [
              0,
              "#0d0887"
             ],
             [
              0.1111111111111111,
              "#46039f"
             ],
             [
              0.2222222222222222,
              "#7201a8"
             ],
             [
              0.3333333333333333,
              "#9c179e"
             ],
             [
              0.4444444444444444,
              "#bd3786"
             ],
             [
              0.5555555555555556,
              "#d8576b"
             ],
             [
              0.6666666666666666,
              "#ed7953"
             ],
             [
              0.7777777777777778,
              "#fb9f3a"
             ],
             [
              0.8888888888888888,
              "#fdca26"
             ],
             [
              1,
              "#f0f921"
             ]
            ],
            "type": "heatmap"
           }
          ],
          "heatmapgl": [
           {
            "colorbar": {
             "outlinewidth": 0,
             "ticks": ""
            },
            "colorscale": [
             [
              0,
              "#0d0887"
             ],
             [
              0.1111111111111111,
              "#46039f"
             ],
             [
              0.2222222222222222,
              "#7201a8"
             ],
             [
              0.3333333333333333,
              "#9c179e"
             ],
             [
              0.4444444444444444,
              "#bd3786"
             ],
             [
              0.5555555555555556,
              "#d8576b"
             ],
             [
              0.6666666666666666,
              "#ed7953"
             ],
             [
              0.7777777777777778,
              "#fb9f3a"
             ],
             [
              0.8888888888888888,
              "#fdca26"
             ],
             [
              1,
              "#f0f921"
             ]
            ],
            "type": "heatmapgl"
           }
          ],
          "histogram": [
           {
            "marker": {
             "colorbar": {
              "outlinewidth": 0,
              "ticks": ""
             }
            },
            "type": "histogram"
           }
          ],
          "histogram2d": [
           {
            "colorbar": {
             "outlinewidth": 0,
             "ticks": ""
            },
            "colorscale": [
             [
              0,
              "#0d0887"
             ],
             [
              0.1111111111111111,
              "#46039f"
             ],
             [
              0.2222222222222222,
              "#7201a8"
             ],
             [
              0.3333333333333333,
              "#9c179e"
             ],
             [
              0.4444444444444444,
              "#bd3786"
             ],
             [
              0.5555555555555556,
              "#d8576b"
             ],
             [
              0.6666666666666666,
              "#ed7953"
             ],
             [
              0.7777777777777778,
              "#fb9f3a"
             ],
             [
              0.8888888888888888,
              "#fdca26"
             ],
             [
              1,
              "#f0f921"
             ]
            ],
            "type": "histogram2d"
           }
          ],
          "histogram2dcontour": [
           {
            "colorbar": {
             "outlinewidth": 0,
             "ticks": ""
            },
            "colorscale": [
             [
              0,
              "#0d0887"
             ],
             [
              0.1111111111111111,
              "#46039f"
             ],
             [
              0.2222222222222222,
              "#7201a8"
             ],
             [
              0.3333333333333333,
              "#9c179e"
             ],
             [
              0.4444444444444444,
              "#bd3786"
             ],
             [
              0.5555555555555556,
              "#d8576b"
             ],
             [
              0.6666666666666666,
              "#ed7953"
             ],
             [
              0.7777777777777778,
              "#fb9f3a"
             ],
             [
              0.8888888888888888,
              "#fdca26"
             ],
             [
              1,
              "#f0f921"
             ]
            ],
            "type": "histogram2dcontour"
           }
          ],
          "mesh3d": [
           {
            "colorbar": {
             "outlinewidth": 0,
             "ticks": ""
            },
            "type": "mesh3d"
           }
          ],
          "parcoords": [
           {
            "line": {
             "colorbar": {
              "outlinewidth": 0,
              "ticks": ""
             }
            },
            "type": "parcoords"
           }
          ],
          "pie": [
           {
            "automargin": true,
            "type": "pie"
           }
          ],
          "scatter": [
           {
            "marker": {
             "colorbar": {
              "outlinewidth": 0,
              "ticks": ""
             }
            },
            "type": "scatter"
           }
          ],
          "scatter3d": [
           {
            "line": {
             "colorbar": {
              "outlinewidth": 0,
              "ticks": ""
             }
            },
            "marker": {
             "colorbar": {
              "outlinewidth": 0,
              "ticks": ""
             }
            },
            "type": "scatter3d"
           }
          ],
          "scattercarpet": [
           {
            "marker": {
             "colorbar": {
              "outlinewidth": 0,
              "ticks": ""
             }
            },
            "type": "scattercarpet"
           }
          ],
          "scattergeo": [
           {
            "marker": {
             "colorbar": {
              "outlinewidth": 0,
              "ticks": ""
             }
            },
            "type": "scattergeo"
           }
          ],
          "scattergl": [
           {
            "marker": {
             "colorbar": {
              "outlinewidth": 0,
              "ticks": ""
             }
            },
            "type": "scattergl"
           }
          ],
          "scattermapbox": [
           {
            "marker": {
             "colorbar": {
              "outlinewidth": 0,
              "ticks": ""
             }
            },
            "type": "scattermapbox"
           }
          ],
          "scatterpolar": [
           {
            "marker": {
             "colorbar": {
              "outlinewidth": 0,
              "ticks": ""
             }
            },
            "type": "scatterpolar"
           }
          ],
          "scatterpolargl": [
           {
            "marker": {
             "colorbar": {
              "outlinewidth": 0,
              "ticks": ""
             }
            },
            "type": "scatterpolargl"
           }
          ],
          "scatterternary": [
           {
            "marker": {
             "colorbar": {
              "outlinewidth": 0,
              "ticks": ""
             }
            },
            "type": "scatterternary"
           }
          ],
          "surface": [
           {
            "colorbar": {
             "outlinewidth": 0,
             "ticks": ""
            },
            "colorscale": [
             [
              0,
              "#0d0887"
             ],
             [
              0.1111111111111111,
              "#46039f"
             ],
             [
              0.2222222222222222,
              "#7201a8"
             ],
             [
              0.3333333333333333,
              "#9c179e"
             ],
             [
              0.4444444444444444,
              "#bd3786"
             ],
             [
              0.5555555555555556,
              "#d8576b"
             ],
             [
              0.6666666666666666,
              "#ed7953"
             ],
             [
              0.7777777777777778,
              "#fb9f3a"
             ],
             [
              0.8888888888888888,
              "#fdca26"
             ],
             [
              1,
              "#f0f921"
             ]
            ],
            "type": "surface"
           }
          ],
          "table": [
           {
            "cells": {
             "fill": {
              "color": "#EBF0F8"
             },
             "line": {
              "color": "white"
             }
            },
            "header": {
             "fill": {
              "color": "#C8D4E3"
             },
             "line": {
              "color": "white"
             }
            },
            "type": "table"
           }
          ]
         },
         "layout": {
          "annotationdefaults": {
           "arrowcolor": "#2a3f5f",
           "arrowhead": 0,
           "arrowwidth": 1
          },
          "coloraxis": {
           "colorbar": {
            "outlinewidth": 0,
            "ticks": ""
           }
          },
          "colorscale": {
           "diverging": [
            [
             0,
             "#8e0152"
            ],
            [
             0.1,
             "#c51b7d"
            ],
            [
             0.2,
             "#de77ae"
            ],
            [
             0.3,
             "#f1b6da"
            ],
            [
             0.4,
             "#fde0ef"
            ],
            [
             0.5,
             "#f7f7f7"
            ],
            [
             0.6,
             "#e6f5d0"
            ],
            [
             0.7,
             "#b8e186"
            ],
            [
             0.8,
             "#7fbc41"
            ],
            [
             0.9,
             "#4d9221"
            ],
            [
             1,
             "#276419"
            ]
           ],
           "sequential": [
            [
             0,
             "#0d0887"
            ],
            [
             0.1111111111111111,
             "#46039f"
            ],
            [
             0.2222222222222222,
             "#7201a8"
            ],
            [
             0.3333333333333333,
             "#9c179e"
            ],
            [
             0.4444444444444444,
             "#bd3786"
            ],
            [
             0.5555555555555556,
             "#d8576b"
            ],
            [
             0.6666666666666666,
             "#ed7953"
            ],
            [
             0.7777777777777778,
             "#fb9f3a"
            ],
            [
             0.8888888888888888,
             "#fdca26"
            ],
            [
             1,
             "#f0f921"
            ]
           ],
           "sequentialminus": [
            [
             0,
             "#0d0887"
            ],
            [
             0.1111111111111111,
             "#46039f"
            ],
            [
             0.2222222222222222,
             "#7201a8"
            ],
            [
             0.3333333333333333,
             "#9c179e"
            ],
            [
             0.4444444444444444,
             "#bd3786"
            ],
            [
             0.5555555555555556,
             "#d8576b"
            ],
            [
             0.6666666666666666,
             "#ed7953"
            ],
            [
             0.7777777777777778,
             "#fb9f3a"
            ],
            [
             0.8888888888888888,
             "#fdca26"
            ],
            [
             1,
             "#f0f921"
            ]
           ]
          },
          "colorway": [
           "#636efa",
           "#EF553B",
           "#00cc96",
           "#ab63fa",
           "#FFA15A",
           "#19d3f3",
           "#FF6692",
           "#B6E880",
           "#FF97FF",
           "#FECB52"
          ],
          "font": {
           "color": "#2a3f5f"
          },
          "geo": {
           "bgcolor": "white",
           "lakecolor": "white",
           "landcolor": "#E5ECF6",
           "showlakes": true,
           "showland": true,
           "subunitcolor": "white"
          },
          "hoverlabel": {
           "align": "left"
          },
          "hovermode": "closest",
          "mapbox": {
           "style": "light"
          },
          "paper_bgcolor": "white",
          "plot_bgcolor": "#E5ECF6",
          "polar": {
           "angularaxis": {
            "gridcolor": "white",
            "linecolor": "white",
            "ticks": ""
           },
           "bgcolor": "#E5ECF6",
           "radialaxis": {
            "gridcolor": "white",
            "linecolor": "white",
            "ticks": ""
           }
          },
          "scene": {
           "xaxis": {
            "backgroundcolor": "#E5ECF6",
            "gridcolor": "white",
            "gridwidth": 2,
            "linecolor": "white",
            "showbackground": true,
            "ticks": "",
            "zerolinecolor": "white"
           },
           "yaxis": {
            "backgroundcolor": "#E5ECF6",
            "gridcolor": "white",
            "gridwidth": 2,
            "linecolor": "white",
            "showbackground": true,
            "ticks": "",
            "zerolinecolor": "white"
           },
           "zaxis": {
            "backgroundcolor": "#E5ECF6",
            "gridcolor": "white",
            "gridwidth": 2,
            "linecolor": "white",
            "showbackground": true,
            "ticks": "",
            "zerolinecolor": "white"
           }
          },
          "shapedefaults": {
           "line": {
            "color": "#2a3f5f"
           }
          },
          "ternary": {
           "aaxis": {
            "gridcolor": "white",
            "linecolor": "white",
            "ticks": ""
           },
           "baxis": {
            "gridcolor": "white",
            "linecolor": "white",
            "ticks": ""
           },
           "bgcolor": "#E5ECF6",
           "caxis": {
            "gridcolor": "white",
            "linecolor": "white",
            "ticks": ""
           }
          },
          "title": {
           "x": 0.05
          },
          "xaxis": {
           "automargin": true,
           "gridcolor": "white",
           "linecolor": "white",
           "ticks": "",
           "title": {
            "standoff": 15
           },
           "zerolinecolor": "white",
           "zerolinewidth": 2
          },
          "yaxis": {
           "automargin": true,
           "gridcolor": "white",
           "linecolor": "white",
           "ticks": "",
           "title": {
            "standoff": 15
           },
           "zerolinecolor": "white",
           "zerolinewidth": 2
          }
         }
        },
        "title": {
         "text": "Pull Requests by Label"
        },
        "xaxis": {
         "tickangle": -40,
         "tickmode": "linear",
         "title": {
          "text": "Labels"
         }
        },
        "yaxis": {
         "title": {
          "text": "PR Count"
         }
        }
       }
      },
      "text/html": [
       "<div>\n",
       "        \n",
       "        \n",
       "            <div id=\"36fc6fc6-f782-4059-a7f7-4abdeaabe54f\" class=\"plotly-graph-div\" style=\"height:525px; width:100%;\"></div>\n",
       "            <script type=\"text/javascript\">\n",
       "                require([\"plotly\"], function(Plotly) {\n",
       "                    window.PLOTLYENV=window.PLOTLYENV || {};\n",
       "                    \n",
       "                if (document.getElementById(\"36fc6fc6-f782-4059-a7f7-4abdeaabe54f\")) {\n",
       "                    Plotly.newPlot(\n",
       "                        '36fc6fc6-f782-4059-a7f7-4abdeaabe54f',\n",
       "                        [{\"type\": \"bar\", \"x\": [\"SQL\", \"SPARK CORE\", \"STRUCTURED STREAMING\", \"ML\", \"MLLIB\", \"KUBERNETES\", \"PYSPARK\", \"MESOS\", \"DSTREAMS\", \"WEB UI\", \"SHUFFLE\", \"SPARKR\", \"GRAPHX\", \"SCHEDULER\", \"YARN\", \"OPTIMIZER\", \"TESTS\", \"DOCUMENTATION\", \"INPUT/OUTPUT\", \"BUILD\"], \"y\": [265, 79, 36, 28, 14, 13, 12, 10, 8, 8, 8, 6, 6, 6, 5, 4, 2, 1, 1, 1]}],\n",
       "                        {\"template\": {\"data\": {\"bar\": [{\"error_x\": {\"color\": \"#2a3f5f\"}, \"error_y\": {\"color\": \"#2a3f5f\"}, \"marker\": {\"line\": {\"color\": \"#E5ECF6\", \"width\": 0.5}}, \"type\": \"bar\"}], \"barpolar\": [{\"marker\": {\"line\": {\"color\": \"#E5ECF6\", \"width\": 0.5}}, \"type\": \"barpolar\"}], \"carpet\": [{\"aaxis\": {\"endlinecolor\": \"#2a3f5f\", \"gridcolor\": \"white\", \"linecolor\": \"white\", \"minorgridcolor\": \"white\", \"startlinecolor\": \"#2a3f5f\"}, \"baxis\": {\"endlinecolor\": \"#2a3f5f\", \"gridcolor\": \"white\", \"linecolor\": \"white\", \"minorgridcolor\": \"white\", \"startlinecolor\": \"#2a3f5f\"}, \"type\": \"carpet\"}], \"choropleth\": [{\"colorbar\": {\"outlinewidth\": 0, \"ticks\": \"\"}, \"type\": \"choropleth\"}], \"contour\": [{\"colorbar\": {\"outlinewidth\": 0, \"ticks\": \"\"}, \"colorscale\": [[0.0, \"#0d0887\"], [0.1111111111111111, \"#46039f\"], [0.2222222222222222, \"#7201a8\"], [0.3333333333333333, \"#9c179e\"], [0.4444444444444444, \"#bd3786\"], [0.5555555555555556, \"#d8576b\"], [0.6666666666666666, \"#ed7953\"], [0.7777777777777778, \"#fb9f3a\"], [0.8888888888888888, \"#fdca26\"], [1.0, \"#f0f921\"]], \"type\": \"contour\"}], \"contourcarpet\": [{\"colorbar\": {\"outlinewidth\": 0, \"ticks\": \"\"}, \"type\": \"contourcarpet\"}], \"heatmap\": [{\"colorbar\": {\"outlinewidth\": 0, \"ticks\": \"\"}, \"colorscale\": [[0.0, \"#0d0887\"], [0.1111111111111111, \"#46039f\"], [0.2222222222222222, \"#7201a8\"], [0.3333333333333333, \"#9c179e\"], [0.4444444444444444, \"#bd3786\"], [0.5555555555555556, \"#d8576b\"], [0.6666666666666666, \"#ed7953\"], [0.7777777777777778, \"#fb9f3a\"], [0.8888888888888888, \"#fdca26\"], [1.0, \"#f0f921\"]], \"type\": \"heatmap\"}], \"heatmapgl\": [{\"colorbar\": {\"outlinewidth\": 0, \"ticks\": \"\"}, \"colorscale\": [[0.0, \"#0d0887\"], [0.1111111111111111, \"#46039f\"], [0.2222222222222222, \"#7201a8\"], [0.3333333333333333, \"#9c179e\"], [0.4444444444444444, \"#bd3786\"], [0.5555555555555556, \"#d8576b\"], [0.6666666666666666, \"#ed7953\"], [0.7777777777777778, \"#fb9f3a\"], [0.8888888888888888, \"#fdca26\"], [1.0, \"#f0f921\"]], \"type\": \"heatmapgl\"}], \"histogram\": [{\"marker\": {\"colorbar\": {\"outlinewidth\": 0, \"ticks\": \"\"}}, \"type\": \"histogram\"}], \"histogram2d\": [{\"colorbar\": {\"outlinewidth\": 0, \"ticks\": \"\"}, \"colorscale\": [[0.0, \"#0d0887\"], [0.1111111111111111, \"#46039f\"], [0.2222222222222222, \"#7201a8\"], [0.3333333333333333, \"#9c179e\"], [0.4444444444444444, \"#bd3786\"], [0.5555555555555556, \"#d8576b\"], [0.6666666666666666, \"#ed7953\"], [0.7777777777777778, \"#fb9f3a\"], [0.8888888888888888, \"#fdca26\"], [1.0, \"#f0f921\"]], \"type\": \"histogram2d\"}], \"histogram2dcontour\": [{\"colorbar\": {\"outlinewidth\": 0, \"ticks\": \"\"}, \"colorscale\": [[0.0, \"#0d0887\"], [0.1111111111111111, \"#46039f\"], [0.2222222222222222, \"#7201a8\"], [0.3333333333333333, \"#9c179e\"], [0.4444444444444444, \"#bd3786\"], [0.5555555555555556, \"#d8576b\"], [0.6666666666666666, \"#ed7953\"], [0.7777777777777778, \"#fb9f3a\"], [0.8888888888888888, \"#fdca26\"], [1.0, \"#f0f921\"]], \"type\": \"histogram2dcontour\"}], \"mesh3d\": [{\"colorbar\": {\"outlinewidth\": 0, \"ticks\": \"\"}, \"type\": \"mesh3d\"}], \"parcoords\": [{\"line\": {\"colorbar\": {\"outlinewidth\": 0, \"ticks\": \"\"}}, \"type\": \"parcoords\"}], \"pie\": [{\"automargin\": true, \"type\": \"pie\"}], \"scatter\": [{\"marker\": {\"colorbar\": {\"outlinewidth\": 0, \"ticks\": \"\"}}, \"type\": \"scatter\"}], \"scatter3d\": [{\"line\": {\"colorbar\": {\"outlinewidth\": 0, \"ticks\": \"\"}}, \"marker\": {\"colorbar\": {\"outlinewidth\": 0, \"ticks\": \"\"}}, \"type\": \"scatter3d\"}], \"scattercarpet\": [{\"marker\": {\"colorbar\": {\"outlinewidth\": 0, \"ticks\": \"\"}}, \"type\": \"scattercarpet\"}], \"scattergeo\": [{\"marker\": {\"colorbar\": {\"outlinewidth\": 0, \"ticks\": \"\"}}, \"type\": \"scattergeo\"}], \"scattergl\": [{\"marker\": {\"colorbar\": {\"outlinewidth\": 0, \"ticks\": \"\"}}, \"type\": \"scattergl\"}], \"scattermapbox\": [{\"marker\": {\"colorbar\": {\"outlinewidth\": 0, \"ticks\": \"\"}}, \"type\": \"scattermapbox\"}], \"scatterpolar\": [{\"marker\": {\"colorbar\": {\"outlinewidth\": 0, \"ticks\": \"\"}}, \"type\": \"scatterpolar\"}], \"scatterpolargl\": [{\"marker\": {\"colorbar\": {\"outlinewidth\": 0, \"ticks\": \"\"}}, \"type\": \"scatterpolargl\"}], \"scatterternary\": [{\"marker\": {\"colorbar\": {\"outlinewidth\": 0, \"ticks\": \"\"}}, \"type\": \"scatterternary\"}], \"surface\": [{\"colorbar\": {\"outlinewidth\": 0, \"ticks\": \"\"}, \"colorscale\": [[0.0, \"#0d0887\"], [0.1111111111111111, \"#46039f\"], [0.2222222222222222, \"#7201a8\"], [0.3333333333333333, \"#9c179e\"], [0.4444444444444444, \"#bd3786\"], [0.5555555555555556, \"#d8576b\"], [0.6666666666666666, \"#ed7953\"], [0.7777777777777778, \"#fb9f3a\"], [0.8888888888888888, \"#fdca26\"], [1.0, \"#f0f921\"]], \"type\": \"surface\"}], \"table\": [{\"cells\": {\"fill\": {\"color\": \"#EBF0F8\"}, \"line\": {\"color\": \"white\"}}, \"header\": {\"fill\": {\"color\": \"#C8D4E3\"}, \"line\": {\"color\": \"white\"}}, \"type\": \"table\"}]}, \"layout\": {\"annotationdefaults\": {\"arrowcolor\": \"#2a3f5f\", \"arrowhead\": 0, \"arrowwidth\": 1}, \"coloraxis\": {\"colorbar\": {\"outlinewidth\": 0, \"ticks\": \"\"}}, \"colorscale\": {\"diverging\": [[0, \"#8e0152\"], [0.1, \"#c51b7d\"], [0.2, \"#de77ae\"], [0.3, \"#f1b6da\"], [0.4, \"#fde0ef\"], [0.5, \"#f7f7f7\"], [0.6, \"#e6f5d0\"], [0.7, \"#b8e186\"], [0.8, \"#7fbc41\"], [0.9, \"#4d9221\"], [1, \"#276419\"]], \"sequential\": [[0.0, \"#0d0887\"], [0.1111111111111111, \"#46039f\"], [0.2222222222222222, \"#7201a8\"], [0.3333333333333333, \"#9c179e\"], [0.4444444444444444, \"#bd3786\"], [0.5555555555555556, \"#d8576b\"], [0.6666666666666666, \"#ed7953\"], [0.7777777777777778, \"#fb9f3a\"], [0.8888888888888888, \"#fdca26\"], [1.0, \"#f0f921\"]], \"sequentialminus\": [[0.0, \"#0d0887\"], [0.1111111111111111, \"#46039f\"], [0.2222222222222222, \"#7201a8\"], [0.3333333333333333, \"#9c179e\"], [0.4444444444444444, \"#bd3786\"], [0.5555555555555556, \"#d8576b\"], [0.6666666666666666, \"#ed7953\"], [0.7777777777777778, \"#fb9f3a\"], [0.8888888888888888, \"#fdca26\"], [1.0, \"#f0f921\"]]}, \"colorway\": [\"#636efa\", \"#EF553B\", \"#00cc96\", \"#ab63fa\", \"#FFA15A\", \"#19d3f3\", \"#FF6692\", \"#B6E880\", \"#FF97FF\", \"#FECB52\"], \"font\": {\"color\": \"#2a3f5f\"}, \"geo\": {\"bgcolor\": \"white\", \"lakecolor\": \"white\", \"landcolor\": \"#E5ECF6\", \"showlakes\": true, \"showland\": true, \"subunitcolor\": \"white\"}, \"hoverlabel\": {\"align\": \"left\"}, \"hovermode\": \"closest\", \"mapbox\": {\"style\": \"light\"}, \"paper_bgcolor\": \"white\", \"plot_bgcolor\": \"#E5ECF6\", \"polar\": {\"angularaxis\": {\"gridcolor\": \"white\", \"linecolor\": \"white\", \"ticks\": \"\"}, \"bgcolor\": \"#E5ECF6\", \"radialaxis\": {\"gridcolor\": \"white\", \"linecolor\": \"white\", \"ticks\": \"\"}}, \"scene\": {\"xaxis\": {\"backgroundcolor\": \"#E5ECF6\", \"gridcolor\": \"white\", \"gridwidth\": 2, \"linecolor\": \"white\", \"showbackground\": true, \"ticks\": \"\", \"zerolinecolor\": \"white\"}, \"yaxis\": {\"backgroundcolor\": \"#E5ECF6\", \"gridcolor\": \"white\", \"gridwidth\": 2, \"linecolor\": \"white\", \"showbackground\": true, \"ticks\": \"\", \"zerolinecolor\": \"white\"}, \"zaxis\": {\"backgroundcolor\": \"#E5ECF6\", \"gridcolor\": \"white\", \"gridwidth\": 2, \"linecolor\": \"white\", \"showbackground\": true, \"ticks\": \"\", \"zerolinecolor\": \"white\"}}, \"shapedefaults\": {\"line\": {\"color\": \"#2a3f5f\"}}, \"ternary\": {\"aaxis\": {\"gridcolor\": \"white\", \"linecolor\": \"white\", \"ticks\": \"\"}, \"baxis\": {\"gridcolor\": \"white\", \"linecolor\": \"white\", \"ticks\": \"\"}, \"bgcolor\": \"#E5ECF6\", \"caxis\": {\"gridcolor\": \"white\", \"linecolor\": \"white\", \"ticks\": \"\"}}, \"title\": {\"x\": 0.05}, \"xaxis\": {\"automargin\": true, \"gridcolor\": \"white\", \"linecolor\": \"white\", \"ticks\": \"\", \"title\": {\"standoff\": 15}, \"zerolinecolor\": \"white\", \"zerolinewidth\": 2}, \"yaxis\": {\"automargin\": true, \"gridcolor\": \"white\", \"linecolor\": \"white\", \"ticks\": \"\", \"title\": {\"standoff\": 15}, \"zerolinecolor\": \"white\", \"zerolinewidth\": 2}}}, \"title\": {\"text\": \"Pull Requests by Label\"}, \"xaxis\": {\"tickangle\": -40, \"tickmode\": \"linear\", \"title\": {\"text\": \"Labels\"}}, \"yaxis\": {\"title\": {\"text\": \"PR Count\"}}},\n",
       "                        {\"responsive\": true}\n",
       "                    ).then(function(){\n",
       "                            \n",
       "var gd = document.getElementById('36fc6fc6-f782-4059-a7f7-4abdeaabe54f');\n",
       "var x = new MutationObserver(function (mutations, observer) {{\n",
       "        var display = window.getComputedStyle(gd).display;\n",
       "        if (!display || display === 'none') {{\n",
       "            console.log([gd, 'removed!']);\n",
       "            Plotly.purge(gd);\n",
       "            observer.disconnect();\n",
       "        }}\n",
       "}});\n",
       "\n",
       "// Listen for the removal of the full notebook cells\n",
       "var notebookContainer = gd.closest('#notebook-container');\n",
       "if (notebookContainer) {{\n",
       "    x.observe(notebookContainer, {childList: true});\n",
       "}}\n",
       "\n",
       "// Listen for the clearing of the current output cell\n",
       "var outputEl = gd.closest('.output');\n",
       "if (outputEl) {{\n",
       "    x.observe(outputEl, {childList: true});\n",
       "}}\n",
       "\n",
       "                        })\n",
       "                };\n",
       "                });\n",
       "            </script>\n",
       "        </div>"
      ]
     },
     "metadata": {},
     "output_type": "display_data"
    },
    {
     "name": "stdout",
     "output_type": "stream",
     "text": [
      "time: 248 ms\n"
     ]
    }
   ],
   "source": [
    "fig = go.Figure([go.Bar(\n",
    "    x=labels_by_name.index, \n",
    "    y=labels_by_name.label_count)])\n",
    "fig.update_layout(\n",
    "    title = 'Pull Requests by Label', \n",
    "    xaxis_title = 'Labels', \n",
    "    yaxis_title = 'PR Count', \n",
    "    xaxis_tickmode = 'linear',\n",
    "    xaxis_tickangle=-40)\n",
    "fig.show()"
   ]
  }
 ],
 "metadata": {
  "kernelspec": {
   "display_name": "Python 3",
   "language": "python",
   "name": "python3"
  },
  "language_info": {
   "codemirror_mode": {
    "name": "ipython",
    "version": 3
   },
   "file_extension": ".py",
   "mimetype": "text/x-python",
   "name": "python",
   "nbconvert_exporter": "python",
   "pygments_lexer": "ipython3",
   "version": "3.7.5"
  }
 },
 "nbformat": 4,
 "nbformat_minor": 4
}
